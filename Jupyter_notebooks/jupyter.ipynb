{
 "cells": [
  {
   "cell_type": "markdown",
   "metadata": {},
   "source": [
    "Texto aqui"
   ]
  },
  {
   "cell_type": "markdown",
   "metadata": {},
   "source": []
  },
  {
   "cell_type": "code",
   "execution_count": null,
   "metadata": {},
   "outputs": [],
   "source": [
    "x = 1"
   ]
  },
  {
   "cell_type": "code",
   "execution_count": null,
   "metadata": {},
   "outputs": [
    {
     "data": {
      "text/plain": [
       "Hola, platzinauta!\n"
      ]
     },
     "metadata": {},
     "output_type": "display_data"
    }
   ],
   "source": [
    "print(\"Hola, platzinauta!\")"
   ]
  },
  {
   "cell_type": "code",
   "execution_count": null,
   "metadata": {},
   "outputs": [],
   "source": [
    "import math\n",
    "import sys\n",
    "\n",
    "\n",
    "def example1():\n",
    "    # This is a long comment. This should be wrapped to fit within 72 characters.\n",
    "    some_tuple = (1, 2, 3, 'a')\n",
    "    some_variable = {'long': 'Long code lines should be wrapped within 79 characters.',\n",
    "                     'other': [math.pi, 100, 200, 300, 9876543210, 'This is a long string that goes on'],\n",
    "                     'more': {'inner': 'This whole logical line should be wrapped.', some_tuple: [1,\n",
    "                                                                                                  20, 300, 40000, 500000000, 60000000000000000]}}\n",
    "    return (some_tuple, some_variable)\n",
    "\n",
    "\n",
    "def example2(): return {'has_key() is deprecated': True}.has_key(\n",
    "    {'f': 2}.has_key(''))\n",
    "\n",
    "\n",
    "class Example3(object):\n",
    "    def __init__(self, bar):\n",
    "     # Comments should have a space after the hash.\n",
    "     if bar:\n",
    "         bar += 1\n",
    "         bar = bar * bar\n",
    "         return bar\n",
    "     else:\n",
    "         some_string = \"\"\"\n",
    "                       Indentation in multiline strings should not be touched.\n",
    "Only actual code should be reindented.\n",
    "\"\"\"\n",
    "         return (sys.path, some_string)"
   ]
  }
 ],
 "metadata": {
  "language_info": {
   "name": "python"
  }
 },
 "nbformat": 4,
 "nbformat_minor": 2
}
