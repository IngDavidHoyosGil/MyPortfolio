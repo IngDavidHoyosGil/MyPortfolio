{
  "nbformat": 4,
  "nbformat_minor": 0,
  "metadata": {
    "colab": {
      "provenance": []
    },
    "kernelspec": {
      "name": "python3",
      "display_name": "Python 3"
    },
    "language_info": {
      "name": "python"
    }
  },
  "cells": [
    {
      "cell_type": "markdown",
      "source": [
        "Primero, debemos instalar algunos paquetes desde consola. nbconvert es necesario para convertir a HTML. Por ahora la conversión a PDF usando nbconvert está presentadao problemas, así que no se incluirá en este tutorial."
      ],
      "metadata": {
        "id": "8MTGmVdGhFmE"
      }
    },
    {
      "cell_type": "code",
      "source": [
        "!pip install -U nbconvert"
      ],
      "metadata": {
        "id": "iiz1UYBjNE9V",
        "colab": {
          "base_uri": "https://localhost:8080/"
        },
        "outputId": "3b24b8d9-ce70-40c9-91a1-a65c9303a7a8"
      },
      "execution_count": null,
      "outputs": [
        {
          "output_type": "stream",
          "name": "stdout",
          "text": [
            "Looking in indexes: https://pypi.org/simple, https://us-python.pkg.dev/colab-wheels/public/simple/\n",
            "Requirement already satisfied: nbconvert in /usr/local/lib/python3.7/dist-packages (5.6.1)\n",
            "Collecting nbconvert\n",
            "  Downloading nbconvert-6.5.3-py3-none-any.whl (563 kB)\n",
            "\u001b[K     |████████████████████████████████| 563 kB 8.7 MB/s \n",
            "\u001b[?25hRequirement already satisfied: packaging in /usr/local/lib/python3.7/dist-packages (from nbconvert) (21.3)\n",
            "Requirement already satisfied: entrypoints>=0.2.2 in /usr/local/lib/python3.7/dist-packages (from nbconvert) (0.4)\n",
            "Collecting jupyterlab-pygments\n",
            "  Downloading jupyterlab_pygments-0.2.2-py2.py3-none-any.whl (21 kB)\n",
            "Collecting nbclient>=0.5.0\n",
            "  Downloading nbclient-0.6.6-py3-none-any.whl (71 kB)\n",
            "\u001b[K     |████████████████████████████████| 71 kB 143 kB/s \n",
            "\u001b[?25hCollecting jinja2>=3.0\n",
            "  Downloading Jinja2-3.1.2-py3-none-any.whl (133 kB)\n",
            "\u001b[K     |████████████████████████████████| 133 kB 51.3 MB/s \n",
            "\u001b[?25hRequirement already satisfied: mistune<2,>=0.8.1 in /usr/local/lib/python3.7/dist-packages (from nbconvert) (0.8.4)\n",
            "Requirement already satisfied: jupyter-core>=4.7 in /usr/local/lib/python3.7/dist-packages (from nbconvert) (4.11.1)\n",
            "Requirement already satisfied: lxml in /usr/local/lib/python3.7/dist-packages (from nbconvert) (4.9.1)\n",
            "Requirement already satisfied: bleach in /usr/local/lib/python3.7/dist-packages (from nbconvert) (5.0.1)\n",
            "Requirement already satisfied: pandocfilters>=1.4.1 in /usr/local/lib/python3.7/dist-packages (from nbconvert) (1.5.0)\n",
            "Requirement already satisfied: traitlets>=5.0 in /usr/local/lib/python3.7/dist-packages (from nbconvert) (5.1.1)\n",
            "Requirement already satisfied: beautifulsoup4 in /usr/local/lib/python3.7/dist-packages (from nbconvert) (4.6.3)\n",
            "Requirement already satisfied: nbformat>=5.1 in /usr/local/lib/python3.7/dist-packages (from nbconvert) (5.4.0)\n",
            "Requirement already satisfied: pygments>=2.4.1 in /usr/local/lib/python3.7/dist-packages (from nbconvert) (2.6.1)\n",
            "Collecting tinycss2\n",
            "  Downloading tinycss2-1.1.1-py3-none-any.whl (21 kB)\n",
            "Requirement already satisfied: MarkupSafe>=2.0 in /usr/local/lib/python3.7/dist-packages (from nbconvert) (2.0.1)\n",
            "Requirement already satisfied: defusedxml in /usr/local/lib/python3.7/dist-packages (from nbconvert) (0.7.1)\n",
            "Collecting traitlets>=5.0\n",
            "  Downloading traitlets-5.3.0-py3-none-any.whl (106 kB)\n",
            "\u001b[K     |████████████████████████████████| 106 kB 46.9 MB/s \n",
            "\u001b[?25hCollecting nest-asyncio\n",
            "  Downloading nest_asyncio-1.5.5-py3-none-any.whl (5.2 kB)\n",
            "Requirement already satisfied: jupyter-client>=6.1.5 in /usr/local/lib/python3.7/dist-packages (from nbclient>=0.5.0->nbconvert) (6.1.12)\n",
            "Requirement already satisfied: pyzmq>=13 in /usr/local/lib/python3.7/dist-packages (from jupyter-client>=6.1.5->nbclient>=0.5.0->nbconvert) (23.2.0)\n",
            "Requirement already satisfied: tornado>=4.1 in /usr/local/lib/python3.7/dist-packages (from jupyter-client>=6.1.5->nbclient>=0.5.0->nbconvert) (5.1.1)\n",
            "Requirement already satisfied: python-dateutil>=2.1 in /usr/local/lib/python3.7/dist-packages (from jupyter-client>=6.1.5->nbclient>=0.5.0->nbconvert) (2.8.2)\n",
            "Requirement already satisfied: fastjsonschema in /usr/local/lib/python3.7/dist-packages (from nbformat>=5.1->nbconvert) (2.16.1)\n",
            "Requirement already satisfied: jsonschema>=2.6 in /usr/local/lib/python3.7/dist-packages (from nbformat>=5.1->nbconvert) (4.3.3)\n",
            "Requirement already satisfied: typing-extensions in /usr/local/lib/python3.7/dist-packages (from jsonschema>=2.6->nbformat>=5.1->nbconvert) (4.1.1)\n",
            "Requirement already satisfied: pyrsistent!=0.17.0,!=0.17.1,!=0.17.2,>=0.14.0 in /usr/local/lib/python3.7/dist-packages (from jsonschema>=2.6->nbformat>=5.1->nbconvert) (0.18.1)\n",
            "Requirement already satisfied: importlib-metadata in /usr/local/lib/python3.7/dist-packages (from jsonschema>=2.6->nbformat>=5.1->nbconvert) (4.12.0)\n",
            "Requirement already satisfied: attrs>=17.4.0 in /usr/local/lib/python3.7/dist-packages (from jsonschema>=2.6->nbformat>=5.1->nbconvert) (22.1.0)\n",
            "Requirement already satisfied: importlib-resources>=1.4.0 in /usr/local/lib/python3.7/dist-packages (from jsonschema>=2.6->nbformat>=5.1->nbconvert) (5.9.0)\n",
            "Requirement already satisfied: zipp>=3.1.0 in /usr/local/lib/python3.7/dist-packages (from importlib-resources>=1.4.0->jsonschema>=2.6->nbformat>=5.1->nbconvert) (3.8.1)\n",
            "Requirement already satisfied: six>=1.5 in /usr/local/lib/python3.7/dist-packages (from python-dateutil>=2.1->jupyter-client>=6.1.5->nbclient>=0.5.0->nbconvert) (1.15.0)\n",
            "Requirement already satisfied: webencodings in /usr/local/lib/python3.7/dist-packages (from bleach->nbconvert) (0.5.1)\n",
            "Requirement already satisfied: pyparsing!=3.0.5,>=2.0.2 in /usr/local/lib/python3.7/dist-packages (from packaging->nbconvert) (3.0.9)\n",
            "Installing collected packages: traitlets, nest-asyncio, tinycss2, nbclient, jupyterlab-pygments, jinja2, nbconvert\n",
            "  Attempting uninstall: traitlets\n",
            "    Found existing installation: traitlets 5.1.1\n",
            "    Uninstalling traitlets-5.1.1:\n",
            "      Successfully uninstalled traitlets-5.1.1\n",
            "  Attempting uninstall: jinja2\n",
            "    Found existing installation: Jinja2 2.11.3\n",
            "    Uninstalling Jinja2-2.11.3:\n",
            "      Successfully uninstalled Jinja2-2.11.3\n",
            "  Attempting uninstall: nbconvert\n",
            "    Found existing installation: nbconvert 5.6.1\n",
            "    Uninstalling nbconvert-5.6.1:\n",
            "      Successfully uninstalled nbconvert-5.6.1\n",
            "\u001b[31mERROR: pip's dependency resolver does not currently take into account all the packages that are installed. This behaviour is the source of the following dependency conflicts.\n",
            "ipython 7.9.0 requires jedi>=0.10, which is not installed.\n",
            "flask 1.1.4 requires Jinja2<3.0,>=2.10.1, but you have jinja2 3.1.2 which is incompatible.\u001b[0m\n",
            "Successfully installed jinja2-3.1.2 jupyterlab-pygments-0.2.2 nbclient-0.6.6 nbconvert-6.5.3 nest-asyncio-1.5.5 tinycss2-1.1.1 traitlets-5.3.0\n"
          ]
        }
      ]
    },
    {
      "cell_type": "markdown",
      "source": [
        "Vamos a convertir el Taller Guiado de Visualización, entre al siguiente [link](https://colab.research.google.com/drive/1nPNAnA0NvV8aPXcRSHP_InoGgrPdjAS2?usp=sharing) y descarguelo.\n",
        "\n",
        "La opción para descargar es Archivo > Descargar > Descargar .ipynb\n",
        "\n",
        "Cargue ahora este archivo a este documento de Google Colaboratory usando el gestor de achivos del panel de la izquierda. El símbolo es una carpeta.\n",
        "\n",
        "Cuando haya subido el archivo de click en los 3 puntos al final del nombre del archivo, escoja la opción Copiar ruta de acceso.\n",
        "\n",
        "Pegue la ruta de acceso como se muestra en el siguiente ejemplo, note que el nombre debe ser el mismo de su archivo. Ejecute este comando en una celda de código.\n",
        "\n",
        "```\n",
        "!jupyter nbconvert --to html \"/content/M3_Taller_guiado_de_visualización_.ipynb\"\n",
        "```\n",
        "\n"
      ],
      "metadata": {
        "id": "Px7g6q_ei5xQ"
      }
    },
    {
      "cell_type": "code",
      "source": [
        "!jupyter nbconvert --to html '/content/M3_Taller_guiado_de_visualización_.ipynb'"
      ],
      "metadata": {
        "colab": {
          "base_uri": "https://localhost:8080/"
        },
        "id": "5AP9ZubclPpT",
        "outputId": "d82da3e4-7484-4b2a-f6c2-c0d29ccc7b28"
      },
      "execution_count": 3,
      "outputs": [
        {
          "output_type": "stream",
          "name": "stdout",
          "text": [
            "Traceback (most recent call last):\n",
            "  File \"/usr/local/bin/jupyter-nbconvert\", line 4, in <module>\n",
            "    from nbconvert.nbconvertapp import main\n",
            "  File \"/usr/local/lib/python3.11/dist-packages/nbconvert/__init__.py\", line 6, in <module>\n",
            "    from . import filters, postprocessors, preprocessors, writers\n",
            "  File \"/usr/local/lib/python3.11/dist-packages/nbconvert/filters/__init__.py\", line 8, in <module>\n",
            "    from .markdown import (\n",
            "  File \"/usr/local/lib/python3.11/dist-packages/nbconvert/filters/markdown.py\", line 16, in <module>\n",
            "    from .markdown_mistune import markdown2html_mistune\n",
            "  File \"/usr/local/lib/python3.11/dist-packages/nbconvert/filters/markdown_mistune.py\", line 21, in <module>\n",
            "    from nbconvert.filters.strings import add_anchor\n",
            "  File \"/usr/local/lib/python3.11/dist-packages/nbconvert/filters/strings.py\", line 23, in <module>\n",
            "    from nbconvert.preprocessors.sanitize import _get_default_css_sanitizer\n",
            "  File \"/usr/local/lib/python3.11/dist-packages/nbconvert/preprocessors/__init__.py\", line 3, in <module>\n",
            "    from nbclient.exceptions import CellExecutionError\n",
            "  File \"/usr/local/lib/python3.11/dist-packages/nbclient/__init__.py\", line 2, in <module>\n",
            "    from .client import NotebookClient, execute\n",
            "  File \"/usr/local/lib/python3.11/dist-packages/nbclient/client.py\", line 17, in <module>\n",
            "    from jupyter_client.client import KernelClient\n",
            "  File \"/usr/local/lib/python3.11/dist-packages/jupyter_client/__init__.py\", line 4, in <module>\n",
            "    from .connect import *\n",
            "  File \"/usr/local/lib/python3.11/dist-packages/jupyter_client/connect.py\", line 28, in <module>\n",
            "    from jupyter_core.paths import jupyter_data_dir, jupyter_runtime_dir, secure_write\n",
            "  File \"/usr/local/lib/python3.11/dist-packages/jupyter_core/paths.py\", line 22, in <module>\n",
            "    import platformdirs\n",
            "  File \"/usr/local/lib/python3.11/dist-packages/platformdirs/__init__.py\", line 27, in <module>\n",
            "    from platformdirs.unix import Unix as _Result\n",
            "  File \"/usr/local/lib/python3.11/dist-packages/platformdirs/unix.py\", line 7, in <module>\n",
            "    from configparser import ConfigParser\n",
            "  File \"/usr/lib/python3.11/configparser.py\", line 570, in <module>\n",
            "    class RawConfigParser(MutableMapping):\n",
            "  File \"/usr/lib/python3.11/configparser.py\", line 601, in RawConfigParser\n",
            "    OPTCRE = re.compile(_OPT_TMPL.format(delim=\"=|:\"), re.VERBOSE)\n",
            "             ^^^^^^^^^^^^^^^^^^^^^^^^^^^^^^^^^^^^^^^^^^^^^^^^^^^^^\n",
            "  File \"/usr/lib/python3.11/re/__init__.py\", line 227, in compile\n",
            "    return _compile(pattern, flags)\n",
            "           ^^^^^^^^^^^^^^^^^^^^^^^^\n",
            "  File \"/usr/lib/python3.11/re/__init__.py\", line 294, in _compile\n",
            "    p = _compiler.compile(pattern, flags)\n",
            "        ^^^^^^^^^^^^^^^^^^^^^^^^^^^^^^^^^\n",
            "  File \"/usr/lib/python3.11/re/_compiler.py\", line 745, in compile\n",
            "    p = _parser.parse(p, flags)\n",
            "        ^^^^^^^^^^^^^^^^^^^^^^^\n",
            "  File \"/usr/lib/python3.11/re/_parser.py\", line 989, in parse\n",
            "    p = _parse_sub(source, state, flags & SRE_FLAG_VERBOSE, 0)\n",
            "        ^^^^^^^^^^^^^^^^^^^^^^^^^^^^^^^^^^^^^^^^^^^^^^^^^^^^^^\n",
            "  File \"/usr/lib/python3.11/re/_parser.py\", line 464, in _parse_sub\n",
            "    itemsappend(_parse(source, state, verbose, nested + 1,\n",
            "                ^^^^^^^^^^^^^^^^^^^^^^^^^^^^^^^^^^^^^^^^^^\n",
            "  File \"/usr/lib/python3.11/re/_parser.py\", line 539, in _parse\n",
            "    continue\n",
            "KeyboardInterrupt\n",
            "^C\n"
          ]
        }
      ]
    },
    {
      "cell_type": "markdown",
      "source": [
        "Luego de ejecutar el comando anterior vaya a Archivos y actualicé la carpeta dando click en la carpeta con simbolo de recargar, allí aparece el notebook en formato HTML."
      ],
      "metadata": {
        "id": "WTmH4Ay8l4Kq"
      }
    },
    {
      "cell_type": "markdown",
      "source": [
        "Para convertir su notebook a PDF, actualmente la opción directa usando nbconvert y LaTex no está funcionando desde Google Colab.\n",
        "\n",
        "Hay otra opción para hacerlo, siga estos pasos:\n",
        "1. Descargue el html generado y abralo en su navegador.\n",
        "2. Presione ctrl+p, seleccione la opción Origen : Microsoft PDF, de click en Imprimir."
      ],
      "metadata": {
        "id": "zyGTK2gIAmUB"
      }
    },
    {
      "cell_type": "markdown",
      "source": [
        "Cualquier duda, puede seguir este tutorial. https://youtu.be/-Ti9Mm21uVc"
      ],
      "metadata": {
        "id": "lFDS1c-kB41Y"
      }
    }
  ]
}