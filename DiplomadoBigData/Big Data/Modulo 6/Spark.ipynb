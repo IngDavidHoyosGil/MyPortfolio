{
  "nbformat": 4,
  "nbformat_minor": 0,
  "metadata": {
    "colab": {
      "provenance": []
    },
    "kernelspec": {
      "name": "python3",
      "display_name": "Python 3"
    },
    "language_info": {
      "name": "python"
    }
  },
  "cells": [
    {
      "cell_type": "code",
      "execution_count": 1,
      "metadata": {
        "colab": {
          "base_uri": "https://localhost:8080/"
        },
        "id": "GdY43I8YnZtE",
        "outputId": "9e04ce4a-1ab0-4dd0-a7fc-140611a6641c"
      },
      "outputs": [
        {
          "output_type": "stream",
          "name": "stdout",
          "text": [
            "Requirement already satisfied: pyspark in /usr/local/lib/python3.11/dist-packages (3.5.1)\n",
            "Requirement already satisfied: py4j==0.10.9.7 in /usr/local/lib/python3.11/dist-packages (from pyspark) (0.10.9.7)\n"
          ]
        }
      ],
      "source": [
        "!pip install pyspark\n"
      ]
    },
    {
      "cell_type": "code",
      "source": [
        "from pyspark.sql import SparkSession\n",
        "\n",
        "# Crear una sesión de Spark\n",
        "spark = SparkSession.builder \\\n",
        "    .appName(\"RDDs en Colab\") \\\n",
        "    .master(\"local[*]\") \\\n",
        "    .getOrCreate()\n",
        "\n",
        "# Obtener el SparkContext\n",
        "sc = spark.sparkContext\n"
      ],
      "metadata": {
        "id": "_PCXGY0Qnl2F"
      },
      "execution_count": 2,
      "outputs": []
    },
    {
      "cell_type": "code",
      "source": [
        "!wget https://gist.githubusercontent.com/blakesanie/dde3a2b7e698f52f389532b4b52bc254/raw/76fe1b5e9efcf0d2afdfd78b0bfaa737ad0a67d3/shakespeare.txt\n",
        "file_path = \"shakespeare.txt\"\n",
        "shakespeareRDD = sc.textFile(file_path)\n",
        "shakespeareRDD.take(10)"
      ],
      "metadata": {
        "colab": {
          "base_uri": "https://localhost:8080/"
        },
        "id": "lhGgtWg8oUWF",
        "outputId": "880ae1ae-fe39-49e7-9791-24abee73cd01"
      },
      "execution_count": 4,
      "outputs": [
        {
          "output_type": "stream",
          "name": "stdout",
          "text": [
            "--2025-06-25 01:12:45--  https://gist.githubusercontent.com/blakesanie/dde3a2b7e698f52f389532b4b52bc254/raw/76fe1b5e9efcf0d2afdfd78b0bfaa737ad0a67d3/shakespeare.txt\n",
            "Resolving gist.githubusercontent.com (gist.githubusercontent.com)... 185.199.108.133, 185.199.109.133, 185.199.111.133, ...\n",
            "Connecting to gist.githubusercontent.com (gist.githubusercontent.com)|185.199.108.133|:443... connected.\n",
            "HTTP request sent, awaiting response... 200 OK\n",
            "Length: 5436475 (5.2M) [text/plain]\n",
            "Saving to: ‘shakespeare.txt’\n",
            "\n",
            "shakespeare.txt     100%[===================>]   5.18M  --.-KB/s    in 0.02s   \n",
            "\n",
            "2025-06-25 01:12:45 (250 MB/s) - ‘shakespeare.txt’ saved [5436475/5436475]\n",
            "\n"
          ]
        },
        {
          "output_type": "execute_result",
          "data": {
            "text/plain": [
              "['  From fairest creatures we desire increase,',\n",
              " \"  That thereby beauty's rose might never die,\",\n",
              " '  But as the riper should by time decease,',\n",
              " '  His tender heir might bear his memory:',\n",
              " '  But thou contracted to thine own bright eyes,',\n",
              " \"  Feed'st thy light's flame with self-substantial fuel,\",\n",
              " '  Making a famine where abundance lies,',\n",
              " '  Thy self thy foe, to thy sweet self too cruel:',\n",
              " \"  Thou that art now the world's fresh ornament,\",\n",
              " '  And only herald to the gaudy spring,']"
            ]
          },
          "metadata": {},
          "execution_count": 4
        }
      ]
    },
    {
      "cell_type": "code",
      "source": [
        "def minuscula(texto):\n",
        "    \"\"\"Esta función convierte las lineas de texto a minúscula\"\"\"\n",
        "    return texto.lower()"
      ],
      "metadata": {
        "id": "IvPFvO8NqEjV"
      },
      "execution_count": 5,
      "outputs": []
    },
    {
      "cell_type": "code",
      "source": [
        "lowerRDD = shakespeareRDD.map(minuscula)\n",
        "lowerRDD.take(5)"
      ],
      "metadata": {
        "colab": {
          "base_uri": "https://localhost:8080/"
        },
        "id": "oneXSlc5sGOk",
        "outputId": "5b7fa474-271a-445c-b9b7-33178e8605e9"
      },
      "execution_count": 6,
      "outputs": [
        {
          "output_type": "execute_result",
          "data": {
            "text/plain": [
              "['  from fairest creatures we desire increase,',\n",
              " \"  that thereby beauty's rose might never die,\",\n",
              " '  but as the riper should by time decease,',\n",
              " '  his tender heir might bear his memory:',\n",
              " '  but thou contracted to thine own bright eyes,']"
            ]
          },
          "metadata": {},
          "execution_count": 6
        }
      ]
    },
    {
      "cell_type": "code",
      "source": [
        "# Convertir cada línea a minu+úsculas\n",
        "lowerRDD = shakespeareRDD.map(lambda line: line.lower())\n",
        "lowerRDD.take(5)"
      ],
      "metadata": {
        "colab": {
          "base_uri": "https://localhost:8080/"
        },
        "id": "mb-amNhFtlhE",
        "outputId": "e22fa2d0-864d-4196-feea-4479e7e75800"
      },
      "execution_count": 16,
      "outputs": [
        {
          "output_type": "execute_result",
          "data": {
            "text/plain": [
              "['  from fairest creatures we desire increase,',\n",
              " \"  that thereby beauty's rose might never die,\",\n",
              " '  but as the riper should by time decease,',\n",
              " '  his tender heir might bear his memory:',\n",
              " '  but thou contracted to thine own bright eyes,']"
            ]
          },
          "metadata": {},
          "execution_count": 16
        }
      ]
    },
    {
      "cell_type": "code",
      "source": [
        "# Filtrar líneas que contienen la palabra \"love\"\n",
        "loveLinesRDD = lowerRDD.filter(lambda line: \"love\" in line)\n",
        "loveLinesRDD.take(10)"
      ],
      "metadata": {
        "colab": {
          "base_uri": "https://localhost:8080/"
        },
        "id": "UNdl8KFPt7Cl",
        "outputId": "e354976c-00b4-4f2b-89f6-680f44787a8e"
      },
      "execution_count": 17,
      "outputs": [
        {
          "output_type": "execute_result",
          "data": {
            "text/plain": [
              "['  of his self-love to stop posterity?',\n",
              " '  calls back the lovely april of her prime,',\n",
              " '  unthrifty loveliness why dost thou spend,',\n",
              " '  the lovely gaze where every eye doth dwell',\n",
              " '    no love toward others in that bosom sits',\n",
              " \"  for shame deny that thou bear'st love to any\",\n",
              " '  grant if thou wilt, thou art beloved of many,',\n",
              " '  shall hate be fairer lodged than gentle love?',\n",
              " '    make thee another self for love of me,',\n",
              " '  o that you were your self, but love you are']"
            ]
          },
          "metadata": {},
          "execution_count": 17
        }
      ]
    },
    {
      "cell_type": "code",
      "source": [
        "\"Hola como estás?\".split()"
      ],
      "metadata": {
        "colab": {
          "base_uri": "https://localhost:8080/"
        },
        "id": "hblcOY6JvaRV",
        "outputId": "efb7b9a5-c446-4fca-c2a3-a017729f6e6b"
      },
      "execution_count": 18,
      "outputs": [
        {
          "output_type": "execute_result",
          "data": {
            "text/plain": [
              "['Hola', 'como', 'estás?']"
            ]
          },
          "metadata": {},
          "execution_count": 18
        }
      ]
    },
    {
      "cell_type": "code",
      "source": [
        "shakespeareRDD.take(10)"
      ],
      "metadata": {
        "colab": {
          "base_uri": "https://localhost:8080/"
        },
        "id": "QskFSd_tvdxk",
        "outputId": "4fdc29b3-4c66-4854-96d0-4b76180fc284"
      },
      "execution_count": 19,
      "outputs": [
        {
          "output_type": "execute_result",
          "data": {
            "text/plain": [
              "['  From fairest creatures we desire increase,',\n",
              " \"  That thereby beauty's rose might never die,\",\n",
              " '  But as the riper should by time decease,',\n",
              " '  His tender heir might bear his memory:',\n",
              " '  But thou contracted to thine own bright eyes,',\n",
              " \"  Feed'st thy light's flame with self-substantial fuel,\",\n",
              " '  Making a famine where abundance lies,',\n",
              " '  Thy self thy foe, to thy sweet self too cruel:',\n",
              " \"  Thou that art now the world's fresh ornament,\",\n",
              " '  And only herald to the gaudy spring,']"
            ]
          },
          "metadata": {},
          "execution_count": 19
        }
      ]
    },
    {
      "cell_type": "code",
      "source": [
        "wordsRDD = shakespeareRDD.flatMap(lambda line: line.split())\n",
        "wordsRDD.take(10)"
      ],
      "metadata": {
        "colab": {
          "base_uri": "https://localhost:8080/"
        },
        "id": "Lhm7ouPPvi8M",
        "outputId": "120ecdd6-d604-4872-b9d3-467576df1139"
      },
      "execution_count": 20,
      "outputs": [
        {
          "output_type": "execute_result",
          "data": {
            "text/plain": [
              "['From',\n",
              " 'fairest',\n",
              " 'creatures',\n",
              " 'we',\n",
              " 'desire',\n",
              " 'increase,',\n",
              " 'That',\n",
              " 'thereby',\n",
              " \"beauty's\",\n",
              " 'rose']"
            ]
          },
          "metadata": {},
          "execution_count": 20
        }
      ]
    },
    {
      "cell_type": "code",
      "source": [
        "wordsRDD.count()"
      ],
      "metadata": {
        "colab": {
          "base_uri": "https://localhost:8080/"
        },
        "id": "yO_aSgx0wUPV",
        "outputId": "cac592c2-286c-4224-bb1c-6f4cfdb7e195"
      },
      "execution_count": 21,
      "outputs": [
        {
          "output_type": "execute_result",
          "data": {
            "text/plain": [
              "899588"
            ]
          },
          "metadata": {},
          "execution_count": 21
        }
      ]
    },
    {
      "cell_type": "code",
      "source": [
        "# Obtener palabras únicas\n",
        "uniqueWordsRDD = wordsRDD.distinct()\n",
        "uniqueWordsRDD.take(20)"
      ],
      "metadata": {
        "colab": {
          "base_uri": "https://localhost:8080/"
        },
        "id": "zceIyqtdwUyW",
        "outputId": "11bfe8ba-e552-4afd-d2e2-e550e699dda8"
      },
      "execution_count": 22,
      "outputs": [
        {
          "output_type": "execute_result",
          "data": {
            "text/plain": [
              "['From',\n",
              " 'desire',\n",
              " 'increase,',\n",
              " 'rose',\n",
              " 'might',\n",
              " 'never',\n",
              " 'But',\n",
              " 'as',\n",
              " 'riper',\n",
              " 'should',\n",
              " 'by',\n",
              " 'tender',\n",
              " 'bear',\n",
              " 'his',\n",
              " 'thou',\n",
              " 'to',\n",
              " 'thine',\n",
              " 'own',\n",
              " 'thy',\n",
              " 'with']"
            ]
          },
          "metadata": {},
          "execution_count": 22
        }
      ]
    },
    {
      "cell_type": "code",
      "source": [
        "uniqueWordsRDD.count()"
      ],
      "metadata": {
        "colab": {
          "base_uri": "https://localhost:8080/"
        },
        "id": "A_Dw8AB9wiYh",
        "outputId": "fd46adba-1c69-44ba-a23e-b04caf7a0676"
      },
      "execution_count": 23,
      "outputs": [
        {
          "output_type": "execute_result",
          "data": {
            "text/plain": [
              "67107"
            ]
          },
          "metadata": {},
          "execution_count": 23
        }
      ]
    },
    {
      "cell_type": "code",
      "source": [
        "# Recoger los elementos del RDD como una lista (usar con RDDs pequeños)\n",
        "collectedWords = uniqueWordsRDD.collect()\n",
        "print(collectedWords[:10])  # Mostrar los primeros 10"
      ],
      "metadata": {
        "colab": {
          "base_uri": "https://localhost:8080/"
        },
        "id": "TROt_sJRwn7l",
        "outputId": "81147d74-43cc-4ff5-d0d1-f72d35d61b9e"
      },
      "execution_count": 24,
      "outputs": [
        {
          "output_type": "stream",
          "name": "stdout",
          "text": [
            "['From', 'desire', 'increase,', 'rose', 'might', 'never', 'But', 'as', 'riper', 'should']\n"
          ]
        }
      ]
    },
    {
      "cell_type": "code",
      "source": [
        "type(collectedWords)"
      ],
      "metadata": {
        "colab": {
          "base_uri": "https://localhost:8080/"
        },
        "id": "0zOowgYFxJ11",
        "outputId": "daecc691-0de5-4043-b0ac-e1b3455e0c2d"
      },
      "execution_count": 25,
      "outputs": [
        {
          "output_type": "execute_result",
          "data": {
            "text/plain": [
              "list"
            ]
          },
          "metadata": {},
          "execution_count": 25
        }
      ]
    },
    {
      "cell_type": "code",
      "source": [
        "len(collectedWords)"
      ],
      "metadata": {
        "colab": {
          "base_uri": "https://localhost:8080/"
        },
        "id": "UT3qOEqRxSIi",
        "outputId": "4cb1edf1-8ec6-41bd-efa8-a1e1fc827937"
      },
      "execution_count": 26,
      "outputs": [
        {
          "output_type": "execute_result",
          "data": {
            "text/plain": [
              "67107"
            ]
          },
          "metadata": {},
          "execution_count": 26
        }
      ]
    },
    {
      "cell_type": "code",
      "source": [
        "# Contar el número total de palabras únicas\n",
        "wordCount = uniqueWordsRDD.count()\n",
        "print(f\"Número total de palabras únicas: {wordCount}\")"
      ],
      "metadata": {
        "colab": {
          "base_uri": "https://localhost:8080/"
        },
        "id": "NF-Ace85xUVB",
        "outputId": "1f520187-d7a3-403f-bc0c-f84e2227c10b"
      },
      "execution_count": 27,
      "outputs": [
        {
          "output_type": "stream",
          "name": "stdout",
          "text": [
            "Número total de palabras únicas: 67107\n"
          ]
        }
      ]
    },
    {
      "cell_type": "code",
      "source": [
        "# Tomar las primeras 5 palabras únicas\n",
        "first5Words = uniqueWordsRDD.take(5)\n",
        "print(f\"Primeras 5 palabras únicas: {first5Words}\")"
      ],
      "metadata": {
        "colab": {
          "base_uri": "https://localhost:8080/"
        },
        "id": "bOR-2hiBxb4N",
        "outputId": "807544e7-8ff2-44a5-8ea7-8c1a144521d9"
      },
      "execution_count": 28,
      "outputs": [
        {
          "output_type": "stream",
          "name": "stdout",
          "text": [
            "Primeras 5 palabras únicas: ['From', 'desire', 'increase,', 'rose', 'might']\n"
          ]
        }
      ]
    },
    {
      "cell_type": "code",
      "source": [
        "# Paso 1: Dividir cada línea en palabras\n",
        "wordsRDD = shakespeareRDD.flatMap(lambda line: line.split())\n",
        "\n",
        "# Paso 2: Usar reduce para encontrar la palabra más larga\n",
        "longestWord = wordsRDD.reduce(lambda word1, word2: word1 if len(word1) > len(word2) else word2)\n",
        "\n",
        "print(f\"La palabra más larga es: {longestWord}\")"
      ],
      "metadata": {
        "colab": {
          "base_uri": "https://localhost:8080/"
        },
        "id": "sZ0mRPzbxy4S",
        "outputId": "bf9ecea7-8e03-4be4-a199-d1f30b1ed7e6"
      },
      "execution_count": 29,
      "outputs": [
        {
          "output_type": "stream",
          "name": "stdout",
          "text": [
            "La palabra más larga es: tragical-comical-historical-pastoral;\n"
          ]
        }
      ]
    },
    {
      "cell_type": "code",
      "source": [
        "\n",
        "shortestWord = wordsRDD.reduce(lambda word1, word2: word1 if len(word1) < len(word2) else word2)\n",
        "\n",
        "print(f\"La palabra más corta es: {shortestWord}\")"
      ],
      "metadata": {
        "colab": {
          "base_uri": "https://localhost:8080/"
        },
        "id": "W8jYWiM9x1gC",
        "outputId": "ef25b0ba-e29e-4e12-9f4b-189420e11345"
      },
      "execution_count": 32,
      "outputs": [
        {
          "output_type": "stream",
          "name": "stdout",
          "text": [
            "La palabra más corta es: a\n"
          ]
        }
      ]
    },
    {
      "cell_type": "code",
      "source": [
        "# Paso 1: Dividir cada línea en palabras usando flatMap\n",
        "wordsRDD = shakespeareRDD.flatMap(lambda line: line.split())\n",
        "\n",
        "# Paso 2: Crear pares (palabra, 1) para cada palabra\n",
        "wordPairsRDD = wordsRDD.map(lambda word: (word, 1))\n",
        "wordPairsRDD.take(10)"
      ],
      "metadata": {
        "colab": {
          "base_uri": "https://localhost:8080/"
        },
        "id": "9IYNHhbsyV1C",
        "outputId": "7486aecb-7124-41a4-d800-85c22ff1e5c6"
      },
      "execution_count": 33,
      "outputs": [
        {
          "output_type": "execute_result",
          "data": {
            "text/plain": [
              "[('From', 1),\n",
              " ('fairest', 1),\n",
              " ('creatures', 1),\n",
              " ('we', 1),\n",
              " ('desire', 1),\n",
              " ('increase,', 1),\n",
              " ('That', 1),\n",
              " ('thereby', 1),\n",
              " (\"beauty's\", 1),\n",
              " ('rose', 1)]"
            ]
          },
          "metadata": {},
          "execution_count": 33
        }
      ]
    },
    {
      "cell_type": "code",
      "source": [
        "# Paso 3: Usar reduceByKey para sumar las ocurrencias de cada palabra\n",
        "wordCountsRDD = wordPairsRDD.reduceByKey(lambda x, y: x + y)\n",
        "\n",
        "# Paso 4: Mostrar las primeras 10 palabras y sus conteos\n",
        "top10Words = wordCountsRDD.take(10)\n",
        "print(\"Palabras y sus conteos:\", top10Words)"
      ],
      "metadata": {
        "colab": {
          "base_uri": "https://localhost:8080/"
        },
        "id": "28A61Kbzyzl-",
        "outputId": "cfe14b99-77de-4fe5-98a3-0876033753c1"
      },
      "execution_count": 34,
      "outputs": [
        {
          "output_type": "stream",
          "name": "stdout",
          "text": [
            "Palabras y sus conteos: [('From', 349), ('desire', 161), ('increase,', 9), ('rose', 40), ('might', 414), ('never', 865), ('But', 2321), ('as', 4267), ('riper', 3), ('should', 1383)]\n"
          ]
        }
      ]
    },
    {
      "cell_type": "code",
      "source": [
        "# Paso 1: Dividir cada línea en palabras\n",
        "wordsRDD = shakespeareRDD.flatMap(lambda line: line.split())\n",
        "\n",
        "# Paso 2: Crear un par (palabra, 1) para cada palabra\n",
        "wordPairsRDD = wordsRDD.map(lambda word: (word, 1))\n",
        "\n",
        "# Paso 3: Sumar los valores por palabra\n",
        "wordCountsRDD = wordPairsRDD.reduceByKey(lambda x, y: x + y)\n",
        "\n",
        "# Paso 4: Ordenar por conteo en orden descendente\n",
        "sortedWordCountsRDD = wordCountsRDD.sortBy(lambda x: x[1], ascending=False)\n",
        "\n",
        "# Paso 5: Tomar las primeras 10 palabras más frecuentes\n",
        "top10Words = sortedWordCountsRDD.take(10)\n",
        "print(\"Las 10 palabras más frecuentes y sus conteos:\", top10Words)"
      ],
      "metadata": {
        "colab": {
          "base_uri": "https://localhost:8080/"
        },
        "id": "DCP6tdKX0zvV",
        "outputId": "745e2db2-e82b-4512-dc6d-e78daf51a41e"
      },
      "execution_count": 35,
      "outputs": [
        {
          "output_type": "stream",
          "name": "stdout",
          "text": [
            "Las 10 palabras más frecuentes y sus conteos: [('the', 23197), ('I', 19540), ('and', 18263), ('to', 15592), ('of', 15507), ('a', 12516), ('my', 10824), ('in', 9565), ('you', 9059), ('is', 7831)]\n"
          ]
        }
      ]
    },
    {
      "cell_type": "code",
      "source": [
        "# Cerrar la sesión de Spark\n",
        "spark.stop()"
      ],
      "metadata": {
        "id": "vCz5hq7W0zF1"
      },
      "execution_count": 36,
      "outputs": []
    }
  ]
}