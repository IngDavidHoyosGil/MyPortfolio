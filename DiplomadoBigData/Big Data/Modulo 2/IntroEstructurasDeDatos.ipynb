{
  "cells": [
    {
      "cell_type": "markdown",
      "metadata": {
        "id": "sEiN1gCNvc2A"
      },
      "source": [
        "# Tipos de datos"
      ]
    },
    {
      "cell_type": "code",
      "execution_count": null,
      "metadata": {
        "colab": {
          "base_uri": "https://localhost:8080/"
        },
        "collapsed": true,
        "id": "rOPcaBGtIwFd",
        "outputId": "936b659a-e94e-41c8-9483-9c9b50941c02"
      },
      "outputs": [
        {
          "output_type": "stream",
          "name": "stdout",
          "text": [
            "Python 3.11.11\n"
          ]
        }
      ],
      "source": [
        "!python --version"
      ]
    },
    {
      "cell_type": "markdown",
      "metadata": {
        "id": "fBvRegFLxXlk"
      },
      "source": [
        "### Básicos o primitivos"
      ]
    },
    {
      "cell_type": "markdown",
      "metadata": {
        "id": "-g5u4UurxoFb"
      },
      "source": [
        "* Strings, Texto o Cadenas"
      ]
    },
    {
      "cell_type": "code",
      "execution_count": null,
      "metadata": {
        "colab": {
          "base_uri": "https://localhost:8080/",
          "height": 36
        },
        "collapsed": true,
        "id": "8Dz602o1J8I5",
        "outputId": "b63e88a7-6af2-4b5b-81c1-396e503f37e9"
      },
      "outputs": [
        {
          "output_type": "execute_result",
          "data": {
            "text/plain": [
              "'cualquier cosa'"
            ],
            "application/vnd.google.colaboratory.intrinsic+json": {
              "type": "string"
            }
          },
          "metadata": {},
          "execution_count": 4
        }
      ],
      "source": [
        "# Definir un texto\n",
        "# cosas para acordarme\n",
        "# explicar que hace la celda o cualquier cosa\n",
        "\n",
        "\"cualquier cosa\""
      ]
    },
    {
      "cell_type": "code",
      "execution_count": null,
      "metadata": {
        "colab": {
          "base_uri": "https://localhost:8080/"
        },
        "collapsed": true,
        "id": "Z1zdqNV83Gxj",
        "outputId": "3aa2651d-b896-4438-c01b-9e0e14ab43a2"
      },
      "outputs": [
        {
          "name": "stdout",
          "output_type": "stream",
          "text": [
            "Esta es mi primera variable:  Nombre Apellido\n"
          ]
        }
      ],
      "source": [
        "variable = 'Nombre Apellido'\n",
        "print('Esta es mi primera variable: ', variable)\n",
        "# variable"
      ]
    },
    {
      "cell_type": "code",
      "execution_count": null,
      "metadata": {
        "colab": {
          "base_uri": "https://localhost:8080/"
        },
        "collapsed": true,
        "id": "o94-GxoVx4Kp",
        "outputId": "85b31527-1160-43e0-b8b4-31ba2c6d5c58"
      },
      "outputs": [
        {
          "name": "stdout",
          "output_type": "stream",
          "text": [
            "Contenido variable x:  texto x\n",
            "Tipo de dato variable x:  <class 'str'>\n",
            "texto y\n",
            "<class 'str'>\n"
          ]
        }
      ],
      "source": [
        "x = \"texto x\"\n",
        "y = 'texto y'\n",
        "\n",
        "print('Contenido variable x: ', x)\n",
        "print('Tipo de dato variable x: ', type(x))\n",
        "\n",
        "print(y)\n",
        "print(type(y))"
      ]
    },
    {
      "cell_type": "code",
      "execution_count": null,
      "metadata": {
        "colab": {
          "base_uri": "https://localhost:8080/"
        },
        "collapsed": true,
        "id": "8Q6oxIFtwEw4",
        "outputId": "47ec25d1-6d94-4b6e-ac2f-b36bc32aff0c"
      },
      "outputs": [
        {
          "data": {
            "text/plain": [
              "str"
            ]
          },
          "execution_count": 5,
          "metadata": {},
          "output_type": "execute_result"
        }
      ],
      "source": [
        "x\n",
        "type(x)\n",
        "y\n",
        "type(y)"
      ]
    },
    {
      "cell_type": "code",
      "execution_count": null,
      "metadata": {
        "colab": {
          "base_uri": "https://localhost:8080/"
        },
        "collapsed": true,
        "id": "-MOl0MM_37qi",
        "outputId": "311d02a9-7d0a-4954-f74d-114d5b05358c"
      },
      "outputs": [
        {
          "name": "stdout",
          "output_type": "stream",
          "text": [
            "La celda comenzó a ejecutarse\n",
            "texto x\n",
            "Mitad de la celda\n",
            "texto y\n",
            "La celda termino de ejecutarse\n"
          ]
        }
      ],
      "source": [
        "print('La celda comenzó a ejecutarse')\n",
        "\n",
        "print(x)\n",
        "\n",
        "print('Mitad de la celda')\n",
        "\n",
        "print(y)\n",
        "\n",
        "# print(type('La celda termino de ejecutarse'))\n",
        "print('La celda termino de ejecutarse')"
      ]
    },
    {
      "cell_type": "code",
      "execution_count": null,
      "metadata": {
        "id": "1XQ5B8kxw0mW"
      },
      "outputs": [],
      "source": [
        "# Métodos comunes para texto !\n",
        "mi_texto = \"Bienvenidos a la clase de estructuras de datos !\""
      ]
    },
    {
      "cell_type": "code",
      "execution_count": null,
      "metadata": {
        "colab": {
          "base_uri": "https://localhost:8080/"
        },
        "collapsed": true,
        "id": "vl919Nkm3Y-H",
        "outputId": "7081748d-1b3c-4496-c78a-bfcadf3100d8"
      },
      "outputs": [
        {
          "name": "stdout",
          "output_type": "stream",
          "text": [
            "<class 'str'>\n"
          ]
        },
        {
          "data": {
            "text/plain": [
              "['__add__',\n",
              " '__class__',\n",
              " '__contains__',\n",
              " '__delattr__',\n",
              " '__dir__',\n",
              " '__doc__',\n",
              " '__eq__',\n",
              " '__format__',\n",
              " '__ge__',\n",
              " '__getattribute__',\n",
              " '__getitem__',\n",
              " '__getnewargs__',\n",
              " '__getstate__',\n",
              " '__gt__',\n",
              " '__hash__',\n",
              " '__init__',\n",
              " '__init_subclass__',\n",
              " '__iter__',\n",
              " '__le__',\n",
              " '__len__',\n",
              " '__lt__',\n",
              " '__mod__',\n",
              " '__mul__',\n",
              " '__ne__',\n",
              " '__new__',\n",
              " '__reduce__',\n",
              " '__reduce_ex__',\n",
              " '__repr__',\n",
              " '__rmod__',\n",
              " '__rmul__',\n",
              " '__setattr__',\n",
              " '__sizeof__',\n",
              " '__str__',\n",
              " '__subclasshook__',\n",
              " 'capitalize',\n",
              " 'casefold',\n",
              " 'center',\n",
              " 'count',\n",
              " 'encode',\n",
              " 'endswith',\n",
              " 'expandtabs',\n",
              " 'find',\n",
              " 'format',\n",
              " 'format_map',\n",
              " 'index',\n",
              " 'isalnum',\n",
              " 'isalpha',\n",
              " 'isascii',\n",
              " 'isdecimal',\n",
              " 'isdigit',\n",
              " 'isidentifier',\n",
              " 'islower',\n",
              " 'isnumeric',\n",
              " 'isprintable',\n",
              " 'isspace',\n",
              " 'istitle',\n",
              " 'isupper',\n",
              " 'join',\n",
              " 'ljust',\n",
              " 'lower',\n",
              " 'lstrip',\n",
              " 'maketrans',\n",
              " 'partition',\n",
              " 'removeprefix',\n",
              " 'removesuffix',\n",
              " 'replace',\n",
              " 'rfind',\n",
              " 'rindex',\n",
              " 'rjust',\n",
              " 'rpartition',\n",
              " 'rsplit',\n",
              " 'rstrip',\n",
              " 'split',\n",
              " 'splitlines',\n",
              " 'startswith',\n",
              " 'strip',\n",
              " 'swapcase',\n",
              " 'title',\n",
              " 'translate',\n",
              " 'upper',\n",
              " 'zfill']"
            ]
          },
          "execution_count": 8,
          "metadata": {},
          "output_type": "execute_result"
        }
      ],
      "source": [
        "# Conocer los métodos existentes para un tipo de dato\n",
        "print(type(mi_texto))\n",
        "\n",
        "dir(mi_texto)"
      ]
    },
    {
      "cell_type": "code",
      "execution_count": null,
      "metadata": {
        "colab": {
          "base_uri": "https://localhost:8080/"
        },
        "collapsed": true,
        "id": "e2jwt1clxRpQ",
        "outputId": "3f1cac9e-3fee-4def-980f-ad721c94c2c0"
      },
      "outputs": [
        {
          "name": "stdout",
          "output_type": "stream",
          "text": [
            "Bienvenidos a la clase de estructuras de datos !\n"
          ]
        },
        {
          "data": {
            "application/vnd.google.colaboratory.intrinsic+json": {
              "type": "string"
            },
            "text/plain": [
              "'bienvenidos a la clase de estructuras de datos !'"
            ]
          },
          "execution_count": 9,
          "metadata": {},
          "output_type": "execute_result"
        }
      ],
      "source": [
        "# variable.mi_metodo()\n",
        "print(mi_texto)\n",
        "mi_texto.lower()"
      ]
    },
    {
      "cell_type": "code",
      "execution_count": null,
      "metadata": {
        "colab": {
          "base_uri": "https://localhost:8080/"
        },
        "collapsed": true,
        "id": "tPPvL7t23hPv",
        "outputId": "21e4a15f-75c8-411f-85db-89476bd4b6c9"
      },
      "outputs": [
        {
          "name": "stdout",
          "output_type": "stream",
          "text": [
            "Mi texto en minúscula:  bienvenidos a la clase de estructuras de datos !\n",
            "Mi texto en minúscula: bienvenidos a la clase de estructuras de datos !\n"
          ]
        }
      ],
      "source": [
        "# Todo a minúscula\n",
        "print(\"Mi texto en minúscula: \", mi_texto.lower())\n",
        "\n",
        "print(f\"Mi texto en minúscula: {mi_texto.lower()}\")"
      ]
    },
    {
      "cell_type": "code",
      "execution_count": null,
      "metadata": {
        "colab": {
          "base_uri": "https://localhost:8080/"
        },
        "collapsed": true,
        "id": "Gzr0IW2S5PDR",
        "outputId": "fc5de766-7e6f-43f7-f14d-7160698f966d"
      },
      "outputs": [
        {
          "name": "stdout",
          "output_type": "stream",
          "text": [
            "Jose Juan\n"
          ]
        }
      ],
      "source": [
        "nombre = \"Jose juan\" # Jose Juan ¡?\n",
        "# print(nombre.title())\n",
        "# nombre_2 = nombre.title()\n",
        "nombre = nombre.title() # Esto es equivalente a: nombre = \"Jose juan\".title()\n",
        "print(nombre)"
      ]
    },
    {
      "cell_type": "code",
      "execution_count": null,
      "metadata": {
        "id": "1MVZBIuxPFuu"
      },
      "outputs": [],
      "source": [
        "# librería para tildes: unidecode()\n",
        "# unidecode('Julián') -> Julian"
      ]
    },
    {
      "cell_type": "code",
      "execution_count": null,
      "metadata": {
        "colab": {
          "base_uri": "https://localhost:8080/"
        },
        "collapsed": true,
        "id": "LNDoorDzc3vT",
        "outputId": "fd3ba9ae-d620-42d2-d6ae-72b7f79eba90"
      },
      "outputs": [
        {
          "name": "stdout",
          "output_type": "stream",
          "text": [
            "Jose Juan\n"
          ]
        }
      ],
      "source": [
        "print(nombre)"
      ]
    },
    {
      "cell_type": "code",
      "execution_count": null,
      "metadata": {
        "colab": {
          "base_uri": "https://localhost:8080/"
        },
        "collapsed": true,
        "id": "YC59SSWX6txN",
        "outputId": "eb0565f2-7bb3-4c5f-f681-9e9aca844767"
      },
      "outputs": [
        {
          "data": {
            "application/vnd.google.colaboratory.intrinsic+json": {
              "type": "string"
            },
            "text/plain": [
              "'Jose Juan Guzman'"
            ]
          },
          "execution_count": 14,
          "metadata": {},
          "output_type": "execute_result"
        }
      ],
      "source": [
        "# Concatenar o unir textos\n",
        "apellido = \"Guzman\"\n",
        "\n",
        "nombre + ' ' + apellido"
      ]
    },
    {
      "cell_type": "code",
      "execution_count": null,
      "metadata": {
        "colab": {
          "base_uri": "https://localhost:8080/"
        },
        "collapsed": true,
        "id": "fgrlZmLn6M51",
        "outputId": "24e27278-b6aa-4040-c14f-4213f1f288ef"
      },
      "outputs": [
        {
          "name": "stdout",
          "output_type": "stream",
          "text": [
            "Minuscula: jose juan\n",
            "Mayuscula: JOSE JUAN\n",
            "Apropiado: Jose Juan\n",
            "Nombre inicial: Jose Juan\n",
            "Con espacios:    Jose Juan   \n",
            "Sin espacios: Jose Juan\n",
            "Sin espacios y minuscula: jose juan\n"
          ]
        }
      ],
      "source": [
        "# Ejemplos\n",
        "nombre_minuscula = nombre.lower()\n",
        "print(\"Minuscula:\", nombre_minuscula)\n",
        "\n",
        "nombre_mayuscula = nombre.upper()\n",
        "print(\"Mayuscula:\", nombre_mayuscula)\n",
        "\n",
        "nombre_normal = nombre.title()\n",
        "print(\"Apropiado:\", nombre_normal)\n",
        "\n",
        "print(f\"Nombre inicial: {nombre}\")\n",
        "nombre_con_espacios = \"   \" + nombre + \"   \"\n",
        "print(\"Con espacios:\", nombre_con_espacios)\n",
        "\n",
        "nombre_sin_espacios = nombre_con_espacios.strip()\n",
        "print(\"Sin espacios:\", nombre_sin_espacios)\n",
        "\n",
        "nombre_sin_espacios_min = nombre_con_espacios.strip().lower()\n",
        "print(\"Sin espacios y minuscula:\", nombre_sin_espacios_min)"
      ]
    },
    {
      "cell_type": "code",
      "execution_count": null,
      "metadata": {
        "colab": {
          "base_uri": "https://localhost:8080/"
        },
        "collapsed": true,
        "id": "FgbGLTlzz0HM",
        "outputId": "35749c56-17cb-4fdf-f5d0-870d435e1331"
      },
      "outputs": [
        {
          "data": {
            "application/vnd.google.colaboratory.intrinsic+json": {
              "type": "string"
            },
            "text/plain": [
              "'Hola qué tal?'"
            ]
          },
          "execution_count": 16,
          "metadata": {},
          "output_type": "execute_result"
        }
      ],
      "source": [
        "# .replace()\n",
        "# var_texto.replace(que quiero reemplazar, con que lo quiero reemplazar)\n",
        "\n",
        "' Hola cómo  estás? '.strip().replace(\"  \", \" \").replace(\"cómo estás\", \"qué tal\")"
      ]
    },
    {
      "cell_type": "code",
      "execution_count": null,
      "metadata": {
        "colab": {
          "base_uri": "https://localhost:8080/"
        },
        "collapsed": true,
        "id": "hKU-pI1L0U33",
        "outputId": "654c166a-53fd-4a8d-f7ae-0e4f8d2e0774"
      },
      "outputs": [
        {
          "data": {
            "text/plain": [
              "['__add__',\n",
              " '__class__',\n",
              " '__contains__',\n",
              " '__delattr__',\n",
              " '__dir__',\n",
              " '__doc__',\n",
              " '__eq__',\n",
              " '__format__',\n",
              " '__ge__',\n",
              " '__getattribute__',\n",
              " '__getitem__',\n",
              " '__getnewargs__',\n",
              " '__getstate__',\n",
              " '__gt__',\n",
              " '__hash__',\n",
              " '__init__',\n",
              " '__init_subclass__',\n",
              " '__iter__',\n",
              " '__le__',\n",
              " '__len__',\n",
              " '__lt__',\n",
              " '__mod__',\n",
              " '__mul__',\n",
              " '__ne__',\n",
              " '__new__',\n",
              " '__reduce__',\n",
              " '__reduce_ex__',\n",
              " '__repr__',\n",
              " '__rmod__',\n",
              " '__rmul__',\n",
              " '__setattr__',\n",
              " '__sizeof__',\n",
              " '__str__',\n",
              " '__subclasshook__',\n",
              " 'capitalize',\n",
              " 'casefold',\n",
              " 'center',\n",
              " 'count',\n",
              " 'encode',\n",
              " 'endswith',\n",
              " 'expandtabs',\n",
              " 'find',\n",
              " 'format',\n",
              " 'format_map',\n",
              " 'index',\n",
              " 'isalnum',\n",
              " 'isalpha',\n",
              " 'isascii',\n",
              " 'isdecimal',\n",
              " 'isdigit',\n",
              " 'isidentifier',\n",
              " 'islower',\n",
              " 'isnumeric',\n",
              " 'isprintable',\n",
              " 'isspace',\n",
              " 'istitle',\n",
              " 'isupper',\n",
              " 'join',\n",
              " 'ljust',\n",
              " 'lower',\n",
              " 'lstrip',\n",
              " 'maketrans',\n",
              " 'partition',\n",
              " 'removeprefix',\n",
              " 'removesuffix',\n",
              " 'replace',\n",
              " 'rfind',\n",
              " 'rindex',\n",
              " 'rjust',\n",
              " 'rpartition',\n",
              " 'rsplit',\n",
              " 'rstrip',\n",
              " 'split',\n",
              " 'splitlines',\n",
              " 'startswith',\n",
              " 'strip',\n",
              " 'swapcase',\n",
              " 'title',\n",
              " 'translate',\n",
              " 'upper',\n",
              " 'zfill']"
            ]
          },
          "execution_count": 17,
          "metadata": {},
          "output_type": "execute_result"
        }
      ],
      "source": [
        "dir('cualquier cosa')"
      ]
    },
    {
      "cell_type": "markdown",
      "metadata": {
        "id": "MIQ5z26Ux7AF"
      },
      "source": [
        "* Integers o Números enteros"
      ]
    },
    {
      "cell_type": "code",
      "execution_count": null,
      "metadata": {
        "colab": {
          "base_uri": "https://localhost:8080/"
        },
        "collapsed": true,
        "id": "KQJSlZ6hIvCq",
        "outputId": "82b90b9d-3794-424f-bb36-3ef9283c8a9c"
      },
      "outputs": [
        {
          "data": {
            "application/vnd.google.colaboratory.intrinsic+json": {
              "type": "string"
            },
            "text/plain": [
              "'texto x'"
            ]
          },
          "execution_count": 18,
          "metadata": {},
          "output_type": "execute_result"
        }
      ],
      "source": [
        "x"
      ]
    },
    {
      "cell_type": "code",
      "execution_count": null,
      "metadata": {
        "colab": {
          "base_uri": "https://localhost:8080/"
        },
        "collapsed": true,
        "id": "qQYFXEl5yPDB",
        "outputId": "f186b638-f009-4766-a822-f2af059159b9"
      },
      "outputs": [
        {
          "name": "stdout",
          "output_type": "stream",
          "text": [
            "5\n",
            "<class 'int'>\n"
          ]
        }
      ],
      "source": [
        "x = 5\n",
        "print(x)\n",
        "print(type(x))"
      ]
    },
    {
      "cell_type": "code",
      "execution_count": null,
      "metadata": {
        "colab": {
          "base_uri": "https://localhost:8080/"
        },
        "collapsed": true,
        "id": "Vy24mZKi8FKy",
        "outputId": "dd2a00da-b4bf-47b8-c83c-d13fc6cdd7d1"
      },
      "outputs": [
        {
          "name": "stdout",
          "output_type": "stream",
          "text": [
            "Sumando: 17\n",
            "Restando: -3\n",
            "Multiplicando: 70\n",
            "Dividiendo: 0.7\n",
            "Potencia: 10000000\n"
          ]
        }
      ],
      "source": [
        "num1 = 7\n",
        "num2 = 10\n",
        "\n",
        "print(\"Sumando:\", num1 + num2)\n",
        "print(\"Restando:\", num1 - num2)\n",
        "print(\"Multiplicando:\",num1 * num2)\n",
        "print(\"Dividiendo:\", num1 / num2)\n",
        "print(\"Potencia:\", num2 ** num1)"
      ]
    },
    {
      "cell_type": "code",
      "execution_count": null,
      "metadata": {
        "colab": {
          "base_uri": "https://localhost:8080/"
        },
        "collapsed": true,
        "id": "PSex9bVmYnMx",
        "outputId": "46ef8696-00ab-4935-b9a4-14f802599139"
      },
      "outputs": [
        {
          "data": {
            "text/plain": [
              "0"
            ]
          },
          "execution_count": 21,
          "metadata": {},
          "output_type": "execute_result"
        }
      ],
      "source": [
        "# Modular\n",
        "# si al hacer la división el residuo es 0\n",
        "\n",
        "46 % 2"
      ]
    },
    {
      "cell_type": "markdown",
      "metadata": {
        "id": "cAyqSADXyQny"
      },
      "source": [
        "* Float o Números con decimales"
      ]
    },
    {
      "cell_type": "code",
      "execution_count": null,
      "metadata": {
        "colab": {
          "base_uri": "https://localhost:8080/"
        },
        "collapsed": true,
        "id": "iSGE1wolyUdW",
        "outputId": "73f0cf75-00d9-4d2e-d57e-da502322e9da"
      },
      "outputs": [
        {
          "name": "stdout",
          "output_type": "stream",
          "text": [
            "1.7\n",
            "<class 'float'>\n"
          ]
        }
      ],
      "source": [
        "x = 1.7\n",
        "print(x)\n",
        "print(type(x))"
      ]
    },
    {
      "cell_type": "code",
      "execution_count": null,
      "metadata": {
        "colab": {
          "base_uri": "https://localhost:8080/"
        },
        "collapsed": true,
        "id": "lN8OjLsF2m33",
        "outputId": "96385d14-e622-46ea-d4a0-9ce746f1d426"
      },
      "outputs": [
        {
          "name": "stdout",
          "output_type": "stream",
          "text": [
            "1.7\n",
            "1\n"
          ]
        }
      ],
      "source": [
        "# str()\n",
        "# int()\n",
        "# float()\n",
        "# bool()\n",
        "\n",
        "print(x)\n",
        "print(int(x))"
      ]
    },
    {
      "cell_type": "code",
      "execution_count": null,
      "metadata": {
        "colab": {
          "base_uri": "https://localhost:8080/"
        },
        "collapsed": true,
        "id": "foIzXdElY_Id",
        "outputId": "aef38010-e7f9-4601-f464-3aa53944d6c6"
      },
      "outputs": [
        {
          "name": "stdout",
          "output_type": "stream",
          "text": [
            "555\n",
            "<class 'int'>\n"
          ]
        }
      ],
      "source": [
        "x = 555.67\n",
        "x = int(x)\n",
        "print(x)\n",
        "print(type(x))"
      ]
    },
    {
      "cell_type": "code",
      "execution_count": null,
      "metadata": {
        "colab": {
          "base_uri": "https://localhost:8080/"
        },
        "collapsed": true,
        "id": "JZGen4mp91qn",
        "outputId": "9679cf10-3d0e-489d-fb06-278d80864c0b"
      },
      "outputs": [
        {
          "data": {
            "text/plain": [
              "2.0"
            ]
          },
          "execution_count": 25,
          "metadata": {},
          "output_type": "execute_result"
        }
      ],
      "source": [
        "# Redondear\n",
        "# round(numero a redondear, numeros despues del punto)\n",
        "\n",
        "round(1.7, 0)"
      ]
    },
    {
      "cell_type": "markdown",
      "metadata": {
        "id": "iGXJzAmeycaz"
      },
      "source": [
        "* Booleanos - valores de Verdadero y Falso\n",
        "###### True y False, verdadero y falso, están resaltadas debido a que son palabras reservadas en python, es decir, tienen un significado dentro del programa\n"
      ]
    },
    {
      "cell_type": "code",
      "execution_count": null,
      "metadata": {
        "colab": {
          "base_uri": "https://localhost:8080/"
        },
        "collapsed": true,
        "id": "qFippNYZymEL",
        "outputId": "ef16829b-2690-40b3-e346-7db64efb19bb"
      },
      "outputs": [
        {
          "name": "stdout",
          "output_type": "stream",
          "text": [
            "True\n",
            "<class 'bool'>\n",
            "False\n",
            "<class 'bool'>\n"
          ]
        }
      ],
      "source": [
        "# True = ??\n",
        "\n",
        "x = True #1\n",
        "y = False #0\n",
        "\n",
        "print(x)\n",
        "print(type(x))\n",
        "\n",
        "print(y)\n",
        "print(type(y))"
      ]
    },
    {
      "cell_type": "code",
      "execution_count": null,
      "metadata": {
        "colab": {
          "base_uri": "https://localhost:8080/"
        },
        "collapsed": true,
        "id": "PgTev1e1zGhE",
        "outputId": "fc8c608c-449a-48a7-b597-0c05c5d1863e"
      },
      "outputs": [
        {
          "data": {
            "text/plain": [
              "True"
            ]
          },
          "execution_count": 27,
          "metadata": {},
          "output_type": "execute_result"
        }
      ],
      "source": [
        "# Menor o igual\n",
        "7 <= 7"
      ]
    },
    {
      "cell_type": "code",
      "execution_count": null,
      "metadata": {
        "colab": {
          "base_uri": "https://localhost:8080/"
        },
        "collapsed": true,
        "id": "1E8QttPp_lNp",
        "outputId": "30422545-16af-4f43-e099-386188cc13da"
      },
      "outputs": [
        {
          "data": {
            "text/plain": [
              "True"
            ]
          },
          "execution_count": 28,
          "metadata": {},
          "output_type": "execute_result"
        }
      ],
      "source": [
        "# es igual?\n",
        "6 == 6"
      ]
    },
    {
      "cell_type": "code",
      "execution_count": null,
      "metadata": {
        "colab": {
          "base_uri": "https://localhost:8080/"
        },
        "collapsed": true,
        "id": "XHTiP8QazIDH",
        "outputId": "0450fe11-c4f0-487e-e858-9bcc8c418d5d"
      },
      "outputs": [
        {
          "data": {
            "text/plain": [
              "True"
            ]
          },
          "execution_count": 29,
          "metadata": {},
          "output_type": "execute_result"
        }
      ],
      "source": [
        "# Verificar que no sea igual\n",
        "6 != 98"
      ]
    },
    {
      "cell_type": "code",
      "execution_count": null,
      "metadata": {
        "colab": {
          "base_uri": "https://localhost:8080/"
        },
        "collapsed": true,
        "id": "aEETdRnubDV1",
        "outputId": "267f2577-5559-450e-f6a8-3fd1f6e90a6d"
      },
      "outputs": [
        {
          "name": "stdout",
          "output_type": "stream",
          "text": [
            "Es mi número divisible entre 2? False\n"
          ]
        }
      ],
      "source": [
        "#Verificar el modular\n",
        "numero_revisar = 15\n",
        "\n",
        "print('Es mi número divisible entre 2?', (numero_revisar % 2) == 0)"
      ]
    },
    {
      "cell_type": "code",
      "execution_count": null,
      "metadata": {
        "colab": {
          "base_uri": "https://localhost:8080/"
        },
        "collapsed": true,
        "id": "DqrKegri3Tjb",
        "outputId": "9df901ae-6ea2-4aa1-ae86-d44c176e9505"
      },
      "outputs": [
        {
          "data": {
            "text/plain": [
              "False"
            ]
          },
          "execution_count": 31,
          "metadata": {},
          "output_type": "execute_result"
        }
      ],
      "source": [
        "#Comparar textos\n",
        "\"Naranja\" == \"naranja\""
      ]
    },
    {
      "cell_type": "code",
      "execution_count": null,
      "metadata": {
        "colab": {
          "base_uri": "https://localhost:8080/"
        },
        "collapsed": true,
        "id": "51WU_twZULK_",
        "outputId": "30a0437f-d321-4593-99cc-26eb294a06af"
      },
      "outputs": [
        {
          "data": {
            "text/plain": [
              "False"
            ]
          },
          "execution_count": 32,
          "metadata": {},
          "output_type": "execute_result"
        }
      ],
      "source": [
        "\"NARANJA\" > 'naranja'"
      ]
    },
    {
      "cell_type": "code",
      "execution_count": null,
      "metadata": {
        "colab": {
          "base_uri": "https://localhost:8080/"
        },
        "collapsed": true,
        "id": "MsEBnh-KACve",
        "outputId": "ac53cea6-a3b8-49ce-a96b-91ec7228438f"
      },
      "outputs": [
        {
          "name": "stdout",
          "output_type": "stream",
          "text": [
            "Evaluación inicial: False\n",
            "Evaluación final: True\n"
          ]
        }
      ],
      "source": [
        "#Compara textos\n",
        "n1 = \"Naranja\"\n",
        "n2 = \" naraNja \"\n",
        "\n",
        "print(\"Evaluación inicial:\", n1 == n2)\n",
        "# n1.lower().strip() == n2.lower().strip()\n",
        "\n",
        "eval2 = n1.lower().strip() == n2.lower().strip()\n",
        "\n",
        "print(\"Evaluación final:\", eval2)"
      ]
    },
    {
      "cell_type": "markdown",
      "metadata": {
        "id": "cRhJB0TqzJft"
      },
      "source": [
        "###### Convertir tipos de datos"
      ]
    },
    {
      "cell_type": "code",
      "execution_count": null,
      "metadata": {
        "colab": {
          "base_uri": "https://localhost:8080/"
        },
        "collapsed": true,
        "id": "4FyWdMPDziJC",
        "outputId": "fc2a36d4-49cf-4e68-8f00-c91d83f0c5b6"
      },
      "outputs": [
        {
          "name": "stdout",
          "output_type": "stream",
          "text": [
            "Valor booleano: True es <class 'bool'>\n",
            "Valor booleano convertido: 1 es <class 'int'>\n"
          ]
        }
      ],
      "source": [
        "# Los valores booleanos se pueden convertir a números !\n",
        "mi_dato = True\n",
        "print(f\"Valor booleano: {mi_dato} es {type(mi_dato)}\")\n",
        "\n",
        "mi_dato = int(mi_dato)\n",
        "print(f\"Valor booleano convertido: {mi_dato} es {type(mi_dato)}\")"
      ]
    },
    {
      "cell_type": "code",
      "execution_count": null,
      "metadata": {
        "colab": {
          "base_uri": "https://localhost:8080/"
        },
        "id": "VEiOTPJRPu-V",
        "outputId": "8ddf8671-e08a-4bd3-da21-269397d56f4e"
      },
      "outputs": [
        {
          "data": {
            "text/plain": [
              "0"
            ]
          },
          "execution_count": 35,
          "metadata": {},
          "output_type": "execute_result"
        }
      ],
      "source": [
        "int(False)"
      ]
    },
    {
      "cell_type": "code",
      "execution_count": null,
      "metadata": {
        "colab": {
          "base_uri": "https://localhost:8080/"
        },
        "id": "Uu6Zt7dG7Y82",
        "outputId": "7a2aa787-8ace-4d69-c33c-f7cbd29c2245"
      },
      "outputs": [
        {
          "data": {
            "text/plain": [
              "False"
            ]
          },
          "execution_count": 36,
          "metadata": {},
          "output_type": "execute_result"
        }
      ],
      "source": [
        "bool(0)"
      ]
    },
    {
      "cell_type": "code",
      "execution_count": null,
      "metadata": {
        "colab": {
          "base_uri": "https://localhost:8080/"
        },
        "id": "JY4YGg5EQEZ5",
        "outputId": "a9d9a85e-444f-4d66-d78f-de1dd073d5b6"
      },
      "outputs": [
        {
          "data": {
            "text/plain": [
              "0"
            ]
          },
          "execution_count": 37,
          "metadata": {},
          "output_type": "execute_result"
        }
      ],
      "source": [
        "int(bool(0))"
      ]
    },
    {
      "cell_type": "code",
      "execution_count": null,
      "metadata": {
        "colab": {
          "base_uri": "https://localhost:8080/"
        },
        "collapsed": true,
        "id": "mc2CxDED0g4j",
        "outputId": "c9dec8ab-3738-452d-90a9-26780aa33a55"
      },
      "outputs": [
        {
          "data": {
            "text/plain": [
              "3"
            ]
          },
          "execution_count": 38,
          "metadata": {},
          "output_type": "execute_result"
        }
      ],
      "source": [
        "# Podemos sumarlos sin convertirlos!\n",
        "# True para el programa es 1\n",
        "# False para el progama es 0\n",
        "True + False + True + True\n",
        "# 1 + 0 + 1 + 1 = 3"
      ]
    },
    {
      "cell_type": "code",
      "execution_count": null,
      "metadata": {
        "colab": {
          "base_uri": "https://localhost:8080/"
        },
        "id": "XCS46V6Z1udn",
        "outputId": "fcf0f954-b184-40a5-c2cc-18f2ce93692e"
      },
      "outputs": [
        {
          "name": "stdout",
          "output_type": "stream",
          "text": [
            "Valor decimal: 3.98 es <class 'float'>\n",
            "Valor decimal a entero: 3 es <class 'int'>\n"
          ]
        }
      ],
      "source": [
        "# Convertir los floats - decimales a enteros\n",
        "mi_float = 3.98\n",
        "print(f\"Valor decimal: {mi_float} es {type(mi_float)}\")\n",
        "\n",
        "mi_float = int(mi_float)\n",
        "print(f\"Valor decimal a entero: {mi_float} es {type(mi_float)}\")"
      ]
    },
    {
      "cell_type": "code",
      "execution_count": null,
      "metadata": {
        "colab": {
          "base_uri": "https://localhost:8080/"
        },
        "collapsed": true,
        "id": "NtReRO6l2gml",
        "outputId": "592a6154-4cc3-4865-edc4-3911afecbefc"
      },
      "outputs": [
        {
          "name": "stdout",
          "output_type": "stream",
          "text": [
            "Texto: Hola cómo están? es <class 'str'>\n"
          ]
        },
        {
          "ename": "ValueError",
          "evalue": "could not convert string to float: 'Hola cómo están?'",
          "output_type": "error",
          "traceback": [
            "\u001b[0;31m---------------------------------------------------------------------------\u001b[0m",
            "\u001b[0;31mValueError\u001b[0m                                Traceback (most recent call last)",
            "\u001b[0;32m<ipython-input-40-aa81e0028020>\u001b[0m in \u001b[0;36m<cell line: 0>\u001b[0;34m()\u001b[0m\n\u001b[1;32m      3\u001b[0m \u001b[0mprint\u001b[0m\u001b[0;34m(\u001b[0m\u001b[0;34mf\"Texto: {mi_nombre} es {type(mi_nombre)}\"\u001b[0m\u001b[0;34m)\u001b[0m\u001b[0;34m\u001b[0m\u001b[0;34m\u001b[0m\u001b[0m\n\u001b[1;32m      4\u001b[0m \u001b[0;34m\u001b[0m\u001b[0m\n\u001b[0;32m----> 5\u001b[0;31m \u001b[0mmi_nombre\u001b[0m \u001b[0;34m=\u001b[0m \u001b[0mfloat\u001b[0m\u001b[0;34m(\u001b[0m\u001b[0mmi_nombre\u001b[0m\u001b[0;34m)\u001b[0m\u001b[0;34m\u001b[0m\u001b[0;34m\u001b[0m\u001b[0m\n\u001b[0m\u001b[1;32m      6\u001b[0m \u001b[0mprint\u001b[0m\u001b[0;34m(\u001b[0m\u001b[0;34mf\"Texto: {mi_nombre} es {type(mi_nombre)}\"\u001b[0m\u001b[0;34m)\u001b[0m\u001b[0;34m\u001b[0m\u001b[0;34m\u001b[0m\u001b[0m\n",
            "\u001b[0;31mValueError\u001b[0m: could not convert string to float: 'Hola cómo están?'"
          ]
        }
      ],
      "source": [
        "# Hay conversiones que nos son posibles\n",
        "mi_nombre = \"Hola cómo están?\"\n",
        "print(f\"Texto: {mi_nombre} es {type(mi_nombre)}\")\n",
        "\n",
        "mi_nombre = float(mi_nombre)\n",
        "print(f\"Texto: {mi_nombre} es {type(mi_nombre)}\")"
      ]
    },
    {
      "cell_type": "code",
      "execution_count": null,
      "metadata": {
        "colab": {
          "base_uri": "https://localhost:8080/"
        },
        "id": "cEo7wpoeBHen",
        "outputId": "36b4d574-97c4-4411-aabb-9ffcd5bdfb12"
      },
      "outputs": [
        {
          "name": "stdout",
          "output_type": "stream",
          "text": [
            "<class 'str'>\n",
            "<class 'float'>\n",
            "55.0\n"
          ]
        }
      ],
      "source": [
        "entero = 55\n",
        "entero = str(entero)\n",
        "print(type(entero))\n",
        "\n",
        "entero = float(entero)\n",
        "print(type(entero))\n",
        "\n",
        "print(entero)"
      ]
    },
    {
      "cell_type": "code",
      "execution_count": null,
      "metadata": {
        "colab": {
          "base_uri": "https://localhost:8080/"
        },
        "id": "mrRb5Ev-BMaU",
        "outputId": "8ca037fb-2201-402b-beeb-8011314858fe"
      },
      "outputs": [
        {
          "name": "stdout",
          "output_type": "stream",
          "text": [
            "<class 'int'>\n"
          ]
        }
      ],
      "source": [
        "entero = int(entero)\n",
        "print(type(entero))"
      ]
    },
    {
      "cell_type": "code",
      "execution_count": null,
      "metadata": {
        "colab": {
          "base_uri": "https://localhost:8080/"
        },
        "id": "QUfg9u1YBRl2",
        "outputId": "1fc710c7-bf4f-4d95-d183-7790b8ad913a"
      },
      "outputs": [
        {
          "name": "stdout",
          "output_type": "stream",
          "text": [
            "<class 'float'> 55.0\n"
          ]
        }
      ],
      "source": [
        "entero = float(entero)\n",
        "print(type(entero), entero)"
      ]
    },
    {
      "cell_type": "code",
      "execution_count": null,
      "metadata": {
        "colab": {
          "base_uri": "https://localhost:8080/"
        },
        "collapsed": true,
        "id": "YOxdspgSBzTW",
        "outputId": "e9a3b151-e8d2-4b1c-f32f-8e414141c380"
      },
      "outputs": [
        {
          "name": "stdout",
          "output_type": "stream",
          "text": [
            "55555555555555555555\n"
          ]
        }
      ],
      "source": [
        "# Ejemplo string\n",
        "x = 55\n",
        "# x * 2\n",
        "print(str(x)*10)"
      ]
    },
    {
      "cell_type": "markdown",
      "metadata": {
        "id": "XkiKlYPl4Lgj"
      },
      "source": [
        "### Contenedores - Estructuras de datos"
      ]
    },
    {
      "cell_type": "markdown",
      "metadata": {
        "id": "dtCgCHVD5MBY"
      },
      "source": [
        "* Los contenedores se usan para almacenar colecciones de datos, por ejemplo una lista de números, nombres u otros"
      ]
    },
    {
      "cell_type": "markdown",
      "metadata": {
        "id": "RrnogNGFDySL"
      },
      "source": [
        "###### Listas\n",
        "* Pueden cambiar\n",
        "* Pueden tener duplicados\n",
        "* Pueden almacenar disintos tipos de datos\n",
        "* Se crean usando corchetes cuadrados [ ] , sus elementos se separan usando comas \",\"\n",
        "* Ordenadas, cuando añadimos elementos a una lista o iteramos sobre esta, la lista mantiene el orden."
      ]
    },
    {
      "cell_type": "code",
      "execution_count": null,
      "metadata": {
        "colab": {
          "base_uri": "https://localhost:8080/"
        },
        "collapsed": true,
        "id": "_WhZDXZSDD1M",
        "outputId": "0e3186ee-aa6c-4ffe-9ae7-06867693e896"
      },
      "outputs": [
        {
          "name": "stdout",
          "output_type": "stream",
          "text": [
            "[]\n",
            "<class 'list'>\n"
          ]
        }
      ],
      "source": [
        "mi_primera_lista = []\n",
        "\n",
        "print(mi_primera_lista)\n",
        "\n",
        "print(type(mi_primera_lista))"
      ]
    },
    {
      "cell_type": "code",
      "execution_count": null,
      "metadata": {
        "colab": {
          "base_uri": "https://localhost:8080/"
        },
        "collapsed": true,
        "id": "vjYfkU8JESDq",
        "outputId": "b255c00f-b221-4247-de4e-30fd98caa25a"
      },
      "outputs": [
        {
          "name": "stdout",
          "output_type": "stream",
          "text": [
            "[3, 1, 2, 3, 4, 5]\n"
          ]
        }
      ],
      "source": [
        "lista_numeros = [3, 1, 2, 3, 4, 5]\n",
        "print(lista_numeros)"
      ]
    },
    {
      "cell_type": "code",
      "execution_count": null,
      "metadata": {
        "colab": {
          "base_uri": "https://localhost:8080/"
        },
        "collapsed": true,
        "id": "vOPjfq8R-KBP",
        "outputId": "35e06654-9b0a-4682-ddff-fbb3414ce6bc"
      },
      "outputs": [
        {
          "data": {
            "text/plain": [
              "['__add__',\n",
              " '__class__',\n",
              " '__class_getitem__',\n",
              " '__contains__',\n",
              " '__delattr__',\n",
              " '__delitem__',\n",
              " '__dir__',\n",
              " '__doc__',\n",
              " '__eq__',\n",
              " '__format__',\n",
              " '__ge__',\n",
              " '__getattribute__',\n",
              " '__getitem__',\n",
              " '__getstate__',\n",
              " '__gt__',\n",
              " '__hash__',\n",
              " '__iadd__',\n",
              " '__imul__',\n",
              " '__init__',\n",
              " '__init_subclass__',\n",
              " '__iter__',\n",
              " '__le__',\n",
              " '__len__',\n",
              " '__lt__',\n",
              " '__mul__',\n",
              " '__ne__',\n",
              " '__new__',\n",
              " '__reduce__',\n",
              " '__reduce_ex__',\n",
              " '__repr__',\n",
              " '__reversed__',\n",
              " '__rmul__',\n",
              " '__setattr__',\n",
              " '__setitem__',\n",
              " '__sizeof__',\n",
              " '__str__',\n",
              " '__subclasshook__',\n",
              " 'append',\n",
              " 'clear',\n",
              " 'copy',\n",
              " 'count',\n",
              " 'extend',\n",
              " 'index',\n",
              " 'insert',\n",
              " 'pop',\n",
              " 'remove',\n",
              " 'reverse',\n",
              " 'sort']"
            ]
          },
          "execution_count": 48,
          "metadata": {},
          "output_type": "execute_result"
        }
      ],
      "source": [
        "dir(lista_numeros)"
      ]
    },
    {
      "cell_type": "code",
      "execution_count": null,
      "metadata": {
        "colab": {
          "base_uri": "https://localhost:8080/"
        },
        "id": "3eiMSck2qhxN",
        "outputId": "0d6f1350-01b5-41eb-9cc9-bb169ed1adfc"
      },
      "outputs": [
        {
          "name": "stdout",
          "output_type": "stream",
          "text": [
            "Help on method_descriptor:\n",
            "\n",
            "sort(self, /, *, key=None, reverse=False) unbound builtins.list method\n",
            "    Sort the list in ascending order and return None.\n",
            "    \n",
            "    The sort is in-place (i.e. the list itself is modified) and stable (i.e. the\n",
            "    order of two equal elements is maintained).\n",
            "    \n",
            "    If a key function is given, apply it once to each list item and sort them,\n",
            "    ascending or descending, according to their function values.\n",
            "    \n",
            "    The reverse flag can be set to sort in descending order.\n",
            "\n"
          ]
        }
      ],
      "source": [
        "help(list.sort)\n",
        "# help(str.replace)"
      ]
    },
    {
      "cell_type": "code",
      "execution_count": null,
      "metadata": {
        "colab": {
          "base_uri": "https://localhost:8080/"
        },
        "id": "RVzu2ylJRAU3",
        "outputId": "501a0e44-e3f2-4f4a-d10f-06fb2495c12f"
      },
      "outputs": [
        {
          "name": "stdout",
          "output_type": "stream",
          "text": [
            "[3, 8, 6, 5, 4, 1]\n",
            "[1, 3, 4, 5, 6, 8]\n",
            "[8, 6, 5, 4, 3, 1]\n"
          ]
        }
      ],
      "source": [
        "# Algunos metodos para ordenar listas\n",
        "lista_numeros = [3,8,6,5,4,1]\n",
        "\n",
        "print(lista_numeros)\n",
        "lista_numeros.sort()\n",
        "\n",
        "print(lista_numeros)\n",
        "\n",
        "lista_numeros.reverse()\n",
        "\n",
        "print(lista_numeros)"
      ]
    },
    {
      "cell_type": "code",
      "execution_count": null,
      "metadata": {
        "colab": {
          "base_uri": "https://localhost:8080/"
        },
        "id": "-XS6nIZh-wee",
        "outputId": "02459e2b-e447-44bf-e33c-dad7c8dfbe79"
      },
      "outputs": [
        {
          "name": "stdout",
          "output_type": "stream",
          "text": [
            "[1, 3, 4, 5, 6, 8]\n"
          ]
        }
      ],
      "source": [
        "lista_numeros = [3,8,6,5,4,1]\n",
        "\n",
        "lista_numeros.sort(reverse=False)\n",
        "\n",
        "print(lista_numeros)"
      ]
    },
    {
      "cell_type": "code",
      "execution_count": null,
      "metadata": {
        "colab": {
          "base_uri": "https://localhost:8080/"
        },
        "collapsed": true,
        "id": "rmqSUnD5EY0d",
        "outputId": "74ae579a-d4c7-4a76-a763-5d2eb100e0f1"
      },
      "outputs": [
        {
          "name": "stdout",
          "output_type": "stream",
          "text": [
            "['A', 1, 2, 2.4, 'B', False, ['Lulo', 'Fresa', 'Naranja']]\n",
            "<class 'list'>\n"
          ]
        }
      ],
      "source": [
        "lista_mixta = [\"A\", 1, 2, 2.4, \"B\", False, ['Lulo','Fresa','Naranja']]\n",
        "print(lista_mixta)\n",
        "print(type(lista_mixta))"
      ]
    },
    {
      "cell_type": "code",
      "execution_count": null,
      "metadata": {
        "id": "eOOLxmzJEaBb"
      },
      "outputs": [],
      "source": [
        "# Métodos para listas\n",
        "\n",
        "# Los métodos son funciones que alteran los contenidos de nuestra estructura de datos\n",
        "# Estructra de datos = algo que almacena datos\n",
        "# Usualmente funciona de la siguiente forma:\n",
        "# estructura_de_datos.método()"
      ]
    },
    {
      "cell_type": "code",
      "execution_count": null,
      "metadata": {
        "colab": {
          "base_uri": "https://localhost:8080/"
        },
        "collapsed": true,
        "id": "C_pmRospEdow",
        "outputId": "4da5f2d1-5c1a-4e06-95aa-bb62d778fbf4"
      },
      "outputs": [
        {
          "name": "stdout",
          "output_type": "stream",
          "text": [
            "[1, 2, 3, 4]\n",
            "[1, 2, 3, 4, 80]\n",
            "[1, 2, 3, 4, 80, 7]\n"
          ]
        }
      ],
      "source": [
        "# Añadir un elemento al final de la lista\n",
        "# usamos -> .append()\n",
        "lista = [1, 2, 3, 4]\n",
        "print(lista)\n",
        "\n",
        "lista.append(80)\n",
        "print(lista)\n",
        "\n",
        "lista.append(7)\n",
        "print(lista)"
      ]
    },
    {
      "cell_type": "code",
      "execution_count": null,
      "metadata": {
        "colab": {
          "base_uri": "https://localhost:8080/"
        },
        "collapsed": true,
        "id": "iKcQJypAE_SG",
        "outputId": "b98b1efd-cc74-4c8e-b73f-27c0678de897"
      },
      "outputs": [
        {
          "name": "stdout",
          "output_type": "stream",
          "text": [
            "[1, 2, 3, 4, 80, 7]\n",
            "[15, 1, 2, 3, 4, 80, 7]\n"
          ]
        }
      ],
      "source": [
        "# [1, 2, 3, 4, 80, 7]\n",
        "\n",
        "# [0, 1, 2, 3, 4, 5]\n",
        "\n",
        "#Añadir un elemento en un índice específico\n",
        "#usamos -> .insert(índice, elemento)\n",
        "\n",
        "print(lista)\n",
        "lista.insert(0, 15)\n",
        "print(lista)"
      ]
    },
    {
      "cell_type": "code",
      "execution_count": null,
      "metadata": {
        "colab": {
          "base_uri": "https://localhost:8080/"
        },
        "collapsed": true,
        "id": "3yIzbXmhENBv",
        "outputId": "d8880646-1eba-4b62-8083-cc35cf567c0e"
      },
      "outputs": [
        {
          "name": "stdout",
          "output_type": "stream",
          "text": [
            "[15, 1, 2, 3, 4, 80, 7]\n",
            "[15, 1, 2, 33, 3, 4, 80, 7]\n"
          ]
        }
      ],
      "source": [
        "# [15, 1, 2, 3, 4, 80, 7]\n",
        "\n",
        "# [0 , 1, 2, 3, 4, 5, 6]\n",
        "\n",
        "# [15, 1, 2, 33, 3, 4, 80, 7]\n",
        "print(lista)\n",
        "lista.insert(3, 33)\n",
        "print(lista)"
      ]
    },
    {
      "cell_type": "code",
      "execution_count": null,
      "metadata": {
        "colab": {
          "base_uri": "https://localhost:8080/"
        },
        "collapsed": true,
        "id": "Nhy9G9P4dueF",
        "outputId": "d01aaa33-b0be-4d0d-a20e-34a02d86a277"
      },
      "outputs": [
        {
          "name": "stdout",
          "output_type": "stream",
          "text": [
            "[0, 5, 4, 1, 2]\n"
          ]
        }
      ],
      "source": [
        "nueva_lista = [0, 5, 4, 1, 2]\n",
        "print(nueva_lista)"
      ]
    },
    {
      "cell_type": "code",
      "execution_count": null,
      "metadata": {
        "colab": {
          "base_uri": "https://localhost:8080/"
        },
        "collapsed": true,
        "id": "Mhq6b_WFFAuN",
        "outputId": "7449d691-367f-4cc9-80c6-e7defd6c5699"
      },
      "outputs": [
        {
          "data": {
            "text/plain": [
              "5"
            ]
          },
          "execution_count": 58,
          "metadata": {},
          "output_type": "execute_result"
        }
      ],
      "source": [
        "# Saber el largo de una lista\n",
        "# usamos -> len()\n",
        "len(nueva_lista)"
      ]
    },
    {
      "cell_type": "code",
      "execution_count": null,
      "metadata": {
        "colab": {
          "base_uri": "https://localhost:8080/"
        },
        "collapsed": true,
        "id": "rTKRKuU_Efnz",
        "outputId": "63c5c5bd-d512-4ae7-d514-399ce7a363d2"
      },
      "outputs": [
        {
          "data": {
            "text/plain": [
              "12"
            ]
          },
          "execution_count": 59,
          "metadata": {},
          "output_type": "execute_result"
        }
      ],
      "source": [
        "#Sumar una lista\n",
        "sum(nueva_lista)"
      ]
    },
    {
      "cell_type": "code",
      "execution_count": null,
      "metadata": {
        "colab": {
          "base_uri": "https://localhost:8080/"
        },
        "collapsed": true,
        "id": "i5vS9UudEozS",
        "outputId": "f17ceb63-d710-4bad-a3d0-10f11aef0df1"
      },
      "outputs": [
        {
          "data": {
            "text/plain": [
              "2.4"
            ]
          },
          "execution_count": 60,
          "metadata": {},
          "output_type": "execute_result"
        }
      ],
      "source": [
        "#Promedio\n",
        "sum(nueva_lista) / len(nueva_lista)"
      ]
    },
    {
      "cell_type": "code",
      "execution_count": null,
      "metadata": {
        "colab": {
          "base_uri": "https://localhost:8080/"
        },
        "id": "aH_j6_6geJZL",
        "outputId": "f00dd2f1-7a30-4e2a-c73c-f751449056b3"
      },
      "outputs": [
        {
          "name": "stdout",
          "output_type": "stream",
          "text": [
            "[0, 5, 4, 1, 2]\n",
            "Lista después del pop: [0, 5, 4, 1]\n",
            "Elemento popeado: 2\n"
          ]
        }
      ],
      "source": [
        "nueva_lista = [0, 5, 4, 1, 2]\n",
        "\n",
        "# Elminar el último elemento\n",
        "# Guarda el elemento\n",
        "print(nueva_lista)\n",
        "# nueva_lista.pop()\n",
        "elemento_eliminado = nueva_lista.pop()\n",
        "\n",
        "print('Lista después del pop:', nueva_lista)\n",
        "print('Elemento popeado:', elemento_eliminado)"
      ]
    },
    {
      "cell_type": "code",
      "execution_count": null,
      "metadata": {
        "colab": {
          "base_uri": "https://localhost:8080/"
        },
        "collapsed": true,
        "id": "CeHncU-ceb-c",
        "outputId": "40e2d678-d692-4da6-a054-a982a2621a11"
      },
      "outputs": [
        {
          "name": "stdout",
          "output_type": "stream",
          "text": [
            "[0, 5, 4, 1]\n",
            "[0, 4, 1]\n"
          ]
        }
      ],
      "source": [
        "# Podemos especificar que queremos borrar\n",
        "print(nueva_lista)\n",
        "nueva_lista.remove(5)\n",
        "print(nueva_lista)"
      ]
    },
    {
      "cell_type": "code",
      "execution_count": null,
      "metadata": {
        "colab": {
          "base_uri": "https://localhost:8080/"
        },
        "collapsed": true,
        "id": "NlPy4Q1JFJh_",
        "outputId": "45bdb072-f076-4274-c4f6-b831b495a527"
      },
      "outputs": [
        {
          "name": "stdout",
          "output_type": "stream",
          "text": [
            "[0, 5, 5, 5, 4, 1, 2]\n",
            "[0, 5, 5, 4, 1, 2]\n",
            "[0, 5, 4, 1, 2]\n",
            "[0, 4, 1, 2]\n"
          ]
        }
      ],
      "source": [
        "nueva_lista = [0, 5, 5, 5, 4, 1, 2]\n",
        "\n",
        "print(nueva_lista)\n",
        "nueva_lista.remove(5)\n",
        "print(nueva_lista)\n",
        "nueva_lista.remove(5)\n",
        "print(nueva_lista)\n",
        "nueva_lista.remove(5)\n",
        "print(nueva_lista)"
      ]
    },
    {
      "cell_type": "code",
      "execution_count": null,
      "metadata": {
        "collapsed": true,
        "id": "gFTK1QkgFXQ2"
      },
      "outputs": [],
      "source": [
        "# sum(['a', 1, 3])"
      ]
    },
    {
      "cell_type": "code",
      "execution_count": null,
      "metadata": {
        "colab": {
          "base_uri": "https://localhost:8080/"
        },
        "id": "W1Q6Ve1yFCfa",
        "outputId": "9491351f-a731-4251-b47e-021c73fc2c85"
      },
      "outputs": [
        {
          "name": "stdout",
          "output_type": "stream",
          "text": [
            "[15, 1, 2, 33, 3, 4, 80, 7]\n",
            "Pimer elemento de la lista:  15\n",
            "Elemento 6 de la lista:  80\n",
            "Último elemento de la lista:  7\n"
          ]
        }
      ],
      "source": [
        "# Acceder a elementos en la lista usando su índice\n",
        "print(lista)\n",
        "# Accedemos al primero\n",
        "print(\"Pimer elemento de la lista: \", lista[0])\n",
        "\n",
        "# Accedemos al n elemento\n",
        "n_elemento = 6\n",
        "print(f\"Elemento {n_elemento} de la lista: \", lista[n_elemento])\n",
        "\n",
        "# Accedemos al último\n",
        "print(\"Último elemento de la lista: \", lista[-1])"
      ]
    },
    {
      "cell_type": "code",
      "execution_count": null,
      "metadata": {
        "colab": {
          "base_uri": "https://localhost:8080/"
        },
        "id": "w02AokvgScRt",
        "outputId": "9e8b261b-989d-4164-83e2-ce12894a1cd1"
      },
      "outputs": [
        {
          "data": {
            "text/plain": [
              "8"
            ]
          },
          "execution_count": 66,
          "metadata": {},
          "output_type": "execute_result"
        }
      ],
      "source": [
        "len(lista) #-1"
      ]
    },
    {
      "cell_type": "code",
      "execution_count": null,
      "metadata": {
        "colab": {
          "base_uri": "https://localhost:8080/"
        },
        "id": "UXnKzAUISftq",
        "outputId": "ee193d30-ed48-4b94-bdd0-dab08dace15a"
      },
      "outputs": [
        {
          "ename": "IndexError",
          "evalue": "list index out of range",
          "output_type": "error",
          "traceback": [
            "\u001b[0;31m---------------------------------------------------------------------------\u001b[0m",
            "\u001b[0;31mIndexError\u001b[0m                                Traceback (most recent call last)",
            "\u001b[0;32m<ipython-input-67-00408833c594>\u001b[0m in \u001b[0;36m<cell line: 0>\u001b[0;34m()\u001b[0m\n\u001b[0;32m----> 1\u001b[0;31m \u001b[0mlista\u001b[0m\u001b[0;34m[\u001b[0m\u001b[0;36m8\u001b[0m\u001b[0;34m]\u001b[0m\u001b[0;34m\u001b[0m\u001b[0;34m\u001b[0m\u001b[0m\n\u001b[0m",
            "\u001b[0;31mIndexError\u001b[0m: list index out of range"
          ]
        }
      ],
      "source": [
        "lista[8]"
      ]
    },
    {
      "cell_type": "code",
      "execution_count": null,
      "metadata": {
        "id": "7Sn8URnbfX6U",
        "colab": {
          "base_uri": "https://localhost:8080/",
          "height": 165
        },
        "outputId": "f2ace5bf-3120-4f00-81f0-1b0f31bc6692"
      },
      "outputs": [
        {
          "output_type": "error",
          "ename": "NameError",
          "evalue": "name 'lista' is not defined",
          "traceback": [
            "\u001b[0;31m---------------------------------------------------------------------------\u001b[0m",
            "\u001b[0;31mNameError\u001b[0m                                 Traceback (most recent call last)",
            "\u001b[0;32m<ipython-input-1-8abc6299738a>\u001b[0m in \u001b[0;36m<cell line: 0>\u001b[0;34m()\u001b[0m\n\u001b[1;32m      1\u001b[0m \u001b[0;31m# Jugar con esto para traer elementos de la lista\u001b[0m\u001b[0;34m\u001b[0m\u001b[0;34m\u001b[0m\u001b[0m\n\u001b[0;32m----> 2\u001b[0;31m \u001b[0mlista\u001b[0m\u001b[0;34m[\u001b[0m\u001b[0;36m5\u001b[0m\u001b[0;34m]\u001b[0m\u001b[0;34m\u001b[0m\u001b[0;34m\u001b[0m\u001b[0m\n\u001b[0m",
            "\u001b[0;31mNameError\u001b[0m: name 'lista' is not defined"
          ]
        }
      ],
      "source": [
        "# Jugar con esto para traer elementos de la lista\n",
        "lista[5]"
      ]
    },
    {
      "cell_type": "code",
      "execution_count": null,
      "metadata": {
        "id": "Ud65d4QoDFa0"
      },
      "outputs": [],
      "source": [
        "# Cambiar un elemento en específico dentro de mi lista\n",
        "print(lista)\n",
        "lista[6] = 8\n",
        "print(lista)"
      ]
    },
    {
      "cell_type": "code",
      "execution_count": null,
      "metadata": {
        "id": "3pi6wzRLFFGa"
      },
      "outputs": [],
      "source": [
        "# Podemos seleccionar varios elementos en una lista\n",
        "# [posición_de_inicio : posición_final]\n",
        "# la posición de inicio es inclusiva\n",
        "# la posición final es no inclusiva !!!\n",
        "# No inclusivo significa que el resultado no retornara\n",
        "# el elemento en esa posición\n",
        "\n",
        "# Ejemplos:\n",
        "print(\"Esta es la lista original\", lista)\n",
        "# En este caso vamos del índice 0 al 1\n",
        "print(lista[0:2]) # 2 - 1 es decir 1\n",
        "\n",
        "# # En este caso dejar un espacio significa todo hasta\n",
        "# # el indice 5\n",
        "print(lista[:5])\n",
        "\n",
        "# # En este caso dejar una espacio significa todo después\n",
        "# # del indice tres\n",
        "print(lista[3:])\n",
        "\n",
        "# # Podemos saltar elementos en la lista\n",
        "print(lista[::2])\n",
        "# # lista[inicio:final:paso]\n",
        "\n",
        "#Invertir la lista\n",
        "print(lista[::-1])"
      ]
    },
    {
      "cell_type": "markdown",
      "metadata": {
        "id": "jQmWJXgdF_nN"
      },
      "source": [
        "###### Listas anidadas\n",
        "* En las listas anidadas cada elemento de una lista es otra lista."
      ]
    },
    {
      "cell_type": "code",
      "execution_count": null,
      "metadata": {
        "id": "WX_wxT2qGGb3",
        "colab": {
          "base_uri": "https://localhost:8080/"
        },
        "outputId": "617c8df0-80e6-422b-b9e5-3f1d1c6c3afc"
      },
      "outputs": [
        {
          "output_type": "stream",
          "name": "stdout",
          "text": [
            "[[1, 2], [2, 3], [3, 3]]\n",
            "<class 'list'>\n",
            "[3, 3]\n"
          ]
        }
      ],
      "source": [
        "lista_anidada = [ [1,2] , [2,3] , [3,3] ]\n",
        "print(lista_anidada)\n",
        "print(type(lista_anidada))\n",
        "print(lista_anidada[2])"
      ]
    },
    {
      "cell_type": "code",
      "execution_count": null,
      "metadata": {
        "id": "9fCDXeS6GJk8"
      },
      "outputs": [],
      "source": [
        "# lista_anidada[0] va a retornar la primera lista de la lista anidada\n",
        "# Sabiendo esto, podemos tratar esta lista_anidada[0] como\n",
        "# otra lista y seguir accediendo a ella\n",
        "print(lista_anidada[0])\n",
        "print(lista_anidada[0][0])"
      ]
    },
    {
      "cell_type": "code",
      "execution_count": null,
      "metadata": {
        "id": "ZXW9amxvHgvP",
        "colab": {
          "base_uri": "https://localhost:8080/"
        },
        "outputId": "8a1aab64-2259-49c3-c240-558a594e31f4"
      },
      "outputs": [
        {
          "output_type": "stream",
          "name": "stdout",
          "text": [
            "[[1, 2], [2, 3], [3, 3]]\n",
            "[[2, 2], [2, 3], [3, 3]]\n",
            "[[2, 2], [2, 3], [3, 3]]\n"
          ]
        }
      ],
      "source": [
        "#Redefinir un elemento\n",
        "print(lista_anidada)\n",
        "lista_anidada_2 = lista_anidada.copy()\n",
        "\n",
        "lista_anidada_2[0][0] = 2\n",
        "print(lista_anidada_2)"
      ]
    },
    {
      "cell_type": "code",
      "execution_count": null,
      "metadata": {
        "id": "kA631O8LINVJ"
      },
      "outputs": [],
      "source": [
        "# Añadir elementos\n",
        "print(lista_anidada)\n",
        "lista_anidada.append([4,5])\n",
        "print(lista_anidada)"
      ]
    },
    {
      "cell_type": "code",
      "execution_count": null,
      "metadata": {
        "id": "xdL6XGnGIVZ8"
      },
      "outputs": [],
      "source": [
        "print(lista_anidada)\n",
        "lista_anidada.insert(2, [22,55])\n",
        "print(lista_anidada)"
      ]
    },
    {
      "cell_type": "code",
      "source": [
        "lista_anidada = [[1, 2, 3], [4, 5, 6]]\n",
        "lista_anidada_2 = lista_anidada.copy()  # Copia el primer nivel\n",
        "\n",
        "lista_anidada_2[0][0] = 99  # Modificamos un subelemento\n",
        "\n",
        "print(lista_anidada)   # ¡Aún cambia!\n",
        "print(lista_anidada_2)\n"
      ],
      "metadata": {
        "colab": {
          "base_uri": "https://localhost:8080/"
        },
        "id": "KBAnc9spMnzW",
        "outputId": "d65ab184-0c10-4bcb-fc58-7124f093a447"
      },
      "execution_count": null,
      "outputs": [
        {
          "output_type": "stream",
          "name": "stdout",
          "text": [
            "[[99, 2, 3], [4, 5, 6]]\n",
            "[[99, 2, 3], [4, 5, 6]]\n"
          ]
        }
      ]
    },
    {
      "cell_type": "code",
      "source": [
        "import copy\n",
        "\n",
        "lista_anidada = [[1, 2, 3], [4, 5, 6]]\n",
        "lista_anidada_2 = copy.deepcopy(lista_anidada)  # Copia toda la estructura\n",
        "\n",
        "lista_anidada_2[0][0] = 99  # Modificamos la copia\n",
        "\n",
        "print(lista_anidada)   # ¡Ahora NO cambia!\n",
        "print(lista_anidada_2)\n"
      ],
      "metadata": {
        "colab": {
          "base_uri": "https://localhost:8080/"
        },
        "id": "n8ibiTemM4JT",
        "outputId": "17ae7bf8-d35f-49a2-ba9c-d39cee671620"
      },
      "execution_count": null,
      "outputs": [
        {
          "output_type": "stream",
          "name": "stdout",
          "text": [
            "[[1, 2, 3], [4, 5, 6]]\n",
            "[[99, 2, 3], [4, 5, 6]]\n"
          ]
        }
      ]
    },
    {
      "cell_type": "markdown",
      "metadata": {
        "id": "iYnCtqwbG_fX"
      },
      "source": [
        "###### Tuplas\n",
        "* No se pueden cambiar\n",
        "* Pueden tener tipos de datos mixtos\n",
        "* Pueden declararse usando ( ) o tuple( )\n",
        "* Ordenadas"
      ]
    },
    {
      "cell_type": "code",
      "execution_count": null,
      "metadata": {
        "id": "y73HixkMHMq-",
        "colab": {
          "base_uri": "https://localhost:8080/"
        },
        "outputId": "b324101c-2f64-4e1a-b970-594f06e4d52e"
      },
      "outputs": [
        {
          "output_type": "stream",
          "name": "stdout",
          "text": [
            "(1, 2, 3, 4)\n",
            "<class 'tuple'>\n"
          ]
        }
      ],
      "source": [
        "mi_tupla = (1, 2, 3, 4)\n",
        "print(mi_tupla)\n",
        "print(type(mi_tupla))"
      ]
    },
    {
      "cell_type": "code",
      "execution_count": null,
      "metadata": {
        "id": "Hue53rB7USD7"
      },
      "outputs": [],
      "source": [
        "tupla2 = (5,3,6,1)\n",
        "print(tupla2)"
      ]
    },
    {
      "cell_type": "code",
      "execution_count": null,
      "metadata": {
        "id": "p8yz2YFcHd0s"
      },
      "outputs": [],
      "source": [
        "#Accedemos a los elementos de la tupla de la misma manera que accedemos a los de una lista\n",
        "#Primer elemento\n",
        "print(mi_tupla[0])\n",
        "\n",
        "#Último elemento\n",
        "print(mi_tupla[-1])\n",
        "\n",
        "#Elementos del 1 al 2\n",
        "print(mi_tupla[1:3])"
      ]
    },
    {
      "cell_type": "code",
      "execution_count": null,
      "metadata": {
        "colab": {
          "base_uri": "https://localhost:8080/"
        },
        "collapsed": true,
        "id": "7ab54kZ3UmLY",
        "outputId": "bc107685-d91f-4889-cd9e-f5138e109245"
      },
      "outputs": [
        {
          "ename": "NameError",
          "evalue": "name 'mi_tupla' is not defined",
          "output_type": "error",
          "traceback": [
            "\u001b[0;31m---------------------------------------------------------------------------\u001b[0m",
            "\u001b[0;31mNameError\u001b[0m                                 Traceback (most recent call last)",
            "\u001b[0;32m<ipython-input-68-17780f16db0a>\u001b[0m in \u001b[0;36m<cell line: 0>\u001b[0;34m()\u001b[0m\n\u001b[0;32m----> 1\u001b[0;31m \u001b[0mmi_tupla\u001b[0m\u001b[0;34m[\u001b[0m\u001b[0;34m-\u001b[0m\u001b[0;36m1\u001b[0m\u001b[0;34m]\u001b[0m \u001b[0;34m=\u001b[0m \u001b[0;36m10\u001b[0m\u001b[0;34m\u001b[0m\u001b[0;34m\u001b[0m\u001b[0m\n\u001b[0m",
            "\u001b[0;31mNameError\u001b[0m: name 'mi_tupla' is not defined"
          ]
        }
      ],
      "source": [
        "mi_tupla[-1] = 10"
      ]
    },
    {
      "cell_type": "code",
      "execution_count": null,
      "metadata": {
        "id": "oipXAQyvfE0W"
      },
      "outputs": [],
      "source": [
        "#Creando una tupla\n",
        "mi_tupla2 = tuple(range(1,11,2))\n",
        "print(mi_tupla2)"
      ]
    },
    {
      "cell_type": "code",
      "execution_count": null,
      "metadata": {
        "id": "VEnwFo14gE7W"
      },
      "outputs": [],
      "source": [
        "# Accediendo a los elementos de la tupla\n",
        "print(mi_tupla2[0:12])"
      ]
    },
    {
      "cell_type": "code",
      "execution_count": null,
      "metadata": {
        "id": "n7JAkCfmgaiq"
      },
      "outputs": [],
      "source": [
        "mi_lista2 = [1,2,3,4,5,6,7,8,9]\n",
        "print(mi_lista2)"
      ]
    },
    {
      "cell_type": "code",
      "execution_count": null,
      "metadata": {
        "colab": {
          "base_uri": "https://localhost:8080/"
        },
        "collapsed": true,
        "id": "8hRSPJ8CgnFF",
        "outputId": "2dfda274-43c9-4837-8b99-e712b70c82ef"
      },
      "outputs": [
        {
          "ename": "NameError",
          "evalue": "name 'mi_lista2' is not defined",
          "output_type": "error",
          "traceback": [
            "\u001b[0;31m---------------------------------------------------------------------------\u001b[0m",
            "\u001b[0;31mNameError\u001b[0m                                 Traceback (most recent call last)",
            "\u001b[0;32m<ipython-input-69-2e733e0b9902>\u001b[0m in \u001b[0;36m<cell line: 0>\u001b[0;34m()\u001b[0m\n\u001b[0;32m----> 1\u001b[0;31m \u001b[0mlen\u001b[0m\u001b[0;34m(\u001b[0m\u001b[0mmi_lista2\u001b[0m\u001b[0;34m)\u001b[0m\u001b[0;34m\u001b[0m\u001b[0;34m\u001b[0m\u001b[0m\n\u001b[0m",
            "\u001b[0;31mNameError\u001b[0m: name 'mi_lista2' is not defined"
          ]
        }
      ],
      "source": [
        "len(mi_lista2)"
      ]
    },
    {
      "cell_type": "code",
      "execution_count": null,
      "metadata": {
        "id": "yNTeSgpogsaz"
      },
      "outputs": [],
      "source": [
        "mi_lista2[1:12]"
      ]
    },
    {
      "cell_type": "code",
      "execution_count": null,
      "metadata": {
        "id": "J8EUXUy4huLy"
      },
      "outputs": [],
      "source": [
        "len(mi_lista2)"
      ]
    },
    {
      "cell_type": "code",
      "execution_count": null,
      "metadata": {
        "id": "4-LdGw8Sh0DZ",
        "colab": {
          "base_uri": "https://localhost:8080/"
        },
        "outputId": "0eb7802d-4e49-4600-8053-e379c98147dc"
      },
      "outputs": [
        {
          "output_type": "stream",
          "name": "stdout",
          "text": [
            "3\n"
          ]
        }
      ],
      "source": [
        "nombre = ['Harold','Uribe',21]\n",
        "print(len(nombre))"
      ]
    },
    {
      "cell_type": "code",
      "execution_count": null,
      "metadata": {
        "id": "OwhICMuGj-wq",
        "colab": {
          "base_uri": "https://localhost:8080/",
          "height": 91
        },
        "outputId": "81ba1bb8-0aef-47fc-d8c5-0f6f3161ade0"
      },
      "outputs": [
        {
          "output_type": "stream",
          "name": "stdout",
          "text": [
            "<class 'list'>\n",
            "<class 'str'>\n",
            "<class 'str'>\n"
          ]
        },
        {
          "output_type": "execute_result",
          "data": {
            "text/plain": [
              "'Uribe'"
            ],
            "application/vnd.google.colaboratory.intrinsic+json": {
              "type": "string"
            }
          },
          "metadata": {},
          "execution_count": 11
        }
      ],
      "source": [
        "print(type(nombre))\n",
        "print(type(nombre[0]))\n",
        "print(type(nombre[-2]))\n",
        "nombre[-2]"
      ]
    },
    {
      "cell_type": "code",
      "execution_count": null,
      "metadata": {
        "id": "kQZRPrVoIS-1"
      },
      "outputs": [],
      "source": [
        "# No podemos cambiar las tuplas pero sí podemos obtener información de ellas\n",
        "print(mi_tupla)\n",
        "# Tamaño de la tupla\n",
        "print(len(mi_tupla))\n",
        "\n",
        "# Suma de los valores de mi tupla\n",
        "print(sum(mi_tupla))\n",
        "\n",
        "# Valor mínimo de mi tupla\n",
        "print(min(mi_tupla))\n",
        "#Valor máximo\n",
        "print(max(mi_tupla))"
      ]
    },
    {
      "cell_type": "code",
      "execution_count": null,
      "metadata": {
        "id": "_c5twUVck7aB"
      },
      "outputs": [],
      "source": [
        "print(mi_tupla)\n",
        "print(mi_lista2)"
      ]
    },
    {
      "cell_type": "code",
      "execution_count": null,
      "metadata": {
        "id": "VC0S8S1Vla_A"
      },
      "outputs": [],
      "source": [
        "mi_lista2[3] = 'Hola'\n",
        "print(mi_lista2)"
      ]
    },
    {
      "cell_type": "code",
      "execution_count": null,
      "metadata": {
        "id": "pn-mlFwMljaI"
      },
      "outputs": [],
      "source": [
        "mi_tupla[3]='Hola'"
      ]
    },
    {
      "cell_type": "code",
      "execution_count": null,
      "metadata": {
        "colab": {
          "base_uri": "https://localhost:8080/"
        },
        "collapsed": true,
        "id": "3Nwu1c4CJhA0",
        "outputId": "4c0cf48f-de8c-42c5-dd3c-3735c6d41530"
      },
      "outputs": [
        {
          "output_type": "stream",
          "name": "stdout",
          "text": [
            "<class 'tuple'>\n",
            "<class 'list'>\n",
            "<class 'tuple'>\n"
          ]
        }
      ],
      "source": [
        "print(type(mi_tupla))\n",
        "mi_tupla = list(mi_tupla)\n",
        "print(type(mi_tupla))\n",
        "mi_tupla = tuple(mi_tupla)\n",
        "print(type(mi_tupla))"
      ]
    },
    {
      "cell_type": "code",
      "execution_count": null,
      "metadata": {
        "id": "1nZfZTyngt9L"
      },
      "outputs": [],
      "source": [
        "sum(list((1,2,3,4)))"
      ]
    },
    {
      "cell_type": "code",
      "execution_count": null,
      "metadata": {
        "id": "GrDCk38Zc2bK"
      },
      "outputs": [],
      "source": [
        "lista = [(1,2), [0,4]]"
      ]
    },
    {
      "cell_type": "markdown",
      "metadata": {
        "id": "KwJsT1VZHi-2"
      },
      "source": [
        "###### Set\n",
        "* Elementos únicos\n",
        "* Tipos de datos mixtos\n",
        "* Puede declararse usando { } o set( )\n",
        "* No son ordenados\n",
        "* No tienen índice, es decir no podemos usar algo como mi_set[0]"
      ]
    },
    {
      "cell_type": "code",
      "execution_count": null,
      "metadata": {
        "collapsed": true,
        "id": "npiOGeAOJ4ah",
        "colab": {
          "base_uri": "https://localhost:8080/"
        },
        "outputId": "69ce7daf-7d6f-4881-cccc-973253f26e58"
      },
      "outputs": [
        {
          "output_type": "execute_result",
          "data": {
            "text/plain": [
              "{1, 2, 3, 4, 5}"
            ]
          },
          "metadata": {},
          "execution_count": 16
        }
      ],
      "source": [
        "# Valores únicos\n",
        "mi_set = {1,2,3,4,5,5,5,5,5}\n",
        "mi_set"
      ]
    },
    {
      "cell_type": "code",
      "execution_count": null,
      "metadata": {
        "collapsed": true,
        "id": "e1Ax682NJ8tZ",
        "colab": {
          "base_uri": "https://localhost:8080/"
        },
        "outputId": "d2ad0ca6-715b-4265-dd38-46781166e294"
      },
      "outputs": [
        {
          "output_type": "execute_result",
          "data": {
            "text/plain": [
              "{0, 1, 2, 3, 4, 8}"
            ]
          },
          "metadata": {},
          "execution_count": 15
        }
      ],
      "source": [
        "# No son ordenados\n",
        "mi_set = {2,3,4,8,8,0,1}\n",
        "mi_set\n",
        "# set(lista)"
      ]
    },
    {
      "cell_type": "code",
      "execution_count": null,
      "metadata": {
        "collapsed": true,
        "id": "NXAIsPWXKdbM",
        "colab": {
          "base_uri": "https://localhost:8080/"
        },
        "outputId": "a6f01b27-31c1-4b91-9d3c-ccbfe360b99d"
      },
      "outputs": [
        {
          "output_type": "stream",
          "name": "stdout",
          "text": [
            "Lista original: [1, 1, 2, 2, 3, 4, 5, 5, 5, 1]\n",
            "Valores únicos y ordenados en mi lista: {1, 2, 3, 4, 5}\n"
          ]
        }
      ],
      "source": [
        "mi_lista = [1,1,2,2,3,4,5,5,5,1]\n",
        "print(f\"Lista original: {mi_lista}\")\n",
        "\n",
        "mi_lista_set = set(mi_lista)\n",
        "print(f\"Valores únicos y ordenados en mi lista: {mi_lista_set}\")"
      ]
    },
    {
      "cell_type": "code",
      "execution_count": null,
      "metadata": {
        "collapsed": true,
        "id": "85ytZTifDeDm",
        "colab": {
          "base_uri": "https://localhost:8080/"
        },
        "outputId": "0711b947-61e0-473d-cd24-1459620cac27"
      },
      "outputs": [
        {
          "output_type": "execute_result",
          "data": {
            "text/plain": [
              "[1, 2, 3, 4, 5]"
            ]
          },
          "metadata": {},
          "execution_count": 18
        }
      ],
      "source": [
        "list(mi_lista_set)"
      ]
    },
    {
      "cell_type": "markdown",
      "metadata": {
        "id": "WXkNOEw8Lh9e"
      },
      "source": [
        "###### Diccionarios\n",
        "* Colección de llaves (keys) y valores (values)\n",
        "* No son ordenados\n",
        "* Llaves deben ser únicas, valores pueden repetirse"
      ]
    },
    {
      "cell_type": "code",
      "execution_count": null,
      "metadata": {
        "colab": {
          "base_uri": "https://localhost:8080/"
        },
        "collapsed": true,
        "id": "LSrUZE6_LyBE",
        "outputId": "e0797a58-b701-46fc-b7e3-6973f47558ca"
      },
      "outputs": [
        {
          "name": "stdout",
          "output_type": "stream",
          "text": [
            "{'Juan': 5, 'Sofía': 4.5, 'Alberto': [3.1, 4.5, 4, 'Hola'], 'Ana': 5}\n",
            "<class 'dict'>\n"
          ]
        }
      ],
      "source": [
        "# Pensemos en las Llaves como una entidad, es decir, un objeto, persona, país etc...\n",
        "# Los valores son características de esa entidad\n",
        "\n",
        "# Se definen de la siguiente forma:\n",
        "mi_diccionario = {\"Juan\": 5,\n",
        "                  \"Sofía\": 4.5,\n",
        "                  \"Alberto\": [3.1,4.5,4,'Hola'],\n",
        "                  \"Ana\": 5}\n",
        "\n",
        "# En este caso podemos ver que las llaves, son nombres, van a la izquierda de los dos puntos\n",
        "# Los valores van a la derecha\n",
        "\n",
        "print(mi_diccionario)\n",
        "print(type(mi_diccionario))"
      ]
    },
    {
      "cell_type": "code",
      "execution_count": null,
      "metadata": {
        "colab": {
          "base_uri": "https://localhost:8080/"
        },
        "collapsed": true,
        "id": "Mye8nkgdEWT2",
        "outputId": "b5017940-a6ef-4daf-9c94-7952dd56e589"
      },
      "outputs": [
        {
          "data": {
            "text/plain": [
              "5"
            ]
          },
          "execution_count": 72,
          "metadata": {},
          "output_type": "execute_result"
        }
      ],
      "source": [
        "# Cómo accedo a los valores del diccionario\n",
        "mi_diccionario['Juan']"
      ]
    },
    {
      "cell_type": "code",
      "execution_count": null,
      "metadata": {
        "colab": {
          "base_uri": "https://localhost:8080/"
        },
        "collapsed": true,
        "id": "lxBHQcUDnKoo",
        "outputId": "cf659796-ce00-477c-8579-676d49d3699f"
      },
      "outputs": [
        {
          "data": {
            "text/plain": [
              "[5, 1, 0, 0]"
            ]
          },
          "execution_count": 73,
          "metadata": {},
          "output_type": "execute_result"
        }
      ],
      "source": [
        "#Cómo cambio\n",
        "mi_diccionario['Juan'] = [5, 1, 0, 0]\n",
        "mi_diccionario['Juan']"
      ]
    },
    {
      "cell_type": "code",
      "execution_count": null,
      "metadata": {
        "colab": {
          "base_uri": "https://localhost:8080/"
        },
        "collapsed": true,
        "id": "NewJ2by0V-QU",
        "outputId": "7f2a4807-2baa-4cbf-dbc9-6d89b649672e"
      },
      "outputs": [
        {
          "name": "stdout",
          "output_type": "stream",
          "text": [
            "{'Juan': [5, 1, 0, 4.5], 'Sofía': 4.5, 'Alberto': [3.1, 4.5, 4, 'Hola'], 'Ana': 5}\n"
          ]
        }
      ],
      "source": [
        "mi_diccionario['Juan'][3] = 4.5\n",
        "print(mi_diccionario)"
      ]
    },
    {
      "cell_type": "code",
      "execution_count": null,
      "metadata": {
        "colab": {
          "base_uri": "https://localhost:8080/"
        },
        "collapsed": true,
        "id": "55EHgtGkneAL",
        "outputId": "9843470b-c256-40fb-ebc1-bc4e9fb7f4c1"
      },
      "outputs": [
        {
          "name": "stdout",
          "output_type": "stream",
          "text": [
            "{'granos': ['lentejas', 'frijol', 'garbanzo'], 'proteina': ('carne', 'pollo', 'pescado'), 'aseo': {'crema', 'shampoo', 'aceites'}}\n"
          ]
        }
      ],
      "source": [
        "mercado = {\n",
        "    'granos':['lentejas','frijol','garbanzo'],\n",
        "    'proteina':('carne','pollo','pescado'),\n",
        "    'aseo':{'crema','shampoo','aceites'}\n",
        "}\n",
        "print(mercado)"
      ]
    },
    {
      "cell_type": "code",
      "execution_count": null,
      "metadata": {
        "colab": {
          "base_uri": "https://localhost:8080/"
        },
        "collapsed": true,
        "id": "LXHMUiYWnuI8",
        "outputId": "01ebbf7a-10e8-4b25-c7d9-ad5835897b55"
      },
      "outputs": [
        {
          "data": {
            "application/vnd.google.colaboratory.intrinsic+json": {
              "type": "string"
            },
            "text/plain": [
              "'aceites'"
            ]
          },
          "execution_count": 76,
          "metadata": {},
          "output_type": "execute_result"
        }
      ],
      "source": [
        "# list(mercado['aseo'])\n",
        "list(mercado['aseo'])[2]"
      ]
    },
    {
      "cell_type": "code",
      "execution_count": null,
      "metadata": {
        "colab": {
          "base_uri": "https://localhost:8080/"
        },
        "collapsed": true,
        "id": "NRJ6HXFIFyGW",
        "outputId": "36a59a8e-b9b1-46e2-fdcb-d09cf9d1c202"
      },
      "outputs": [
        {
          "name": "stdout",
          "output_type": "stream",
          "text": [
            "{'granos': ['lentejas', 'frijol', 'garbanzo'], 'proteina': ('carne', 'pollo', 'pescado'), 'aseo': ['crema', 'shampoo', 'aceites']}\n"
          ]
        }
      ],
      "source": [
        "mercado['aseo'] = list(mercado['aseo'])\n",
        "print(mercado)"
      ]
    },
    {
      "cell_type": "code",
      "execution_count": null,
      "metadata": {
        "colab": {
          "base_uri": "https://localhost:8080/"
        },
        "collapsed": true,
        "id": "smYNQod-L5Rg",
        "outputId": "af32bb0a-f69e-4b34-f70d-af30e8c9dd9c"
      },
      "outputs": [
        {
          "name": "stdout",
          "output_type": "stream",
          "text": [
            "{1: 'Juan', 2: 'Sofía', 3: 'Alberto', 4: 'Ana'}\n"
          ]
        }
      ],
      "source": [
        "# Las llaves pueden ser números\n",
        "mi_diccionario2 = {1:\"Juan\",\n",
        "                   2:\"Sofía\",\n",
        "                   3:\"Alberto\",\n",
        "                   4:\"Ana\"}\n",
        "print(mi_diccionario2)"
      ]
    },
    {
      "cell_type": "code",
      "execution_count": null,
      "metadata": {
        "colab": {
          "base_uri": "https://localhost:8080/"
        },
        "collapsed": true,
        "id": "qsjGNV63oUha",
        "outputId": "d3bbb084-4682-44f1-930a-c3f870a7be9a"
      },
      "outputs": [
        {
          "data": {
            "application/vnd.google.colaboratory.intrinsic+json": {
              "type": "string"
            },
            "text/plain": [
              "'Juan'"
            ]
          },
          "execution_count": 79,
          "metadata": {},
          "output_type": "execute_result"
        }
      ],
      "source": [
        "mi_diccionario2[1]"
      ]
    },
    {
      "cell_type": "code",
      "execution_count": null,
      "metadata": {
        "colab": {
          "base_uri": "https://localhost:8080/"
        },
        "collapsed": true,
        "id": "ySuf4966os4j",
        "outputId": "babcc85e-0027-4b29-c0ee-12d9624d19d8"
      },
      "outputs": [
        {
          "name": "stdout",
          "output_type": "stream",
          "text": [
            "{'Juan': [5, 1, 0, 4.5], 'Sofía': 4.5, 'Alberto': [3.1, 4.5, 4, 'Hola'], 'Ana': 5}\n"
          ]
        }
      ],
      "source": [
        "print(mi_diccionario)"
      ]
    },
    {
      "cell_type": "code",
      "execution_count": null,
      "metadata": {
        "colab": {
          "base_uri": "https://localhost:8080/"
        },
        "collapsed": true,
        "id": "eOVU5uxoNhkY",
        "outputId": "f6075cc9-1d33-4816-f37b-286fae955a9e"
      },
      "outputs": [
        {
          "name": "stdout",
          "output_type": "stream",
          "text": [
            "Llaves de mi diccionario = dict_keys(['Juan', 'Sofía', 'Alberto', 'Ana'])\n",
            "Valores de mi diccionario = dict_values([[5, 1, 0, 4.5], 4.5, [3.1, 4.5, 4, 'Hola'], 5])\n",
            "Items en mi diccionarios = dict_items([('Juan', [5, 1, 0, 4.5]), ('Sofía', 4.5), ('Alberto', [3.1, 4.5, 4, 'Hola']), ('Ana', 5)])\n"
          ]
        }
      ],
      "source": [
        "#Obtener las llaves y valores de un diccionario\n",
        "\n",
        "#Llaves:\n",
        "print(f\"Llaves de mi diccionario = {mi_diccionario.keys()}\")\n",
        "\n",
        "#Valores\n",
        "print(f\"Valores de mi diccionario = {mi_diccionario.values()}\")\n",
        "\n",
        "#Ambos!\n",
        "print(f\"Items en mi diccionarios = {mi_diccionario.items()}\")"
      ]
    },
    {
      "cell_type": "code",
      "execution_count": null,
      "metadata": {
        "colab": {
          "base_uri": "https://localhost:8080/"
        },
        "collapsed": true,
        "id": "ycoVTi-BN2VS",
        "outputId": "c0d414f7-6959-4c60-8eb4-8e4f7cfa7e32"
      },
      "outputs": [
        {
          "data": {
            "text/plain": [
              "5"
            ]
          },
          "execution_count": 82,
          "metadata": {},
          "output_type": "execute_result"
        }
      ],
      "source": [
        "# Similar a como hicimos con listas y tuplas, podemos acceder a los diccionarios usando la notación mi_diccionario[mi_llave]\n",
        "# Es decir usamos llaves en vez de índices\n",
        "mi_diccionario = {\"Juan\": 5,\n",
        "                  \"Sofía\": 4.5,\n",
        "                  \"Alberto\": 3.1,\n",
        "                  \"Ana\": 5}\n",
        "\n",
        "\n",
        "mi_diccionario[\"Ana\"]"
      ]
    },
    {
      "cell_type": "code",
      "execution_count": null,
      "metadata": {
        "colab": {
          "base_uri": "https://localhost:8080/"
        },
        "collapsed": true,
        "id": "2UNiHfClOfuq",
        "outputId": "8bfa7ee2-6e80-40fc-c4d3-ff39b2951b17"
      },
      "outputs": [
        {
          "name": "stdout",
          "output_type": "stream",
          "text": [
            "{1: 'Bernardo', 2: 'Jhonatan'}\n"
          ]
        }
      ],
      "source": [
        "# Recordemos !!!\n",
        "# Las llaves son únicas\n",
        "\n",
        "mi_diccionario = {\n",
        "1:\"Bernardo\",\n",
        "2:\"Juana\",\n",
        "2:\"Jhonatan\"\n",
        "}\n",
        "\n",
        "# Observemos como Jhonatan reemplazó a Juana, es decir, el diccionario tomó la última llave con el valor -> 2\n",
        "print(mi_diccionario)"
      ]
    },
    {
      "cell_type": "code",
      "execution_count": null,
      "metadata": {
        "colab": {
          "base_uri": "https://localhost:8080/"
        },
        "collapsed": true,
        "id": "W_yA4TO4O6Kw",
        "outputId": "c2a6328f-7b15-47b6-c5a7-b9656e0cd66b"
      },
      "outputs": [
        {
          "name": "stdout",
          "output_type": "stream",
          "text": [
            "dict_items([(3, {'Nombre': 'Julian', 'Apellido': 'Rojas'}), (2, {'Nombre': 'Harold', 'Apellido': 'Uribe'}), (1, {'Nombre': 'Harry', 'Apellido': 'Vargas'})])\n"
          ]
        }
      ],
      "source": [
        "# Así como podemos tener listas anidadas (listas dentro de listas)\n",
        "# Podemos tener diccionarios en los diccionarios!\n",
        "# Este tipo de estructura de datos es común en bases de datos no relacionales, que en vez de usar datos tabulares usan \"documentos\" o JSON\n",
        "\n",
        "profes_diccionario = {\n",
        "3:{\"Nombre\":\"Julian\", \"Apellido\":\"Rojas\"},\n",
        "2:{\"Nombre\":\"Harold\", \"Apellido\":\"Uribe\"},\n",
        "1:{\"Nombre\":\"Harry\", \"Apellido\":\"Vargas\"}\n",
        "}\n",
        "\n",
        "print(profes_diccionario.items())"
      ]
    },
    {
      "cell_type": "code",
      "execution_count": null,
      "metadata": {
        "colab": {
          "base_uri": "https://localhost:8080/"
        },
        "collapsed": true,
        "id": "az9HAG3KPB9n",
        "outputId": "99d611dd-07e1-4e45-ce52-759f9b255828"
      },
      "outputs": [
        {
          "data": {
            "application/vnd.google.colaboratory.intrinsic+json": {
              "type": "string"
            },
            "text/plain": [
              "'Harry'"
            ]
          },
          "execution_count": 85,
          "metadata": {},
          "output_type": "execute_result"
        }
      ],
      "source": [
        "#Accedemos a los nombres de los profes\n",
        "#Encontramos al profesor con el id 1\n",
        "#Y luego accedemos al nombre\n",
        "profes_diccionario[1][\"Nombre\"]"
      ]
    },
    {
      "cell_type": "code",
      "execution_count": null,
      "metadata": {
        "id": "qFsgRcKOgbAn"
      },
      "outputs": [],
      "source": [
        "profes_diccionario[1][\"Id pais\"] = 918234"
      ]
    },
    {
      "cell_type": "code",
      "execution_count": null,
      "metadata": {
        "colab": {
          "base_uri": "https://localhost:8080/"
        },
        "collapsed": true,
        "id": "j8KRMDwogkS5",
        "outputId": "937e8c76-3051-4c70-9a0a-9002d5fdbe7b"
      },
      "outputs": [
        {
          "data": {
            "text/plain": [
              "{3: {'Nombre': 'Julian', 'Apellido': 'Rojas'},\n",
              " 2: {'Nombre': 'Harold', 'Apellido': 'Uribe'},\n",
              " 1: {'Nombre': 'Harry', 'Apellido': 'Vargas', 'Id pais': 918234}}"
            ]
          },
          "execution_count": 87,
          "metadata": {},
          "output_type": "execute_result"
        }
      ],
      "source": [
        "profes_diccionario"
      ]
    },
    {
      "cell_type": "markdown",
      "metadata": {
        "id": "5Szok5VO1o_9"
      },
      "source": [
        "# Condicionales"
      ]
    },
    {
      "cell_type": "markdown",
      "metadata": {
        "id": "X6vIyzR47X8P"
      },
      "source": [
        "* Test logicos que pueden imponer condiciones o controlar la ejecución de bloques de código"
      ]
    },
    {
      "cell_type": "code",
      "execution_count": null,
      "metadata": {
        "colab": {
          "base_uri": "https://localhost:8080/"
        },
        "collapsed": true,
        "id": "6XnuCa-Uq6gh",
        "outputId": "87de5307-ae0b-4619-f447-ce3bdfb2e999"
      },
      "outputs": [
        {
          "name": "stdout",
          "output_type": "stream",
          "text": [
            "0\n"
          ]
        }
      ],
      "source": [
        "x = 0\n",
        "\n",
        "if x < 5:\n",
        "  print(x)\n",
        "elif x==5:\n",
        "  print('x es igual a 5')\n",
        "else:\n",
        "  print('x mayor que 5')"
      ]
    },
    {
      "cell_type": "code",
      "execution_count": null,
      "metadata": {
        "colab": {
          "base_uri": "https://localhost:8080/"
        },
        "collapsed": true,
        "id": "9wry3BJF7hGp",
        "outputId": "9142e905-7ae2-47d1-cf1a-b4270de05d00"
      },
      "outputs": [
        {
          "name": "stdout",
          "output_type": "stream",
          "text": [
            "x es mayor o igual a 5!\n"
          ]
        }
      ],
      "source": [
        "x = 7\n",
        "\n",
        "#Primero probamos si nuestra condición es verdadera\n",
        "if x < 5:\n",
        "#En caso de que sea verdadera imprimimos el mensaje de abajo\n",
        "  print(\"x es menor a 5!\")\n",
        "#En caso de que la primera condición, if x < 5 no se cumpla, el programa pasa el siguiente bloque\n",
        "else:\n",
        "  print(\"x es mayor o igual a 5!\")"
      ]
    },
    {
      "cell_type": "code",
      "execution_count": null,
      "metadata": {
        "colab": {
          "base_uri": "https://localhost:8080/"
        },
        "collapsed": true,
        "id": "q7ja-_H2ZZlz",
        "outputId": "9db52055-cc32-4f2d-c3b2-1b1aae99397b"
      },
      "outputs": [
        {
          "name": "stdout",
          "output_type": "stream",
          "text": [
            "Escribe un número: 10\n",
            "x está entre 5 y 10\n"
          ]
        }
      ],
      "source": [
        "x = int(input('Escribe un número: '))\n",
        "\n",
        "if x < 5:\n",
        "#En caso de que sea verdadera imprimimos el mensaje de abajo\n",
        "  print(\"x es menor a 5!\")\n",
        "\n",
        "elif x > 10:\n",
        "  print('x es mayor a 10')\n",
        "\n",
        "#En caso de que la primera condición, if x < 5 no se cumpla, el programa pasa el siguiente bloque\n",
        "else:\n",
        "  print(\"x está entre 5 y 10\")"
      ]
    },
    {
      "cell_type": "code",
      "execution_count": null,
      "metadata": {
        "colab": {
          "base_uri": "https://localhost:8080/"
        },
        "collapsed": true,
        "id": "QMmu5k48YHvn",
        "outputId": "28145a77-a3ff-4947-9faa-fd0e71e63516"
      },
      "outputs": [
        {
          "name": "stdout",
          "output_type": "stream",
          "text": [
            "Escribe un número: 1\n",
            "x es menor a 5!\n"
          ]
        }
      ],
      "source": [
        "#Primero probamos si nuestra condición es verdadera\n",
        "try:\n",
        "  x = input('Escribe un número: ')\n",
        "  x = int(x)\n",
        "\n",
        "  if x < 5:\n",
        "  #En caso de que sea verdadera imprimimos el mensaje de abajo\n",
        "    print(\"x es menor a 5!\")\n",
        "\n",
        "  elif x > 10:\n",
        "    print('x es mayor a 10')\n",
        "\n",
        "  #En caso de que la primera condición, if x < 5 no se cumpla, el programa pasa el siguiente bloque\n",
        "  else:\n",
        "    print(\"x está entre 5 y 10\")\n",
        "\n",
        "except ValueError:\n",
        "  print(f'La variable {x} no es un número')"
      ]
    },
    {
      "cell_type": "code",
      "execution_count": null,
      "metadata": {
        "colab": {
          "base_uri": "https://localhost:8080/"
        },
        "collapsed": true,
        "id": "2zQMvvnpjyVM",
        "outputId": "269a57dd-f5de-47b7-cedf-cc3384f42a1b"
      },
      "outputs": [
        {
          "name": "stdout",
          "output_type": "stream",
          "text": [
            "texto\n"
          ]
        }
      ],
      "source": [
        "x = \"a\"\n",
        "\n",
        "if type(x) != int:\n",
        "  print('texto')\n",
        "else:\n",
        "  print('numero')"
      ]
    },
    {
      "cell_type": "code",
      "execution_count": null,
      "metadata": {
        "colab": {
          "base_uri": "https://localhost:8080/"
        },
        "collapsed": true,
        "id": "erWSbuQMLvS-",
        "outputId": "e91e7a70-ebf8-48b9-dcac-7f9de59097ce"
      },
      "outputs": [
        {
          "name": "stdout",
          "output_type": "stream",
          "text": [
            "texto\n"
          ]
        }
      ],
      "source": [
        "x = \"True\"\n",
        "\n",
        "if type(x) not in [int, float, bool]:\n",
        "  print('texto')\n",
        "else:\n",
        "  print('numero o booleano')"
      ]
    },
    {
      "cell_type": "code",
      "execution_count": null,
      "metadata": {
        "colab": {
          "base_uri": "https://localhost:8080/"
        },
        "collapsed": true,
        "id": "h5OaEzj68J6J",
        "outputId": "9c62836b-ec6e-4145-f894-fce1f0a7bff8"
      },
      "outputs": [
        {
          "name": "stdout",
          "output_type": "stream",
          "text": [
            "x es mayor a 5!\n"
          ]
        }
      ],
      "source": [
        "#Podemos añadir más condiciones con elif!\n",
        "x =  10\n",
        "\n",
        "if x < 5:\n",
        "  print(\"x es menor a 5!\")\n",
        "elif x == 5:\n",
        "  print(\"x es igual a 5!\")\n",
        "else:\n",
        "  print(\"x es mayor a 5!\")"
      ]
    },
    {
      "cell_type": "code",
      "execution_count": null,
      "metadata": {
        "colab": {
          "base_uri": "https://localhost:8080/"
        },
        "collapsed": true,
        "id": "zc5TDGIr8gtx",
        "outputId": "2f533605-8763-46d0-e367-f4c84973b6fa"
      },
      "outputs": [
        {
          "name": "stdout",
          "output_type": "stream",
          "text": [
            "x es menor que 10, pero mayor a  7\n"
          ]
        }
      ],
      "source": [
        "#Condiciones anidadas !\n",
        "x = 8\n",
        "\n",
        "if x < 10:\n",
        "  if x < 7:\n",
        "    print(\"x es menor que 7\")\n",
        "  else:\n",
        "    print(\"x es menor que 10, pero mayor a  7\")\n",
        "else:\n",
        "  print(\"x es mayor a 10\")"
      ]
    },
    {
      "cell_type": "code",
      "execution_count": null,
      "metadata": {
        "colab": {
          "base_uri": "https://localhost:8080/"
        },
        "collapsed": true,
        "id": "SoyAUeNQ9QOu",
        "outputId": "f7e16d0b-3c05-441d-eceb-e1e4e0e14e40"
      },
      "outputs": [
        {
          "name": "stdout",
          "output_type": "stream",
          "text": [
            "Me alcanza para una hamburguesa, pero en promoción\n"
          ]
        }
      ],
      "source": [
        "# Multiples condiciones\n",
        "\n",
        "# Me alcanza para la hamburguesa que me gusta?\n",
        "# Normalmente cuesta 25_000 pesos un combo pero en martes y jueves baja a 20_000 pesos\n",
        "\n",
        "dinero_disponible = 20_000\n",
        "dia_de_la_semana = 'Jueves'\n",
        "\n",
        "dias_promocion = ['Martes', 'Jueves']\n",
        "\n",
        "if dinero_disponible >= 25_000:\n",
        "  print(\"Me alcanza para una hamburguesa\")\n",
        "elif dinero_disponible >= 20_000 and dia_de_la_semana in dias_promocion:\n",
        "  print(\"Me alcanza para una hamburguesa, pero en promoción\")\n",
        "else:\n",
        "  print(\"En la casa tengo sopita\")"
      ]
    },
    {
      "cell_type": "code",
      "execution_count": null,
      "metadata": {
        "colab": {
          "base_uri": "https://localhost:8080/"
        },
        "collapsed": true,
        "id": "a0Nol6ZQN02F",
        "outputId": "fa7260a8-6308-41c4-ddf2-1cd04984bc7b"
      },
      "outputs": [
        {
          "output_type": "execute_result",
          "data": {
            "text/plain": [
              "int"
            ]
          },
          "metadata": {},
          "execution_count": 19
        }
      ],
      "source": [
        "type(20_000)"
      ]
    },
    {
      "cell_type": "markdown",
      "metadata": {
        "id": "Q2R2ty2__eki"
      },
      "source": [
        "# Bucles o Loops"
      ]
    },
    {
      "cell_type": "markdown",
      "metadata": {
        "id": "2VRjkScV_g9z"
      },
      "source": [
        "###### Tenemos dos tipos de loops\n",
        "* Los *for* loops:\n",
        "Para cada elemento en un iterable o contenedor, ejecute un bloque de código\n",
        "* Los *while* loops:\n",
        "Mientras que una condición sea verdadera, repita el bloque de código"
      ]
    },
    {
      "cell_type": "markdown",
      "metadata": {
        "id": "9qux_AcXCsj_"
      },
      "source": [
        "###### For loops"
      ]
    },
    {
      "cell_type": "code",
      "execution_count": null,
      "metadata": {
        "colab": {
          "base_uri": "https://localhost:8080/"
        },
        "collapsed": true,
        "id": "KzSKjSmyhVbP",
        "outputId": "5849cd18-b53c-47fe-dcf0-78c47995d5d6"
      },
      "outputs": [
        {
          "name": "stdout",
          "output_type": "stream",
          "text": [
            "hola mundo\n"
          ]
        }
      ],
      "source": [
        "texto = 'hola mundo'\n",
        "print(texto)"
      ]
    },
    {
      "cell_type": "code",
      "execution_count": null,
      "metadata": {
        "colab": {
          "base_uri": "https://localhost:8080/"
        },
        "collapsed": true,
        "id": "-MrZyiVYh07D",
        "outputId": "cb31c8e4-f0f3-424b-8bf5-59ef115d7598"
      },
      "outputs": [
        {
          "name": "stdout",
          "output_type": "stream",
          "text": [
            "H\n",
            "O\n",
            "L\n",
            "A\n",
            " \n",
            "M\n",
            "U\n",
            "N\n",
            "D\n",
            "O\n"
          ]
        }
      ],
      "source": [
        "# mi primer for loop\n",
        "for letra in texto:\n",
        "  print(letra.upper())"
      ]
    },
    {
      "cell_type": "code",
      "execution_count": null,
      "metadata": {
        "colab": {
          "base_uri": "https://localhost:8080/"
        },
        "collapsed": true,
        "id": "yCt-MsNNA_k4",
        "outputId": "e364a387-5c3a-4f75-f6fa-b30ae32d939f"
      },
      "outputs": [
        {
          "name": "stdout",
          "output_type": "stream",
          "text": [
            "[1, 2, 3, 4, 5, 6, 7]\n"
          ]
        }
      ],
      "source": [
        "mi_lista = [1, 2, 3, 4, 5, 6, 7]\n",
        "print(mi_lista)"
      ]
    },
    {
      "cell_type": "code",
      "execution_count": null,
      "metadata": {
        "colab": {
          "base_uri": "https://localhost:8080/"
        },
        "collapsed": true,
        "id": "6vLu5o9xBHJV",
        "outputId": "04d344d9-6a09-4b05-e65f-7320ff612b3e"
      },
      "outputs": [
        {
          "name": "stdout",
          "output_type": "stream",
          "text": [
            "Iteramos sobre:  [1, 2, 3, 4, 5, 6, 7]\n",
            "[1]\n",
            "[1, 4]\n",
            "[1, 4, 9]\n",
            "[1, 4, 9, 16]\n",
            "[1, 4, 9, 16, 25]\n",
            "[1, 4, 9, 16, 25, 36]\n",
            "[1, 4, 9, 16, 25, 36, 49]\n",
            "Lista original:  [1, 2, 3, 4, 5, 6, 7]\n",
            "Lista final:  [1, 4, 9, 16, 25, 36, 49]\n"
          ]
        }
      ],
      "source": [
        "# Ejemplo de for loop!\n",
        "# Usualmente se usa una \"i\" para definir el nombre del elemento que iteramos\n",
        "# Sin embargo, podemos utilizar un nombre más significativo, o lo que nos funciones mejor\n",
        "print(\"Iteramos sobre: \", mi_lista)\n",
        "\n",
        "mi_lista2 = []\n",
        "\n",
        "for elemento in mi_lista:\n",
        "\n",
        "  cuadrado = elemento ** 2\n",
        "\n",
        "  mi_lista2.append(cuadrado)\n",
        "\n",
        "  print(mi_lista2)\n",
        "\n",
        "print(\"Lista original: \", mi_lista)\n",
        "print(\"Lista final: \",mi_lista2)"
      ]
    },
    {
      "cell_type": "code",
      "execution_count": null,
      "metadata": {
        "colab": {
          "base_uri": "https://localhost:8080/"
        },
        "id": "bewWouZpBkM4",
        "outputId": "8f2a2b3f-d5ef-40a7-e312-7250ac9d4363"
      },
      "outputs": [
        {
          "name": "stdout",
          "output_type": "stream",
          "text": [
            "[1, 2, 3, 4, 5, 6, 7]\n",
            "True\n",
            "True\n",
            "True\n",
            "True\n",
            "False\n",
            "False\n",
            "False\n"
          ]
        }
      ],
      "source": [
        "# Con los loops podemos hacer muchas cosas\n",
        "print(mi_lista)\n",
        "\n",
        "for i in mi_lista:\n",
        "  print(i < 5)"
      ]
    },
    {
      "cell_type": "code",
      "execution_count": null,
      "metadata": {
        "colab": {
          "base_uri": "https://localhost:8080/"
        },
        "collapsed": true,
        "id": "Obnwj7wxxLgg",
        "outputId": "13d69555-c401-480c-a1df-5455de0586e6"
      },
      "outputs": [
        {
          "name": "stdout",
          "output_type": "stream",
          "text": [
            "1\n",
            "2\n",
            "3\n",
            "4\n"
          ]
        }
      ],
      "source": [
        "for i in mi_lista:\n",
        "  if i < 5:\n",
        "    print(i)"
      ]
    },
    {
      "cell_type": "code",
      "execution_count": null,
      "metadata": {
        "colab": {
          "base_uri": "https://localhost:8080/"
        },
        "collapsed": true,
        "id": "70nJKt7KnRDW",
        "outputId": "578cb546-f25f-40f4-dbd0-6c75abb8d76c"
      },
      "outputs": [
        {
          "name": "stdout",
          "output_type": "stream",
          "text": [
            "[0, 1, 2, 3, 4, 5, 6, 7, 0]\n",
            "[0, 1, 2, 3, 4, 0]\n",
            "6\n"
          ]
        }
      ],
      "source": [
        "# Sumamos cuánto valores son menores a 5 en nuestra lista\n",
        "mi_lista = [0, 1, 2, 3, 4, 5, 6, 7, 0]\n",
        "mis_resultados = []\n",
        "\n",
        "for i in mi_lista:\n",
        "#Añado los resultados a la lista vacía que creamos al inicio\n",
        "  if i < 5:\n",
        "    mis_resultados.append(i)\n",
        "#  mis_resultados.append(i < 5)\n",
        "\n",
        "#Sumo los resultado\n",
        "print(mi_lista)\n",
        "print(mis_resultados)\n",
        "print(len(mis_resultados))\n",
        "\n",
        "# print(\"Cantidad de números menores a 5: \", sum(mis_resultados))"
      ]
    },
    {
      "cell_type": "code",
      "execution_count": null,
      "metadata": {
        "id": "UzTvZzXvfXV0"
      },
      "outputs": [],
      "source": [
        "# collections, itertools # librerias"
      ]
    },
    {
      "cell_type": "code",
      "execution_count": null,
      "metadata": {
        "colab": {
          "base_uri": "https://localhost:8080/"
        },
        "collapsed": true,
        "id": "IIT1QM7sy72f",
        "outputId": "15ceb859-8dfc-47b0-b7a0-9dd4a5d4411c"
      },
      "outputs": [
        {
          "name": "stdout",
          "output_type": "stream",
          "text": [
            "[0, 1, 2, 3, 4, 5, 6, 7]\n",
            "[1, 3, 5, 7]\n",
            "16\n",
            "4\n"
          ]
        }
      ],
      "source": [
        "# Sumamos cuánto valores son menores a 5 en nuestra lista\n",
        "mi_lista = [0,1,2,3,4,5,6,7]\n",
        "mis_resultados = []\n",
        "\n",
        "for i in mi_lista:\n",
        "  if i % 2 != 0:\n",
        "  #if i > 5 or i == 1:\n",
        "#Añado los resultados a la lista vacía que creamos al inicio\n",
        "    mis_resultados.append(i)\n",
        "  else:\n",
        "    pass # pass y continue hacen que el codigo siga sin importar que pase\n",
        "\n",
        "\n",
        "#Sumo los resultado\n",
        "print(mi_lista)\n",
        "print(mis_resultados)\n",
        "print(sum(mis_resultados))\n",
        "print(len(mis_resultados))"
      ]
    },
    {
      "cell_type": "code",
      "execution_count": null,
      "metadata": {
        "colab": {
          "base_uri": "https://localhost:8080/"
        },
        "id": "wwYeYE2Ng44X",
        "outputId": "7e9eaf28-d935-4a78-c420-fa7727ee6e34"
      },
      "outputs": [
        {
          "name": "stdout",
          "output_type": "stream",
          "text": [
            "3\n",
            "7\n",
            "11\n",
            "7\n"
          ]
        }
      ],
      "source": [
        "lista_anidada = [[1, 2], [3, 4], [5, 6], [7,0]]\n",
        "\n",
        "for i in lista_anidada:\n",
        "  print(sum(i))"
      ]
    },
    {
      "cell_type": "code",
      "execution_count": null,
      "metadata": {
        "colab": {
          "base_uri": "https://localhost:8080/"
        },
        "collapsed": true,
        "id": "OF1pOiPuC1NH",
        "outputId": "8411ccb4-ad2f-4ab7-ba42-2241b96e17dc"
      },
      "outputs": [
        {
          "name": "stdout",
          "output_type": "stream",
          "text": [
            "[1, 2]\n",
            "1\n",
            "2\n",
            "[3, 4]\n",
            "3\n",
            "4\n",
            "[5, 6]\n",
            "5\n",
            "6\n",
            "[7, 0]\n",
            "7\n",
            "0\n",
            "[1, 2, 3, 4, 5, 6, 7, 0]\n",
            "Suma de los elementos de la lista anidada:  28\n"
          ]
        }
      ],
      "source": [
        "# Los loops nos ayudan a extraer datos de contenedores anidados\n",
        "lista_anidada = [[1, 2], [3, 4], [5, 6], [7,0]]\n",
        "lista_anidada_para_suma = []\n",
        "\n",
        "for lista in lista_anidada:\n",
        "  print(lista)\n",
        "  for elemento in lista:\n",
        "    lista_anidada_para_suma.append(elemento)\n",
        "    print(elemento)\n",
        "\n",
        "print(lista_anidada_para_suma)\n",
        "print('Suma de los elementos de la lista anidada: ', sum(lista_anidada_para_suma))"
      ]
    },
    {
      "cell_type": "markdown",
      "metadata": {
        "id": "GGsFsNf5DAE2"
      },
      "source": [
        "###### While loops"
      ]
    },
    {
      "cell_type": "code",
      "execution_count": null,
      "metadata": {
        "colab": {
          "background_save": true,
          "base_uri": "https://localhost:8080/"
        },
        "collapsed": true,
        "id": "WG83sDXDDb5D",
        "outputId": "0c578345-21ef-4108-b618-7d5360b3b2f0"
      },
      "outputs": [
        {
          "name": "stdout",
          "output_type": "stream",
          "text": [
            "\u001b[1;30;43mStreaming output truncated to the last 5000 lines.\u001b[0m\n",
            "Horas de sueño: 0\n",
            "Horas de sueño: 0\n",
            "Horas de sueño: 0\n",
            "Horas de sueño: 0\n",
            "Horas de sueño: 0\n",
            "Horas de sueño: 0\n",
            "Horas de sueño: 0\n",
            "Horas de sueño: 0\n",
            "Horas de sueño: 0\n",
            "Horas de sueño: 0\n",
            "Horas de sueño: 0\n",
            "Horas de sueño: 0\n",
            "Horas de sueño: 0\n",
            "Horas de sueño: 0\n",
            "Horas de sueño: 0\n",
            "Horas de sueño: 0\n",
            "Horas de sueño: 0\n",
            "Horas de sueño: 0\n",
            "Horas de sueño: 0\n",
            "Horas de sueño: 0\n",
            "Horas de sueño: 0\n",
            "Horas de sueño: 0\n",
            "Horas de sueño: 0\n",
            "Horas de sueño: 0\n",
            "Horas de sueño: 0\n",
            "Horas de sueño: 0\n",
            "Horas de sueño: 0\n",
            "Horas de sueño: 0\n",
            "Horas de sueño: 0\n",
            "Horas de sueño: 0\n",
            "Horas de sueño: 0\n",
            "Horas de sueño: 0\n",
            "Horas de sueño: 0\n",
            "Horas de sueño: 0\n",
            "Horas de sueño: 0\n",
            "Horas de sueño: 0\n",
            "Horas de sueño: 0\n",
            "Horas de sueño: 0\n",
            "Horas de sueño: 0\n",
            "Horas de sueño: 0\n",
            "Horas de sueño: 0\n",
            "Horas de sueño: 0\n",
            "Horas de sueño: 0\n",
            "Horas de sueño: 0\n",
            "Horas de sueño: 0\n",
            "Horas de sueño: 0\n",
            "Horas de sueño: 0\n",
            "Horas de sueño: 0\n",
            "Horas de sueño: 0\n",
            "Horas de sueño: 0\n",
            "Horas de sueño: 0\n",
            "Horas de sueño: 0\n",
            "Horas de sueño: 0\n",
            "Horas de sueño: 0\n",
            "Horas de sueño: 0\n",
            "Horas de sueño: 0\n",
            "Horas de sueño: 0\n",
            "Horas de sueño: 0\n",
            "Horas de sueño: 0\n",
            "Horas de sueño: 0\n",
            "Horas de sueño: 0\n",
            "Horas de sueño: 0\n",
            "Horas de sueño: 0\n",
            "Horas de sueño: 0\n",
            "Horas de sueño: 0\n",
            "Horas de sueño: 0\n",
            "Horas de sueño: 0\n",
            "Horas de sueño: 0\n",
            "Horas de sueño: 0\n",
            "Horas de sueño: 0\n",
            "Horas de sueño: 0\n",
            "Horas de sueño: 0\n",
            "Horas de sueño: 0\n",
            "Horas de sueño: 0\n",
            "Horas de sueño: 0\n",
            "Horas de sueño: 0\n",
            "Horas de sueño: 0\n",
            "Horas de sueño: 0\n",
            "Horas de sueño: 0\n",
            "Horas de sueño: 0\n",
            "Horas de sueño: 0\n",
            "Horas de sueño: 0\n",
            "Horas de sueño: 0\n",
            "Horas de sueño: 0\n",
            "Horas de sueño: 0\n",
            "Horas de sueño: 0\n",
            "Horas de sueño: 0\n",
            "Horas de sueño: 0\n",
            "Horas de sueño: 0\n",
            "Horas de sueño: 0\n",
            "Horas de sueño: 0\n",
            "Horas de sueño: 0\n",
            "Horas de sueño: 0\n",
            "Horas de sueño: 0\n",
            "Horas de sueño: 0\n",
            "Horas de sueño: 0\n",
            "Horas de sueño: 0\n",
            "Horas de sueño: 0\n",
            "Horas de sueño: 0\n",
            "Horas de sueño: 0\n",
            "Horas de sueño: 0\n",
            "Horas de sueño: 0\n",
            "Horas de sueño: 0\n",
            "Horas de sueño: 0\n",
            "Horas de sueño: 0\n",
            "Horas de sueño: 0\n",
            "Horas de sueño: 0\n",
            "Horas de sueño: 0\n",
            "Horas de sueño: 0\n",
            "Horas de sueño: 0\n",
            "Horas de sueño: 0\n",
            "Horas de sueño: 0\n",
            "Horas de sueño: 0\n",
            "Horas de sueño: 0\n",
            "Horas de sueño: 0\n",
            "Horas de sueño: 0\n",
            "Horas de sueño: 0\n",
            "Horas de sueño: 0\n",
            "Horas de sueño: 0\n",
            "Horas de sueño: 0\n",
            "Horas de sueño: 0\n",
            "Horas de sueño: 0\n",
            "Horas de sueño: 0\n",
            "Horas de sueño: 0\n",
            "Horas de sueño: 0\n",
            "Horas de sueño: 0\n",
            "Horas de sueño: 0\n",
            "Horas de sueño: 0\n",
            "Horas de sueño: 0\n",
            "Horas de sueño: 0\n",
            "Horas de sueño: 0\n",
            "Horas de sueño: 0\n",
            "Horas de sueño: 0\n",
            "Horas de sueño: 0\n",
            "Horas de sueño: 0\n",
            "Horas de sueño: 0\n",
            "Horas de sueño: 0\n",
            "Horas de sueño: 0\n",
            "Horas de sueño: 0\n",
            "Horas de sueño: 0\n",
            "Horas de sueño: 0\n",
            "Horas de sueño: 0\n",
            "Horas de sueño: 0\n",
            "Horas de sueño: 0\n",
            "Horas de sueño: 0\n",
            "Horas de sueño: 0\n",
            "Horas de sueño: 0\n",
            "Horas de sueño: 0\n",
            "Horas de sueño: 0\n",
            "Horas de sueño: 0\n",
            "Horas de sueño: 0\n",
            "Horas de sueño: 0\n",
            "Horas de sueño: 0\n",
            "Horas de sueño: 0\n",
            "Horas de sueño: 0\n",
            "Horas de sueño: 0\n",
            "Horas de sueño: 0\n",
            "Horas de sueño: 0\n",
            "Horas de sueño: 0\n",
            "Horas de sueño: 0\n",
            "Horas de sueño: 0\n",
            "Horas de sueño: 0\n",
            "Horas de sueño: 0\n",
            "Horas de sueño: 0\n",
            "Horas de sueño: 0\n",
            "Horas de sueño: 0\n",
            "Horas de sueño: 0\n",
            "Horas de sueño: 0\n",
            "Horas de sueño: 0\n",
            "Horas de sueño: 0\n",
            "Horas de sueño: 0\n",
            "Horas de sueño: 0\n",
            "Horas de sueño: 0\n",
            "Horas de sueño: 0\n",
            "Horas de sueño: 0\n",
            "Horas de sueño: 0\n",
            "Horas de sueño: 0\n",
            "Horas de sueño: 0\n",
            "Horas de sueño: 0\n",
            "Horas de sueño: 0\n",
            "Horas de sueño: 0\n",
            "Horas de sueño: 0\n",
            "Horas de sueño: 0\n",
            "Horas de sueño: 0\n",
            "Horas de sueño: 0\n",
            "Horas de sueño: 0\n",
            "Horas de sueño: 0\n",
            "Horas de sueño: 0\n",
            "Horas de sueño: 0\n",
            "Horas de sueño: 0\n",
            "Horas de sueño: 0\n",
            "Horas de sueño: 0\n",
            "Horas de sueño: 0\n",
            "Horas de sueño: 0\n",
            "Horas de sueño: 0\n",
            "Horas de sueño: 0\n",
            "Horas de sueño: 0\n",
            "Horas de sueño: 0\n",
            "Horas de sueño: 0\n",
            "Horas de sueño: 0\n",
            "Horas de sueño: 0\n",
            "Horas de sueño: 0\n",
            "Horas de sueño: 0\n",
            "Horas de sueño: 0\n",
            "Horas de sueño: 0\n",
            "Horas de sueño: 0\n",
            "Horas de sueño: 0\n",
            "Horas de sueño: 0\n",
            "Horas de sueño: 0\n",
            "Horas de sueño: 0\n",
            "Horas de sueño: 0\n",
            "Horas de sueño: 0\n",
            "Horas de sueño: 0\n",
            "Horas de sueño: 0\n",
            "Horas de sueño: 0\n",
            "Horas de sueño: 0\n",
            "Horas de sueño: 0\n",
            "Horas de sueño: 0\n",
            "Horas de sueño: 0\n",
            "Horas de sueño: 0\n",
            "Horas de sueño: 0\n",
            "Horas de sueño: 0\n",
            "Horas de sueño: 0\n",
            "Horas de sueño: 0\n",
            "Horas de sueño: 0\n",
            "Horas de sueño: 0\n",
            "Horas de sueño: 0\n",
            "Horas de sueño: 0\n",
            "Horas de sueño: 0\n",
            "Horas de sueño: 0\n",
            "Horas de sueño: 0\n",
            "Horas de sueño: 0\n",
            "Horas de sueño: 0\n",
            "Horas de sueño: 0\n",
            "Horas de sueño: 0\n",
            "Horas de sueño: 0\n",
            "Horas de sueño: 0\n",
            "Horas de sueño: 0\n",
            "Horas de sueño: 0\n",
            "Horas de sueño: 0\n",
            "Horas de sueño: 0\n",
            "Horas de sueño: 0\n",
            "Horas de sueño: 0\n",
            "Horas de sueño: 0\n",
            "Horas de sueño: 0\n",
            "Horas de sueño: 0\n",
            "Horas de sueño: 0\n",
            "Horas de sueño: 0\n",
            "Horas de sueño: 0\n",
            "Horas de sueño: 0\n",
            "Horas de sueño: 0\n",
            "Horas de sueño: 0\n",
            "Horas de sueño: 0\n",
            "Horas de sueño: 0\n",
            "Horas de sueño: 0\n",
            "Horas de sueño: 0\n",
            "Horas de sueño: 0\n",
            "Horas de sueño: 0\n",
            "Horas de sueño: 0\n",
            "Horas de sueño: 0\n",
            "Horas de sueño: 0\n",
            "Horas de sueño: 0\n",
            "Horas de sueño: 0\n",
            "Horas de sueño: 0\n",
            "Horas de sueño: 0\n",
            "Horas de sueño: 0\n",
            "Horas de sueño: 0\n",
            "Horas de sueño: 0\n",
            "Horas de sueño: 0\n",
            "Horas de sueño: 0\n",
            "Horas de sueño: 0\n",
            "Horas de sueño: 0\n",
            "Horas de sueño: 0\n",
            "Horas de sueño: 0\n",
            "Horas de sueño: 0\n",
            "Horas de sueño: 0\n",
            "Horas de sueño: 0\n",
            "Horas de sueño: 0\n",
            "Horas de sueño: 0\n",
            "Horas de sueño: 0\n",
            "Horas de sueño: 0\n",
            "Horas de sueño: 0\n",
            "Horas de sueño: 0\n",
            "Horas de sueño: 0\n",
            "Horas de sueño: 0\n",
            "Horas de sueño: 0\n",
            "Horas de sueño: 0\n",
            "Horas de sueño: 0\n",
            "Horas de sueño: 0\n",
            "Horas de sueño: 0\n",
            "Horas de sueño: 0\n",
            "Horas de sueño: 0\n",
            "Horas de sueño: 0\n",
            "Horas de sueño: 0\n",
            "Horas de sueño: 0\n",
            "Horas de sueño: 0\n",
            "Horas de sueño: 0\n",
            "Horas de sueño: 0\n",
            "Horas de sueño: 0\n",
            "Horas de sueño: 0\n",
            "Horas de sueño: 0\n",
            "Horas de sueño: 0\n",
            "Horas de sueño: 0\n",
            "Horas de sueño: 0\n",
            "Horas de sueño: 0\n",
            "Horas de sueño: 0\n",
            "Horas de sueño: 0\n",
            "Horas de sueño: 0\n",
            "Horas de sueño: 0\n",
            "Horas de sueño: 0\n",
            "Horas de sueño: 0\n",
            "Horas de sueño: 0\n",
            "Horas de sueño: 0\n",
            "Horas de sueño: 0\n",
            "Horas de sueño: 0\n",
            "Horas de sueño: 0\n",
            "Horas de sueño: 0\n",
            "Horas de sueño: 0\n",
            "Horas de sueño: 0\n",
            "Horas de sueño: 0\n",
            "Horas de sueño: 0\n",
            "Horas de sueño: 0\n",
            "Horas de sueño: 0\n",
            "Horas de sueño: 0\n",
            "Horas de sueño: 0\n",
            "Horas de sueño: 0\n",
            "Horas de sueño: 0\n",
            "Horas de sueño: 0\n",
            "Horas de sueño: 0\n",
            "Horas de sueño: 0\n",
            "Horas de sueño: 0\n",
            "Horas de sueño: 0\n",
            "Horas de sueño: 0\n",
            "Horas de sueño: 0\n",
            "Horas de sueño: 0\n",
            "Horas de sueño: 0\n",
            "Horas de sueño: 0\n",
            "Horas de sueño: 0\n",
            "Horas de sueño: 0\n",
            "Horas de sueño: 0\n",
            "Horas de sueño: 0\n",
            "Horas de sueño: 0\n",
            "Horas de sueño: 0\n",
            "Horas de sueño: 0\n",
            "Horas de sueño: 0\n",
            "Horas de sueño: 0\n",
            "Horas de sueño: 0\n",
            "Horas de sueño: 0\n",
            "Horas de sueño: 0\n",
            "Horas de sueño: 0\n",
            "Horas de sueño: 0\n",
            "Horas de sueño: 0\n",
            "Horas de sueño: 0\n",
            "Horas de sueño: 0\n",
            "Horas de sueño: 0\n",
            "Horas de sueño: 0\n",
            "Horas de sueño: 0\n",
            "Horas de sueño: 0\n",
            "Horas de sueño: 0\n",
            "Horas de sueño: 0\n",
            "Horas de sueño: 0\n",
            "Horas de sueño: 0\n",
            "Horas de sueño: 0\n",
            "Horas de sueño: 0\n",
            "Horas de sueño: 0\n",
            "Horas de sueño: 0\n",
            "Horas de sueño: 0\n",
            "Horas de sueño: 0\n",
            "Horas de sueño: 0\n",
            "Horas de sueño: 0\n",
            "Horas de sueño: 0\n",
            "Horas de sueño: 0\n",
            "Horas de sueño: 0\n",
            "Horas de sueño: 0\n",
            "Horas de sueño: 0\n",
            "Horas de sueño: 0\n",
            "Horas de sueño: 0\n",
            "Horas de sueño: 0\n",
            "Horas de sueño: 0\n",
            "Horas de sueño: 0\n",
            "Horas de sueño: 0\n",
            "Horas de sueño: 0\n",
            "Horas de sueño: 0\n",
            "Horas de sueño: 0\n",
            "Horas de sueño: 0\n",
            "Horas de sueño: 0\n",
            "Horas de sueño: 0\n",
            "Horas de sueño: 0\n",
            "Horas de sueño: 0\n",
            "Horas de sueño: 0\n",
            "Horas de sueño: 0\n",
            "Horas de sueño: 0\n",
            "Horas de sueño: 0\n",
            "Horas de sueño: 0\n",
            "Horas de sueño: 0\n",
            "Horas de sueño: 0\n",
            "Horas de sueño: 0\n",
            "Horas de sueño: 0\n",
            "Horas de sueño: 0\n",
            "Horas de sueño: 0\n",
            "Horas de sueño: 0\n",
            "Horas de sueño: 0\n",
            "Horas de sueño: 0\n",
            "Horas de sueño: 0\n",
            "Horas de sueño: 0\n",
            "Horas de sueño: 0\n",
            "Horas de sueño: 0\n",
            "Horas de sueño: 0\n",
            "Horas de sueño: 0\n",
            "Horas de sueño: 0\n",
            "Horas de sueño: 0\n",
            "Horas de sueño: 0\n",
            "Horas de sueño: 0\n",
            "Horas de sueño: 0\n",
            "Horas de sueño: 0\n",
            "Horas de sueño: 0\n",
            "Horas de sueño: 0\n",
            "Horas de sueño: 0\n",
            "Horas de sueño: 0\n",
            "Horas de sueño: 0\n",
            "Horas de sueño: 0\n",
            "Horas de sueño: 0\n",
            "Horas de sueño: 0\n",
            "Horas de sueño: 0\n",
            "Horas de sueño: 0\n",
            "Horas de sueño: 0\n",
            "Horas de sueño: 0\n",
            "Horas de sueño: 0\n",
            "Horas de sueño: 0\n",
            "Horas de sueño: 0\n",
            "Horas de sueño: 0\n",
            "Horas de sueño: 0\n",
            "Horas de sueño: 0\n",
            "Horas de sueño: 0\n",
            "Horas de sueño: 0\n",
            "Horas de sueño: 0\n",
            "Horas de sueño: 0\n",
            "Horas de sueño: 0\n",
            "Horas de sueño: 0\n",
            "Horas de sueño: 0\n",
            "Horas de sueño: 0\n",
            "Horas de sueño: 0\n",
            "Horas de sueño: 0\n",
            "Horas de sueño: 0\n",
            "Horas de sueño: 0\n",
            "Horas de sueño: 0\n",
            "Horas de sueño: 0\n",
            "Horas de sueño: 0\n",
            "Horas de sueño: 0\n",
            "Horas de sueño: 0\n",
            "Horas de sueño: 0\n",
            "Horas de sueño: 0\n",
            "Horas de sueño: 0\n",
            "Horas de sueño: 0\n",
            "Horas de sueño: 0\n",
            "Horas de sueño: 0\n",
            "Horas de sueño: 0\n",
            "Horas de sueño: 0\n",
            "Horas de sueño: 0\n",
            "Horas de sueño: 0\n",
            "Horas de sueño: 0\n",
            "Horas de sueño: 0\n",
            "Horas de sueño: 0\n",
            "Horas de sueño: 0\n",
            "Horas de sueño: 0\n",
            "Horas de sueño: 0\n",
            "Horas de sueño: 0\n",
            "Horas de sueño: 0\n",
            "Horas de sueño: 0\n",
            "Horas de sueño: 0\n",
            "Horas de sueño: 0\n",
            "Horas de sueño: 0\n",
            "Horas de sueño: 0\n",
            "Horas de sueño: 0\n",
            "Horas de sueño: 0\n",
            "Horas de sueño: 0\n",
            "Horas de sueño: 0\n",
            "Horas de sueño: 0\n",
            "Horas de sueño: 0\n",
            "Horas de sueño: 0\n",
            "Horas de sueño: 0\n",
            "Horas de sueño: 0\n",
            "Horas de sueño: 0\n",
            "Horas de sueño: 0\n",
            "Horas de sueño: 0\n",
            "Horas de sueño: 0\n",
            "Horas de sueño: 0\n",
            "Horas de sueño: 0\n",
            "Horas de sueño: 0\n",
            "Horas de sueño: 0\n",
            "Horas de sueño: 0\n",
            "Horas de sueño: 0\n",
            "Horas de sueño: 0\n",
            "Horas de sueño: 0\n",
            "Horas de sueño: 0\n",
            "Horas de sueño: 0\n",
            "Horas de sueño: 0\n",
            "Horas de sueño: 0\n",
            "Horas de sueño: 0\n",
            "Horas de sueño: 0\n",
            "Horas de sueño: 0\n",
            "Horas de sueño: 0\n",
            "Horas de sueño: 0\n",
            "Horas de sueño: 0\n",
            "Horas de sueño: 0\n",
            "Horas de sueño: 0\n",
            "Horas de sueño: 0\n",
            "Horas de sueño: 0\n",
            "Horas de sueño: 0\n",
            "Horas de sueño: 0\n",
            "Horas de sueño: 0\n",
            "Horas de sueño: 0\n",
            "Horas de sueño: 0\n",
            "Horas de sueño: 0\n",
            "Horas de sueño: 0\n",
            "Horas de sueño: 0\n",
            "Horas de sueño: 0\n",
            "Horas de sueño: 0\n",
            "Horas de sueño: 0\n",
            "Horas de sueño: 0\n",
            "Horas de sueño: 0\n",
            "Horas de sueño: 0\n",
            "Horas de sueño: 0\n",
            "Horas de sueño: 0\n",
            "Horas de sueño: 0\n",
            "Horas de sueño: 0\n",
            "Horas de sueño: 0\n",
            "Horas de sueño: 0\n",
            "Horas de sueño: 0\n",
            "Horas de sueño: 0\n",
            "Horas de sueño: 0\n",
            "Horas de sueño: 0\n",
            "Horas de sueño: 0\n",
            "Horas de sueño: 0\n",
            "Horas de sueño: 0\n",
            "Horas de sueño: 0\n",
            "Horas de sueño: 0\n",
            "Horas de sueño: 0\n",
            "Horas de sueño: 0\n",
            "Horas de sueño: 0\n",
            "Horas de sueño: 0\n",
            "Horas de sueño: 0\n",
            "Horas de sueño: 0\n",
            "Horas de sueño: 0\n",
            "Horas de sueño: 0\n",
            "Horas de sueño: 0\n",
            "Horas de sueño: 0\n",
            "Horas de sueño: 0\n",
            "Horas de sueño: 0\n",
            "Horas de sueño: 0\n",
            "Horas de sueño: 0\n",
            "Horas de sueño: 0\n",
            "Horas de sueño: 0\n",
            "Horas de sueño: 0\n",
            "Horas de sueño: 0\n",
            "Horas de sueño: 0\n",
            "Horas de sueño: 0\n",
            "Horas de sueño: 0\n",
            "Horas de sueño: 0\n",
            "Horas de sueño: 0\n",
            "Horas de sueño: 0\n",
            "Horas de sueño: 0\n",
            "Horas de sueño: 0\n",
            "Horas de sueño: 0\n",
            "Horas de sueño: 0\n",
            "Horas de sueño: 0\n",
            "Horas de sueño: 0\n",
            "Horas de sueño: 0\n",
            "Horas de sueño: 0\n",
            "Horas de sueño: 0\n",
            "Horas de sueño: 0\n",
            "Horas de sueño: 0\n",
            "Horas de sueño: 0\n",
            "Horas de sueño: 0\n",
            "Horas de sueño: 0\n",
            "Horas de sueño: 0\n",
            "Horas de sueño: 0\n",
            "Horas de sueño: 0\n",
            "Horas de sueño: 0\n",
            "Horas de sueño: 0\n",
            "Horas de sueño: 0\n",
            "Horas de sueño: 0\n",
            "Horas de sueño: 0\n",
            "Horas de sueño: 0\n",
            "Horas de sueño: 0\n",
            "Horas de sueño: 0\n",
            "Horas de sueño: 0\n",
            "Horas de sueño: 0\n",
            "Horas de sueño: 0\n",
            "Horas de sueño: 0\n",
            "Horas de sueño: 0\n",
            "Horas de sueño: 0\n",
            "Horas de sueño: 0\n",
            "Horas de sueño: 0\n",
            "Horas de sueño: 0\n",
            "Horas de sueño: 0\n",
            "Horas de sueño: 0\n",
            "Horas de sueño: 0\n",
            "Horas de sueño: 0\n",
            "Horas de sueño: 0\n",
            "Horas de sueño: 0\n",
            "Horas de sueño: 0\n",
            "Horas de sueño: 0\n",
            "Horas de sueño: 0\n",
            "Horas de sueño: 0\n",
            "Horas de sueño: 0\n",
            "Horas de sueño: 0\n",
            "Horas de sueño: 0\n",
            "Horas de sueño: 0\n",
            "Horas de sueño: 0\n",
            "Horas de sueño: 0\n",
            "Horas de sueño: 0\n",
            "Horas de sueño: 0\n",
            "Horas de sueño: 0\n",
            "Horas de sueño: 0\n",
            "Horas de sueño: 0\n",
            "Horas de sueño: 0\n",
            "Horas de sueño: 0\n",
            "Horas de sueño: 0\n",
            "Horas de sueño: 0\n",
            "Horas de sueño: 0\n",
            "Horas de sueño: 0\n",
            "Horas de sueño: 0\n",
            "Horas de sueño: 0\n",
            "Horas de sueño: 0\n",
            "Horas de sueño: 0\n",
            "Horas de sueño: 0\n",
            "Horas de sueño: 0\n",
            "Horas de sueño: 0\n",
            "Horas de sueño: 0\n",
            "Horas de sueño: 0\n",
            "Horas de sueño: 0\n",
            "Horas de sueño: 0\n",
            "Horas de sueño: 0\n",
            "Horas de sueño: 0\n",
            "Horas de sueño: 0\n",
            "Horas de sueño: 0\n",
            "Horas de sueño: 0\n",
            "Horas de sueño: 0\n",
            "Horas de sueño: 0\n",
            "Horas de sueño: 0\n",
            "Horas de sueño: 0\n",
            "Horas de sueño: 0\n",
            "Horas de sueño: 0\n",
            "Horas de sueño: 0\n",
            "Horas de sueño: 0\n",
            "Horas de sueño: 0\n",
            "Horas de sueño: 0\n",
            "Horas de sueño: 0\n",
            "Horas de sueño: 0\n",
            "Horas de sueño: 0\n",
            "Horas de sueño: 0\n",
            "Horas de sueño: 0\n",
            "Horas de sueño: 0\n",
            "Horas de sueño: 0\n",
            "Horas de sueño: 0\n",
            "Horas de sueño: 0\n",
            "Horas de sueño: 0\n",
            "Horas de sueño: 0\n",
            "Horas de sueño: 0\n",
            "Horas de sueño: 0\n",
            "Horas de sueño: 0\n",
            "Horas de sueño: 0\n",
            "Horas de sueño: 0\n",
            "Horas de sueño: 0\n",
            "Horas de sueño: 0\n",
            "Horas de sueño: 0\n",
            "Horas de sueño: 0\n",
            "Horas de sueño: 0\n",
            "Horas de sueño: 0\n",
            "Horas de sueño: 0\n",
            "Horas de sueño: 0\n",
            "Horas de sueño: 0\n",
            "Horas de sueño: 0\n",
            "Horas de sueño: 0\n",
            "Horas de sueño: 0\n",
            "Horas de sueño: 0\n",
            "Horas de sueño: 0\n",
            "Horas de sueño: 0\n",
            "Horas de sueño: 0\n",
            "Horas de sueño: 0\n",
            "Horas de sueño: 0\n",
            "Horas de sueño: 0\n",
            "Horas de sueño: 0\n",
            "Horas de sueño: 0\n",
            "Horas de sueño: 0\n",
            "Horas de sueño: 0\n",
            "Horas de sueño: 0\n",
            "Horas de sueño: 0\n",
            "Horas de sueño: 0\n",
            "Horas de sueño: 0\n",
            "Horas de sueño: 0\n",
            "Horas de sueño: 0\n",
            "Horas de sueño: 0\n",
            "Horas de sueño: 0\n",
            "Horas de sueño: 0\n",
            "Horas de sueño: 0\n",
            "Horas de sueño: 0\n",
            "Horas de sueño: 0\n",
            "Horas de sueño: 0\n",
            "Horas de sueño: 0\n",
            "Horas de sueño: 0\n",
            "Horas de sueño: 0\n",
            "Horas de sueño: 0\n",
            "Horas de sueño: 0\n",
            "Horas de sueño: 0\n",
            "Horas de sueño: 0\n",
            "Horas de sueño: 0\n",
            "Horas de sueño: 0\n",
            "Horas de sueño: 0\n",
            "Horas de sueño: 0\n",
            "Horas de sueño: 0\n",
            "Horas de sueño: 0\n",
            "Horas de sueño: 0\n",
            "Horas de sueño: 0\n",
            "Horas de sueño: 0\n",
            "Horas de sueño: 0\n",
            "Horas de sueño: 0\n",
            "Horas de sueño: 0\n",
            "Horas de sueño: 0\n",
            "Horas de sueño: 0\n",
            "Horas de sueño: 0\n",
            "Horas de sueño: 0\n",
            "Horas de sueño: 0\n",
            "Horas de sueño: 0\n",
            "Horas de sueño: 0\n",
            "Horas de sueño: 0\n",
            "Horas de sueño: 0\n",
            "Horas de sueño: 0\n",
            "Horas de sueño: 0\n",
            "Horas de sueño: 0\n",
            "Horas de sueño: 0\n",
            "Horas de sueño: 0\n",
            "Horas de sueño: 0\n",
            "Horas de sueño: 0\n",
            "Horas de sueño: 0\n",
            "Horas de sueño: 0\n",
            "Horas de sueño: 0\n",
            "Horas de sueño: 0\n",
            "Horas de sueño: 0\n",
            "Horas de sueño: 0\n",
            "Horas de sueño: 0\n",
            "Horas de sueño: 0\n",
            "Horas de sueño: 0\n",
            "Horas de sueño: 0\n",
            "Horas de sueño: 0\n",
            "Horas de sueño: 0\n",
            "Horas de sueño: 0\n",
            "Horas de sueño: 0\n",
            "Horas de sueño: 0\n",
            "Horas de sueño: 0\n",
            "Horas de sueño: 0\n",
            "Horas de sueño: 0\n",
            "Horas de sueño: 0\n",
            "Horas de sueño: 0\n",
            "Horas de sueño: 0\n",
            "Horas de sueño: 0\n",
            "Horas de sueño: 0\n",
            "Horas de sueño: 0\n",
            "Horas de sueño: 0\n",
            "Horas de sueño: 0\n",
            "Horas de sueño: 0\n",
            "Horas de sueño: 0\n",
            "Horas de sueño: 0\n",
            "Horas de sueño: 0\n",
            "Horas de sueño: 0\n",
            "Horas de sueño: 0\n",
            "Horas de sueño: 0\n",
            "Horas de sueño: 0\n",
            "Horas de sueño: 0\n",
            "Horas de sueño: 0\n",
            "Horas de sueño: 0\n",
            "Horas de sueño: 0\n",
            "Horas de sueño: 0\n",
            "Horas de sueño: 0\n",
            "Horas de sueño: 0\n",
            "Horas de sueño: 0\n",
            "Horas de sueño: 0\n",
            "Horas de sueño: 0\n",
            "Horas de sueño: 0\n",
            "Horas de sueño: 0\n",
            "Horas de sueño: 0\n",
            "Horas de sueño: 0\n",
            "Horas de sueño: 0\n",
            "Horas de sueño: 0\n",
            "Horas de sueño: 0\n",
            "Horas de sueño: 0\n",
            "Horas de sueño: 0\n",
            "Horas de sueño: 0\n",
            "Horas de sueño: 0\n",
            "Horas de sueño: 0\n",
            "Horas de sueño: 0\n",
            "Horas de sueño: 0\n",
            "Horas de sueño: 0\n",
            "Horas de sueño: 0\n",
            "Horas de sueño: 0\n",
            "Horas de sueño: 0\n",
            "Horas de sueño: 0\n",
            "Horas de sueño: 0\n",
            "Horas de sueño: 0\n",
            "Horas de sueño: 0\n",
            "Horas de sueño: 0\n",
            "Horas de sueño: 0\n",
            "Horas de sueño: 0\n",
            "Horas de sueño: 0\n",
            "Horas de sueño: 0\n",
            "Horas de sueño: 0\n",
            "Horas de sueño: 0\n",
            "Horas de sueño: 0\n",
            "Horas de sueño: 0\n",
            "Horas de sueño: 0\n",
            "Horas de sueño: 0\n",
            "Horas de sueño: 0\n",
            "Horas de sueño: 0\n",
            "Horas de sueño: 0\n",
            "Horas de sueño: 0\n",
            "Horas de sueño: 0\n",
            "Horas de sueño: 0\n",
            "Horas de sueño: 0\n",
            "Horas de sueño: 0\n",
            "Horas de sueño: 0\n",
            "Horas de sueño: 0\n",
            "Horas de sueño: 0\n",
            "Horas de sueño: 0\n",
            "Horas de sueño: 0\n",
            "Horas de sueño: 0\n",
            "Horas de sueño: 0\n",
            "Horas de sueño: 0\n",
            "Horas de sueño: 0\n",
            "Horas de sueño: 0\n",
            "Horas de sueño: 0\n",
            "Horas de sueño: 0\n",
            "Horas de sueño: 0\n",
            "Horas de sueño: 0\n",
            "Horas de sueño: 0\n",
            "Horas de sueño: 0\n",
            "Horas de sueño: 0\n",
            "Horas de sueño: 0\n",
            "Horas de sueño: 0\n",
            "Horas de sueño: 0\n",
            "Horas de sueño: 0\n",
            "Horas de sueño: 0\n",
            "Horas de sueño: 0\n",
            "Horas de sueño: 0\n",
            "Horas de sueño: 0\n",
            "Horas de sueño: 0\n",
            "Horas de sueño: 0\n",
            "Horas de sueño: 0\n",
            "Horas de sueño: 0\n",
            "Horas de sueño: 0\n",
            "Horas de sueño: 0\n",
            "Horas de sueño: 0\n",
            "Horas de sueño: 0\n",
            "Horas de sueño: 0\n",
            "Horas de sueño: 0\n",
            "Horas de sueño: 0\n",
            "Horas de sueño: 0\n",
            "Horas de sueño: 0\n",
            "Horas de sueño: 0\n",
            "Horas de sueño: 0\n",
            "Horas de sueño: 0\n",
            "Horas de sueño: 0\n",
            "Horas de sueño: 0\n",
            "Horas de sueño: 0\n",
            "Horas de sueño: 0\n",
            "Horas de sueño: 0\n",
            "Horas de sueño: 0\n",
            "Horas de sueño: 0\n",
            "Horas de sueño: 0\n",
            "Horas de sueño: 0\n",
            "Horas de sueño: 0\n",
            "Horas de sueño: 0\n",
            "Horas de sueño: 0\n",
            "Horas de sueño: 0\n",
            "Horas de sueño: 0\n",
            "Horas de sueño: 0\n",
            "Horas de sueño: 0\n",
            "Horas de sueño: 0\n",
            "Horas de sueño: 0\n",
            "Horas de sueño: 0\n",
            "Horas de sueño: 0\n",
            "Horas de sueño: 0\n",
            "Horas de sueño: 0\n",
            "Horas de sueño: 0\n",
            "Horas de sueño: 0\n",
            "Horas de sueño: 0\n",
            "Horas de sueño: 0\n",
            "Horas de sueño: 0\n",
            "Horas de sueño: 0\n",
            "Horas de sueño: 0\n",
            "Horas de sueño: 0\n",
            "Horas de sueño: 0\n",
            "Horas de sueño: 0\n",
            "Horas de sueño: 0\n",
            "Horas de sueño: 0\n",
            "Horas de sueño: 0\n",
            "Horas de sueño: 0\n",
            "Horas de sueño: 0\n",
            "Horas de sueño: 0\n",
            "Horas de sueño: 0\n",
            "Horas de sueño: 0\n",
            "Horas de sueño: 0\n",
            "Horas de sueño: 0\n",
            "Horas de sueño: 0\n",
            "Horas de sueño: 0\n",
            "Horas de sueño: 0\n",
            "Horas de sueño: 0\n",
            "Horas de sueño: 0\n",
            "Horas de sueño: 0\n",
            "Horas de sueño: 0\n",
            "Horas de sueño: 0\n",
            "Horas de sueño: 0\n",
            "Horas de sueño: 0\n",
            "Horas de sueño: 0\n",
            "Horas de sueño: 0\n",
            "Horas de sueño: 0\n",
            "Horas de sueño: 0\n",
            "Horas de sueño: 0\n",
            "Horas de sueño: 0\n",
            "Horas de sueño: 0\n",
            "Horas de sueño: 0\n",
            "Horas de sueño: 0\n",
            "Horas de sueño: 0\n",
            "Horas de sueño: 0\n",
            "Horas de sueño: 0\n",
            "Horas de sueño: 0\n",
            "Horas de sueño: 0\n",
            "Horas de sueño: 0\n",
            "Horas de sueño: 0\n",
            "Horas de sueño: 0\n",
            "Horas de sueño: 0\n",
            "Horas de sueño: 0\n",
            "Horas de sueño: 0\n",
            "Horas de sueño: 0\n",
            "Horas de sueño: 0\n",
            "Horas de sueño: 0\n",
            "Horas de sueño: 0\n",
            "Horas de sueño: 0\n",
            "Horas de sueño: 0\n",
            "Horas de sueño: 0\n",
            "Horas de sueño: 0\n",
            "Horas de sueño: 0\n",
            "Horas de sueño: 0\n",
            "Horas de sueño: 0\n",
            "Horas de sueño: 0\n",
            "Horas de sueño: 0\n",
            "Horas de sueño: 0\n",
            "Horas de sueño: 0\n",
            "Horas de sueño: 0\n",
            "Horas de sueño: 0\n",
            "Horas de sueño: 0\n",
            "Horas de sueño: 0\n",
            "Horas de sueño: 0\n",
            "Horas de sueño: 0\n",
            "Horas de sueño: 0\n",
            "Horas de sueño: 0\n",
            "Horas de sueño: 0\n",
            "Horas de sueño: 0\n",
            "Horas de sueño: 0\n",
            "Horas de sueño: 0\n",
            "Horas de sueño: 0\n",
            "Horas de sueño: 0\n",
            "Horas de sueño: 0\n",
            "Horas de sueño: 0\n",
            "Horas de sueño: 0\n",
            "Horas de sueño: 0\n",
            "Horas de sueño: 0\n",
            "Horas de sueño: 0\n",
            "Horas de sueño: 0\n",
            "Horas de sueño: 0\n",
            "Horas de sueño: 0\n",
            "Horas de sueño: 0\n",
            "Horas de sueño: 0\n",
            "Horas de sueño: 0\n",
            "Horas de sueño: 0\n",
            "Horas de sueño: 0\n",
            "Horas de sueño: 0\n",
            "Horas de sueño: 0\n",
            "Horas de sueño: 0\n",
            "Horas de sueño: 0\n",
            "Horas de sueño: 0\n",
            "Horas de sueño: 0\n",
            "Horas de sueño: 0\n",
            "Horas de sueño: 0\n",
            "Horas de sueño: 0\n",
            "Horas de sueño: 0\n",
            "Horas de sueño: 0\n",
            "Horas de sueño: 0\n",
            "Horas de sueño: 0\n",
            "Horas de sueño: 0\n",
            "Horas de sueño: 0\n",
            "Horas de sueño: 0\n",
            "Horas de sueño: 0\n",
            "Horas de sueño: 0\n",
            "Horas de sueño: 0\n",
            "Horas de sueño: 0\n",
            "Horas de sueño: 0\n",
            "Horas de sueño: 0\n",
            "Horas de sueño: 0\n",
            "Horas de sueño: 0\n",
            "Horas de sueño: 0\n",
            "Horas de sueño: 0\n",
            "Horas de sueño: 0\n",
            "Horas de sueño: 0\n",
            "Horas de sueño: 0\n",
            "Horas de sueño: 0\n",
            "Horas de sueño: 0\n",
            "Horas de sueño: 0\n",
            "Horas de sueño: 0\n",
            "Horas de sueño: 0\n",
            "Horas de sueño: 0\n",
            "Horas de sueño: 0\n",
            "Horas de sueño: 0\n",
            "Horas de sueño: 0\n",
            "Horas de sueño: 0\n",
            "Horas de sueño: 0\n",
            "Horas de sueño: 0\n",
            "Horas de sueño: 0\n",
            "Horas de sueño: 0\n",
            "Horas de sueño: 0\n",
            "Horas de sueño: 0\n",
            "Horas de sueño: 0\n",
            "Horas de sueño: 0\n",
            "Horas de sueño: 0\n",
            "Horas de sueño: 0\n",
            "Horas de sueño: 0\n",
            "Horas de sueño: 0\n",
            "Horas de sueño: 0\n",
            "Horas de sueño: 0\n",
            "Horas de sueño: 0\n",
            "Horas de sueño: 0\n",
            "Horas de sueño: 0\n",
            "Horas de sueño: 0\n",
            "Horas de sueño: 0\n",
            "Horas de sueño: 0\n",
            "Horas de sueño: 0\n",
            "Horas de sueño: 0\n",
            "Horas de sueño: 0\n",
            "Horas de sueño: 0\n",
            "Horas de sueño: 0\n",
            "Horas de sueño: 0\n",
            "Horas de sueño: 0\n",
            "Horas de sueño: 0\n",
            "Horas de sueño: 0\n",
            "Horas de sueño: 0\n",
            "Horas de sueño: 0\n",
            "Horas de sueño: 0\n",
            "Horas de sueño: 0\n",
            "Horas de sueño: 0\n",
            "Horas de sueño: 0\n",
            "Horas de sueño: 0\n",
            "Horas de sueño: 0\n",
            "Horas de sueño: 0\n",
            "Horas de sueño: 0\n",
            "Horas de sueño: 0\n",
            "Horas de sueño: 0\n",
            "Horas de sueño: 0\n",
            "Horas de sueño: 0\n",
            "Horas de sueño: 0\n",
            "Horas de sueño: 0\n",
            "Horas de sueño: 0\n",
            "Horas de sueño: 0\n",
            "Horas de sueño: 0\n",
            "Horas de sueño: 0\n",
            "Horas de sueño: 0\n",
            "Horas de sueño: 0\n",
            "Horas de sueño: 0\n",
            "Horas de sueño: 0\n",
            "Horas de sueño: 0\n",
            "Horas de sueño: 0\n",
            "Horas de sueño: 0\n",
            "Horas de sueño: 0\n",
            "Horas de sueño: 0\n",
            "Horas de sueño: 0\n",
            "Horas de sueño: 0\n",
            "Horas de sueño: 0\n",
            "Horas de sueño: 0\n",
            "Horas de sueño: 0\n",
            "Horas de sueño: 0\n",
            "Horas de sueño: 0\n",
            "Horas de sueño: 0\n",
            "Horas de sueño: 0\n",
            "Horas de sueño: 0\n",
            "Horas de sueño: 0\n",
            "Horas de sueño: 0\n",
            "Horas de sueño: 0\n",
            "Horas de sueño: 0\n",
            "Horas de sueño: 0\n",
            "Horas de sueño: 0\n",
            "Horas de sueño: 0\n",
            "Horas de sueño: 0\n",
            "Horas de sueño: 0\n",
            "Horas de sueño: 0\n",
            "Horas de sueño: 0\n",
            "Horas de sueño: 0\n",
            "Horas de sueño: 0\n",
            "Horas de sueño: 0\n",
            "Horas de sueño: 0\n",
            "Horas de sueño: 0\n",
            "Horas de sueño: 0\n",
            "Horas de sueño: 0\n",
            "Horas de sueño: 0\n",
            "Horas de sueño: 0\n",
            "Horas de sueño: 0\n",
            "Horas de sueño: 0\n",
            "Horas de sueño: 0\n",
            "Horas de sueño: 0\n",
            "Horas de sueño: 0\n",
            "Horas de sueño: 0\n",
            "Horas de sueño: 0\n",
            "Horas de sueño: 0\n",
            "Horas de sueño: 0\n",
            "Horas de sueño: 0\n",
            "Horas de sueño: 0\n",
            "Horas de sueño: 0\n",
            "Horas de sueño: 0\n",
            "Horas de sueño: 0\n",
            "Horas de sueño: 0\n",
            "Horas de sueño: 0\n",
            "Horas de sueño: 0\n",
            "Horas de sueño: 0\n",
            "Horas de sueño: 0\n",
            "Horas de sueño: 0\n",
            "Horas de sueño: 0\n",
            "Horas de sueño: 0\n",
            "Horas de sueño: 0\n",
            "Horas de sueño: 0\n",
            "Horas de sueño: 0\n",
            "Horas de sueño: 0\n",
            "Horas de sueño: 0\n",
            "Horas de sueño: 0\n",
            "Horas de sueño: 0\n",
            "Horas de sueño: 0\n",
            "Horas de sueño: 0\n",
            "Horas de sueño: 0\n",
            "Horas de sueño: 0\n",
            "Horas de sueño: 0\n",
            "Horas de sueño: 0\n",
            "Horas de sueño: 0\n",
            "Horas de sueño: 0\n",
            "Horas de sueño: 0\n",
            "Horas de sueño: 0\n",
            "Horas de sueño: 0\n",
            "Horas de sueño: 0\n",
            "Horas de sueño: 0\n",
            "Horas de sueño: 0\n",
            "Horas de sueño: 0\n",
            "Horas de sueño: 0\n",
            "Horas de sueño: 0\n",
            "Horas de sueño: 0\n",
            "Horas de sueño: 0\n",
            "Horas de sueño: 0\n",
            "Horas de sueño: 0\n",
            "Horas de sueño: 0\n",
            "Horas de sueño: 0\n",
            "Horas de sueño: 0\n",
            "Horas de sueño: 0\n",
            "Horas de sueño: 0\n",
            "Horas de sueño: 0\n",
            "Horas de sueño: 0\n",
            "Horas de sueño: 0\n",
            "Horas de sueño: 0\n",
            "Horas de sueño: 0\n",
            "Horas de sueño: 0\n",
            "Horas de sueño: 0\n",
            "Horas de sueño: 0\n",
            "Horas de sueño: 0\n",
            "Horas de sueño: 0\n",
            "Horas de sueño: 0\n",
            "Horas de sueño: 0\n",
            "Horas de sueño: 0\n",
            "Horas de sueño: 0\n",
            "Horas de sueño: 0\n",
            "Horas de sueño: 0\n",
            "Horas de sueño: 0\n",
            "Horas de sueño: 0\n",
            "Horas de sueño: 0\n",
            "Horas de sueño: 0\n",
            "Horas de sueño: 0\n",
            "Horas de sueño: 0\n",
            "Horas de sueño: 0\n",
            "Horas de sueño: 0\n",
            "Horas de sueño: 0\n",
            "Horas de sueño: 0\n",
            "Horas de sueño: 0\n",
            "Horas de sueño: 0\n",
            "Horas de sueño: 0\n",
            "Horas de sueño: 0\n",
            "Horas de sueño: 0\n",
            "Horas de sueño: 0\n",
            "Horas de sueño: 0\n",
            "Horas de sueño: 0\n",
            "Horas de sueño: 0\n",
            "Horas de sueño: 0\n",
            "Horas de sueño: 0\n",
            "Horas de sueño: 0\n",
            "Horas de sueño: 0\n",
            "Horas de sueño: 0\n",
            "Horas de sueño: 0\n",
            "Horas de sueño: 0\n",
            "Horas de sueño: 0\n",
            "Horas de sueño: 0\n",
            "Horas de sueño: 0\n",
            "Horas de sueño: 0\n",
            "Horas de sueño: 0\n",
            "Horas de sueño: 0\n",
            "Horas de sueño: 0\n",
            "Horas de sueño: 0\n",
            "Horas de sueño: 0\n",
            "Horas de sueño: 0\n",
            "Horas de sueño: 0\n",
            "Horas de sueño: 0\n",
            "Horas de sueño: 0\n",
            "Horas de sueño: 0\n",
            "Horas de sueño: 0\n",
            "Horas de sueño: 0\n",
            "Horas de sueño: 0\n",
            "Horas de sueño: 0\n",
            "Horas de sueño: 0\n",
            "Horas de sueño: 0\n",
            "Horas de sueño: 0\n",
            "Horas de sueño: 0\n",
            "Horas de sueño: 0\n",
            "Horas de sueño: 0\n",
            "Horas de sueño: 0\n",
            "Horas de sueño: 0\n",
            "Horas de sueño: 0\n",
            "Horas de sueño: 0\n",
            "Horas de sueño: 0\n",
            "Horas de sueño: 0\n",
            "Horas de sueño: 0\n",
            "Horas de sueño: 0\n",
            "Horas de sueño: 0\n",
            "Horas de sueño: 0\n",
            "Horas de sueño: 0\n",
            "Horas de sueño: 0\n",
            "Horas de sueño: 0\n",
            "Horas de sueño: 0\n",
            "Horas de sueño: 0\n",
            "Horas de sueño: 0\n",
            "Horas de sueño: 0\n",
            "Horas de sueño: 0\n",
            "Horas de sueño: 0\n",
            "Horas de sueño: 0\n",
            "Horas de sueño: 0\n",
            "Horas de sueño: 0\n",
            "Horas de sueño: 0\n",
            "Horas de sueño: 0\n",
            "Horas de sueño: 0\n",
            "Horas de sueño: 0\n",
            "Horas de sueño: 0\n",
            "Horas de sueño: 0\n",
            "Horas de sueño: 0\n",
            "Horas de sueño: 0\n",
            "Horas de sueño: 0\n",
            "Horas de sueño: 0\n",
            "Horas de sueño: 0\n",
            "Horas de sueño: 0\n",
            "Horas de sueño: 0\n",
            "Horas de sueño: 0\n",
            "Horas de sueño: 0\n",
            "Horas de sueño: 0\n",
            "Horas de sueño: 0\n",
            "Horas de sueño: 0\n",
            "Horas de sueño: 0\n",
            "Horas de sueño: 0\n",
            "Horas de sueño: 0\n",
            "Horas de sueño: 0\n",
            "Horas de sueño: 0\n",
            "Horas de sueño: 0\n",
            "Horas de sueño: 0\n",
            "Horas de sueño: 0\n",
            "Horas de sueño: 0\n",
            "Horas de sueño: 0\n",
            "Horas de sueño: 0\n",
            "Horas de sueño: 0\n",
            "Horas de sueño: 0\n",
            "Horas de sueño: 0\n",
            "Horas de sueño: 0\n",
            "Horas de sueño: 0\n",
            "Horas de sueño: 0\n",
            "Horas de sueño: 0\n",
            "Horas de sueño: 0\n",
            "Horas de sueño: 0\n",
            "Horas de sueño: 0\n",
            "Horas de sueño: 0\n",
            "Horas de sueño: 0\n",
            "Horas de sueño: 0\n",
            "Horas de sueño: 0\n",
            "Horas de sueño: 0\n",
            "Horas de sueño: 0\n",
            "Horas de sueño: 0\n",
            "Horas de sueño: 0\n",
            "Horas de sueño: 0\n",
            "Horas de sueño: 0\n",
            "Horas de sueño: 0\n",
            "Horas de sueño: 0\n",
            "Horas de sueño: 0\n",
            "Horas de sueño: 0\n",
            "Horas de sueño: 0\n",
            "Horas de sueño: 0\n",
            "Horas de sueño: 0\n",
            "Horas de sueño: 0\n",
            "Horas de sueño: 0\n",
            "Horas de sueño: 0\n",
            "Horas de sueño: 0\n",
            "Horas de sueño: 0\n",
            "Horas de sueño: 0\n",
            "Horas de sueño: 0\n",
            "Horas de sueño: 0\n",
            "Horas de sueño: 0\n",
            "Horas de sueño: 0\n",
            "Horas de sueño: 0\n",
            "Horas de sueño: 0\n",
            "Horas de sueño: 0\n",
            "Horas de sueño: 0\n",
            "Horas de sueño: 0\n",
            "Horas de sueño: 0\n",
            "Horas de sueño: 0\n",
            "Horas de sueño: 0\n",
            "Horas de sueño: 0\n",
            "Horas de sueño: 0\n",
            "Horas de sueño: 0\n",
            "Horas de sueño: 0\n",
            "Horas de sueño: 0\n",
            "Horas de sueño: 0\n",
            "Horas de sueño: 0\n",
            "Horas de sueño: 0\n",
            "Horas de sueño: 0\n",
            "Horas de sueño: 0\n",
            "Horas de sueño: 0\n",
            "Horas de sueño: 0\n",
            "Horas de sueño: 0\n",
            "Horas de sueño: 0\n",
            "Horas de sueño: 0\n",
            "Horas de sueño: 0\n",
            "Horas de sueño: 0\n",
            "Horas de sueño: 0\n",
            "Horas de sueño: 0\n",
            "Horas de sueño: 0\n",
            "Horas de sueño: 0\n",
            "Horas de sueño: 0\n",
            "Horas de sueño: 0\n",
            "Horas de sueño: 0\n",
            "Horas de sueño: 0\n",
            "Horas de sueño: 0\n",
            "Horas de sueño: 0\n",
            "Horas de sueño: 0\n",
            "Horas de sueño: 0\n",
            "Horas de sueño: 0\n",
            "Horas de sueño: 0\n",
            "Horas de sueño: 0\n",
            "Horas de sueño: 0\n",
            "Horas de sueño: 0\n",
            "Horas de sueño: 0\n",
            "Horas de sueño: 0\n",
            "Horas de sueño: 0\n",
            "Horas de sueño: 0\n",
            "Horas de sueño: 0\n",
            "Horas de sueño: 0\n",
            "Horas de sueño: 0\n",
            "Horas de sueño: 0\n",
            "Horas de sueño: 0\n",
            "Horas de sueño: 0\n",
            "Horas de sueño: 0\n",
            "Horas de sueño: 0\n",
            "Horas de sueño: 0\n",
            "Horas de sueño: 0\n",
            "Horas de sueño: 0\n",
            "Horas de sueño: 0\n",
            "Horas de sueño: 0\n",
            "Horas de sueño: 0\n",
            "Horas de sueño: 0\n",
            "Horas de sueño: 0\n",
            "Horas de sueño: 0\n",
            "Horas de sueño: 0\n",
            "Horas de sueño: 0\n",
            "Horas de sueño: 0\n",
            "Horas de sueño: 0\n",
            "Horas de sueño: 0\n",
            "Horas de sueño: 0\n",
            "Horas de sueño: 0\n",
            "Horas de sueño: 0\n",
            "Horas de sueño: 0\n",
            "Horas de sueño: 0\n",
            "Horas de sueño: 0\n",
            "Horas de sueño: 0\n",
            "Horas de sueño: 0\n",
            "Horas de sueño: 0\n",
            "Horas de sueño: 0\n",
            "Horas de sueño: 0\n",
            "Horas de sueño: 0\n",
            "Horas de sueño: 0\n",
            "Horas de sueño: 0\n",
            "Horas de sueño: 0\n",
            "Horas de sueño: 0\n",
            "Horas de sueño: 0\n",
            "Horas de sueño: 0\n",
            "Horas de sueño: 0\n",
            "Horas de sueño: 0\n",
            "Horas de sueño: 0\n",
            "Horas de sueño: 0\n",
            "Horas de sueño: 0\n",
            "Horas de sueño: 0\n",
            "Horas de sueño: 0\n",
            "Horas de sueño: 0\n",
            "Horas de sueño: 0\n",
            "Horas de sueño: 0\n",
            "Horas de sueño: 0\n",
            "Horas de sueño: 0\n",
            "Horas de sueño: 0\n",
            "Horas de sueño: 0\n",
            "Horas de sueño: 0\n",
            "Horas de sueño: 0\n",
            "Horas de sueño: 0\n",
            "Horas de sueño: 0\n",
            "Horas de sueño: 0\n",
            "Horas de sueño: 0\n",
            "Horas de sueño: 0\n",
            "Horas de sueño: 0\n",
            "Horas de sueño: 0\n",
            "Horas de sueño: 0\n",
            "Horas de sueño: 0\n",
            "Horas de sueño: 0\n",
            "Horas de sueño: 0\n",
            "Horas de sueño: 0\n",
            "Horas de sueño: 0\n",
            "Horas de sueño: 0\n",
            "Horas de sueño: 0\n",
            "Horas de sueño: 0\n",
            "Horas de sueño: 0\n",
            "Horas de sueño: 0\n",
            "Horas de sueño: 0\n",
            "Horas de sueño: 0\n",
            "Horas de sueño: 0\n",
            "Horas de sueño: 0\n",
            "Horas de sueño: 0\n",
            "Horas de sueño: 0\n",
            "Horas de sueño: 0\n",
            "Horas de sueño: 0\n",
            "Horas de sueño: 0\n",
            "Horas de sueño: 0\n",
            "Horas de sueño: 0\n",
            "Horas de sueño: 0\n",
            "Horas de sueño: 0\n",
            "Horas de sueño: 0\n",
            "Horas de sueño: 0\n",
            "Horas de sueño: 0\n",
            "Horas de sueño: 0\n",
            "Horas de sueño: 0\n",
            "Horas de sueño: 0\n",
            "Horas de sueño: 0\n",
            "Horas de sueño: 0\n",
            "Horas de sueño: 0\n",
            "Horas de sueño: 0\n",
            "Horas de sueño: 0\n",
            "Horas de sueño: 0\n",
            "Horas de sueño: 0\n",
            "Horas de sueño: 0\n",
            "Horas de sueño: 0\n",
            "Horas de sueño: 0\n",
            "Horas de sueño: 0\n",
            "Horas de sueño: 0\n",
            "Horas de sueño: 0\n",
            "Horas de sueño: 0\n",
            "Horas de sueño: 0\n",
            "Horas de sueño: 0\n",
            "Horas de sueño: 0\n",
            "Horas de sueño: 0\n",
            "Horas de sueño: 0\n",
            "Horas de sueño: 0\n",
            "Horas de sueño: 0\n",
            "Horas de sueño: 0\n",
            "Horas de sueño: 0\n",
            "Horas de sueño: 0\n",
            "Horas de sueño: 0\n",
            "Horas de sueño: 0\n",
            "Horas de sueño: 0\n",
            "Horas de sueño: 0\n",
            "Horas de sueño: 0\n",
            "Horas de sueño: 0\n",
            "Horas de sueño: 0\n",
            "Horas de sueño: 0\n",
            "Horas de sueño: 0\n",
            "Horas de sueño: 0\n",
            "Horas de sueño: 0\n",
            "Horas de sueño: 0\n",
            "Horas de sueño: 0\n",
            "Horas de sueño: 0\n",
            "Horas de sueño: 0\n",
            "Horas de sueño: 0\n",
            "Horas de sueño: 0\n",
            "Horas de sueño: 0\n",
            "Horas de sueño: 0\n",
            "Horas de sueño: 0\n",
            "Horas de sueño: 0\n",
            "Horas de sueño: 0\n",
            "Horas de sueño: 0\n",
            "Horas de sueño: 0\n",
            "Horas de sueño: 0\n",
            "Horas de sueño: 0\n",
            "Horas de sueño: 0\n",
            "Horas de sueño: 0\n",
            "Horas de sueño: 0\n",
            "Horas de sueño: 0\n",
            "Horas de sueño: 0\n",
            "Horas de sueño: 0\n",
            "Horas de sueño: 0\n",
            "Horas de sueño: 0\n",
            "Horas de sueño: 0\n",
            "Horas de sueño: 0\n",
            "Horas de sueño: 0\n",
            "Horas de sueño: 0\n",
            "Horas de sueño: 0\n",
            "Horas de sueño: 0\n",
            "Horas de sueño: 0\n",
            "Horas de sueño: 0\n",
            "Horas de sueño: 0\n",
            "Horas de sueño: 0\n",
            "Horas de sueño: 0\n",
            "Horas de sueño: 0\n",
            "Horas de sueño: 0\n",
            "Horas de sueño: 0\n",
            "Horas de sueño: 0\n",
            "Horas de sueño: 0\n",
            "Horas de sueño: 0\n",
            "Horas de sueño: 0\n",
            "Horas de sueño: 0\n",
            "Horas de sueño: 0\n",
            "Horas de sueño: 0\n",
            "Horas de sueño: 0\n",
            "Horas de sueño: 0\n",
            "Horas de sueño: 0\n",
            "Horas de sueño: 0\n",
            "Horas de sueño: 0\n",
            "Horas de sueño: 0\n",
            "Horas de sueño: 0\n",
            "Horas de sueño: 0\n",
            "Horas de sueño: 0\n",
            "Horas de sueño: 0\n",
            "Horas de sueño: 0\n",
            "Horas de sueño: 0\n",
            "Horas de sueño: 0\n",
            "Horas de sueño: 0\n",
            "Horas de sueño: 0\n",
            "Horas de sueño: 0\n",
            "Horas de sueño: 0\n",
            "Horas de sueño: 0\n",
            "Horas de sueño: 0\n",
            "Horas de sueño: 0\n",
            "Horas de sueño: 0\n",
            "Horas de sueño: 0\n",
            "Horas de sueño: 0\n",
            "Horas de sueño: 0\n",
            "Horas de sueño: 0\n",
            "Horas de sueño: 0\n",
            "Horas de sueño: 0\n",
            "Horas de sueño: 0\n",
            "Horas de sueño: 0\n",
            "Horas de sueño: 0\n",
            "Horas de sueño: 0\n",
            "Horas de sueño: 0\n",
            "Horas de sueño: 0\n",
            "Horas de sueño: 0\n",
            "Horas de sueño: 0\n",
            "Horas de sueño: 0\n",
            "Horas de sueño: 0\n",
            "Horas de sueño: 0\n",
            "Horas de sueño: 0\n",
            "Horas de sueño: 0\n",
            "Horas de sueño: 0\n",
            "Horas de sueño: 0\n",
            "Horas de sueño: 0\n",
            "Horas de sueño: 0\n",
            "Horas de sueño: 0\n",
            "Horas de sueño: 0\n",
            "Horas de sueño: 0\n",
            "Horas de sueño: 0\n",
            "Horas de sueño: 0\n",
            "Horas de sueño: 0\n",
            "Horas de sueño: 0\n",
            "Horas de sueño: 0\n",
            "Horas de sueño: 0\n",
            "Horas de sueño: 0\n",
            "Horas de sueño: 0\n",
            "Horas de sueño: 0\n",
            "Horas de sueño: 0\n",
            "Horas de sueño: 0\n",
            "Horas de sueño: 0\n",
            "Horas de sueño: 0\n",
            "Horas de sueño: 0\n",
            "Horas de sueño: 0\n",
            "Horas de sueño: 0\n",
            "Horas de sueño: 0\n",
            "Horas de sueño: 0\n",
            "Horas de sueño: 0\n",
            "Horas de sueño: 0\n",
            "Horas de sueño: 0\n",
            "Horas de sueño: 0\n",
            "Horas de sueño: 0\n",
            "Horas de sueño: 0\n",
            "Horas de sueño: 0\n",
            "Horas de sueño: 0\n",
            "Horas de sueño: 0\n",
            "Horas de sueño: 0\n",
            "Horas de sueño: 0\n",
            "Horas de sueño: 0\n",
            "Horas de sueño: 0\n",
            "Horas de sueño: 0\n",
            "Horas de sueño: 0\n",
            "Horas de sueño: 0\n",
            "Horas de sueño: 0\n",
            "Horas de sueño: 0\n",
            "Horas de sueño: 0\n",
            "Horas de sueño: 0\n",
            "Horas de sueño: 0\n",
            "Horas de sueño: 0\n",
            "Horas de sueño: 0\n",
            "Horas de sueño: 0\n",
            "Horas de sueño: 0\n",
            "Horas de sueño: 0\n",
            "Horas de sueño: 0\n",
            "Horas de sueño: 0\n",
            "Horas de sueño: 0\n",
            "Horas de sueño: 0\n",
            "Horas de sueño: 0\n",
            "Horas de sueño: 0\n",
            "Horas de sueño: 0\n",
            "Horas de sueño: 0\n",
            "Horas de sueño: 0\n",
            "Horas de sueño: 0\n",
            "Horas de sueño: 0\n",
            "Horas de sueño: 0\n",
            "Horas de sueño: 0\n",
            "Horas de sueño: 0\n",
            "Horas de sueño: 0\n",
            "Horas de sueño: 0\n",
            "Horas de sueño: 0\n",
            "Horas de sueño: 0\n",
            "Horas de sueño: 0\n",
            "Horas de sueño: 0\n",
            "Horas de sueño: 0\n",
            "Horas de sueño: 0\n",
            "Horas de sueño: 0\n",
            "Horas de sueño: 0\n",
            "Horas de sueño: 0\n",
            "Horas de sueño: 0\n",
            "Horas de sueño: 0\n",
            "Horas de sueño: 0\n",
            "Horas de sueño: 0\n",
            "Horas de sueño: 0\n",
            "Horas de sueño: 0\n",
            "Horas de sueño: 0\n",
            "Horas de sueño: 0\n",
            "Horas de sueño: 0\n",
            "Horas de sueño: 0\n",
            "Horas de sueño: 0\n",
            "Horas de sueño: 0\n",
            "Horas de sueño: 0\n",
            "Horas de sueño: 0\n",
            "Horas de sueño: 0\n",
            "Horas de sueño: 0\n",
            "Horas de sueño: 0\n",
            "Horas de sueño: 0\n",
            "Horas de sueño: 0\n",
            "Horas de sueño: 0\n",
            "Horas de sueño: 0\n",
            "Horas de sueño: 0\n",
            "Horas de sueño: 0\n",
            "Horas de sueño: 0\n",
            "Horas de sueño: 0\n",
            "Horas de sueño: 0\n",
            "Horas de sueño: 0\n",
            "Horas de sueño: 0\n",
            "Horas de sueño: 0\n",
            "Horas de sueño: 0\n",
            "Horas de sueño: 0\n",
            "Horas de sueño: 0\n",
            "Horas de sueño: 0\n",
            "Horas de sueño: 0\n",
            "Horas de sueño: 0\n",
            "Horas de sueño: 0\n",
            "Horas de sueño: 0\n",
            "Horas de sueño: 0\n",
            "Horas de sueño: 0\n",
            "Horas de sueño: 0\n",
            "Horas de sueño: 0\n",
            "Horas de sueño: 0\n",
            "Horas de sueño: 0\n",
            "Horas de sueño: 0\n",
            "Horas de sueño: 0\n",
            "Horas de sueño: 0\n",
            "Horas de sueño: 0\n",
            "Horas de sueño: 0\n",
            "Horas de sueño: 0\n",
            "Horas de sueño: 0\n",
            "Horas de sueño: 0\n",
            "Horas de sueño: 0\n",
            "Horas de sueño: 0\n",
            "Horas de sueño: 0\n",
            "Horas de sueño: 0\n",
            "Horas de sueño: 0\n",
            "Horas de sueño: 0\n",
            "Horas de sueño: 0\n",
            "Horas de sueño: 0\n",
            "Horas de sueño: 0\n",
            "Horas de sueño: 0\n",
            "Horas de sueño: 0\n",
            "Horas de sueño: 0\n",
            "Horas de sueño: 0\n",
            "Horas de sueño: 0\n",
            "Horas de sueño: 0\n",
            "Horas de sueño: 0\n",
            "Horas de sueño: 0\n",
            "Horas de sueño: 0\n",
            "Horas de sueño: 0\n",
            "Horas de sueño: 0\n",
            "Horas de sueño: 0\n",
            "Horas de sueño: 0\n",
            "Horas de sueño: 0\n",
            "Horas de sueño: 0\n",
            "Horas de sueño: 0\n",
            "Horas de sueño: 0\n",
            "Horas de sueño: 0\n",
            "Horas de sueño: 0\n",
            "Horas de sueño: 0\n",
            "Horas de sueño: 0\n",
            "Horas de sueño: 0\n",
            "Horas de sueño: 0\n",
            "Horas de sueño: 0\n",
            "Horas de sueño: 0\n",
            "Horas de sueño: 0\n",
            "Horas de sueño: 0\n",
            "Horas de sueño: 0\n",
            "Horas de sueño: 0\n",
            "Horas de sueño: 0\n",
            "Horas de sueño: 0\n",
            "Horas de sueño: 0\n",
            "Horas de sueño: 0\n",
            "Horas de sueño: 0\n",
            "Horas de sueño: 0\n",
            "Horas de sueño: 0\n",
            "Horas de sueño: 0\n",
            "Horas de sueño: 0\n",
            "Horas de sueño: 0\n",
            "Horas de sueño: 0\n",
            "Horas de sueño: 0\n",
            "Horas de sueño: 0\n",
            "Horas de sueño: 0\n",
            "Horas de sueño: 0\n",
            "Horas de sueño: 0\n",
            "Horas de sueño: 0\n",
            "Horas de sueño: 0\n",
            "Horas de sueño: 0\n",
            "Horas de sueño: 0\n",
            "Horas de sueño: 0\n",
            "Horas de sueño: 0\n",
            "Horas de sueño: 0\n",
            "Horas de sueño: 0\n",
            "Horas de sueño: 0\n",
            "Horas de sueño: 0\n",
            "Horas de sueño: 0\n",
            "Horas de sueño: 0\n",
            "Horas de sueño: 0\n",
            "Horas de sueño: 0\n",
            "Horas de sueño: 0\n",
            "Horas de sueño: 0\n",
            "Horas de sueño: 0\n",
            "Horas de sueño: 0\n",
            "Horas de sueño: 0\n",
            "Horas de sueño: 0\n",
            "Horas de sueño: 0\n",
            "Horas de sueño: 0\n",
            "Horas de sueño: 0\n",
            "Horas de sueño: 0\n",
            "Horas de sueño: 0\n",
            "Horas de sueño: 0\n",
            "Horas de sueño: 0\n",
            "Horas de sueño: 0\n",
            "Horas de sueño: 0\n",
            "Horas de sueño: 0\n",
            "Horas de sueño: 0\n",
            "Horas de sueño: 0\n",
            "Horas de sueño: 0\n",
            "Horas de sueño: 0\n",
            "Horas de sueño: 0\n",
            "Horas de sueño: 0\n",
            "Horas de sueño: 0\n",
            "Horas de sueño: 0\n",
            "Horas de sueño: 0\n",
            "Horas de sueño: 0\n",
            "Horas de sueño: 0\n",
            "Horas de sueño: 0\n",
            "Horas de sueño: 0\n",
            "Horas de sueño: 0\n",
            "Horas de sueño: 0\n",
            "Horas de sueño: 0\n",
            "Horas de sueño: 0\n",
            "Horas de sueño: 0\n",
            "Horas de sueño: 0\n",
            "Horas de sueño: 0\n",
            "Horas de sueño: 0\n",
            "Horas de sueño: 0\n",
            "Horas de sueño: 0\n",
            "Horas de sueño: 0\n",
            "Horas de sueño: 0\n",
            "Horas de sueño: 0\n",
            "Horas de sueño: 0\n",
            "Horas de sueño: 0\n",
            "Horas de sueño: 0\n",
            "Horas de sueño: 0\n",
            "Horas de sueño: 0\n",
            "Horas de sueño: 0\n",
            "Horas de sueño: 0\n",
            "Horas de sueño: 0\n",
            "Horas de sueño: 0\n",
            "Horas de sueño: 0\n",
            "Horas de sueño: 0\n",
            "Horas de sueño: 0\n",
            "Horas de sueño: 0\n",
            "Horas de sueño: 0\n",
            "Horas de sueño: 0\n",
            "Horas de sueño: 0\n",
            "Horas de sueño: 0\n",
            "Horas de sueño: 0\n",
            "Horas de sueño: 0\n",
            "Horas de sueño: 0\n",
            "Horas de sueño: 0\n",
            "Horas de sueño: 0\n",
            "Horas de sueño: 0\n",
            "Horas de sueño: 0\n",
            "Horas de sueño: 0\n",
            "Horas de sueño: 0\n",
            "Horas de sueño: 0\n",
            "Horas de sueño: 0\n",
            "Horas de sueño: 0\n",
            "Horas de sueño: 0\n",
            "Horas de sueño: 0\n",
            "Horas de sueño: 0\n",
            "Horas de sueño: 0\n",
            "Horas de sueño: 0\n",
            "Horas de sueño: 0\n",
            "Horas de sueño: 0\n",
            "Horas de sueño: 0\n",
            "Horas de sueño: 0\n",
            "Horas de sueño: 0\n",
            "Horas de sueño: 0\n",
            "Horas de sueño: 0\n",
            "Horas de sueño: 0\n",
            "Horas de sueño: 0\n",
            "Horas de sueño: 0\n",
            "Horas de sueño: 0\n",
            "Horas de sueño: 0\n",
            "Horas de sueño: 0\n",
            "Horas de sueño: 0\n",
            "Horas de sueño: 0\n",
            "Horas de sueño: 0\n",
            "Horas de sueño: 0\n",
            "Horas de sueño: 0\n",
            "Horas de sueño: 0\n",
            "Horas de sueño: 0\n",
            "Horas de sueño: 0\n",
            "Horas de sueño: 0\n",
            "Horas de sueño: 0\n",
            "Horas de sueño: 0\n",
            "Horas de sueño: 0\n",
            "Horas de sueño: 0\n",
            "Horas de sueño: 0\n",
            "Horas de sueño: 0\n",
            "Horas de sueño: 0\n",
            "Horas de sueño: 0\n",
            "Horas de sueño: 0\n",
            "Horas de sueño: 0\n",
            "Horas de sueño: 0\n",
            "Horas de sueño: 0\n",
            "Horas de sueño: 0\n",
            "Horas de sueño: 0\n",
            "Horas de sueño: 0\n",
            "Horas de sueño: 0\n",
            "Horas de sueño: 0\n",
            "Horas de sueño: 0\n",
            "Horas de sueño: 0\n",
            "Horas de sueño: 0\n",
            "Horas de sueño: 0\n",
            "Horas de sueño: 0\n",
            "Horas de sueño: 0\n",
            "Horas de sueño: 0\n",
            "Horas de sueño: 0\n",
            "Horas de sueño: 0\n",
            "Horas de sueño: 0\n",
            "Horas de sueño: 0\n",
            "Horas de sueño: 0\n",
            "Horas de sueño: 0\n",
            "Horas de sueño: 0\n",
            "Horas de sueño: 0\n",
            "Horas de sueño: 0\n",
            "Horas de sueño: 0\n",
            "Horas de sueño: 0\n",
            "Horas de sueño: 0\n",
            "Horas de sueño: 0\n",
            "Horas de sueño: 0\n",
            "Horas de sueño: 0\n",
            "Horas de sueño: 0\n",
            "Horas de sueño: 0\n",
            "Horas de sueño: 0\n",
            "Horas de sueño: 0\n",
            "Horas de sueño: 0\n",
            "Horas de sueño: 0\n",
            "Horas de sueño: 0\n",
            "Horas de sueño: 0\n",
            "Horas de sueño: 0\n",
            "Horas de sueño: 0\n",
            "Horas de sueño: 0\n",
            "Horas de sueño: 0\n",
            "Horas de sueño: 0\n",
            "Horas de sueño: 0\n",
            "Horas de sueño: 0\n",
            "Horas de sueño: 0\n",
            "Horas de sueño: 0\n",
            "Horas de sueño: 0\n",
            "Horas de sueño: 0\n",
            "Horas de sueño: 0\n",
            "Horas de sueño: 0\n",
            "Horas de sueño: 0\n",
            "Horas de sueño: 0\n",
            "Horas de sueño: 0\n",
            "Horas de sueño: 0\n",
            "Horas de sueño: 0\n",
            "Horas de sueño: 0\n",
            "Horas de sueño: 0\n",
            "Horas de sueño: 0\n",
            "Horas de sueño: 0\n",
            "Horas de sueño: 0\n",
            "Horas de sueño: 0\n",
            "Horas de sueño: 0\n",
            "Horas de sueño: 0\n",
            "Horas de sueño: 0\n",
            "Horas de sueño: 0\n",
            "Horas de sueño: 0\n",
            "Horas de sueño: 0\n",
            "Horas de sueño: 0\n",
            "Horas de sueño: 0\n",
            "Horas de sueño: 0\n",
            "Horas de sueño: 0\n",
            "Horas de sueño: 0\n",
            "Horas de sueño: 0\n",
            "Horas de sueño: 0\n",
            "Horas de sueño: 0\n",
            "Horas de sueño: 0\n",
            "Horas de sueño: 0\n",
            "Horas de sueño: 0\n",
            "Horas de sueño: 0\n",
            "Horas de sueño: 0\n",
            "Horas de sueño: 0\n",
            "Horas de sueño: 0\n",
            "Horas de sueño: 0\n",
            "Horas de sueño: 0\n",
            "Horas de sueño: 0\n",
            "Horas de sueño: 0\n",
            "Horas de sueño: 0\n",
            "Horas de sueño: 0\n",
            "Horas de sueño: 0\n",
            "Horas de sueño: 0\n",
            "Horas de sueño: 0\n",
            "Horas de sueño: 0\n",
            "Horas de sueño: 0\n",
            "Horas de sueño: 0\n",
            "Horas de sueño: 0\n",
            "Horas de sueño: 0\n",
            "Horas de sueño: 0\n",
            "Horas de sueño: 0\n",
            "Horas de sueño: 0\n",
            "Horas de sueño: 0\n",
            "Horas de sueño: 0\n",
            "Horas de sueño: 0\n",
            "Horas de sueño: 0\n",
            "Horas de sueño: 0\n",
            "Horas de sueño: 0\n",
            "Horas de sueño: 0\n",
            "Horas de sueño: 0\n",
            "Horas de sueño: 0\n",
            "Horas de sueño: 0\n",
            "Horas de sueño: 0\n",
            "Horas de sueño: 0\n",
            "Horas de sueño: 0\n",
            "Horas de sueño: 0\n",
            "Horas de sueño: 0\n",
            "Horas de sueño: 0\n",
            "Horas de sueño: 0\n",
            "Horas de sueño: 0\n",
            "Horas de sueño: 0\n",
            "Horas de sueño: 0\n",
            "Horas de sueño: 0\n",
            "Horas de sueño: 0\n",
            "Horas de sueño: 0\n",
            "Horas de sueño: 0\n",
            "Horas de sueño: 0\n",
            "Horas de sueño: 0\n",
            "Horas de sueño: 0\n",
            "Horas de sueño: 0\n",
            "Horas de sueño: 0\n",
            "Horas de sueño: 0\n",
            "Horas de sueño: 0\n",
            "Horas de sueño: 0\n",
            "Horas de sueño: 0\n",
            "Horas de sueño: 0\n",
            "Horas de sueño: 0\n",
            "Horas de sueño: 0\n",
            "Horas de sueño: 0\n",
            "Horas de sueño: 0\n",
            "Horas de sueño: 0\n",
            "Horas de sueño: 0\n",
            "Horas de sueño: 0\n",
            "Horas de sueño: 0\n",
            "Horas de sueño: 0\n",
            "Horas de sueño: 0\n",
            "Horas de sueño: 0\n",
            "Horas de sueño: 0\n",
            "Horas de sueño: 0\n",
            "Horas de sueño: 0\n",
            "Horas de sueño: 0\n",
            "Horas de sueño: 0\n",
            "Horas de sueño: 0\n",
            "Horas de sueño: 0\n",
            "Horas de sueño: 0\n",
            "Horas de sueño: 0\n",
            "Horas de sueño: 0\n",
            "Horas de sueño: 0\n",
            "Horas de sueño: 0\n",
            "Horas de sueño: 0\n",
            "Horas de sueño: 0\n",
            "Horas de sueño: 0\n",
            "Horas de sueño: 0\n",
            "Horas de sueño: 0\n",
            "Horas de sueño: 0\n",
            "Horas de sueño: 0\n",
            "Horas de sueño: 0\n",
            "Horas de sueño: 0\n",
            "Horas de sueño: 0\n",
            "Horas de sueño: 0\n",
            "Horas de sueño: 0\n",
            "Horas de sueño: 0\n",
            "Horas de sueño: 0\n",
            "Horas de sueño: 0\n",
            "Horas de sueño: 0\n",
            "Horas de sueño: 0\n",
            "Horas de sueño: 0\n",
            "Horas de sueño: 0\n",
            "Horas de sueño: 0\n",
            "Horas de sueño: 0\n",
            "Horas de sueño: 0\n",
            "Horas de sueño: 0\n",
            "Horas de sueño: 0\n",
            "Horas de sueño: 0\n",
            "Horas de sueño: 0\n",
            "Horas de sueño: 0\n",
            "Horas de sueño: 0\n",
            "Horas de sueño: 0\n",
            "Horas de sueño: 0\n",
            "Horas de sueño: 0\n",
            "Horas de sueño: 0\n",
            "Horas de sueño: 0\n",
            "Horas de sueño: 0\n",
            "Horas de sueño: 0\n",
            "Horas de sueño: 0\n",
            "Horas de sueño: 0\n",
            "Horas de sueño: 0\n",
            "Horas de sueño: 0\n",
            "Horas de sueño: 0\n",
            "Horas de sueño: 0\n",
            "Horas de sueño: 0\n",
            "Horas de sueño: 0\n",
            "Horas de sueño: 0\n",
            "Horas de sueño: 0\n",
            "Horas de sueño: 0\n",
            "Horas de sueño: 0\n",
            "Horas de sueño: 0\n",
            "Horas de sueño: 0\n",
            "Horas de sueño: 0\n",
            "Horas de sueño: 0\n",
            "Horas de sueño: 0\n",
            "Horas de sueño: 0\n",
            "Horas de sueño: 0\n",
            "Horas de sueño: 0\n",
            "Horas de sueño: 0\n",
            "Horas de sueño: 0\n",
            "Horas de sueño: 0\n",
            "Horas de sueño: 0\n",
            "Horas de sueño: 0\n",
            "Horas de sueño: 0\n",
            "Horas de sueño: 0\n",
            "Horas de sueño: 0\n",
            "Horas de sueño: 0\n",
            "Horas de sueño: 0\n",
            "Horas de sueño: 0\n",
            "Horas de sueño: 0\n",
            "Horas de sueño: 0\n",
            "Horas de sueño: 0\n",
            "Horas de sueño: 0\n",
            "Horas de sueño: 0\n",
            "Horas de sueño: 0\n",
            "Horas de sueño: 0\n",
            "Horas de sueño: 0\n",
            "Horas de sueño: 0\n",
            "Horas de sueño: 0\n",
            "Horas de sueño: 0\n",
            "Horas de sueño: 0\n",
            "Horas de sueño: 0\n",
            "Horas de sueño: 0\n",
            "Horas de sueño: 0\n",
            "Horas de sueño: 0\n",
            "Horas de sueño: 0\n",
            "Horas de sueño: 0\n",
            "Horas de sueño: 0\n",
            "Horas de sueño: 0\n",
            "Horas de sueño: 0\n",
            "Horas de sueño: 0\n",
            "Horas de sueño: 0\n",
            "Horas de sueño: 0\n",
            "Horas de sueño: 0\n",
            "Horas de sueño: 0\n",
            "Horas de sueño: 0\n",
            "Horas de sueño: 0\n",
            "Horas de sueño: 0\n",
            "Horas de sueño: 0\n",
            "Horas de sueño: 0\n",
            "Horas de sueño: 0\n",
            "Horas de sueño: 0\n",
            "Horas de sueño: 0\n",
            "Horas de sueño: 0\n",
            "Horas de sueño: 0\n",
            "Horas de sueño: 0\n",
            "Horas de sueño: 0\n",
            "Horas de sueño: 0\n",
            "Horas de sueño: 0\n",
            "Horas de sueño: 0\n",
            "Horas de sueño: 0\n",
            "Horas de sueño: 0\n",
            "Horas de sueño: 0\n",
            "Horas de sueño: 0\n",
            "Horas de sueño: 0\n",
            "Horas de sueño: 0\n",
            "Horas de sueño: 0\n",
            "Horas de sueño: 0\n",
            "Horas de sueño: 0\n",
            "Horas de sueño: 0\n",
            "Horas de sueño: 0\n",
            "Horas de sueño: 0\n",
            "Horas de sueño: 0\n",
            "Horas de sueño: 0\n",
            "Horas de sueño: 0\n",
            "Horas de sueño: 0\n",
            "Horas de sueño: 0\n",
            "Horas de sueño: 0\n",
            "Horas de sueño: 0\n",
            "Horas de sueño: 0\n",
            "Horas de sueño: 0\n",
            "Horas de sueño: 0\n",
            "Horas de sueño: 0\n",
            "Horas de sueño: 0\n",
            "Horas de sueño: 0\n",
            "Horas de sueño: 0\n",
            "Horas de sueño: 0\n",
            "Horas de sueño: 0\n",
            "Horas de sueño: 0\n",
            "Horas de sueño: 0\n",
            "Horas de sueño: 0\n",
            "Horas de sueño: 0\n",
            "Horas de sueño: 0\n",
            "Horas de sueño: 0\n",
            "Horas de sueño: 0\n",
            "Horas de sueño: 0\n",
            "Horas de sueño: 0\n",
            "Horas de sueño: 0\n",
            "Horas de sueño: 0\n",
            "Horas de sueño: 0\n",
            "Horas de sueño: 0\n",
            "Horas de sueño: 0\n",
            "Horas de sueño: 0\n",
            "Horas de sueño: 0\n",
            "Horas de sueño: 0\n",
            "Horas de sueño: 0\n",
            "Horas de sueño: 0\n",
            "Horas de sueño: 0\n",
            "Horas de sueño: 0\n",
            "Horas de sueño: 0\n",
            "Horas de sueño: 0\n",
            "Horas de sueño: 0\n",
            "Horas de sueño: 0\n",
            "Horas de sueño: 0\n",
            "Horas de sueño: 0\n",
            "Horas de sueño: 0\n",
            "Horas de sueño: 0\n",
            "Horas de sueño: 0\n",
            "Horas de sueño: 0\n",
            "Horas de sueño: 0\n",
            "Horas de sueño: 0\n",
            "Horas de sueño: 0\n",
            "Horas de sueño: 0\n",
            "Horas de sueño: 0\n",
            "Horas de sueño: 0\n",
            "Horas de sueño: 0\n",
            "Horas de sueño: 0\n",
            "Horas de sueño: 0\n",
            "Horas de sueño: 0\n",
            "Horas de sueño: 0\n",
            "Horas de sueño: 0\n",
            "Horas de sueño: 0\n",
            "Horas de sueño: 0\n",
            "Horas de sueño: 0\n",
            "Horas de sueño: 0\n",
            "Horas de sueño: 0\n",
            "Horas de sueño: 0\n",
            "Horas de sueño: 0\n",
            "Horas de sueño: 0\n",
            "Horas de sueño: 0\n",
            "Horas de sueño: 0\n",
            "Horas de sueño: 0\n",
            "Horas de sueño: 0\n",
            "Horas de sueño: 0\n",
            "Horas de sueño: 0\n",
            "Horas de sueño: 0\n",
            "Horas de sueño: 0\n",
            "Horas de sueño: 0\n",
            "Horas de sueño: 0\n",
            "Horas de sueño: 0\n",
            "Horas de sueño: 0\n",
            "Horas de sueño: 0\n",
            "Horas de sueño: 0\n",
            "Horas de sueño: 0\n",
            "Horas de sueño: 0\n",
            "Horas de sueño: 0\n",
            "Horas de sueño: 0\n",
            "Horas de sueño: 0\n",
            "Horas de sueño: 0\n",
            "Horas de sueño: 0\n",
            "Horas de sueño: 0\n",
            "Horas de sueño: 0\n",
            "Horas de sueño: 0\n",
            "Horas de sueño: 0\n",
            "Horas de sueño: 0\n",
            "Horas de sueño: 0\n",
            "Horas de sueño: 0\n",
            "Horas de sueño: 0\n",
            "Horas de sueño: 0\n",
            "Horas de sueño: 0\n",
            "Horas de sueño: 0\n",
            "Horas de sueño: 0\n",
            "Horas de sueño: 0\n",
            "Horas de sueño: 0\n",
            "Horas de sueño: 0\n",
            "Horas de sueño: 0\n",
            "Horas de sueño: 0\n",
            "Horas de sueño: 0\n",
            "Horas de sueño: 0\n",
            "Horas de sueño: 0\n",
            "Horas de sueño: 0\n",
            "Horas de sueño: 0\n",
            "Horas de sueño: 0\n",
            "Horas de sueño: 0\n",
            "Horas de sueño: 0\n",
            "Horas de sueño: 0\n",
            "Horas de sueño: 0\n",
            "Horas de sueño: 0\n",
            "Horas de sueño: 0\n",
            "Horas de sueño: 0\n",
            "Horas de sueño: 0\n",
            "Horas de sueño: 0\n",
            "Horas de sueño: 0\n",
            "Horas de sueño: 0\n",
            "Horas de sueño: 0\n",
            "Horas de sueño: 0\n",
            "Horas de sueño: 0\n",
            "Horas de sueño: 0\n",
            "Horas de sueño: 0\n",
            "Horas de sueño: 0\n",
            "Horas de sueño: 0\n",
            "Horas de sueño: 0\n",
            "Horas de sueño: 0\n",
            "Horas de sueño: 0\n",
            "Horas de sueño: 0\n",
            "Horas de sueño: 0\n",
            "Horas de sueño: 0\n",
            "Horas de sueño: 0\n",
            "Horas de sueño: 0\n",
            "Horas de sueño: 0\n",
            "Horas de sueño: 0\n",
            "Horas de sueño: 0\n",
            "Horas de sueño: 0\n",
            "Horas de sueño: 0\n",
            "Horas de sueño: 0\n",
            "Horas de sueño: 0\n",
            "Horas de sueño: 0\n",
            "Horas de sueño: 0\n",
            "Horas de sueño: 0\n",
            "Horas de sueño: 0\n",
            "Horas de sueño: 0\n",
            "Horas de sueño: 0\n",
            "Horas de sueño: 0\n",
            "Horas de sueño: 0\n",
            "Horas de sueño: 0\n",
            "Horas de sueño: 0\n",
            "Horas de sueño: 0\n",
            "Horas de sueño: 0\n",
            "Horas de sueño: 0\n",
            "Horas de sueño: 0\n",
            "Horas de sueño: 0\n",
            "Horas de sueño: 0\n",
            "Horas de sueño: 0\n",
            "Horas de sueño: 0\n",
            "Horas de sueño: 0\n",
            "Horas de sueño: 0\n",
            "Horas de sueño: 0\n",
            "Horas de sueño: 0\n",
            "Horas de sueño: 0\n",
            "Horas de sueño: 0\n",
            "Horas de sueño: 0\n",
            "Horas de sueño: 0\n",
            "Horas de sueño: 0\n",
            "Horas de sueño: 0\n",
            "Horas de sueño: 0\n",
            "Horas de sueño: 0\n",
            "Horas de sueño: 0\n",
            "Horas de sueño: 0\n",
            "Horas de sueño: 0\n",
            "Horas de sueño: 0\n",
            "Horas de sueño: 0\n",
            "Horas de sueño: 0\n",
            "Horas de sueño: 0\n",
            "Horas de sueño: 0\n",
            "Horas de sueño: 0\n",
            "Horas de sueño: 0\n",
            "Horas de sueño: 0\n",
            "Horas de sueño: 0\n",
            "Horas de sueño: 0\n",
            "Horas de sueño: 0\n",
            "Horas de sueño: 0\n",
            "Horas de sueño: 0\n",
            "Horas de sueño: 0\n",
            "Horas de sueño: 0\n",
            "Horas de sueño: 0\n",
            "Horas de sueño: 0\n",
            "Horas de sueño: 0\n",
            "Horas de sueño: 0\n",
            "Horas de sueño: 0\n",
            "Horas de sueño: 0\n",
            "Horas de sueño: 0\n",
            "Horas de sueño: 0\n",
            "Horas de sueño: 0\n",
            "Horas de sueño: 0\n",
            "Horas de sueño: 0\n",
            "Horas de sueño: 0\n",
            "Horas de sueño: 0\n",
            "Horas de sueño: 0\n",
            "Horas de sueño: 0\n",
            "Horas de sueño: 0\n",
            "Horas de sueño: 0\n",
            "Horas de sueño: 0\n",
            "Horas de sueño: 0\n",
            "Horas de sueño: 0\n",
            "Horas de sueño: 0\n",
            "Horas de sueño: 0\n",
            "Horas de sueño: 0\n",
            "Horas de sueño: 0\n",
            "Horas de sueño: 0\n",
            "Horas de sueño: 0\n",
            "Horas de sueño: 0\n",
            "Horas de sueño: 0\n",
            "Horas de sueño: 0\n",
            "Horas de sueño: 0\n",
            "Horas de sueño: 0\n",
            "Horas de sueño: 0\n",
            "Horas de sueño: 0\n",
            "Horas de sueño: 0\n",
            "Horas de sueño: 0\n",
            "Horas de sueño: 0\n",
            "Horas de sueño: 0\n",
            "Horas de sueño: 0\n",
            "Horas de sueño: 0\n",
            "Horas de sueño: 0\n",
            "Horas de sueño: 0\n",
            "Horas de sueño: 0\n",
            "Horas de sueño: 0\n",
            "Horas de sueño: 0\n",
            "Horas de sueño: 0\n",
            "Horas de sueño: 0\n",
            "Horas de sueño: 0\n",
            "Horas de sueño: 0\n",
            "Horas de sueño: 0\n",
            "Horas de sueño: 0\n",
            "Horas de sueño: 0\n",
            "Horas de sueño: 0\n",
            "Horas de sueño: 0\n",
            "Horas de sueño: 0\n",
            "Horas de sueño: 0\n",
            "Horas de sueño: 0\n",
            "Horas de sueño: 0\n",
            "Horas de sueño: 0\n",
            "Horas de sueño: 0\n",
            "Horas de sueño: 0\n",
            "Horas de sueño: 0\n",
            "Horas de sueño: 0\n",
            "Horas de sueño: 0\n",
            "Horas de sueño: 0\n",
            "Horas de sueño: 0\n",
            "Horas de sueño: 0\n",
            "Horas de sueño: 0\n",
            "Horas de sueño: 0\n",
            "Horas de sueño: 0\n",
            "Horas de sueño: 0\n",
            "Horas de sueño: 0\n",
            "Horas de sueño: 0\n",
            "Horas de sueño: 0\n",
            "Horas de sueño: 0\n",
            "Horas de sueño: 0\n",
            "Horas de sueño: 0\n",
            "Horas de sueño: 0\n",
            "Horas de sueño: 0\n",
            "Horas de sueño: 0\n",
            "Horas de sueño: 0\n",
            "Horas de sueño: 0\n",
            "Horas de sueño: 0\n",
            "Horas de sueño: 0\n",
            "Horas de sueño: 0\n",
            "Horas de sueño: 0\n",
            "Horas de sueño: 0\n",
            "Horas de sueño: 0\n",
            "Horas de sueño: 0\n",
            "Horas de sueño: 0\n",
            "Horas de sueño: 0\n",
            "Horas de sueño: 0\n",
            "Horas de sueño: 0\n",
            "Horas de sueño: 0\n",
            "Horas de sueño: 0\n",
            "Horas de sueño: 0\n",
            "Horas de sueño: 0\n",
            "Horas de sueño: 0\n",
            "Horas de sueño: 0\n",
            "Horas de sueño: 0\n",
            "Horas de sueño: 0\n",
            "Horas de sueño: 0\n",
            "Horas de sueño: 0\n",
            "Horas de sueño: 0\n",
            "Horas de sueño: 0\n",
            "Horas de sueño: 0\n",
            "Horas de sueño: 0\n",
            "Horas de sueño: 0\n",
            "Horas de sueño: 0\n",
            "Horas de sueño: 0\n",
            "Horas de sueño: 0\n",
            "Horas de sueño: 0\n",
            "Horas de sueño: 0\n",
            "Horas de sueño: 0\n",
            "Horas de sueño: 0\n",
            "Horas de sueño: 0\n",
            "Horas de sueño: 0\n",
            "Horas de sueño: 0\n",
            "Horas de sueño: 0\n",
            "Horas de sueño: 0\n",
            "Horas de sueño: 0\n",
            "Horas de sueño: 0\n",
            "Horas de sueño: 0\n",
            "Horas de sueño: 0\n",
            "Horas de sueño: 0\n",
            "Horas de sueño: 0\n",
            "Horas de sueño: 0\n",
            "Horas de sueño: 0\n",
            "Horas de sueño: 0\n",
            "Horas de sueño: 0\n",
            "Horas de sueño: 0\n",
            "Horas de sueño: 0\n",
            "Horas de sueño: 0\n",
            "Horas de sueño: 0\n",
            "Horas de sueño: 0\n",
            "Horas de sueño: 0\n",
            "Horas de sueño: 0\n",
            "Horas de sueño: 0\n",
            "Horas de sueño: 0\n",
            "Horas de sueño: 0\n",
            "Horas de sueño: 0\n",
            "Horas de sueño: 0\n",
            "Horas de sueño: 0\n",
            "Horas de sueño: 0\n",
            "Horas de sueño: 0\n",
            "Horas de sueño: 0\n",
            "Horas de sueño: 0\n",
            "Horas de sueño: 0\n",
            "Horas de sueño: 0\n",
            "Horas de sueño: 0\n",
            "Horas de sueño: 0\n",
            "Horas de sueño: 0\n",
            "Horas de sueño: 0\n",
            "Horas de sueño: 0\n",
            "Horas de sueño: 0\n",
            "Horas de sueño: 0\n",
            "Horas de sueño: 0\n",
            "Horas de sueño: 0\n",
            "Horas de sueño: 0\n",
            "Horas de sueño: 0\n",
            "Horas de sueño: 0\n",
            "Horas de sueño: 0\n",
            "Horas de sueño: 0\n",
            "Horas de sueño: 0\n",
            "Horas de sueño: 0\n",
            "Horas de sueño: 0\n",
            "Horas de sueño: 0\n",
            "Horas de sueño: 0\n",
            "Horas de sueño: 0\n",
            "Horas de sueño: 0\n",
            "Horas de sueño: 0\n",
            "Horas de sueño: 0\n",
            "Horas de sueño: 0\n",
            "Horas de sueño: 0\n",
            "Horas de sueño: 0\n",
            "Horas de sueño: 0\n",
            "Horas de sueño: 0\n",
            "Horas de sueño: 0\n",
            "Horas de sueño: 0\n",
            "Horas de sueño: 0\n",
            "Horas de sueño: 0\n",
            "Horas de sueño: 0\n",
            "Horas de sueño: 0\n",
            "Horas de sueño: 0\n",
            "Horas de sueño: 0\n",
            "Horas de sueño: 0\n",
            "Horas de sueño: 0\n",
            "Horas de sueño: 0\n",
            "Horas de sueño: 0\n",
            "Horas de sueño: 0\n",
            "Horas de sueño: 0\n",
            "Horas de sueño: 0\n",
            "Horas de sueño: 0\n",
            "Horas de sueño: 0\n",
            "Horas de sueño: 0\n",
            "Horas de sueño: 0\n",
            "Horas de sueño: 0\n",
            "Horas de sueño: 0\n",
            "Horas de sueño: 0\n",
            "Horas de sueño: 0\n",
            "Horas de sueño: 0\n",
            "Horas de sueño: 0\n",
            "Horas de sueño: 0\n",
            "Horas de sueño: 0\n",
            "Horas de sueño: 0\n",
            "Horas de sueño: 0\n",
            "Horas de sueño: 0\n",
            "Horas de sueño: 0\n",
            "Horas de sueño: 0\n",
            "Horas de sueño: 0\n",
            "Horas de sueño: 0\n",
            "Horas de sueño: 0\n",
            "Horas de sueño: 0\n",
            "Horas de sueño: 0\n",
            "Horas de sueño: 0\n",
            "Horas de sueño: 0\n",
            "Horas de sueño: 0\n",
            "Horas de sueño: 0\n",
            "Horas de sueño: 0\n",
            "Horas de sueño: 0\n",
            "Horas de sueño: 0\n",
            "Horas de sueño: 0\n",
            "Horas de sueño: 0\n",
            "Horas de sueño: 0\n",
            "Horas de sueño: 0\n",
            "Horas de sueño: 0\n",
            "Horas de sueño: 0\n",
            "Horas de sueño: 0\n",
            "Horas de sueño: 0\n",
            "Horas de sueño: 0\n",
            "Horas de sueño: 0\n",
            "Horas de sueño: 0\n",
            "Horas de sueño: 0\n",
            "Horas de sueño: 0\n",
            "Horas de sueño: 0\n",
            "Horas de sueño: 0\n",
            "Horas de sueño: 0\n",
            "Horas de sueño: 0\n",
            "Horas de sueño: 0\n",
            "Horas de sueño: 0\n",
            "Horas de sueño: 0\n",
            "Horas de sueño: 0\n",
            "Horas de sueño: 0\n",
            "Horas de sueño: 0\n",
            "Horas de sueño: 0\n",
            "Horas de sueño: 0\n",
            "Horas de sueño: 0\n",
            "Horas de sueño: 0\n",
            "Horas de sueño: 0\n",
            "Horas de sueño: 0\n",
            "Horas de sueño: 0\n",
            "Horas de sueño: 0\n",
            "Horas de sueño: 0\n",
            "Horas de sueño: 0\n",
            "Horas de sueño: 0\n",
            "Horas de sueño: 0\n",
            "Horas de sueño: 0\n",
            "Horas de sueño: 0\n",
            "Horas de sueño: 0\n",
            "Horas de sueño: 0\n",
            "Horas de sueño: 0\n",
            "Horas de sueño: 0\n",
            "Horas de sueño: 0\n",
            "Horas de sueño: 0\n",
            "Horas de sueño: 0\n",
            "Horas de sueño: 0\n",
            "Horas de sueño: 0\n",
            "Horas de sueño: 0\n",
            "Horas de sueño: 0\n",
            "Horas de sueño: 0\n",
            "Horas de sueño: 0\n",
            "Horas de sueño: 0\n",
            "Horas de sueño: 0\n",
            "Horas de sueño: 0\n",
            "Horas de sueño: 0\n",
            "Horas de sueño: 0\n",
            "Horas de sueño: 0\n",
            "Horas de sueño: 0\n",
            "Horas de sueño: 0\n",
            "Horas de sueño: 0\n",
            "Horas de sueño: 0\n",
            "Horas de sueño: 0\n",
            "Horas de sueño: 0\n",
            "Horas de sueño: 0\n",
            "Horas de sueño: 0\n",
            "Horas de sueño: 0\n",
            "Horas de sueño: 0\n",
            "Horas de sueño: 0\n",
            "Horas de sueño: 0\n",
            "Horas de sueño: 0\n",
            "Horas de sueño: 0\n",
            "Horas de sueño: 0\n",
            "Horas de sueño: 0\n",
            "Horas de sueño: 0\n",
            "Horas de sueño: 0\n",
            "Horas de sueño: 0\n",
            "Horas de sueño: 0\n",
            "Horas de sueño: 0\n",
            "Horas de sueño: 0\n",
            "Horas de sueño: 0\n",
            "Horas de sueño: 0\n",
            "Horas de sueño: 0\n",
            "Horas de sueño: 0\n",
            "Horas de sueño: 0\n",
            "Horas de sueño: 0\n",
            "Horas de sueño: 0\n",
            "Horas de sueño: 0\n",
            "Horas de sueño: 0\n",
            "Horas de sueño: 0\n",
            "Horas de sueño: 0\n",
            "Horas de sueño: 0\n",
            "Horas de sueño: 0\n",
            "Horas de sueño: 0\n",
            "Horas de sueño: 0\n",
            "Horas de sueño: 0\n",
            "Horas de sueño: 0\n",
            "Horas de sueño: 0\n",
            "Horas de sueño: 0\n",
            "Horas de sueño: 0\n",
            "Horas de sueño: 0\n",
            "Horas de sueño: 0\n",
            "Horas de sueño: 0\n",
            "Horas de sueño: 0\n",
            "Horas de sueño: 0\n",
            "Horas de sueño: 0\n",
            "Horas de sueño: 0\n",
            "Horas de sueño: 0\n",
            "Horas de sueño: 0\n",
            "Horas de sueño: 0\n",
            "Horas de sueño: 0\n",
            "Horas de sueño: 0\n",
            "Horas de sueño: 0\n",
            "Horas de sueño: 0\n",
            "Horas de sueño: 0\n",
            "Horas de sueño: 0\n",
            "Horas de sueño: 0\n",
            "Horas de sueño: 0\n",
            "Horas de sueño: 0\n",
            "Horas de sueño: 0\n",
            "Horas de sueño: 0\n",
            "Horas de sueño: 0\n",
            "Horas de sueño: 0\n",
            "Horas de sueño: 0\n",
            "Horas de sueño: 0\n",
            "Horas de sueño: 0\n",
            "Horas de sueño: 0\n",
            "Horas de sueño: 0\n",
            "Horas de sueño: 0\n",
            "Horas de sueño: 0\n",
            "Horas de sueño: 0\n",
            "Horas de sueño: 0\n",
            "Horas de sueño: 0\n",
            "Horas de sueño: 0\n",
            "Horas de sueño: 0\n",
            "Horas de sueño: 0\n",
            "Horas de sueño: 0\n",
            "Horas de sueño: 0\n",
            "Horas de sueño: 0\n",
            "Horas de sueño: 0\n",
            "Horas de sueño: 0\n",
            "Horas de sueño: 0\n",
            "Horas de sueño: 0\n",
            "Horas de sueño: 0\n",
            "Horas de sueño: 0\n",
            "Horas de sueño: 0\n",
            "Horas de sueño: 0\n",
            "Horas de sueño: 0\n",
            "Horas de sueño: 0\n",
            "Horas de sueño: 0\n",
            "Horas de sueño: 0\n",
            "Horas de sueño: 0\n",
            "Horas de sueño: 0\n",
            "Horas de sueño: 0\n",
            "Horas de sueño: 0\n",
            "Horas de sueño: 0\n",
            "Horas de sueño: 0\n",
            "Horas de sueño: 0\n",
            "Horas de sueño: 0\n",
            "Horas de sueño: 0\n",
            "Horas de sueño: 0\n",
            "Horas de sueño: 0\n",
            "Horas de sueño: 0\n",
            "Horas de sueño: 0\n",
            "Horas de sueño: 0\n",
            "Horas de sueño: 0\n",
            "Horas de sueño: 0\n",
            "Horas de sueño: 0\n",
            "Horas de sueño: 0\n",
            "Horas de sueño: 0\n",
            "Horas de sueño: 0\n",
            "Horas de sueño: 0\n",
            "Horas de sueño: 0\n",
            "Horas de sueño: 0\n",
            "Horas de sueño: 0\n",
            "Horas de sueño: 0\n",
            "Horas de sueño: 0\n",
            "Horas de sueño: 0\n",
            "Horas de sueño: 0\n",
            "Horas de sueño: 0\n",
            "Horas de sueño: 0\n",
            "Horas de sueño: 0\n",
            "Horas de sueño: 0\n",
            "Horas de sueño: 0\n",
            "Horas de sueño: 0\n",
            "Horas de sueño: 0\n",
            "Horas de sueño: 0\n",
            "Horas de sueño: 0\n",
            "Horas de sueño: 0\n",
            "Horas de sueño: 0\n",
            "Horas de sueño: 0\n",
            "Horas de sueño: 0\n",
            "Horas de sueño: 0\n",
            "Horas de sueño: 0\n",
            "Horas de sueño: 0\n",
            "Horas de sueño: 0\n",
            "Horas de sueño: 0\n",
            "Horas de sueño: 0\n",
            "Horas de sueño: 0\n",
            "Horas de sueño: 0\n",
            "Horas de sueño: 0\n",
            "Horas de sueño: 0\n",
            "Horas de sueño: 0\n",
            "Horas de sueño: 0\n",
            "Horas de sueño: 0\n",
            "Horas de sueño: 0\n",
            "Horas de sueño: 0\n",
            "Horas de sueño: 0\n",
            "Horas de sueño: 0\n",
            "Horas de sueño: 0\n",
            "Horas de sueño: 0\n",
            "Horas de sueño: 0\n",
            "Horas de sueño: 0\n",
            "Horas de sueño: 0\n",
            "Horas de sueño: 0\n",
            "Horas de sueño: 0\n",
            "Horas de sueño: 0\n",
            "Horas de sueño: 0\n",
            "Horas de sueño: 0\n",
            "Horas de sueño: 0\n",
            "Horas de sueño: 0\n",
            "Horas de sueño: 0\n",
            "Horas de sueño: 0\n",
            "Horas de sueño: 0\n",
            "Horas de sueño: 0\n",
            "Horas de sueño: 0\n",
            "Horas de sueño: 0\n",
            "Horas de sueño: 0\n",
            "Horas de sueño: 0\n",
            "Horas de sueño: 0\n",
            "Horas de sueño: 0\n",
            "Horas de sueño: 0\n",
            "Horas de sueño: 0\n",
            "Horas de sueño: 0\n",
            "Horas de sueño: 0\n",
            "Horas de sueño: 0\n",
            "Horas de sueño: 0\n",
            "Horas de sueño: 0\n",
            "Horas de sueño: 0\n",
            "Horas de sueño: 0\n",
            "Horas de sueño: 0\n",
            "Horas de sueño: 0\n",
            "Horas de sueño: 0\n",
            "Horas de sueño: 0\n",
            "Horas de sueño: 0\n",
            "Horas de sueño: 0\n",
            "Horas de sueño: 0\n",
            "Horas de sueño: 0\n",
            "Horas de sueño: 0\n",
            "Horas de sueño: 0\n",
            "Horas de sueño: 0\n",
            "Horas de sueño: 0\n",
            "Horas de sueño: 0\n",
            "Horas de sueño: 0\n",
            "Horas de sueño: 0\n",
            "Horas de sueño: 0\n",
            "Horas de sueño: 0\n",
            "Horas de sueño: 0\n",
            "Horas de sueño: 0\n",
            "Horas de sueño: 0\n",
            "Horas de sueño: 0\n",
            "Horas de sueño: 0\n",
            "Horas de sueño: 0\n",
            "Horas de sueño: 0\n",
            "Horas de sueño: 0\n",
            "Horas de sueño: 0\n",
            "Horas de sueño: 0\n",
            "Horas de sueño: 0\n",
            "Horas de sueño: 0\n",
            "Horas de sueño: 0\n",
            "Horas de sueño: 0\n",
            "Horas de sueño: 0\n",
            "Horas de sueño: 0\n",
            "Horas de sueño: 0\n",
            "Horas de sueño: 0\n",
            "Horas de sueño: 0\n",
            "Horas de sueño: 0\n",
            "Horas de sueño: 0\n",
            "Horas de sueño: 0\n",
            "Horas de sueño: 0\n",
            "Horas de sueño: 0\n",
            "Horas de sueño: 0\n",
            "Horas de sueño: 0\n",
            "Horas de sueño: 0\n",
            "Horas de sueño: 0\n",
            "Horas de sueño: 0\n",
            "Horas de sueño: 0\n",
            "Horas de sueño: 0\n",
            "Horas de sueño: 0\n",
            "Horas de sueño: 0\n",
            "Horas de sueño: 0\n",
            "Horas de sueño: 0\n",
            "Horas de sueño: 0\n",
            "Horas de sueño: 0\n",
            "Horas de sueño: 0\n",
            "Horas de sueño: 0\n",
            "Horas de sueño: 0\n",
            "Horas de sueño: 0\n",
            "Horas de sueño: 0\n",
            "Horas de sueño: 0\n",
            "Horas de sueño: 0\n",
            "Horas de sueño: 0\n",
            "Horas de sueño: 0\n",
            "Horas de sueño: 0\n",
            "Horas de sueño: 0\n",
            "Horas de sueño: 0\n",
            "Horas de sueño: 0\n",
            "Horas de sueño: 0\n",
            "Horas de sueño: 0\n",
            "Horas de sueño: 0\n",
            "Horas de sueño: 0\n",
            "Horas de sueño: 0\n",
            "Horas de sueño: 0\n",
            "Horas de sueño: 0\n",
            "Horas de sueño: 0\n",
            "Horas de sueño: 0\n",
            "Horas de sueño: 0\n",
            "Horas de sueño: 0\n",
            "Horas de sueño: 0\n",
            "Horas de sueño: 0\n",
            "Horas de sueño: 0\n",
            "Horas de sueño: 0\n",
            "Horas de sueño: 0\n",
            "Horas de sueño: 0\n",
            "Horas de sueño: 0\n",
            "Horas de sueño: 0\n",
            "Horas de sueño: 0\n",
            "Horas de sueño: 0\n",
            "Horas de sueño: 0\n",
            "Horas de sueño: 0\n",
            "Horas de sueño: 0\n",
            "Horas de sueño: 0\n",
            "Horas de sueño: 0\n",
            "Horas de sueño: 0\n",
            "Horas de sueño: 0\n",
            "Horas de sueño: 0\n",
            "Horas de sueño: 0\n",
            "Horas de sueño: 0\n",
            "Horas de sueño: 0\n",
            "Horas de sueño: 0\n",
            "Horas de sueño: 0\n",
            "Horas de sueño: 0\n",
            "Horas de sueño: 0\n",
            "Horas de sueño: 0\n",
            "Horas de sueño: 0\n",
            "Horas de sueño: 0\n",
            "Horas de sueño: 0\n",
            "Horas de sueño: 0\n",
            "Horas de sueño: 0\n",
            "Horas de sueño: 0\n",
            "Horas de sueño: 0\n",
            "Horas de sueño: 0\n",
            "Horas de sueño: 0\n",
            "Horas de sueño: 0\n",
            "Horas de sueño: 0\n",
            "Horas de sueño: 0\n",
            "Horas de sueño: 0\n",
            "Horas de sueño: 0\n",
            "Horas de sueño: 0\n",
            "Horas de sueño: 0\n",
            "Horas de sueño: 0\n",
            "Horas de sueño: 0\n",
            "Horas de sueño: 0\n",
            "Horas de sueño: 0\n",
            "Horas de sueño: 0\n",
            "Horas de sueño: 0\n",
            "Horas de sueño: 0\n",
            "Horas de sueño: 0\n",
            "Horas de sueño: 0\n",
            "Horas de sueño: 0\n",
            "Horas de sueño: 0\n",
            "Horas de sueño: 0\n",
            "Horas de sueño: 0\n",
            "Horas de sueño: 0\n",
            "Horas de sueño: 0\n",
            "Horas de sueño: 0\n",
            "Horas de sueño: 0\n",
            "Horas de sueño: 0\n",
            "Horas de sueño: 0\n",
            "Horas de sueño: 0\n",
            "Horas de sueño: 0\n",
            "Horas de sueño: 0\n",
            "Horas de sueño: 0\n",
            "Horas de sueño: 0\n",
            "Horas de sueño: 0\n",
            "Horas de sueño: 0\n",
            "Horas de sueño: 0\n",
            "Horas de sueño: 0\n",
            "Horas de sueño: 0\n",
            "Horas de sueño: 0\n",
            "Horas de sueño: 0\n",
            "Horas de sueño: 0\n",
            "Horas de sueño: 0\n",
            "Horas de sueño: 0\n",
            "Horas de sueño: 0\n",
            "Horas de sueño: 0\n",
            "Horas de sueño: 0\n",
            "Horas de sueño: 0\n",
            "Horas de sueño: 0\n",
            "Horas de sueño: 0\n",
            "Horas de sueño: 0\n",
            "Horas de sueño: 0\n",
            "Horas de sueño: 0\n",
            "Horas de sueño: 0\n",
            "Horas de sueño: 0\n",
            "Horas de sueño: 0\n",
            "Horas de sueño: 0\n",
            "Horas de sueño: 0\n",
            "Horas de sueño: 0\n",
            "Horas de sueño: 0\n",
            "Horas de sueño: 0\n",
            "Horas de sueño: 0\n",
            "Horas de sueño: 0\n",
            "Horas de sueño: 0\n",
            "Horas de sueño: 0\n",
            "Horas de sueño: 0\n",
            "Horas de sueño: 0\n",
            "Horas de sueño: 0\n",
            "Horas de sueño: 0\n",
            "Horas de sueño: 0\n",
            "Horas de sueño: 0\n",
            "Horas de sueño: 0\n",
            "Horas de sueño: 0\n",
            "Horas de sueño: 0\n",
            "Horas de sueño: 0\n",
            "Horas de sueño: 0\n",
            "Horas de sueño: 0\n",
            "Horas de sueño: 0\n",
            "Horas de sueño: 0\n",
            "Horas de sueño: 0\n",
            "Horas de sueño: 0\n",
            "Horas de sueño: 0\n",
            "Horas de sueño: 0\n",
            "Horas de sueño: 0\n",
            "Horas de sueño: 0\n",
            "Horas de sueño: 0\n",
            "Horas de sueño: 0\n",
            "Horas de sueño: 0\n",
            "Horas de sueño: 0\n",
            "Horas de sueño: 0\n",
            "Horas de sueño: 0\n",
            "Horas de sueño: 0\n",
            "Horas de sueño: 0\n",
            "Horas de sueño: 0\n",
            "Horas de sueño: 0\n",
            "Horas de sueño: 0\n",
            "Horas de sueño: 0\n",
            "Horas de sueño: 0\n",
            "Horas de sueño: 0\n",
            "Horas de sueño: 0\n",
            "Horas de sueño: 0\n",
            "Horas de sueño: 0\n",
            "Horas de sueño: 0\n",
            "Horas de sueño: 0\n",
            "Horas de sueño: 0\n",
            "Horas de sueño: 0\n",
            "Horas de sueño: 0\n",
            "Horas de sueño: 0\n",
            "Horas de sueño: 0\n",
            "Horas de sueño: 0\n",
            "Horas de sueño: 0\n",
            "Horas de sueño: 0\n",
            "Horas de sueño: 0\n",
            "Horas de sueño: 0\n",
            "Horas de sueño: 0\n",
            "Horas de sueño: 0\n",
            "Horas de sueño: 0\n",
            "Horas de sueño: 0\n",
            "Horas de sueño: 0\n",
            "Horas de sueño: 0\n",
            "Horas de sueño: 0\n",
            "Horas de sueño: 0\n",
            "Horas de sueño: 0\n",
            "Horas de sueño: 0\n",
            "Horas de sueño: 0\n",
            "Horas de sueño: 0\n",
            "Horas de sueño: 0\n",
            "Horas de sueño: 0\n",
            "Horas de sueño: 0\n",
            "Horas de sueño: 0\n",
            "Horas de sueño: 0\n",
            "Horas de sueño: 0\n",
            "Horas de sueño: 0\n",
            "Horas de sueño: 0\n",
            "Horas de sueño: 0\n",
            "Horas de sueño: 0\n",
            "Horas de sueño: 0\n",
            "Horas de sueño: 0\n",
            "Horas de sueño: 0\n",
            "Horas de sueño: 0\n",
            "Horas de sueño: 0\n",
            "Horas de sueño: 0\n",
            "Horas de sueño: 0\n",
            "Horas de sueño: 0\n",
            "Horas de sueño: 0\n",
            "Horas de sueño: 0\n",
            "Horas de sueño: 0\n",
            "Horas de sueño: 0\n",
            "Horas de sueño: 0\n",
            "Horas de sueño: 0\n",
            "Horas de sueño: 0\n",
            "Horas de sueño: 0\n",
            "Horas de sueño: 0\n",
            "Horas de sueño: 0\n",
            "Horas de sueño: 0\n",
            "Horas de sueño: 0\n",
            "Horas de sueño: 0\n",
            "Horas de sueño: 0\n",
            "Horas de sueño: 0\n",
            "Horas de sueño: 0\n",
            "Horas de sueño: 0\n",
            "Horas de sueño: 0\n",
            "Horas de sueño: 0\n",
            "Horas de sueño: 0\n",
            "Horas de sueño: 0\n",
            "Horas de sueño: 0\n",
            "Horas de sueño: 0\n",
            "Horas de sueño: 0\n",
            "Horas de sueño: 0\n",
            "Horas de sueño: 0\n",
            "Horas de sueño: 0\n",
            "Horas de sueño: 0\n",
            "Horas de sueño: 0\n",
            "Horas de sueño: 0\n",
            "Horas de sueño: 0\n",
            "Horas de sueño: 0\n",
            "Horas de sueño: 0\n",
            "Horas de sueño: 0\n",
            "Horas de sueño: 0\n",
            "Horas de sueño: 0\n",
            "Horas de sueño: 0\n",
            "Horas de sueño: 0\n",
            "Horas de sueño: 0\n",
            "Horas de sueño: 0\n",
            "Horas de sueño: 0\n",
            "Horas de sueño: 0\n",
            "Horas de sueño: 0\n",
            "Horas de sueño: 0\n",
            "Horas de sueño: 0\n",
            "Horas de sueño: 0\n",
            "Horas de sueño: 0\n",
            "Horas de sueño: 0\n",
            "Horas de sueño: 0\n",
            "Horas de sueño: 0\n",
            "Horas de sueño: 0\n",
            "Horas de sueño: 0\n",
            "Horas de sueño: 0\n",
            "Horas de sueño: 0\n",
            "Horas de sueño: 0\n",
            "Horas de sueño: 0\n",
            "Horas de sueño: 0\n",
            "Horas de sueño: 0\n",
            "Horas de sueño: 0\n",
            "Horas de sueño: 0\n",
            "Horas de sueño: 0\n",
            "Horas de sueño: 0\n",
            "Horas de sueño: 0\n",
            "Horas de sueño: 0\n",
            "Horas de sueño: 0\n",
            "Horas de sueño: 0\n",
            "Horas de sueño: 0\n",
            "Horas de sueño: 0\n",
            "Horas de sueño: 0\n",
            "Horas de sueño: 0\n",
            "Horas de sueño: 0\n",
            "Horas de sueño: 0\n",
            "Horas de sueño: 0\n",
            "Horas de sueño: 0\n",
            "Horas de sueño: 0\n",
            "Horas de sueño: 0\n",
            "Horas de sueño: 0\n",
            "Horas de sueño: 0\n",
            "Horas de sueño: 0\n",
            "Horas de sueño: 0\n",
            "Horas de sueño: 0\n",
            "Horas de sueño: 0\n",
            "Horas de sueño: 0\n",
            "Horas de sueño: 0\n",
            "Horas de sueño: 0\n",
            "Horas de sueño: 0\n",
            "Horas de sueño: 0\n",
            "Horas de sueño: 0\n",
            "Horas de sueño: 0\n",
            "Horas de sueño: 0\n",
            "Horas de sueño: 0\n",
            "Horas de sueño: 0\n",
            "Horas de sueño: 0\n",
            "Horas de sueño: 0\n",
            "Horas de sueño: 0\n",
            "Horas de sueño: 0\n",
            "Horas de sueño: 0\n",
            "Horas de sueño: 0\n",
            "Horas de sueño: 0\n",
            "Horas de sueño: 0\n",
            "Horas de sueño: 0\n",
            "Horas de sueño: 0\n",
            "Horas de sueño: 0\n",
            "Horas de sueño: 0\n",
            "Horas de sueño: 0\n",
            "Horas de sueño: 0\n",
            "Horas de sueño: 0\n",
            "Horas de sueño: 0\n",
            "Horas de sueño: 0\n",
            "Horas de sueño: 0\n",
            "Horas de sueño: 0\n",
            "Horas de sueño: 0\n",
            "Horas de sueño: 0\n",
            "Horas de sueño: 0\n",
            "Horas de sueño: 0\n",
            "Horas de sueño: 0\n",
            "Horas de sueño: 0\n",
            "Horas de sueño: 0\n",
            "Horas de sueño: 0\n",
            "Horas de sueño: 0\n",
            "Horas de sueño: 0\n",
            "Horas de sueño: 0\n",
            "Horas de sueño: 0\n",
            "Horas de sueño: 0\n",
            "Horas de sueño: 0\n",
            "Horas de sueño: 0\n",
            "Horas de sueño: 0\n",
            "Horas de sueño: 0\n",
            "Horas de sueño: 0\n",
            "Horas de sueño: 0\n",
            "Horas de sueño: 0\n",
            "Horas de sueño: 0\n",
            "Horas de sueño: 0\n",
            "Horas de sueño: 0\n",
            "Horas de sueño: 0\n",
            "Horas de sueño: 0\n",
            "Horas de sueño: 0\n",
            "Horas de sueño: 0\n",
            "Horas de sueño: 0\n",
            "Horas de sueño: 0\n",
            "Horas de sueño: 0\n",
            "Horas de sueño: 0\n",
            "Horas de sueño: 0\n",
            "Horas de sueño: 0\n",
            "Horas de sueño: 0\n",
            "Horas de sueño: 0\n",
            "Horas de sueño: 0\n",
            "Horas de sueño: 0\n",
            "Horas de sueño: 0\n",
            "Horas de sueño: 0\n",
            "Horas de sueño: 0\n",
            "Horas de sueño: 0\n",
            "Horas de sueño: 0\n",
            "Horas de sueño: 0\n",
            "Horas de sueño: 0\n",
            "Horas de sueño: 0\n",
            "Horas de sueño: 0\n",
            "Horas de sueño: 0\n",
            "Horas de sueño: 0\n",
            "Horas de sueño: 0\n",
            "Horas de sueño: 0\n",
            "Horas de sueño: 0\n",
            "Horas de sueño: 0\n",
            "Horas de sueño: 0\n",
            "Horas de sueño: 0\n",
            "Horas de sueño: 0\n",
            "Horas de sueño: 0\n",
            "Horas de sueño: 0\n",
            "Horas de sueño: 0\n",
            "Horas de sueño: 0\n",
            "Horas de sueño: 0\n",
            "Horas de sueño: 0\n",
            "Horas de sueño: 0\n",
            "Horas de sueño: 0\n",
            "Horas de sueño: 0\n",
            "Horas de sueño: 0\n",
            "Horas de sueño: 0\n",
            "Horas de sueño: 0\n",
            "Horas de sueño: 0\n",
            "Horas de sueño: 0\n",
            "Horas de sueño: 0\n",
            "Horas de sueño: 0\n",
            "Horas de sueño: 0\n",
            "Horas de sueño: 0\n",
            "Horas de sueño: 0\n",
            "Horas de sueño: 0\n",
            "Horas de sueño: 0\n",
            "Horas de sueño: 0\n",
            "Horas de sueño: 0\n",
            "Horas de sueño: 0\n",
            "Horas de sueño: 0\n",
            "Horas de sueño: 0\n",
            "Horas de sueño: 0\n",
            "Horas de sueño: 0\n",
            "Horas de sueño: 0\n",
            "Horas de sueño: 0\n",
            "Horas de sueño: 0\n",
            "Horas de sueño: 0\n",
            "Horas de sueño: 0\n",
            "Horas de sueño: 0\n",
            "Horas de sueño: 0\n",
            "Horas de sueño: 0\n",
            "Horas de sueño: 0\n",
            "Horas de sueño: 0\n",
            "Horas de sueño: 0\n",
            "Horas de sueño: 0\n",
            "Horas de sueño: 0\n",
            "Horas de sueño: 0\n",
            "Horas de sueño: 0\n",
            "Horas de sueño: 0\n",
            "Horas de sueño: 0\n",
            "Horas de sueño: 0\n",
            "Horas de sueño: 0\n",
            "Horas de sueño: 0\n",
            "Horas de sueño: 0\n",
            "Horas de sueño: 0\n",
            "Horas de sueño: 0\n",
            "Horas de sueño: 0\n",
            "Horas de sueño: 0\n",
            "Horas de sueño: 0\n",
            "Horas de sueño: 0\n",
            "Horas de sueño: 0\n",
            "Horas de sueño: 0\n",
            "Horas de sueño: 0\n",
            "Horas de sueño: 0\n",
            "Horas de sueño: 0\n",
            "Horas de sueño: 0\n",
            "Horas de sueño: 0\n",
            "Horas de sueño: 0\n",
            "Horas de sueño: 0\n",
            "Horas de sueño: 0\n",
            "Horas de sueño: 0\n",
            "Horas de sueño: 0\n",
            "Horas de sueño: 0\n",
            "Horas de sueño: 0\n",
            "Horas de sueño: 0\n",
            "Horas de sueño: 0\n",
            "Horas de sueño: 0\n",
            "Horas de sueño: 0\n",
            "Horas de sueño: 0\n",
            "Horas de sueño: 0\n",
            "Horas de sueño: 0\n",
            "Horas de sueño: 0\n",
            "Horas de sueño: 0\n",
            "Horas de sueño: 0\n",
            "Horas de sueño: 0\n",
            "Horas de sueño: 0\n",
            "Horas de sueño: 0\n",
            "Horas de sueño: 0\n",
            "Horas de sueño: 0\n",
            "Horas de sueño: 0\n",
            "Horas de sueño: 0\n",
            "Horas de sueño: 0\n",
            "Horas de sueño: 0\n",
            "Horas de sueño: 0\n",
            "Horas de sueño: 0\n",
            "Horas de sueño: 0\n",
            "Horas de sueño: 0\n",
            "Horas de sueño: 0\n",
            "Horas de sueño: 0\n",
            "Horas de sueño: 0\n",
            "Horas de sueño: 0\n",
            "Horas de sueño: 0\n",
            "Horas de sueño: 0\n",
            "Horas de sueño: 0\n",
            "Horas de sueño: 0\n",
            "Horas de sueño: 0\n",
            "Horas de sueño: 0\n",
            "Horas de sueño: 0\n",
            "Horas de sueño: 0\n",
            "Horas de sueño: 0\n",
            "Horas de sueño: 0\n",
            "Horas de sueño: 0\n",
            "Horas de sueño: 0\n",
            "Horas de sueño: 0\n",
            "Horas de sueño: 0\n",
            "Horas de sueño: 0\n",
            "Horas de sueño: 0\n",
            "Horas de sueño: 0\n",
            "Horas de sueño: 0\n",
            "Horas de sueño: 0\n",
            "Horas de sueño: 0\n",
            "Horas de sueño: 0\n",
            "Horas de sueño: 0\n",
            "Horas de sueño: 0\n",
            "Horas de sueño: 0\n",
            "Horas de sueño: 0\n",
            "Horas de sueño: 0\n",
            "Horas de sueño: 0\n",
            "Horas de sueño: 0\n",
            "Horas de sueño: 0\n",
            "Horas de sueño: 0\n",
            "Horas de sueño: 0\n",
            "Horas de sueño: 0\n",
            "Horas de sueño: 0\n",
            "Horas de sueño: 0\n",
            "Horas de sueño: 0\n",
            "Horas de sueño: 0\n",
            "Horas de sueño: 0\n",
            "Horas de sueño: 0\n",
            "Horas de sueño: 0\n",
            "Horas de sueño: 0\n",
            "Horas de sueño: 0\n",
            "Horas de sueño: 0\n",
            "Horas de sueño: 0\n",
            "Horas de sueño: 0\n",
            "Horas de sueño: 0\n",
            "Horas de sueño: 0\n",
            "Horas de sueño: 0\n",
            "Horas de sueño: 0\n",
            "Horas de sueño: 0\n",
            "Horas de sueño: 0\n",
            "Horas de sueño: 0\n",
            "Horas de sueño: 0\n",
            "Horas de sueño: 0\n",
            "Horas de sueño: 0\n",
            "Horas de sueño: 0\n",
            "Horas de sueño: 0\n",
            "Horas de sueño: 0\n",
            "Horas de sueño: 0\n",
            "Horas de sueño: 0\n",
            "Horas de sueño: 0\n",
            "Horas de sueño: 0\n",
            "Horas de sueño: 0\n",
            "Horas de sueño: 0\n",
            "Horas de sueño: 0\n",
            "Horas de sueño: 0\n",
            "Horas de sueño: 0\n",
            "Horas de sueño: 0\n",
            "Horas de sueño: 0\n",
            "Horas de sueño: 0\n",
            "Horas de sueño: 0\n",
            "Horas de sueño: 0\n",
            "Horas de sueño: 0\n",
            "Horas de sueño: 0\n",
            "Horas de sueño: 0\n",
            "Horas de sueño: 0\n",
            "Horas de sueño: 0\n",
            "Horas de sueño: 0\n",
            "Horas de sueño: 0\n",
            "Horas de sueño: 0\n",
            "Horas de sueño: 0\n",
            "Horas de sueño: 0\n",
            "Horas de sueño: 0\n",
            "Horas de sueño: 0\n",
            "Horas de sueño: 0\n",
            "Horas de sueño: 0\n",
            "Horas de sueño: 0\n",
            "Horas de sueño: 0\n",
            "Horas de sueño: 0\n",
            "Horas de sueño: 0\n",
            "Horas de sueño: 0\n",
            "Horas de sueño: 0\n",
            "Horas de sueño: 0\n",
            "Horas de sueño: 0\n",
            "Horas de sueño: 0\n",
            "Horas de sueño: 0\n",
            "Horas de sueño: 0\n",
            "Horas de sueño: 0\n",
            "Horas de sueño: 0\n",
            "Horas de sueño: 0\n",
            "Horas de sueño: 0\n",
            "Horas de sueño: 0\n",
            "Horas de sueño: 0\n",
            "Horas de sueño: 0\n",
            "Horas de sueño: 0\n",
            "Horas de sueño: 0\n",
            "Horas de sueño: 0\n",
            "Horas de sueño: 0\n",
            "Horas de sueño: 0\n",
            "Horas de sueño: 0\n",
            "Horas de sueño: 0\n",
            "Horas de sueño: 0\n",
            "Horas de sueño: 0\n",
            "Horas de sueño: 0\n",
            "Horas de sueño: 0\n",
            "Horas de sueño: 0\n",
            "Horas de sueño: 0\n",
            "Horas de sueño: 0\n",
            "Horas de sueño: 0\n",
            "Horas de sueño: 0\n",
            "Horas de sueño: 0\n",
            "Horas de sueño: 0\n",
            "Horas de sueño: 0\n",
            "Horas de sueño: 0\n",
            "Horas de sueño: 0\n",
            "Horas de sueño: 0\n",
            "Horas de sueño: 0\n",
            "Horas de sueño: 0\n",
            "Horas de sueño: 0\n",
            "Horas de sueño: 0\n",
            "Horas de sueño: 0\n",
            "Horas de sueño: 0\n",
            "Horas de sueño: 0\n",
            "Horas de sueño: 0\n",
            "Horas de sueño: 0\n",
            "Horas de sueño: 0\n",
            "Horas de sueño: 0\n",
            "Horas de sueño: 0\n",
            "Horas de sueño: 0\n",
            "Horas de sueño: 0\n",
            "Horas de sueño: 0\n",
            "Horas de sueño: 0\n",
            "Horas de sueño: 0\n",
            "Horas de sueño: 0\n",
            "Horas de sueño: 0\n",
            "Horas de sueño: 0\n",
            "Horas de sueño: 0\n",
            "Horas de sueño: 0\n",
            "Horas de sueño: 0\n",
            "Horas de sueño: 0\n",
            "Horas de sueño: 0\n",
            "Horas de sueño: 0\n",
            "Horas de sueño: 0\n",
            "Horas de sueño: 0\n",
            "Horas de sueño: 0\n",
            "Horas de sueño: 0\n",
            "Horas de sueño: 0\n",
            "Horas de sueño: 0\n",
            "Horas de sueño: 0\n",
            "Horas de sueño: 0\n",
            "Horas de sueño: 0\n",
            "Horas de sueño: 0\n",
            "Horas de sueño: 0\n",
            "Horas de sueño: 0\n",
            "Horas de sueño: 0\n",
            "Horas de sueño: 0\n",
            "Horas de sueño: 0\n",
            "Horas de sueño: 0\n",
            "Horas de sueño: 0\n",
            "Horas de sueño: 0\n",
            "Horas de sueño: 0\n",
            "Horas de sueño: 0\n",
            "Horas de sueño: 0\n",
            "Horas de sueño: 0\n",
            "Horas de sueño: 0\n",
            "Horas de sueño: 0\n",
            "Horas de sueño: 0\n",
            "Horas de sueño: 0\n",
            "Horas de sueño: 0\n",
            "Horas de sueño: 0\n",
            "Horas de sueño: 0\n",
            "Horas de sueño: 0\n",
            "Horas de sueño: 0\n",
            "Horas de sueño: 0\n",
            "Horas de sueño: 0\n",
            "Horas de sueño: 0\n",
            "Horas de sueño: 0\n",
            "Horas de sueño: 0\n",
            "Horas de sueño: 0\n",
            "Horas de sueño: 0\n",
            "Horas de sueño: 0\n",
            "Horas de sueño: 0\n",
            "Horas de sueño: 0\n",
            "Horas de sueño: 0\n",
            "Horas de sueño: 0\n",
            "Horas de sueño: 0\n",
            "Horas de sueño: 0\n",
            "Horas de sueño: 0\n",
            "Horas de sueño: 0\n",
            "Horas de sueño: 0\n",
            "Horas de sueño: 0\n",
            "Horas de sueño: 0\n",
            "Horas de sueño: 0\n",
            "Horas de sueño: 0\n",
            "Horas de sueño: 0\n",
            "Horas de sueño: 0\n",
            "Horas de sueño: 0\n",
            "Horas de sueño: 0\n",
            "Horas de sueño: 0\n",
            "Horas de sueño: 0\n",
            "Horas de sueño: 0\n",
            "Horas de sueño: 0\n",
            "Horas de sueño: 0\n",
            "Horas de sueño: 0\n",
            "Horas de sueño: 0\n",
            "Horas de sueño: 0\n",
            "Horas de sueño: 0\n",
            "Horas de sueño: 0\n",
            "Horas de sueño: 0\n",
            "Horas de sueño: 0\n",
            "Horas de sueño: 0\n",
            "Horas de sueño: 0\n",
            "Horas de sueño: 0\n",
            "Horas de sueño: 0\n",
            "Horas de sueño: 0\n",
            "Horas de sueño: 0\n",
            "Horas de sueño: 0\n",
            "Horas de sueño: 0\n",
            "Horas de sueño: 0\n",
            "Horas de sueño: 0\n",
            "Horas de sueño: 0\n",
            "Horas de sueño: 0\n",
            "Horas de sueño: 0\n",
            "Horas de sueño: 0\n",
            "Horas de sueño: 0\n",
            "Horas de sueño: 0\n",
            "Horas de sueño: 0\n",
            "Horas de sueño: 0\n",
            "Horas de sueño: 0\n",
            "Horas de sueño: 0\n",
            "Horas de sueño: 0\n",
            "Horas de sueño: 0\n",
            "Horas de sueño: 0\n",
            "Horas de sueño: 0\n",
            "Horas de sueño: 0\n",
            "Horas de sueño: 0\n",
            "Horas de sueño: 0\n",
            "Horas de sueño: 0\n",
            "Horas de sueño: 0\n",
            "Horas de sueño: 0\n",
            "Horas de sueño: 0\n",
            "Horas de sueño: 0\n",
            "Horas de sueño: 0\n",
            "Horas de sueño: 0\n",
            "Horas de sueño: 0\n",
            "Horas de sueño: 0\n",
            "Horas de sueño: 0\n",
            "Horas de sueño: 0\n",
            "Horas de sueño: 0\n",
            "Horas de sueño: 0\n",
            "Horas de sueño: 0\n",
            "Horas de sueño: 0\n",
            "Horas de sueño: 0\n",
            "Horas de sueño: 0\n",
            "Horas de sueño: 0\n",
            "Horas de sueño: 0\n",
            "Horas de sueño: 0\n",
            "Horas de sueño: 0\n",
            "Horas de sueño: 0\n",
            "Horas de sueño: 0\n",
            "Horas de sueño: 0\n",
            "Horas de sueño: 0\n",
            "Horas de sueño: 0\n",
            "Horas de sueño: 0\n",
            "Horas de sueño: 0\n",
            "Horas de sueño: 0\n",
            "Horas de sueño: 0\n",
            "Horas de sueño: 0\n",
            "Horas de sueño: 0\n",
            "Horas de sueño: 0\n",
            "Horas de sueño: 0\n",
            "Horas de sueño: 0\n",
            "Horas de sueño: 0\n",
            "Horas de sueño: 0\n",
            "Horas de sueño: 0\n",
            "Horas de sueño: 0\n",
            "Horas de sueño: 0\n",
            "Horas de sueño: 0\n",
            "Horas de sueño: 0\n",
            "Horas de sueño: 0\n",
            "Horas de sueño: 0\n",
            "Horas de sueño: 0\n",
            "Horas de sueño: 0\n",
            "Horas de sueño: 0\n",
            "Horas de sueño: 0\n",
            "Horas de sueño: 0\n",
            "Horas de sueño: 0\n",
            "Horas de sueño: 0\n",
            "Horas de sueño: 0\n",
            "Horas de sueño: 0\n",
            "Horas de sueño: 0\n",
            "Horas de sueño: 0\n",
            "Horas de sueño: 0\n",
            "Horas de sueño: 0\n",
            "Horas de sueño: 0\n",
            "Horas de sueño: 0\n",
            "Horas de sueño: 0\n",
            "Horas de sueño: 0\n",
            "Horas de sueño: 0\n",
            "Horas de sueño: 0\n",
            "Horas de sueño: 0\n",
            "Horas de sueño: 0\n",
            "Horas de sueño: 0\n",
            "Horas de sueño: 0\n",
            "Horas de sueño: 0\n",
            "Horas de sueño: 0\n",
            "Horas de sueño: 0\n",
            "Horas de sueño: 0\n",
            "Horas de sueño: 0\n",
            "Horas de sueño: 0\n",
            "Horas de sueño: 0\n",
            "Horas de sueño: 0\n",
            "Horas de sueño: 0\n",
            "Horas de sueño: 0\n",
            "Horas de sueño: 0\n",
            "Horas de sueño: 0\n",
            "Horas de sueño: 0\n",
            "Horas de sueño: 0\n",
            "Horas de sueño: 0\n",
            "Horas de sueño: 0\n",
            "Horas de sueño: 0\n",
            "Horas de sueño: 0\n",
            "Horas de sueño: 0\n",
            "Horas de sueño: 0\n",
            "Horas de sueño: 0\n",
            "Horas de sueño: 0\n",
            "Horas de sueño: 0\n",
            "Horas de sueño: 0\n",
            "Horas de sueño: 0\n",
            "Horas de sueño: 0\n",
            "Horas de sueño: 0\n",
            "Horas de sueño: 0\n",
            "Horas de sueño: 0\n",
            "Horas de sueño: 0\n",
            "Horas de sueño: 0\n",
            "Horas de sueño: 0\n",
            "Horas de sueño: 0\n",
            "Horas de sueño: 0\n",
            "Horas de sueño: 0\n",
            "Horas de sueño: 0\n",
            "Horas de sueño: 0\n",
            "Horas de sueño: 0\n",
            "Horas de sueño: 0\n",
            "Horas de sueño: 0\n",
            "Horas de sueño: 0\n",
            "Horas de sueño: 0\n",
            "Horas de sueño: 0\n",
            "Horas de sueño: 0\n",
            "Horas de sueño: 0\n",
            "Horas de sueño: 0\n",
            "Horas de sueño: 0\n",
            "Horas de sueño: 0\n",
            "Horas de sueño: 0\n",
            "Horas de sueño: 0\n",
            "Horas de sueño: 0\n",
            "Horas de sueño: 0\n",
            "Horas de sueño: 0\n",
            "Horas de sueño: 0\n",
            "Horas de sueño: 0\n",
            "Horas de sueño: 0\n",
            "Horas de sueño: 0\n",
            "Horas de sueño: 0\n",
            "Horas de sueño: 0\n",
            "Horas de sueño: 0\n",
            "Horas de sueño: 0\n",
            "Horas de sueño: 0\n",
            "Horas de sueño: 0\n",
            "Horas de sueño: 0\n",
            "Horas de sueño: 0\n",
            "Horas de sueño: 0\n",
            "Horas de sueño: 0\n",
            "Horas de sueño: 0\n",
            "Horas de sueño: 0\n",
            "Horas de sueño: 0\n",
            "Horas de sueño: 0\n",
            "Horas de sueño: 0\n",
            "Horas de sueño: 0\n",
            "Horas de sueño: 0\n",
            "Horas de sueño: 0\n",
            "Horas de sueño: 0\n",
            "Horas de sueño: 0\n",
            "Horas de sueño: 0\n",
            "Horas de sueño: 0\n",
            "Horas de sueño: 0\n",
            "Horas de sueño: 0\n",
            "Horas de sueño: 0\n",
            "Horas de sueño: 0\n",
            "Horas de sueño: 0\n",
            "Horas de sueño: 0\n",
            "Horas de sueño: 0\n",
            "Horas de sueño: 0\n",
            "Horas de sueño: 0\n",
            "Horas de sueño: 0\n",
            "Horas de sueño: 0\n",
            "Horas de sueño: 0\n",
            "Horas de sueño: 0\n",
            "Horas de sueño: 0\n",
            "Horas de sueño: 0\n",
            "Horas de sueño: 0\n",
            "Horas de sueño: 0\n",
            "Horas de sueño: 0\n",
            "Horas de sueño: 0\n",
            "Horas de sueño: 0\n",
            "Horas de sueño: 0\n",
            "Horas de sueño: 0\n",
            "Horas de sueño: 0\n",
            "Horas de sueño: 0\n",
            "Horas de sueño: 0\n",
            "Horas de sueño: 0\n",
            "Horas de sueño: 0\n",
            "Horas de sueño: 0\n",
            "Horas de sueño: 0\n",
            "Horas de sueño: 0\n",
            "Horas de sueño: 0\n",
            "Horas de sueño: 0\n",
            "Horas de sueño: 0\n",
            "Horas de sueño: 0\n",
            "Horas de sueño: 0\n",
            "Horas de sueño: 0\n",
            "Horas de sueño: 0\n",
            "Horas de sueño: 0\n",
            "Horas de sueño: 0\n",
            "Horas de sueño: 0\n",
            "Horas de sueño: 0\n",
            "Horas de sueño: 0\n",
            "Horas de sueño: 0\n",
            "Horas de sueño: 0\n",
            "Horas de sueño: 0\n",
            "Horas de sueño: 0\n",
            "Horas de sueño: 0\n",
            "Horas de sueño: 0\n",
            "Horas de sueño: 0\n",
            "Horas de sueño: 0\n",
            "Horas de sueño: 0\n",
            "Horas de sueño: 0\n",
            "Horas de sueño: 0\n",
            "Horas de sueño: 0\n",
            "Horas de sueño: 0\n",
            "Horas de sueño: 0\n",
            "Horas de sueño: 0\n",
            "Horas de sueño: 0\n",
            "Horas de sueño: 0\n",
            "Horas de sueño: 0\n",
            "Horas de sueño: 0\n",
            "Horas de sueño: 0\n",
            "Horas de sueño: 0\n",
            "Horas de sueño: 0\n",
            "Horas de sueño: 0\n",
            "Horas de sueño: 0\n",
            "Horas de sueño: 0\n",
            "Horas de sueño: 0\n",
            "Horas de sueño: 0\n",
            "Horas de sueño: 0\n",
            "Horas de sueño: 0\n",
            "Horas de sueño: 0\n",
            "Horas de sueño: 0\n",
            "Horas de sueño: 0\n",
            "Horas de sueño: 0\n",
            "Horas de sueño: 0\n",
            "Horas de sueño: 0\n",
            "Horas de sueño: 0\n",
            "Horas de sueño: 0\n",
            "Horas de sueño: 0\n",
            "Horas de sueño: 0\n",
            "Horas de sueño: 0\n",
            "Horas de sueño: 0\n",
            "Horas de sueño: 0\n",
            "Horas de sueño: 0\n",
            "Horas de sueño: 0\n",
            "Horas de sueño: 0\n",
            "Horas de sueño: 0\n",
            "Horas de sueño: 0\n",
            "Horas de sueño: 0\n",
            "Horas de sueño: 0\n",
            "Horas de sueño: 0\n",
            "Horas de sueño: 0\n",
            "Horas de sueño: 0\n",
            "Horas de sueño: 0\n",
            "Horas de sueño: 0\n",
            "Horas de sueño: 0\n",
            "Horas de sueño: 0\n",
            "Horas de sueño: 0\n",
            "Horas de sueño: 0\n",
            "Horas de sueño: 0\n",
            "Horas de sueño: 0\n",
            "Horas de sueño: 0\n",
            "Horas de sueño: 0\n",
            "Horas de sueño: 0\n",
            "Horas de sueño: 0\n",
            "Horas de sueño: 0\n",
            "Horas de sueño: 0\n",
            "Horas de sueño: 0\n",
            "Horas de sueño: 0\n",
            "Horas de sueño: 0\n",
            "Horas de sueño: 0\n",
            "Horas de sueño: 0\n",
            "Horas de sueño: 0\n",
            "Horas de sueño: 0\n",
            "Horas de sueño: 0\n",
            "Horas de sueño: 0\n",
            "Horas de sueño: 0\n",
            "Horas de sueño: 0\n",
            "Horas de sueño: 0\n",
            "Horas de sueño: 0\n",
            "Horas de sueño: 0\n",
            "Horas de sueño: 0\n",
            "Horas de sueño: 0\n",
            "Horas de sueño: 0\n",
            "Horas de sueño: 0\n",
            "Horas de sueño: 0\n",
            "Horas de sueño: 0\n",
            "Horas de sueño: 0\n",
            "Horas de sueño: 0\n",
            "Horas de sueño: 0\n",
            "Horas de sueño: 0\n",
            "Horas de sueño: 0\n",
            "Horas de sueño: 0\n",
            "Horas de sueño: 0\n",
            "Horas de sueño: 0\n",
            "Horas de sueño: 0\n",
            "Horas de sueño: 0\n",
            "Horas de sueño: 0\n",
            "Horas de sueño: 0\n",
            "Horas de sueño: 0\n",
            "Horas de sueño: 0\n",
            "Horas de sueño: 0\n",
            "Horas de sueño: 0\n",
            "Horas de sueño: 0\n",
            "Horas de sueño: 0\n",
            "Horas de sueño: 0\n",
            "Horas de sueño: 0\n",
            "Horas de sueño: 0\n",
            "Horas de sueño: 0\n",
            "Horas de sueño: 0\n",
            "Horas de sueño: 0\n",
            "Horas de sueño: 0\n",
            "Horas de sueño: 0\n",
            "Horas de sueño: 0\n",
            "Horas de sueño: 0\n",
            "Horas de sueño: 0\n",
            "Horas de sueño: 0\n",
            "Horas de sueño: 0\n",
            "Horas de sueño: 0\n",
            "Horas de sueño: 0\n",
            "Horas de sueño: 0\n",
            "Horas de sueño: 0\n",
            "Horas de sueño: 0\n",
            "Horas de sueño: 0\n",
            "Horas de sueño: 0\n",
            "Horas de sueño: 0\n",
            "Horas de sueño: 0\n",
            "Horas de sueño: 0\n",
            "Horas de sueño: 0\n",
            "Horas de sueño: 0\n",
            "Horas de sueño: 0\n",
            "Horas de sueño: 0\n",
            "Horas de sueño: 0\n",
            "Horas de sueño: 0\n",
            "Horas de sueño: 0\n",
            "Horas de sueño: 0\n",
            "Horas de sueño: 0\n",
            "Horas de sueño: 0\n",
            "Horas de sueño: 0\n",
            "Horas de sueño: 0\n",
            "Horas de sueño: 0\n",
            "Horas de sueño: 0\n",
            "Horas de sueño: 0\n",
            "Horas de sueño: 0\n",
            "Horas de sueño: 0\n",
            "Horas de sueño: 0\n",
            "Horas de sueño: 0\n",
            "Horas de sueño: 0\n",
            "Horas de sueño: 0\n",
            "Horas de sueño: 0\n",
            "Horas de sueño: 0\n",
            "Horas de sueño: 0\n",
            "Horas de sueño: 0\n",
            "Horas de sueño: 0\n",
            "Horas de sueño: 0\n",
            "Horas de sueño: 0\n",
            "Horas de sueño: 0\n",
            "Horas de sueño: 0\n",
            "Horas de sueño: 0\n",
            "Horas de sueño: 0\n",
            "Horas de sueño: 0\n",
            "Horas de sueño: 0\n",
            "Horas de sueño: 0\n",
            "Horas de sueño: 0\n",
            "Horas de sueño: 0\n",
            "Horas de sueño: 0\n",
            "Horas de sueño: 0\n",
            "Horas de sueño: 0\n",
            "Horas de sueño: 0\n",
            "Horas de sueño: 0\n",
            "Horas de sueño: 0\n",
            "Horas de sueño: 0\n",
            "Horas de sueño: 0\n",
            "Horas de sueño: 0\n",
            "Horas de sueño: 0\n",
            "Horas de sueño: 0\n",
            "Horas de sueño: 0\n",
            "Horas de sueño: 0\n",
            "Horas de sueño: 0\n",
            "Horas de sueño: 0\n",
            "Horas de sueño: 0\n",
            "Horas de sueño: 0\n",
            "Horas de sueño: 0\n",
            "Horas de sueño: 0\n",
            "Horas de sueño: 0\n",
            "Horas de sueño: 0\n",
            "Horas de sueño: 0\n",
            "Horas de sueño: 0\n",
            "Horas de sueño: 0\n",
            "Horas de sueño: 0\n",
            "Horas de sueño: 0\n",
            "Horas de sueño: 0\n",
            "Horas de sueño: 0\n",
            "Horas de sueño: 0\n",
            "Horas de sueño: 0\n",
            "Horas de sueño: 0\n",
            "Horas de sueño: 0\n",
            "Horas de sueño: 0\n",
            "Horas de sueño: 0\n",
            "Horas de sueño: 0\n",
            "Horas de sueño: 0\n",
            "Horas de sueño: 0\n",
            "Horas de sueño: 0\n",
            "Horas de sueño: 0\n",
            "Horas de sueño: 0\n",
            "Horas de sueño: 0\n",
            "Horas de sueño: 0\n",
            "Horas de sueño: 0\n",
            "Horas de sueño: 0\n",
            "Horas de sueño: 0\n",
            "Horas de sueño: 0\n",
            "Horas de sueño: 0\n",
            "Horas de sueño: 0\n",
            "Horas de sueño: 0\n",
            "Horas de sueño: 0\n",
            "Horas de sueño: 0\n",
            "Horas de sueño: 0\n",
            "Horas de sueño: 0\n",
            "Horas de sueño: 0\n",
            "Horas de sueño: 0\n",
            "Horas de sueño: 0\n",
            "Horas de sueño: 0\n",
            "Horas de sueño: 0\n",
            "Horas de sueño: 0\n",
            "Horas de sueño: 0\n",
            "Horas de sueño: 0\n",
            "Horas de sueño: 0\n",
            "Horas de sueño: 0\n",
            "Horas de sueño: 0\n",
            "Horas de sueño: 0\n",
            "Horas de sueño: 0\n",
            "Horas de sueño: 0\n",
            "Horas de sueño: 0\n",
            "Horas de sueño: 0\n",
            "Horas de sueño: 0\n",
            "Horas de sueño: 0\n",
            "Horas de sueño: 0\n",
            "Horas de sueño: 0\n",
            "Horas de sueño: 0\n",
            "Horas de sueño: 0\n",
            "Horas de sueño: 0\n",
            "Horas de sueño: 0\n",
            "Horas de sueño: 0\n",
            "Horas de sueño: 0\n",
            "Horas de sueño: 0\n",
            "Horas de sueño: 0\n",
            "Horas de sueño: 0\n",
            "Horas de sueño: 0\n",
            "Horas de sueño: 0\n",
            "Horas de sueño: 0\n",
            "Horas de sueño: 0\n",
            "Horas de sueño: 0\n",
            "Horas de sueño: 0\n",
            "Horas de sueño: 0\n",
            "Horas de sueño: 0\n",
            "Horas de sueño: 0\n",
            "Horas de sueño: 0\n",
            "Horas de sueño: 0\n",
            "Horas de sueño: 0\n",
            "Horas de sueño: 0\n",
            "Horas de sueño: 0\n",
            "Horas de sueño: 0\n",
            "Horas de sueño: 0\n",
            "Horas de sueño: 0\n",
            "Horas de sueño: 0\n",
            "Horas de sueño: 0\n",
            "Horas de sueño: 0\n",
            "Horas de sueño: 0\n",
            "Horas de sueño: 0\n",
            "Horas de sueño: 0\n",
            "Horas de sueño: 0\n",
            "Horas de sueño: 0\n",
            "Horas de sueño: 0\n",
            "Horas de sueño: 0\n",
            "Horas de sueño: 0\n",
            "Horas de sueño: 0\n",
            "Horas de sueño: 0\n",
            "Horas de sueño: 0\n",
            "Horas de sueño: 0\n",
            "Horas de sueño: 0\n",
            "Horas de sueño: 0\n",
            "Horas de sueño: 0\n",
            "Horas de sueño: 0\n",
            "Horas de sueño: 0\n",
            "Horas de sueño: 0\n",
            "Horas de sueño: 0\n",
            "Horas de sueño: 0\n",
            "Horas de sueño: 0\n",
            "Horas de sueño: 0\n",
            "Horas de sueño: 0\n",
            "Horas de sueño: 0\n",
            "Horas de sueño: 0\n",
            "Horas de sueño: 0\n",
            "Horas de sueño: 0\n",
            "Horas de sueño: 0\n",
            "Horas de sueño: 0\n",
            "Horas de sueño: 0\n",
            "Horas de sueño: 0\n",
            "Horas de sueño: 0\n",
            "Horas de sueño: 0\n",
            "Horas de sueño: 0\n",
            "Horas de sueño: 0\n",
            "Horas de sueño: 0\n",
            "Horas de sueño: 0\n",
            "Horas de sueño: 0\n",
            "Horas de sueño: 0\n",
            "Horas de sueño: 0\n",
            "Horas de sueño: 0\n",
            "Horas de sueño: 0\n",
            "Horas de sueño: 0\n",
            "Horas de sueño: 0\n",
            "Horas de sueño: 0\n",
            "Horas de sueño: 0\n",
            "Horas de sueño: 0\n",
            "Horas de sueño: 0\n",
            "Horas de sueño: 0\n",
            "Horas de sueño: 0\n",
            "Horas de sueño: 0\n",
            "Horas de sueño: 0\n",
            "Horas de sueño: 0\n",
            "Horas de sueño: 0\n",
            "Horas de sueño: 0\n",
            "Horas de sueño: 0\n",
            "Horas de sueño: 0\n",
            "Horas de sueño: 0\n",
            "Horas de sueño: 0\n",
            "Horas de sueño: 0\n",
            "Horas de sueño: 0\n",
            "Horas de sueño: 0\n",
            "Horas de sueño: 0\n",
            "Horas de sueño: 0\n",
            "Horas de sueño: 0\n",
            "Horas de sueño: 0\n",
            "Horas de sueño: 0\n",
            "Horas de sueño: 0\n",
            "Horas de sueño: 0\n",
            "Horas de sueño: 0\n",
            "Horas de sueño: 0\n",
            "Horas de sueño: 0\n",
            "Horas de sueño: 0\n",
            "Horas de sueño: 0\n",
            "Horas de sueño: 0\n",
            "Horas de sueño: 0\n",
            "Horas de sueño: 0\n",
            "Horas de sueño: 0\n",
            "Horas de sueño: 0\n",
            "Horas de sueño: 0\n",
            "Horas de sueño: 0\n",
            "Horas de sueño: 0\n",
            "Horas de sueño: 0\n",
            "Horas de sueño: 0\n",
            "Horas de sueño: 0\n",
            "Horas de sueño: 0\n",
            "Horas de sueño: 0\n",
            "Horas de sueño: 0\n",
            "Horas de sueño: 0\n",
            "Horas de sueño: 0\n",
            "Horas de sueño: 0\n",
            "Horas de sueño: 0\n",
            "Horas de sueño: 0\n",
            "Horas de sueño: 0\n",
            "Horas de sueño: 0\n",
            "Horas de sueño: 0\n",
            "Horas de sueño: 0\n",
            "Horas de sueño: 0\n",
            "Horas de sueño: 0\n",
            "Horas de sueño: 0\n",
            "Horas de sueño: 0\n",
            "Horas de sueño: 0\n",
            "Horas de sueño: 0\n",
            "Horas de sueño: 0\n",
            "Horas de sueño: 0\n",
            "Horas de sueño: 0\n",
            "Horas de sueño: 0\n",
            "Horas de sueño: 0\n",
            "Horas de sueño: 0\n",
            "Horas de sueño: 0\n",
            "Horas de sueño: 0\n",
            "Horas de sueño: 0\n",
            "Horas de sueño: 0\n",
            "Horas de sueño: 0\n",
            "Horas de sueño: 0\n",
            "Horas de sueño: 0\n",
            "Horas de sueño: 0\n",
            "Horas de sueño: 0\n",
            "Horas de sueño: 0\n",
            "Horas de sueño: 0\n",
            "Horas de sueño: 0\n",
            "Horas de sueño: 0\n",
            "Horas de sueño: 0\n",
            "Horas de sueño: 0\n",
            "Horas de sueño: 0\n",
            "Horas de sueño: 0\n",
            "Horas de sueño: 0\n",
            "Horas de sueño: 0\n",
            "Horas de sueño: 0\n",
            "Horas de sueño: 0\n",
            "Horas de sueño: 0\n",
            "Horas de sueño: 0\n",
            "Horas de sueño: 0\n",
            "Horas de sueño: 0\n",
            "Horas de sueño: 0\n",
            "Horas de sueño: 0\n",
            "Horas de sueño: 0\n",
            "Horas de sueño: 0\n",
            "Horas de sueño: 0\n",
            "Horas de sueño: 0\n",
            "Horas de sueño: 0\n",
            "Horas de sueño: 0\n",
            "Horas de sueño: 0\n",
            "Horas de sueño: 0\n",
            "Horas de sueño: 0\n",
            "Horas de sueño: 0\n",
            "Horas de sueño: 0\n",
            "Horas de sueño: 0\n",
            "Horas de sueño: 0\n",
            "Horas de sueño: 0\n",
            "Horas de sueño: 0\n",
            "Horas de sueño: 0\n",
            "Horas de sueño: 0\n",
            "Horas de sueño: 0\n",
            "Horas de sueño: 0\n",
            "Horas de sueño: 0\n",
            "Horas de sueño: 0\n",
            "Horas de sueño: 0\n",
            "Horas de sueño: 0\n",
            "Horas de sueño: 0\n",
            "Horas de sueño: 0\n",
            "Horas de sueño: 0\n",
            "Horas de sueño: 0\n",
            "Horas de sueño: 0\n",
            "Horas de sueño: 0\n",
            "Horas de sueño: 0\n",
            "Horas de sueño: 0\n",
            "Horas de sueño: 0\n",
            "Horas de sueño: 0\n",
            "Horas de sueño: 0\n",
            "Horas de sueño: 0\n",
            "Horas de sueño: 0\n",
            "Horas de sueño: 0\n",
            "Horas de sueño: 0\n",
            "Horas de sueño: 0\n",
            "Horas de sueño: 0\n",
            "Horas de sueño: 0\n",
            "Horas de sueño: 0\n",
            "Horas de sueño: 0\n",
            "Horas de sueño: 0\n",
            "Horas de sueño: 0\n",
            "Horas de sueño: 0\n",
            "Horas de sueño: 0\n",
            "Horas de sueño: 0\n",
            "Horas de sueño: 0\n",
            "Horas de sueño: 0\n",
            "Horas de sueño: 0\n",
            "Horas de sueño: 0\n",
            "Horas de sueño: 0\n",
            "Horas de sueño: 0\n",
            "Horas de sueño: 0\n",
            "Horas de sueño: 0\n",
            "Horas de sueño: 0\n",
            "Horas de sueño: 0\n",
            "Horas de sueño: 0\n",
            "Horas de sueño: 0\n",
            "Horas de sueño: 0\n",
            "Horas de sueño: 0\n",
            "Horas de sueño: 0\n",
            "Horas de sueño: 0\n",
            "Horas de sueño: 0\n",
            "Horas de sueño: 0\n",
            "Horas de sueño: 0\n",
            "Horas de sueño: 0\n",
            "Horas de sueño: 0\n",
            "Horas de sueño: 0\n",
            "Horas de sueño: 0\n",
            "Horas de sueño: 0\n",
            "Horas de sueño: 0\n",
            "Horas de sueño: 0\n",
            "Horas de sueño: 0\n",
            "Horas de sueño: 0\n",
            "Horas de sueño: 0\n",
            "Horas de sueño: 0\n",
            "Horas de sueño: 0\n",
            "Horas de sueño: 0\n",
            "Horas de sueño: 0\n",
            "Horas de sueño: 0\n",
            "Horas de sueño: 0\n",
            "Horas de sueño: 0\n",
            "Horas de sueño: 0\n",
            "Horas de sueño: 0\n",
            "Horas de sueño: 0\n",
            "Horas de sueño: 0\n",
            "Horas de sueño: 0\n",
            "Horas de sueño: 0\n",
            "Horas de sueño: 0\n",
            "Horas de sueño: 0\n",
            "Horas de sueño: 0\n",
            "Horas de sueño: 0\n",
            "Horas de sueño: 0\n",
            "Horas de sueño: 0\n",
            "Horas de sueño: 0\n",
            "Horas de sueño: 0\n",
            "Horas de sueño: 0\n",
            "Horas de sueño: 0\n",
            "Horas de sueño: 0\n",
            "Horas de sueño: 0\n",
            "Horas de sueño: 0\n",
            "Horas de sueño: 0\n",
            "Horas de sueño: 0\n",
            "Horas de sueño: 0\n",
            "Horas de sueño: 0\n",
            "Horas de sueño: 0\n",
            "Horas de sueño: 0\n",
            "Horas de sueño: 0\n",
            "Horas de sueño: 0\n",
            "Horas de sueño: 0\n",
            "Horas de sueño: 0\n",
            "Horas de sueño: 0\n",
            "Horas de sueño: 0\n",
            "Horas de sueño: 0\n",
            "Horas de sueño: 0\n",
            "Horas de sueño: 0\n",
            "Horas de sueño: 0\n",
            "Horas de sueño: 0\n",
            "Horas de sueño: 0\n",
            "Horas de sueño: 0\n",
            "Horas de sueño: 0\n",
            "Horas de sueño: 0\n",
            "Horas de sueño: 0\n",
            "Horas de sueño: 0\n",
            "Horas de sueño: 0\n",
            "Horas de sueño: 0\n",
            "Horas de sueño: 0\n",
            "Horas de sueño: 0\n",
            "Horas de sueño: 0\n",
            "Horas de sueño: 0\n",
            "Horas de sueño: 0\n",
            "Horas de sueño: 0\n",
            "Horas de sueño: 0\n",
            "Horas de sueño: 0\n",
            "Horas de sueño: 0\n",
            "Horas de sueño: 0\n",
            "Horas de sueño: 0\n",
            "Horas de sueño: 0\n",
            "Horas de sueño: 0\n",
            "Horas de sueño: 0\n",
            "Horas de sueño: 0\n",
            "Horas de sueño: 0\n",
            "Horas de sueño: 0\n",
            "Horas de sueño: 0\n",
            "Horas de sueño: 0\n",
            "Horas de sueño: 0\n",
            "Horas de sueño: 0\n",
            "Horas de sueño: 0\n",
            "Horas de sueño: 0\n",
            "Horas de sueño: 0\n",
            "Horas de sueño: 0\n",
            "Horas de sueño: 0\n",
            "Horas de sueño: 0\n",
            "Horas de sueño: 0\n",
            "Horas de sueño: 0\n",
            "Horas de sueño: 0\n",
            "Horas de sueño: 0\n",
            "Horas de sueño: 0\n",
            "Horas de sueño: 0\n",
            "Horas de sueño: 0\n",
            "Horas de sueño: 0\n",
            "Horas de sueño: 0\n",
            "Horas de sueño: 0\n",
            "Horas de sueño: 0\n",
            "Horas de sueño: 0\n",
            "Horas de sueño: 0\n",
            "Horas de sueño: 0\n",
            "Horas de sueño: 0\n",
            "Horas de sueño: 0\n",
            "Horas de sueño: 0\n",
            "Horas de sueño: 0\n",
            "Horas de sueño: 0\n",
            "Horas de sueño: 0\n",
            "Horas de sueño: 0\n",
            "Horas de sueño: 0\n",
            "Horas de sueño: 0\n",
            "Horas de sueño: 0\n",
            "Horas de sueño: 0\n",
            "Horas de sueño: 0\n",
            "Horas de sueño: 0\n",
            "Horas de sueño: 0\n",
            "Horas de sueño: 0\n",
            "Horas de sueño: 0\n",
            "Horas de sueño: 0\n",
            "Horas de sueño: 0\n",
            "Horas de sueño: 0\n",
            "Horas de sueño: 0\n",
            "Horas de sueño: 0\n",
            "Horas de sueño: 0\n",
            "Horas de sueño: 0\n",
            "Horas de sueño: 0\n",
            "Horas de sueño: 0\n",
            "Horas de sueño: 0\n",
            "Horas de sueño: 0\n",
            "Horas de sueño: 0\n",
            "Horas de sueño: 0\n",
            "Horas de sueño: 0\n",
            "Horas de sueño: 0\n",
            "Horas de sueño: 0\n",
            "Horas de sueño: 0\n",
            "Horas de sueño: 0\n",
            "Horas de sueño: 0\n",
            "Horas de sueño: 0\n",
            "Horas de sueño: 0\n",
            "Horas de sueño: 0\n",
            "Horas de sueño: 0\n",
            "Horas de sueño: 0\n",
            "Horas de sueño: 0\n",
            "Horas de sueño: 0\n",
            "Horas de sueño: 0\n",
            "Horas de sueño: 0\n",
            "Horas de sueño: 0\n",
            "Horas de sueño: 0\n",
            "Horas de sueño: 0\n",
            "Horas de sueño: 0\n",
            "Horas de sueño: 0\n",
            "Horas de sueño: 0\n",
            "Horas de sueño: 0\n",
            "Horas de sueño: 0\n",
            "Horas de sueño: 0\n",
            "Horas de sueño: 0\n",
            "Horas de sueño: 0\n",
            "Horas de sueño: 0\n",
            "Horas de sueño: 0\n",
            "Horas de sueño: 0\n",
            "Horas de sueño: 0\n",
            "Horas de sueño: 0\n",
            "Horas de sueño: 0\n",
            "Horas de sueño: 0\n",
            "Horas de sueño: 0\n",
            "Horas de sueño: 0\n",
            "Horas de sueño: 0\n",
            "Horas de sueño: 0\n",
            "Horas de sueño: 0\n",
            "Horas de sueño: 0\n",
            "Horas de sueño: 0\n",
            "Horas de sueño: 0\n",
            "Horas de sueño: 0\n",
            "Horas de sueño: 0\n",
            "Horas de sueño: 0\n",
            "Horas de sueño: 0\n",
            "Horas de sueño: 0\n",
            "Horas de sueño: 0\n",
            "Horas de sueño: 0\n",
            "Horas de sueño: 0\n",
            "Horas de sueño: 0\n",
            "Horas de sueño: 0\n",
            "Horas de sueño: 0\n",
            "Horas de sueño: 0\n",
            "Horas de sueño: 0\n",
            "Horas de sueño: 0\n",
            "Horas de sueño: 0\n",
            "Horas de sueño: 0\n",
            "Horas de sueño: 0\n",
            "Horas de sueño: 0\n",
            "Horas de sueño: 0\n",
            "Horas de sueño: 0\n",
            "Horas de sueño: 0\n",
            "Horas de sueño: 0\n",
            "Horas de sueño: 0\n",
            "Horas de sueño: 0\n",
            "Horas de sueño: 0\n",
            "Horas de sueño: 0\n",
            "Horas de sueño: 0\n",
            "Horas de sueño: 0\n",
            "Horas de sueño: 0\n",
            "Horas de sueño: 0\n",
            "Horas de sueño: 0\n",
            "Horas de sueño: 0\n",
            "Horas de sueño: 0\n",
            "Horas de sueño: 0\n",
            "Horas de sueño: 0\n",
            "Horas de sueño: 0\n",
            "Horas de sueño: 0\n",
            "Horas de sueño: 0\n",
            "Horas de sueño: 0\n",
            "Horas de sueño: 0\n",
            "Horas de sueño: 0\n",
            "Horas de sueño: 0\n",
            "Horas de sueño: 0\n",
            "Horas de sueño: 0\n",
            "Horas de sueño: 0\n",
            "Horas de sueño: 0\n",
            "Horas de sueño: 0\n",
            "Horas de sueño: 0\n",
            "Horas de sueño: 0\n",
            "Horas de sueño: 0\n",
            "Horas de sueño: 0\n",
            "Horas de sueño: 0\n",
            "Horas de sueño: 0\n",
            "Horas de sueño: 0\n",
            "Horas de sueño: 0\n",
            "Horas de sueño: 0\n",
            "Horas de sueño: 0\n",
            "Horas de sueño: 0\n",
            "Horas de sueño: 0\n",
            "Horas de sueño: 0\n",
            "Horas de sueño: 0\n",
            "Horas de sueño: 0\n",
            "Horas de sueño: 0\n",
            "Horas de sueño: 0\n",
            "Horas de sueño: 0\n",
            "Horas de sueño: 0\n",
            "Horas de sueño: 0\n",
            "Horas de sueño: 0\n",
            "Horas de sueño: 0\n",
            "Horas de sueño: 0\n",
            "Horas de sueño: 0\n",
            "Horas de sueño: 0\n",
            "Horas de sueño: 0\n",
            "Horas de sueño: 0\n",
            "Horas de sueño: 0\n",
            "Horas de sueño: 0\n",
            "Horas de sueño: 0\n",
            "Horas de sueño: 0\n",
            "Horas de sueño: 0\n",
            "Horas de sueño: 0\n",
            "Horas de sueño: 0\n",
            "Horas de sueño: 0\n",
            "Horas de sueño: 0\n",
            "Horas de sueño: 0\n",
            "Horas de sueño: 0\n",
            "Horas de sueño: 0\n",
            "Horas de sueño: 0\n",
            "Horas de sueño: 0\n",
            "Horas de sueño: 0\n",
            "Horas de sueño: 0\n",
            "Horas de sueño: 0\n",
            "Horas de sueño: 0\n",
            "Horas de sueño: 0\n",
            "Horas de sueño: 0\n",
            "Horas de sueño: 0\n",
            "Horas de sueño: 0\n",
            "Horas de sueño: 0\n",
            "Horas de sueño: 0\n",
            "Horas de sueño: 0\n",
            "Horas de sueño: 0\n",
            "Horas de sueño: 0\n",
            "Horas de sueño: 0\n",
            "Horas de sueño: 0\n",
            "Horas de sueño: 0\n",
            "Horas de sueño: 0\n",
            "Horas de sueño: 0\n",
            "Horas de sueño: 0\n",
            "Horas de sueño: 0\n",
            "Horas de sueño: 0\n",
            "Horas de sueño: 0\n",
            "Horas de sueño: 0\n",
            "Horas de sueño: 0\n",
            "Horas de sueño: 0\n",
            "Horas de sueño: 0\n",
            "Horas de sueño: 0\n",
            "Horas de sueño: 0\n",
            "Horas de sueño: 0\n",
            "Horas de sueño: 0\n",
            "Horas de sueño: 0\n",
            "Horas de sueño: 0\n",
            "Horas de sueño: 0\n",
            "Horas de sueño: 0\n",
            "Horas de sueño: 0\n",
            "Horas de sueño: 0\n",
            "Horas de sueño: 0\n",
            "Horas de sueño: 0\n",
            "Horas de sueño: 0\n",
            "Horas de sueño: 0\n",
            "Horas de sueño: 0\n",
            "Horas de sueño: 0\n",
            "Horas de sueño: 0\n",
            "Horas de sueño: 0\n",
            "Horas de sueño: 0\n",
            "Horas de sueño: 0\n",
            "Horas de sueño: 0\n",
            "Horas de sueño: 0\n",
            "Horas de sueño: 0\n",
            "Horas de sueño: 0\n",
            "Horas de sueño: 0\n",
            "Horas de sueño: 0\n",
            "Horas de sueño: 0\n",
            "Horas de sueño: 0\n",
            "Horas de sueño: 0\n",
            "Horas de sueño: 0\n",
            "Horas de sueño: 0\n",
            "Horas de sueño: 0\n",
            "Horas de sueño: 0\n",
            "Horas de sueño: 0\n",
            "Horas de sueño: 0\n",
            "Horas de sueño: 0\n",
            "Horas de sueño: 0\n",
            "Horas de sueño: 0\n",
            "Horas de sueño: 0\n",
            "Horas de sueño: 0\n",
            "Horas de sueño: 0\n",
            "Horas de sueño: 0\n",
            "Horas de sueño: 0\n",
            "Horas de sueño: 0\n",
            "Horas de sueño: 0\n",
            "Horas de sueño: 0\n",
            "Horas de sueño: 0\n",
            "Horas de sueño: 0\n",
            "Horas de sueño: 0\n",
            "Horas de sueño: 0\n",
            "Horas de sueño: 0\n",
            "Horas de sueño: 0\n",
            "Horas de sueño: 0\n",
            "Horas de sueño: 0\n",
            "Horas de sueño: 0\n",
            "Horas de sueño: 0\n",
            "Horas de sueño: 0\n",
            "Horas de sueño: 0\n",
            "Horas de sueño: 0\n",
            "Horas de sueño: 0\n",
            "Horas de sueño: 0\n",
            "Horas de sueño: 0\n",
            "Horas de sueño: 0\n",
            "Horas de sueño: 0\n",
            "Horas de sueño: 0\n",
            "Horas de sueño: 0\n",
            "Horas de sueño: 0\n",
            "Horas de sueño: 0\n",
            "Horas de sueño: 0\n",
            "Horas de sueño: 0\n",
            "Horas de sueño: 0\n",
            "Horas de sueño: 0\n",
            "Horas de sueño: 0\n",
            "Horas de sueño: 0\n",
            "Horas de sueño: 0\n",
            "Horas de sueño: 0\n",
            "Horas de sueño: 0\n",
            "Horas de sueño: 0\n",
            "Horas de sueño: 0\n",
            "Horas de sueño: 0\n",
            "Horas de sueño: 0\n",
            "Horas de sueño: 0\n",
            "Horas de sueño: 0\n",
            "Horas de sueño: 0\n",
            "Horas de sueño: 0\n",
            "Horas de sueño: 0\n",
            "Horas de sueño: 0\n",
            "Horas de sueño: 0\n",
            "Horas de sueño: 0\n",
            "Horas de sueño: 0\n",
            "Horas de sueño: 0\n",
            "Horas de sueño: 0\n",
            "Horas de sueño: 0\n",
            "Horas de sueño: 0\n",
            "Horas de sueño: 0\n",
            "Horas de sueño: 0\n",
            "Horas de sueño: 0\n",
            "Horas de sueño: 0\n",
            "Horas de sueño: 0\n",
            "Horas de sueño: 0\n",
            "Horas de sueño: 0\n",
            "Horas de sueño: 0\n",
            "Horas de sueño: 0\n",
            "Horas de sueño: 0\n",
            "Horas de sueño: 0\n",
            "Horas de sueño: 0\n",
            "Horas de sueño: 0\n",
            "Horas de sueño: 0\n",
            "Horas de sueño: 0\n",
            "Horas de sueño: 0\n",
            "Horas de sueño: 0\n",
            "Horas de sueño: 0\n",
            "Horas de sueño: 0\n",
            "Horas de sueño: 0\n",
            "Horas de sueño: 0\n",
            "Horas de sueño: 0\n",
            "Horas de sueño: 0\n",
            "Horas de sueño: 0\n",
            "Horas de sueño: 0\n",
            "Horas de sueño: 0\n",
            "Horas de sueño: 0\n",
            "Horas de sueño: 0\n",
            "Horas de sueño: 0\n",
            "Horas de sueño: 0\n",
            "Horas de sueño: 0\n",
            "Horas de sueño: 0\n",
            "Horas de sueño: 0\n",
            "Horas de sueño: 0\n",
            "Horas de sueño: 0\n",
            "Horas de sueño: 0\n",
            "Horas de sueño: 0\n",
            "Horas de sueño: 0\n",
            "Horas de sueño: 0\n",
            "Horas de sueño: 0\n",
            "Horas de sueño: 0\n",
            "Horas de sueño: 0\n",
            "Horas de sueño: 0\n",
            "Horas de sueño: 0\n",
            "Horas de sueño: 0\n",
            "Horas de sueño: 0\n",
            "Horas de sueño: 0\n",
            "Horas de sueño: 0\n",
            "Horas de sueño: 0\n",
            "Horas de sueño: 0\n",
            "Horas de sueño: 0\n",
            "Horas de sueño: 0\n",
            "Horas de sueño: 0\n",
            "Horas de sueño: 0\n",
            "Horas de sueño: 0\n",
            "Horas de sueño: 0\n",
            "Horas de sueño: 0\n",
            "Horas de sueño: 0\n",
            "Horas de sueño: 0\n",
            "Horas de sueño: 0\n",
            "Horas de sueño: 0\n",
            "Horas de sueño: 0\n",
            "Horas de sueño: 0\n",
            "Horas de sueño: 0\n",
            "Horas de sueño: 0\n",
            "Horas de sueño: 0\n",
            "Horas de sueño: 0\n",
            "Horas de sueño: 0\n",
            "Horas de sueño: 0\n",
            "Horas de sueño: 0\n",
            "Horas de sueño: 0\n",
            "Horas de sueño: 0\n",
            "Horas de sueño: 0\n",
            "Horas de sueño: 0\n",
            "Horas de sueño: 0\n",
            "Horas de sueño: 0\n",
            "Horas de sueño: 0\n",
            "Horas de sueño: 0\n",
            "Horas de sueño: 0\n",
            "Horas de sueño: 0\n",
            "Horas de sueño: 0\n",
            "Horas de sueño: 0\n",
            "Horas de sueño: 0\n",
            "Horas de sueño: 0\n",
            "Horas de sueño: 0\n",
            "Horas de sueño: 0\n",
            "Horas de sueño: 0\n",
            "Horas de sueño: 0\n",
            "Horas de sueño: 0\n",
            "Horas de sueño: 0\n",
            "Horas de sueño: 0\n",
            "Horas de sueño: 0\n",
            "Horas de sueño: 0\n",
            "Horas de sueño: 0\n",
            "Horas de sueño: 0\n",
            "Horas de sueño: 0\n",
            "Horas de sueño: 0\n",
            "Horas de sueño: 0\n",
            "Horas de sueño: 0\n",
            "Horas de sueño: 0\n",
            "Horas de sueño: 0\n",
            "Horas de sueño: 0\n",
            "Horas de sueño: 0\n",
            "Horas de sueño: 0\n",
            "Horas de sueño: 0\n",
            "Horas de sueño: 0\n",
            "Horas de sueño: 0\n",
            "Horas de sueño: 0\n",
            "Horas de sueño: 0\n",
            "Horas de sueño: 0\n",
            "Horas de sueño: 0\n",
            "Horas de sueño: 0\n",
            "Horas de sueño: 0\n",
            "Horas de sueño: 0\n",
            "Horas de sueño: 0\n",
            "Horas de sueño: 0\n",
            "Horas de sueño: 0\n",
            "Horas de sueño: 0\n",
            "Horas de sueño: 0\n",
            "Horas de sueño: 0\n",
            "Horas de sueño: 0\n",
            "Horas de sueño: 0\n",
            "Horas de sueño: 0\n",
            "Horas de sueño: 0\n",
            "Horas de sueño: 0\n",
            "Horas de sueño: 0\n",
            "Horas de sueño: 0\n",
            "Horas de sueño: 0\n",
            "Horas de sueño: 0\n",
            "Horas de sueño: 0\n",
            "Horas de sueño: 0\n",
            "Horas de sueño: 0\n",
            "Horas de sueño: 0\n",
            "Horas de sueño: 0\n",
            "Horas de sueño: 0\n",
            "Horas de sueño: 0\n",
            "Horas de sueño: 0\n",
            "Horas de sueño: 0\n",
            "Horas de sueño: 0\n",
            "Horas de sueño: 0\n",
            "Horas de sueño: 0\n",
            "Horas de sueño: 0\n",
            "Horas de sueño: 0\n",
            "Horas de sueño: 0\n",
            "Horas de sueño: 0\n",
            "Horas de sueño: 0\n",
            "Horas de sueño: 0\n",
            "Horas de sueño: 0\n",
            "Horas de sueño: 0\n",
            "Horas de sueño: 0\n",
            "Horas de sueño: 0\n",
            "Horas de sueño: 0\n",
            "Horas de sueño: 0\n",
            "Horas de sueño: 0\n",
            "Horas de sueño: 0\n",
            "Horas de sueño: 0\n",
            "Horas de sueño: 0\n",
            "Horas de sueño: 0\n",
            "Horas de sueño: 0\n",
            "Horas de sueño: 0\n",
            "Horas de sueño: 0\n",
            "Horas de sueño: 0\n",
            "Horas de sueño: 0\n",
            "Horas de sueño: 0\n",
            "Horas de sueño: 0\n",
            "Horas de sueño: 0\n",
            "Horas de sueño: 0\n",
            "Horas de sueño: 0\n",
            "Horas de sueño: 0\n",
            "Horas de sueño: 0\n",
            "Horas de sueño: 0\n",
            "Horas de sueño: 0\n",
            "Horas de sueño: 0\n",
            "Horas de sueño: 0\n",
            "Horas de sueño: 0\n",
            "Horas de sueño: 0\n",
            "Horas de sueño: 0\n",
            "Horas de sueño: 0\n",
            "Horas de sueño: 0\n",
            "Horas de sueño: 0\n",
            "Horas de sueño: 0\n",
            "Horas de sueño: 0\n",
            "Horas de sueño: 0\n",
            "Horas de sueño: 0\n",
            "Horas de sueño: 0\n",
            "Horas de sueño: 0\n",
            "Horas de sueño: 0\n",
            "Horas de sueño: 0\n",
            "Horas de sueño: 0\n",
            "Horas de sueño: 0\n",
            "Horas de sueño: 0\n",
            "Horas de sueño: 0\n",
            "Horas de sueño: 0\n",
            "Horas de sueño: 0\n",
            "Horas de sueño: 0\n",
            "Horas de sueño: 0\n",
            "Horas de sueño: 0\n",
            "Horas de sueño: 0\n",
            "Horas de sueño: 0\n",
            "Horas de sueño: 0\n",
            "Horas de sueño: 0\n",
            "Horas de sueño: 0\n",
            "Horas de sueño: 0\n",
            "Horas de sueño: 0\n",
            "Horas de sueño: 0\n",
            "Horas de sueño: 0\n",
            "Horas de sueño: 0\n",
            "Horas de sueño: 0\n",
            "Horas de sueño: 0\n",
            "Horas de sueño: 0\n",
            "Horas de sueño: 0\n",
            "Horas de sueño: 0\n",
            "Horas de sueño: 0\n",
            "Horas de sueño: 0\n",
            "Horas de sueño: 0\n",
            "Horas de sueño: 0\n",
            "Horas de sueño: 0\n",
            "Horas de sueño: 0\n",
            "Horas de sueño: 0\n",
            "Horas de sueño: 0\n",
            "Horas de sueño: 0\n",
            "Horas de sueño: 0\n",
            "Horas de sueño: 0\n",
            "Horas de sueño: 0\n",
            "Horas de sueño: 0\n",
            "Horas de sueño: 0\n",
            "Horas de sueño: 0\n",
            "Horas de sueño: 0\n",
            "Horas de sueño: 0\n",
            "Horas de sueño: 0\n",
            "Horas de sueño: 0\n",
            "Horas de sueño: 0\n",
            "Horas de sueño: 0\n",
            "Horas de sueño: 0\n",
            "Horas de sueño: 0\n",
            "Horas de sueño: 0\n",
            "Horas de sueño: 0\n",
            "Horas de sueño: 0\n",
            "Horas de sueño: 0\n",
            "Horas de sueño: 0\n",
            "Horas de sueño: 0\n",
            "Horas de sueño: 0\n",
            "Horas de sueño: 0\n",
            "Horas de sueño: 0\n",
            "Horas de sueño: 0\n",
            "Horas de sueño: 0\n",
            "Horas de sueño: 0\n",
            "Horas de sueño: 0\n",
            "Horas de sueño: 0\n",
            "Horas de sueño: 0\n",
            "Horas de sueño: 0\n",
            "Horas de sueño: 0\n",
            "Horas de sueño: 0\n",
            "Horas de sueño: 0\n",
            "Horas de sueño: 0\n",
            "Horas de sueño: 0\n",
            "Horas de sueño: 0\n",
            "Horas de sueño: 0\n",
            "Horas de sueño: 0\n",
            "Horas de sueño: 0\n",
            "Horas de sueño: 0\n",
            "Horas de sueño: 0\n",
            "Horas de sueño: 0\n",
            "Horas de sueño: 0\n",
            "Horas de sueño: 0\n",
            "Horas de sueño: 0\n",
            "Horas de sueño: 0\n",
            "Horas de sueño: 0\n",
            "Horas de sueño: 0\n",
            "Horas de sueño: 0\n",
            "Horas de sueño: 0\n",
            "Horas de sueño: 0\n",
            "Horas de sueño: 0\n",
            "Horas de sueño: 0\n",
            "Horas de sueño: 0\n",
            "Horas de sueño: 0\n",
            "Horas de sueño: 0\n",
            "Horas de sueño: 0\n",
            "Horas de sueño: 0\n",
            "Horas de sueño: 0\n",
            "Horas de sueño: 0\n",
            "Horas de sueño: 0\n",
            "Horas de sueño: 0\n",
            "Horas de sueño: 0\n",
            "Horas de sueño: 0\n",
            "Horas de sueño: 0\n",
            "Horas de sueño: 0\n",
            "Horas de sueño: 0\n",
            "Horas de sueño: 0\n",
            "Horas de sueño: 0\n",
            "Horas de sueño: 0\n",
            "Horas de sueño: 0\n",
            "Horas de sueño: 0\n",
            "Horas de sueño: 0\n",
            "Horas de sueño: 0\n",
            "Horas de sueño: 0\n",
            "Horas de sueño: 0\n",
            "Horas de sueño: 0\n",
            "Horas de sueño: 0\n",
            "Horas de sueño: 0\n",
            "Horas de sueño: 0\n",
            "Horas de sueño: 0\n",
            "Horas de sueño: 0\n",
            "Horas de sueño: 0\n",
            "Horas de sueño: 0\n",
            "Horas de sueño: 0\n",
            "Horas de sueño: 0\n",
            "Horas de sueño: 0\n",
            "Horas de sueño: 0\n",
            "Horas de sueño: 0\n",
            "Horas de sueño: 0\n",
            "Horas de sueño: 0\n",
            "Horas de sueño: 0\n",
            "Horas de sueño: 0\n",
            "Horas de sueño: 0\n",
            "Horas de sueño: 0\n",
            "Horas de sueño: 0\n",
            "Horas de sueño: 0\n",
            "Horas de sueño: 0\n",
            "Horas de sueño: 0\n",
            "Horas de sueño: 0\n",
            "Horas de sueño: 0\n",
            "Horas de sueño: 0\n",
            "Horas de sueño: 0\n",
            "Horas de sueño: 0\n",
            "Horas de sueño: 0\n",
            "Horas de sueño: 0\n",
            "Horas de sueño: 0\n",
            "Horas de sueño: 0\n",
            "Horas de sueño: 0\n",
            "Horas de sueño: 0\n",
            "Horas de sueño: 0\n",
            "Horas de sueño: 0\n",
            "Horas de sueño: 0\n",
            "Horas de sueño: 0\n",
            "Horas de sueño: 0\n",
            "Horas de sueño: 0\n",
            "Horas de sueño: 0\n",
            "Horas de sueño: 0\n",
            "Horas de sueño: 0\n",
            "Horas de sueño: 0\n",
            "Horas de sueño: 0\n",
            "Horas de sueño: 0\n",
            "Horas de sueño: 0\n",
            "Horas de sueño: 0\n",
            "Horas de sueño: 0\n",
            "Horas de sueño: 0\n",
            "Horas de sueño: 0\n",
            "Horas de sueño: 0\n",
            "Horas de sueño: 0\n",
            "Horas de sueño: 0\n",
            "Horas de sueño: 0\n",
            "Horas de sueño: 0\n",
            "Horas de sueño: 0\n",
            "Horas de sueño: 0\n",
            "Horas de sueño: 0\n",
            "Horas de sueño: 0\n",
            "Horas de sueño: 0\n",
            "Horas de sueño: 0\n",
            "Horas de sueño: 0\n",
            "Horas de sueño: 0\n",
            "Horas de sueño: 0\n",
            "Horas de sueño: 0\n",
            "Horas de sueño: 0\n",
            "Horas de sueño: 0\n",
            "Horas de sueño: 0\n",
            "Horas de sueño: 0\n",
            "Horas de sueño: 0\n",
            "Horas de sueño: 0\n",
            "Horas de sueño: 0\n",
            "Horas de sueño: 0\n",
            "Horas de sueño: 0\n",
            "Horas de sueño: 0\n",
            "Horas de sueño: 0\n",
            "Horas de sueño: 0\n",
            "Horas de sueño: 0\n",
            "Horas de sueño: 0\n",
            "Horas de sueño: 0\n",
            "Horas de sueño: 0\n",
            "Horas de sueño: 0\n",
            "Horas de sueño: 0\n",
            "Horas de sueño: 0\n",
            "Horas de sueño: 0\n",
            "Horas de sueño: 0\n",
            "Horas de sueño: 0\n",
            "Horas de sueño: 0\n",
            "Horas de sueño: 0\n",
            "Horas de sueño: 0\n",
            "Horas de sueño: 0\n",
            "Horas de sueño: 0\n",
            "Horas de sueño: 0\n",
            "Horas de sueño: 0\n",
            "Horas de sueño: 0\n",
            "Horas de sueño: 0\n",
            "Horas de sueño: 0\n",
            "Horas de sueño: 0\n",
            "Horas de sueño: 0\n",
            "Horas de sueño: 0\n",
            "Horas de sueño: 0\n",
            "Horas de sueño: 0\n",
            "Horas de sueño: 0\n",
            "Horas de sueño: 0\n",
            "Horas de sueño: 0\n"
          ]
        },
        {
          "ename": "KeyboardInterrupt",
          "evalue": "",
          "output_type": "error",
          "traceback": [
            "\u001b[0;31m---------------------------------------------------------------------------\u001b[0m",
            "\u001b[0;31mKeyboardInterrupt\u001b[0m                         Traceback (most recent call last)",
            "\u001b[0;32m<ipython-input-145-1f1044d6eb3f>\u001b[0m in \u001b[0;36m<cell line: 0>\u001b[0;34m()\u001b[0m\n\u001b[1;32m      2\u001b[0m \u001b[0;34m\u001b[0m\u001b[0m\n\u001b[1;32m      3\u001b[0m \u001b[0;32mwhile\u001b[0m \u001b[0mhora\u001b[0m \u001b[0;34m<\u001b[0m \u001b[0;36m8\u001b[0m\u001b[0;34m:\u001b[0m\u001b[0;34m\u001b[0m\u001b[0;34m\u001b[0m\u001b[0m\n\u001b[0;32m----> 4\u001b[0;31m   \u001b[0mprint\u001b[0m\u001b[0;34m(\u001b[0m\u001b[0;34mf\"Horas de sueño: {hora}\"\u001b[0m\u001b[0;34m)\u001b[0m\u001b[0;34m\u001b[0m\u001b[0;34m\u001b[0m\u001b[0m\n\u001b[0m\u001b[1;32m      5\u001b[0m   \u001b[0;31m# hora = hora + 1\u001b[0m\u001b[0;34m\u001b[0m\u001b[0;34m\u001b[0m\u001b[0m\n\u001b[1;32m      6\u001b[0m   \u001b[0;31m# hora += 1\u001b[0m\u001b[0;34m\u001b[0m\u001b[0;34m\u001b[0m\u001b[0m\n",
            "\u001b[0;32m/usr/local/lib/python3.11/dist-packages/ipykernel/iostream.py\u001b[0m in \u001b[0;36mwrite\u001b[0;34m(self, string)\u001b[0m\n\u001b[1;32m    551\u001b[0m             \u001b[0;31m# only touch the buffer in the IO thread to avoid races\u001b[0m\u001b[0;34m\u001b[0m\u001b[0;34m\u001b[0m\u001b[0m\n\u001b[1;32m    552\u001b[0m             \u001b[0;32mwith\u001b[0m \u001b[0mself\u001b[0m\u001b[0;34m.\u001b[0m\u001b[0m_buffer_lock\u001b[0m\u001b[0;34m:\u001b[0m\u001b[0;34m\u001b[0m\u001b[0;34m\u001b[0m\u001b[0m\n\u001b[0;32m--> 553\u001b[0;31m                 \u001b[0mself\u001b[0m\u001b[0;34m.\u001b[0m\u001b[0m_buffer\u001b[0m\u001b[0;34m.\u001b[0m\u001b[0mwrite\u001b[0m\u001b[0;34m(\u001b[0m\u001b[0mstring\u001b[0m\u001b[0;34m)\u001b[0m\u001b[0;34m\u001b[0m\u001b[0;34m\u001b[0m\u001b[0m\n\u001b[0m\u001b[1;32m    554\u001b[0m             \u001b[0;32mif\u001b[0m \u001b[0mis_child\u001b[0m\u001b[0;34m:\u001b[0m\u001b[0;34m\u001b[0m\u001b[0;34m\u001b[0m\u001b[0m\n\u001b[1;32m    555\u001b[0m                 \u001b[0;31m# mp.Pool cannot be trusted to flush promptly (or ever),\u001b[0m\u001b[0;34m\u001b[0m\u001b[0;34m\u001b[0m\u001b[0m\n",
            "\u001b[0;31mKeyboardInterrupt\u001b[0m: "
          ]
        }
      ],
      "source": [
        "hora = 0\n",
        "\n",
        "while hora < 8:\n",
        "  print(f\"Horas de sueño: {hora}\")\n",
        "  # hora = hora + 1\n",
        "  # hora += 1\n",
        "\n",
        "print(\"Despierto, la hora es:\", hora)"
      ]
    },
    {
      "cell_type": "code",
      "execution_count": null,
      "metadata": {
        "colab": {
          "base_uri": "https://localhost:8080/"
        },
        "collapsed": true,
        "id": "yGS5_msO0l3H",
        "outputId": "1fd57de6-de3c-4d4a-fda2-4b1163810c61"
      },
      "outputs": [
        {
          "name": "stdout",
          "output_type": "stream",
          "text": [
            "Horas de sueño: -10000\n",
            "Horas de sueño: -9999\n",
            "Horas de sueño: -9998\n",
            "Horas de sueño: -9997\n",
            "Horas de sueño: -9996\n",
            "Horas de sueño: -9995\n",
            "Horas de sueño: -9994\n",
            "Horas de sueño: -9993\n",
            "Horas de sueño: -9992\n",
            "Horas de sueño: -9991\n",
            "Horas de sueño: -9990\n",
            "Horas de sueño: -9989\n",
            "Horas de sueño: -9988\n",
            "Horas de sueño: -9987\n",
            "Horas de sueño: -9986\n",
            "Horas de sueño: -9985\n",
            "Horas de sueño: -9984\n",
            "Horas de sueño: -9983\n",
            "Horas de sueño: -9982\n",
            "Horas de sueño: -9981\n",
            "Horas de sueño: -9980\n",
            "Horas de sueño: -9979\n",
            "Horas de sueño: -9978\n",
            "Horas de sueño: -9977\n",
            "Dormimos negativo? Raro\n",
            "Despierto, la hora es: -9976\n"
          ]
        }
      ],
      "source": [
        "hora = -10_000\n",
        "conteo_loops = 0\n",
        "\n",
        "while hora < 8:\n",
        "  print(f\"Horas de sueño: {hora}\")\n",
        "  # hora = hora +1\n",
        "  hora += 1\n",
        "  conteo_loops += 1\n",
        "\n",
        "  if conteo_loops == 24:\n",
        "    break\n",
        "\n",
        "\n",
        "if hora < 0:\n",
        "  print(\"Dormimos negativo? Raro\")\n",
        "\n",
        "\n",
        "print(\"Despierto, la hora es:\", hora)"
      ]
    },
    {
      "cell_type": "code",
      "execution_count": null,
      "metadata": {
        "colab": {
          "base_uri": "https://localhost:8080/"
        },
        "collapsed": true,
        "id": "BOIVkfgLjWlZ",
        "outputId": "d62dac3e-8fcf-458e-dffb-494d80f9f4f3"
      },
      "outputs": [
        {
          "name": "stdout",
          "output_type": "stream",
          "text": [
            "Escribe un número: 2\n",
            "x es menor a 5!\n",
            "Escribe un número: 3\n",
            "x es menor a 5!\n",
            "Escribe un número: 10\n",
            "x está entre 5 y 10\n",
            "Ya no quedan intentos\n"
          ]
        }
      ],
      "source": [
        "#Primero probamos si nuestra condición es verdadera\n",
        "conteo_intentos = 0\n",
        "\n",
        "while True:\n",
        "  try:\n",
        "    x = int(input('Escribe un número: '))\n",
        "\n",
        "    if x < 5:\n",
        "    #En caso de que sea verdadera imprimimos el mensaje de abajo\n",
        "      print(\"x es menor a 5!\")\n",
        "\n",
        "    elif x > 10:\n",
        "      print('x es mayor a 10')\n",
        "      break\n",
        "\n",
        "    #En caso de que la primera condición, if x < 5 no se cumpla, el programa pasa el siguiente bloque\n",
        "    else:\n",
        "      print(\"x está entre 5 y 10\")\n",
        "\n",
        "  except ValueError:\n",
        "    print('No es un número')\n",
        "\n",
        "  conteo_intentos += 1\n",
        "\n",
        "  if conteo_intentos == 3:\n",
        "    print('Ya no quedan intentos')\n",
        "    break"
      ]
    },
    {
      "cell_type": "code",
      "execution_count": 13,
      "metadata": {
        "colab": {
          "base_uri": "https://localhost:8080/",
          "height": 590
        },
        "collapsed": true,
        "id": "mnxwnOTg2i_6",
        "outputId": "5ee503fd-5914-4920-c072-c9165ddd992e"
      },
      "outputs": [
        {
          "output_type": "stream",
          "name": "stdout",
          "text": [
            "Escribe un número: 8\n",
            "El número es: 8\n",
            "Escribe un número: 9\n",
            "El número es: 9\n",
            "Escribe un número: 7\n",
            "El número es: 7\n",
            "Escribe un número: 8\n",
            "El número es: 8\n",
            "Escribe un número: g\n",
            "No es un número, por favor ingrese un valor numérico\n",
            "Escribe un número: f\n",
            "No es un número, por favor ingrese un valor numérico\n"
          ]
        },
        {
          "output_type": "error",
          "ename": "KeyboardInterrupt",
          "evalue": "Interrupted by user",
          "traceback": [
            "\u001b[0;31m---------------------------------------------------------------------------\u001b[0m",
            "\u001b[0;31mKeyboardInterrupt\u001b[0m                         Traceback (most recent call last)",
            "\u001b[0;32m<ipython-input-13-c59d2f70b6b6>\u001b[0m in \u001b[0;36m<cell line: 0>\u001b[0;34m()\u001b[0m\n\u001b[1;32m      1\u001b[0m \u001b[0;32mwhile\u001b[0m \u001b[0;32mTrue\u001b[0m\u001b[0;34m:\u001b[0m\u001b[0;34m\u001b[0m\u001b[0;34m\u001b[0m\u001b[0m\n\u001b[0;32m----> 2\u001b[0;31m   \u001b[0mnumero\u001b[0m \u001b[0;34m=\u001b[0m \u001b[0minput\u001b[0m\u001b[0;34m(\u001b[0m\u001b[0;34m'Escribe un número: '\u001b[0m\u001b[0;34m)\u001b[0m\u001b[0;34m\u001b[0m\u001b[0;34m\u001b[0m\u001b[0m\n\u001b[0m\u001b[1;32m      3\u001b[0m   \u001b[0;32mtry\u001b[0m\u001b[0;34m:\u001b[0m\u001b[0;34m\u001b[0m\u001b[0;34m\u001b[0m\u001b[0m\n\u001b[1;32m      4\u001b[0m     \u001b[0mprint\u001b[0m\u001b[0;34m(\u001b[0m\u001b[0;34mf'El número es: {int(numero)}'\u001b[0m\u001b[0;34m)\u001b[0m\u001b[0;34m\u001b[0m\u001b[0;34m\u001b[0m\u001b[0m\n\u001b[1;32m      5\u001b[0m   \u001b[0;32mexcept\u001b[0m \u001b[0mValueError\u001b[0m\u001b[0;34m:\u001b[0m\u001b[0;34m\u001b[0m\u001b[0;34m\u001b[0m\u001b[0m\n",
            "\u001b[0;32m/usr/local/lib/python3.11/dist-packages/ipykernel/kernelbase.py\u001b[0m in \u001b[0;36mraw_input\u001b[0;34m(self, prompt)\u001b[0m\n\u001b[1;32m   1175\u001b[0m                 \u001b[0;34m\"raw_input was called, but this frontend does not support input requests.\"\u001b[0m\u001b[0;34m\u001b[0m\u001b[0;34m\u001b[0m\u001b[0m\n\u001b[1;32m   1176\u001b[0m             )\n\u001b[0;32m-> 1177\u001b[0;31m         return self._input_request(\n\u001b[0m\u001b[1;32m   1178\u001b[0m             \u001b[0mstr\u001b[0m\u001b[0;34m(\u001b[0m\u001b[0mprompt\u001b[0m\u001b[0;34m)\u001b[0m\u001b[0;34m,\u001b[0m\u001b[0;34m\u001b[0m\u001b[0;34m\u001b[0m\u001b[0m\n\u001b[1;32m   1179\u001b[0m             \u001b[0mself\u001b[0m\u001b[0;34m.\u001b[0m\u001b[0m_parent_ident\u001b[0m\u001b[0;34m[\u001b[0m\u001b[0;34m\"shell\"\u001b[0m\u001b[0;34m]\u001b[0m\u001b[0;34m,\u001b[0m\u001b[0;34m\u001b[0m\u001b[0;34m\u001b[0m\u001b[0m\n",
            "\u001b[0;32m/usr/local/lib/python3.11/dist-packages/ipykernel/kernelbase.py\u001b[0m in \u001b[0;36m_input_request\u001b[0;34m(self, prompt, ident, parent, password)\u001b[0m\n\u001b[1;32m   1217\u001b[0m             \u001b[0;32mexcept\u001b[0m \u001b[0mKeyboardInterrupt\u001b[0m\u001b[0;34m:\u001b[0m\u001b[0;34m\u001b[0m\u001b[0;34m\u001b[0m\u001b[0m\n\u001b[1;32m   1218\u001b[0m                 \u001b[0;31m# re-raise KeyboardInterrupt, to truncate traceback\u001b[0m\u001b[0;34m\u001b[0m\u001b[0;34m\u001b[0m\u001b[0m\n\u001b[0;32m-> 1219\u001b[0;31m                 \u001b[0;32mraise\u001b[0m \u001b[0mKeyboardInterrupt\u001b[0m\u001b[0;34m(\u001b[0m\u001b[0;34m\"Interrupted by user\"\u001b[0m\u001b[0;34m)\u001b[0m \u001b[0;32mfrom\u001b[0m \u001b[0;32mNone\u001b[0m\u001b[0;34m\u001b[0m\u001b[0;34m\u001b[0m\u001b[0m\n\u001b[0m\u001b[1;32m   1220\u001b[0m             \u001b[0;32mexcept\u001b[0m \u001b[0mException\u001b[0m\u001b[0;34m:\u001b[0m\u001b[0;34m\u001b[0m\u001b[0;34m\u001b[0m\u001b[0m\n\u001b[1;32m   1221\u001b[0m                 \u001b[0mself\u001b[0m\u001b[0;34m.\u001b[0m\u001b[0mlog\u001b[0m\u001b[0;34m.\u001b[0m\u001b[0mwarning\u001b[0m\u001b[0;34m(\u001b[0m\u001b[0;34m\"Invalid Message:\"\u001b[0m\u001b[0;34m,\u001b[0m \u001b[0mexc_info\u001b[0m\u001b[0;34m=\u001b[0m\u001b[0;32mTrue\u001b[0m\u001b[0;34m)\u001b[0m\u001b[0;34m\u001b[0m\u001b[0;34m\u001b[0m\u001b[0m\n",
            "\u001b[0;31mKeyboardInterrupt\u001b[0m: Interrupted by user"
          ]
        }
      ],
      "source": [
        "while True:\n",
        "  numero = input('Escribe un número: ')\n",
        "  try:\n",
        "    print(f'El número es: {int(numero)}')\n",
        "  except ValueError:\n",
        "    print('No es un número, por favor ingrese un valor numérico')\n",
        "    continue\n"
      ]
    },
    {
      "cell_type": "code",
      "execution_count": 1,
      "metadata": {
        "colab": {
          "base_uri": "https://localhost:8080/"
        },
        "collapsed": true,
        "id": "f9XePtOEEdn5",
        "outputId": "ed5e77da-5f3b-4700-f120-7d64f442bb26"
      },
      "outputs": [
        {
          "output_type": "stream",
          "name": "stdout",
          "text": [
            "Tengo ahorrado: 100\n",
            "Tengo ahorrado: 200\n",
            "Tengo ahorrado: 400\n",
            "Tengo ahorrado: 800\n"
          ]
        }
      ],
      "source": [
        "mi_lista = [100, 100, 200, 400, 500]\n",
        "\n",
        "ahorros = 0\n",
        "iteraciones = 0\n",
        "\n",
        "while ahorros < 500:\n",
        "  ahorros = sum(mi_lista[ : iteraciones+1])\n",
        "  print(\"Tengo ahorrado:\", ahorros)\n",
        "  # iteraciones = iteraciones + 1\n",
        "  iteraciones += 1"
      ]
    },
    {
      "cell_type": "code",
      "execution_count": 2,
      "metadata": {
        "colab": {
          "base_uri": "https://localhost:8080/"
        },
        "collapsed": true,
        "id": "-2u5B9MsoTgK",
        "outputId": "2ad49f5b-b76d-4837-df2d-c0c485e632b1"
      },
      "outputs": [
        {
          "output_type": "stream",
          "name": "stdout",
          "text": [
            "Tendrías que esperar:  334  días\n"
          ]
        }
      ],
      "source": [
        "valor_producto = 100 #dolares\n",
        "cambio = -0.03 # cambio diario\n",
        "dias = 0\n",
        "\n",
        "while valor_producto > 90:\n",
        "  valor_producto += cambio\n",
        "  dias += 1\n",
        "  # print(valor_producto)\n",
        "\n",
        "print(\"Tendrías que esperar: \", dias, \" días\")"
      ]
    },
    {
      "cell_type": "markdown",
      "metadata": {
        "id": "L1tN5pnQ-Mfa"
      },
      "source": [
        "### Ejercicios\n",
        "* Recordemos, la solución no tiene que ser exactamenta la misma, lo importante es seguir la misma lógica y tener el mismo resultado"
      ]
    },
    {
      "cell_type": "markdown",
      "metadata": {
        "id": "vUlcQISi-woP"
      },
      "source": [
        "1. Escribir un programa que pregunte la edad a un usuario y le diga si es mayor de edad o no."
      ]
    },
    {
      "cell_type": "code",
      "execution_count": 23,
      "metadata": {
        "id": "KzUZVUNWaQJv",
        "colab": {
          "base_uri": "https://localhost:8080/"
        },
        "outputId": "9ce666c8-107a-40e5-d193-bae1c03c3aa8"
      },
      "outputs": [
        {
          "output_type": "stream",
          "name": "stdout",
          "text": [
            "¿Cúal es su edad? ga\n",
            "Debe ser un número.\n",
            "¿Cúal es su edad? to\n",
            "Debe ser un número.\n",
            "¿Cúal es su edad? 87\n",
            "Eres mayor de edad.\n"
          ]
        }
      ],
      "source": [
        "# Escriba su respuesta\n",
        "while True:\n",
        "  try:\n",
        "    edad = int(input('¿Cúal es su edad? '))\n",
        "\n",
        "    if edad >= 18:\n",
        "      print('Eres mayor de edad.')\n",
        "    elif edad >= 0:\n",
        "      print('Eres menor de edad.')\n",
        "    else:\n",
        "      print(f'Te faltan {-edad} años para nacer.')\n",
        "\n",
        "    break\n",
        "  except ValueError:\n",
        "    print('Debe ingresar un número válido.')"
      ]
    },
    {
      "cell_type": "code",
      "source": [
        "while True:\n",
        "    try:\n",
        "        edad = int(input('¿Cuál es su edad? '))\n",
        "        mensaje = (\n",
        "            'Eres mayor de edad.' if edad >= 18\n",
        "            else 'Eres menor de edad.' if edad >= 0\n",
        "            else f'Te faltan {-edad} años para nacer.'\n",
        "        )\n",
        "        print(mensaje)\n",
        "        break\n",
        "\n",
        "    except ValueError:\n",
        "        print('Debe ingresar un número válido.')\n"
      ],
      "metadata": {
        "colab": {
          "base_uri": "https://localhost:8080/"
        },
        "id": "pj0mwudPwv77",
        "outputId": "012c45ff-6358-4145-b256-1c3bd5fb1b84"
      },
      "execution_count": 25,
      "outputs": [
        {
          "output_type": "stream",
          "name": "stdout",
          "text": [
            "¿Cuál es su edad? 18\n",
            "Eres mayor de edad.\n"
          ]
        }
      ]
    },
    {
      "cell_type": "code",
      "execution_count": 28,
      "metadata": {
        "id": "xjzYMXRhaeyn"
      },
      "outputs": [],
      "source": [
        "# Pista"
      ]
    },
    {
      "cell_type": "code",
      "execution_count": 26,
      "metadata": {
        "id": "D8FYjCT9agns"
      },
      "outputs": [],
      "source": [
        "# @title\n",
        "# Preguntar por la edad del usuario y verificar si tiene una edad menor a la que marca la mayoría de edad en nuestro país\n",
        "# En Colombia las personas son mayores de edad cuando cumplen 18 años\n",
        "# Usar lógica if.. else..."
      ]
    },
    {
      "cell_type": "code",
      "execution_count": null,
      "metadata": {
        "id": "hopf_pF5adp2"
      },
      "outputs": [],
      "source": [
        "# Solución"
      ]
    },
    {
      "cell_type": "code",
      "execution_count": null,
      "metadata": {
        "colab": {
          "base_uri": "https://localhost:8080/",
          "height": 356
        },
        "id": "4W6JEoOl-PNZ",
        "outputId": "7dcc540c-ff7b-4f25-c0ee-8c50f6331022"
      },
      "outputs": [
        {
          "ename": "KeyboardInterrupt",
          "evalue": "Interrupted by user",
          "output_type": "error",
          "traceback": [
            "\u001b[0;31m---------------------------------------------------------------------------\u001b[0m",
            "\u001b[0;31mKeyboardInterrupt\u001b[0m                         Traceback (most recent call last)",
            "\u001b[0;32m<ipython-input-117-49836c77e47c>\u001b[0m in \u001b[0;36m<cell line: 0>\u001b[0;34m()\u001b[0m\n\u001b[1;32m      1\u001b[0m \u001b[0;31m# @title\u001b[0m\u001b[0;34m\u001b[0m\u001b[0;34m\u001b[0m\u001b[0m\n\u001b[0;32m----> 2\u001b[0;31m \u001b[0mage\u001b[0m \u001b[0;34m=\u001b[0m \u001b[0mint\u001b[0m\u001b[0;34m(\u001b[0m\u001b[0minput\u001b[0m\u001b[0;34m(\u001b[0m\u001b[0;34m\"¿Cuál es tu edad? \"\u001b[0m\u001b[0;34m)\u001b[0m\u001b[0;34m)\u001b[0m\u001b[0;34m\u001b[0m\u001b[0;34m\u001b[0m\u001b[0m\n\u001b[0m\u001b[1;32m      3\u001b[0m \u001b[0;34m\u001b[0m\u001b[0m\n\u001b[1;32m      4\u001b[0m \u001b[0;32mif\u001b[0m \u001b[0mage\u001b[0m \u001b[0;34m<\u001b[0m \u001b[0;36m18\u001b[0m\u001b[0;34m:\u001b[0m\u001b[0;34m\u001b[0m\u001b[0;34m\u001b[0m\u001b[0m\n\u001b[1;32m      5\u001b[0m     \u001b[0mprint\u001b[0m \u001b[0;34m(\u001b[0m\u001b[0;34m\"Eres menor de edad.\"\u001b[0m\u001b[0;34m)\u001b[0m\u001b[0;34m\u001b[0m\u001b[0;34m\u001b[0m\u001b[0m\n",
            "\u001b[0;32m/usr/local/lib/python3.11/dist-packages/ipykernel/kernelbase.py\u001b[0m in \u001b[0;36mraw_input\u001b[0;34m(self, prompt)\u001b[0m\n\u001b[1;32m   1175\u001b[0m                 \u001b[0;34m\"raw_input was called, but this frontend does not support input requests.\"\u001b[0m\u001b[0;34m\u001b[0m\u001b[0;34m\u001b[0m\u001b[0m\n\u001b[1;32m   1176\u001b[0m             )\n\u001b[0;32m-> 1177\u001b[0;31m         return self._input_request(\n\u001b[0m\u001b[1;32m   1178\u001b[0m             \u001b[0mstr\u001b[0m\u001b[0;34m(\u001b[0m\u001b[0mprompt\u001b[0m\u001b[0;34m)\u001b[0m\u001b[0;34m,\u001b[0m\u001b[0;34m\u001b[0m\u001b[0;34m\u001b[0m\u001b[0m\n\u001b[1;32m   1179\u001b[0m             \u001b[0mself\u001b[0m\u001b[0;34m.\u001b[0m\u001b[0m_parent_ident\u001b[0m\u001b[0;34m[\u001b[0m\u001b[0;34m\"shell\"\u001b[0m\u001b[0;34m]\u001b[0m\u001b[0;34m,\u001b[0m\u001b[0;34m\u001b[0m\u001b[0;34m\u001b[0m\u001b[0m\n",
            "\u001b[0;32m/usr/local/lib/python3.11/dist-packages/ipykernel/kernelbase.py\u001b[0m in \u001b[0;36m_input_request\u001b[0;34m(self, prompt, ident, parent, password)\u001b[0m\n\u001b[1;32m   1217\u001b[0m             \u001b[0;32mexcept\u001b[0m \u001b[0mKeyboardInterrupt\u001b[0m\u001b[0;34m:\u001b[0m\u001b[0;34m\u001b[0m\u001b[0;34m\u001b[0m\u001b[0m\n\u001b[1;32m   1218\u001b[0m                 \u001b[0;31m# re-raise KeyboardInterrupt, to truncate traceback\u001b[0m\u001b[0;34m\u001b[0m\u001b[0;34m\u001b[0m\u001b[0m\n\u001b[0;32m-> 1219\u001b[0;31m                 \u001b[0;32mraise\u001b[0m \u001b[0mKeyboardInterrupt\u001b[0m\u001b[0;34m(\u001b[0m\u001b[0;34m\"Interrupted by user\"\u001b[0m\u001b[0;34m)\u001b[0m \u001b[0;32mfrom\u001b[0m \u001b[0;32mNone\u001b[0m\u001b[0;34m\u001b[0m\u001b[0;34m\u001b[0m\u001b[0m\n\u001b[0m\u001b[1;32m   1220\u001b[0m             \u001b[0;32mexcept\u001b[0m \u001b[0mException\u001b[0m\u001b[0;34m:\u001b[0m\u001b[0;34m\u001b[0m\u001b[0;34m\u001b[0m\u001b[0m\n\u001b[1;32m   1221\u001b[0m                 \u001b[0mself\u001b[0m\u001b[0;34m.\u001b[0m\u001b[0mlog\u001b[0m\u001b[0;34m.\u001b[0m\u001b[0mwarning\u001b[0m\u001b[0;34m(\u001b[0m\u001b[0;34m\"Invalid Message:\"\u001b[0m\u001b[0;34m,\u001b[0m \u001b[0mexc_info\u001b[0m\u001b[0;34m=\u001b[0m\u001b[0;32mTrue\u001b[0m\u001b[0;34m)\u001b[0m\u001b[0;34m\u001b[0m\u001b[0;34m\u001b[0m\u001b[0m\n",
            "\u001b[0;31mKeyboardInterrupt\u001b[0m: Interrupted by user"
          ]
        }
      ],
      "source": [
        "# @title\n",
        "age = int(input(\"¿Cuál es tu edad? \"))\n",
        "\n",
        "if age < 18:\n",
        "    print (\"Eres menor de edad.\")\n",
        "else:\n",
        "    print(\"Eres mayor de edad.\")"
      ]
    },
    {
      "cell_type": "markdown",
      "metadata": {
        "id": "IfoNcchE-i5B"
      },
      "source": [
        "2. Los tramos impositivos para la declaración de la renta en un determinado país son los siguientes:\n",
        "\n",
        "|         Renta          | Tipo impositivo |\n",
        "| :--------------------: | :-------------: |\n",
        "|    Menos de 10000€     |       5%        |\n",
        "| Entre 10000€ y 20000€  |       15%       |\n",
        "| Entre 20000€ y 35000€  |       20%       |\n",
        "| Entre 35000€ y 60000€  |       30%       |\n",
        "|     Más de 60000€      |       45%       |\n",
        "\n",
        "Escribir un programa que pregunte al usuario su renta anual y muestre por pantalla lo que tiene que pagar."
      ]
    },
    {
      "cell_type": "code",
      "execution_count": 31,
      "metadata": {
        "id": "fnADA2kbZ3cs",
        "colab": {
          "base_uri": "https://localhost:8080/"
        },
        "outputId": "18e50b7a-0d08-4141-81d5-954eeb0ee20f"
      },
      "outputs": [
        {
          "output_type": "stream",
          "name": "stdout",
          "text": [
            "Ingrese su renta: 1000000\n",
            "Usted debe pagar 450000.0 € en impuestos.\n"
          ]
        }
      ],
      "source": [
        "# Escriba su respuesta\n",
        "renta = float(input('Ingrese su renta: '))\n",
        "\n",
        "if renta < 10000:\n",
        "  tipo_impositivo = 0.05\n",
        "elif renta < 20000:\n",
        "  tipo_impositivo = 0.15\n",
        "elif renta < 35000:\n",
        "  tipo_impositivo = 0.2\n",
        "elif renta < 60000:\n",
        "  tipo_impositivo = 0.3\n",
        "else:\n",
        "  tipo_impositivo = 0.45\n",
        "\n",
        "print(f'Usted debe pagar {renta * tipo_impositivo} € en impuestos.')"
      ]
    },
    {
      "cell_type": "code",
      "source": [
        "renta = float(input('Ingrese su renta: '))\n",
        "\n",
        "impuestos = [\n",
        "    (10000, 0.05),\n",
        "    (20000, 0.15),\n",
        "    (35000, 0.2),\n",
        "    (60000, 0.3),\n",
        "    (float('inf'), 0.45)  # Para cualquier valor superior a 60000\n",
        "]\n",
        "\n",
        "# Encontrar el tipo impositivo adecuado\n",
        "tipo_impositivo = next(tasa for limite, tasa in impuestos if renta < limite)\n",
        "\n",
        "print(f'Usted debe pagar {renta * tipo_impositivo} € en impuestos.')\n"
      ],
      "metadata": {
        "colab": {
          "base_uri": "https://localhost:8080/"
        },
        "id": "RwX13F8b5IMP",
        "outputId": "cbc52ab9-a778-40fa-92b9-1f288d176e75"
      },
      "execution_count": 37,
      "outputs": [
        {
          "output_type": "stream",
          "name": "stdout",
          "text": [
            "Ingrese su renta: 10000\n",
            "Usted debe pagar 1500.0 € en impuestos.\n"
          ]
        }
      ]
    },
    {
      "cell_type": "code",
      "execution_count": 34,
      "metadata": {
        "id": "8nPkKIgdZBvP"
      },
      "outputs": [],
      "source": [
        "# Pista"
      ]
    },
    {
      "cell_type": "code",
      "execution_count": 32,
      "metadata": {
        "id": "Sao6e57kZEii",
        "colab": {
          "base_uri": "https://localhost:8080/",
          "height": 371
        },
        "outputId": "15310c05-48d8-4e6f-a2b8-255b35f49e7d"
      },
      "outputs": [
        {
          "output_type": "error",
          "ename": "KeyboardInterrupt",
          "evalue": "Interrupted by user",
          "traceback": [
            "\u001b[0;31m---------------------------------------------------------------------------\u001b[0m",
            "\u001b[0;31mKeyboardInterrupt\u001b[0m                         Traceback (most recent call last)",
            "\u001b[0;32m<ipython-input-32-44840c5f430f>\u001b[0m in \u001b[0;36m<cell line: 0>\u001b[0;34m()\u001b[0m\n\u001b[1;32m      1\u001b[0m \u001b[0;31m# @title\u001b[0m\u001b[0;34m\u001b[0m\u001b[0;34m\u001b[0m\u001b[0m\n\u001b[1;32m      2\u001b[0m \u001b[0;31m# Preguntar al usuario por la renta\u001b[0m\u001b[0;34m\u001b[0m\u001b[0;34m\u001b[0m\u001b[0m\n\u001b[0;32m----> 3\u001b[0;31m \u001b[0mrenta\u001b[0m \u001b[0;34m=\u001b[0m \u001b[0mfloat\u001b[0m\u001b[0;34m(\u001b[0m\u001b[0minput\u001b[0m\u001b[0;34m(\u001b[0m\u001b[0;34m\"¿Cuál es tu renta anual? \"\u001b[0m\u001b[0;34m)\u001b[0m\u001b[0;34m)\u001b[0m\u001b[0;34m\u001b[0m\u001b[0;34m\u001b[0m\u001b[0m\n\u001b[0m\u001b[1;32m      4\u001b[0m \u001b[0;31m# Crear un condicional para cada rango de renta y luego asignar un tipo impositivo según corresponda al rango\u001b[0m\u001b[0;34m\u001b[0m\u001b[0;34m\u001b[0m\u001b[0m\n\u001b[1;32m      5\u001b[0m \u001b[0;32mif\u001b[0m \u001b[0mrenta\u001b[0m \u001b[0;34m<\u001b[0m \u001b[0;36m10000\u001b[0m\u001b[0;34m:\u001b[0m\u001b[0;34m\u001b[0m\u001b[0;34m\u001b[0m\u001b[0m\n",
            "\u001b[0;32m/usr/local/lib/python3.11/dist-packages/ipykernel/kernelbase.py\u001b[0m in \u001b[0;36mraw_input\u001b[0;34m(self, prompt)\u001b[0m\n\u001b[1;32m   1175\u001b[0m                 \u001b[0;34m\"raw_input was called, but this frontend does not support input requests.\"\u001b[0m\u001b[0;34m\u001b[0m\u001b[0;34m\u001b[0m\u001b[0m\n\u001b[1;32m   1176\u001b[0m             )\n\u001b[0;32m-> 1177\u001b[0;31m         return self._input_request(\n\u001b[0m\u001b[1;32m   1178\u001b[0m             \u001b[0mstr\u001b[0m\u001b[0;34m(\u001b[0m\u001b[0mprompt\u001b[0m\u001b[0;34m)\u001b[0m\u001b[0;34m,\u001b[0m\u001b[0;34m\u001b[0m\u001b[0;34m\u001b[0m\u001b[0m\n\u001b[1;32m   1179\u001b[0m             \u001b[0mself\u001b[0m\u001b[0;34m.\u001b[0m\u001b[0m_parent_ident\u001b[0m\u001b[0;34m[\u001b[0m\u001b[0;34m\"shell\"\u001b[0m\u001b[0;34m]\u001b[0m\u001b[0;34m,\u001b[0m\u001b[0;34m\u001b[0m\u001b[0;34m\u001b[0m\u001b[0m\n",
            "\u001b[0;32m/usr/local/lib/python3.11/dist-packages/ipykernel/kernelbase.py\u001b[0m in \u001b[0;36m_input_request\u001b[0;34m(self, prompt, ident, parent, password)\u001b[0m\n\u001b[1;32m   1217\u001b[0m             \u001b[0;32mexcept\u001b[0m \u001b[0mKeyboardInterrupt\u001b[0m\u001b[0;34m:\u001b[0m\u001b[0;34m\u001b[0m\u001b[0;34m\u001b[0m\u001b[0m\n\u001b[1;32m   1218\u001b[0m                 \u001b[0;31m# re-raise KeyboardInterrupt, to truncate traceback\u001b[0m\u001b[0;34m\u001b[0m\u001b[0;34m\u001b[0m\u001b[0m\n\u001b[0;32m-> 1219\u001b[0;31m                 \u001b[0;32mraise\u001b[0m \u001b[0mKeyboardInterrupt\u001b[0m\u001b[0;34m(\u001b[0m\u001b[0;34m\"Interrupted by user\"\u001b[0m\u001b[0;34m)\u001b[0m \u001b[0;32mfrom\u001b[0m \u001b[0;32mNone\u001b[0m\u001b[0;34m\u001b[0m\u001b[0;34m\u001b[0m\u001b[0m\n\u001b[0m\u001b[1;32m   1220\u001b[0m             \u001b[0;32mexcept\u001b[0m \u001b[0mException\u001b[0m\u001b[0;34m:\u001b[0m\u001b[0;34m\u001b[0m\u001b[0;34m\u001b[0m\u001b[0m\n\u001b[1;32m   1221\u001b[0m                 \u001b[0mself\u001b[0m\u001b[0;34m.\u001b[0m\u001b[0mlog\u001b[0m\u001b[0;34m.\u001b[0m\u001b[0mwarning\u001b[0m\u001b[0;34m(\u001b[0m\u001b[0;34m\"Invalid Message:\"\u001b[0m\u001b[0;34m,\u001b[0m \u001b[0mexc_info\u001b[0m\u001b[0;34m=\u001b[0m\u001b[0;32mTrue\u001b[0m\u001b[0;34m)\u001b[0m\u001b[0;34m\u001b[0m\u001b[0;34m\u001b[0m\u001b[0m\n",
            "\u001b[0;31mKeyboardInterrupt\u001b[0m: Interrupted by user"
          ]
        }
      ],
      "source": [
        "# @title\n",
        "# Preguntar al usuario por la renta\n",
        "renta = float(input(\"¿Cuál es tu renta anual? \"))\n",
        "# Crear un condicional para cada rango de renta y luego asignar un tipo impositivo según corresponda al rango\n",
        "if renta < 10000:\n",
        "    tipo = 5\n",
        "elif renta < 20000:\n",
        "  ... # Continuar con la solución\n",
        "# El cálculo para saber cuánto debe pagar de renta es : renta * (tipo / 100)"
      ]
    },
    {
      "cell_type": "code",
      "execution_count": null,
      "metadata": {
        "id": "VeUWTzRWZTHk"
      },
      "outputs": [],
      "source": [
        "# Solución"
      ]
    },
    {
      "cell_type": "code",
      "execution_count": 35,
      "metadata": {
        "id": "dxrvowYL_l6X",
        "colab": {
          "base_uri": "https://localhost:8080/",
          "height": 371
        },
        "outputId": "49015f1d-d45d-475b-f7a6-c74b7f5d6612"
      },
      "outputs": [
        {
          "output_type": "error",
          "ename": "KeyboardInterrupt",
          "evalue": "Interrupted by user",
          "traceback": [
            "\u001b[0;31m---------------------------------------------------------------------------\u001b[0m",
            "\u001b[0;31mKeyboardInterrupt\u001b[0m                         Traceback (most recent call last)",
            "\u001b[0;32m<ipython-input-35-9dcce48e334d>\u001b[0m in \u001b[0;36m<cell line: 0>\u001b[0;34m()\u001b[0m\n\u001b[1;32m      1\u001b[0m \u001b[0;31m# @title\u001b[0m\u001b[0;34m\u001b[0m\u001b[0;34m\u001b[0m\u001b[0m\n\u001b[1;32m      2\u001b[0m \u001b[0;31m# Preguntar al usuario por la renta\u001b[0m\u001b[0;34m\u001b[0m\u001b[0;34m\u001b[0m\u001b[0m\n\u001b[0;32m----> 3\u001b[0;31m \u001b[0mrenta\u001b[0m \u001b[0;34m=\u001b[0m \u001b[0mfloat\u001b[0m\u001b[0;34m(\u001b[0m\u001b[0minput\u001b[0m\u001b[0;34m(\u001b[0m\u001b[0;34m\"¿Cuál es tu renta anual? \"\u001b[0m\u001b[0;34m)\u001b[0m\u001b[0;34m)\u001b[0m\u001b[0;34m\u001b[0m\u001b[0;34m\u001b[0m\u001b[0m\n\u001b[0m\u001b[1;32m      4\u001b[0m \u001b[0;31m# Condicional para determinar el tipo impositivo dependiendo de la renta\u001b[0m\u001b[0;34m\u001b[0m\u001b[0;34m\u001b[0m\u001b[0m\n\u001b[1;32m      5\u001b[0m \u001b[0;32mif\u001b[0m \u001b[0mrenta\u001b[0m \u001b[0;34m<\u001b[0m \u001b[0;36m10000\u001b[0m\u001b[0;34m:\u001b[0m\u001b[0;34m\u001b[0m\u001b[0;34m\u001b[0m\u001b[0m\n",
            "\u001b[0;32m/usr/local/lib/python3.11/dist-packages/ipykernel/kernelbase.py\u001b[0m in \u001b[0;36mraw_input\u001b[0;34m(self, prompt)\u001b[0m\n\u001b[1;32m   1175\u001b[0m                 \u001b[0;34m\"raw_input was called, but this frontend does not support input requests.\"\u001b[0m\u001b[0;34m\u001b[0m\u001b[0;34m\u001b[0m\u001b[0m\n\u001b[1;32m   1176\u001b[0m             )\n\u001b[0;32m-> 1177\u001b[0;31m         return self._input_request(\n\u001b[0m\u001b[1;32m   1178\u001b[0m             \u001b[0mstr\u001b[0m\u001b[0;34m(\u001b[0m\u001b[0mprompt\u001b[0m\u001b[0;34m)\u001b[0m\u001b[0;34m,\u001b[0m\u001b[0;34m\u001b[0m\u001b[0;34m\u001b[0m\u001b[0m\n\u001b[1;32m   1179\u001b[0m             \u001b[0mself\u001b[0m\u001b[0;34m.\u001b[0m\u001b[0m_parent_ident\u001b[0m\u001b[0;34m[\u001b[0m\u001b[0;34m\"shell\"\u001b[0m\u001b[0;34m]\u001b[0m\u001b[0;34m,\u001b[0m\u001b[0;34m\u001b[0m\u001b[0;34m\u001b[0m\u001b[0m\n",
            "\u001b[0;32m/usr/local/lib/python3.11/dist-packages/ipykernel/kernelbase.py\u001b[0m in \u001b[0;36m_input_request\u001b[0;34m(self, prompt, ident, parent, password)\u001b[0m\n\u001b[1;32m   1217\u001b[0m             \u001b[0;32mexcept\u001b[0m \u001b[0mKeyboardInterrupt\u001b[0m\u001b[0;34m:\u001b[0m\u001b[0;34m\u001b[0m\u001b[0;34m\u001b[0m\u001b[0m\n\u001b[1;32m   1218\u001b[0m                 \u001b[0;31m# re-raise KeyboardInterrupt, to truncate traceback\u001b[0m\u001b[0;34m\u001b[0m\u001b[0;34m\u001b[0m\u001b[0m\n\u001b[0;32m-> 1219\u001b[0;31m                 \u001b[0;32mraise\u001b[0m \u001b[0mKeyboardInterrupt\u001b[0m\u001b[0;34m(\u001b[0m\u001b[0;34m\"Interrupted by user\"\u001b[0m\u001b[0;34m)\u001b[0m \u001b[0;32mfrom\u001b[0m \u001b[0;32mNone\u001b[0m\u001b[0;34m\u001b[0m\u001b[0;34m\u001b[0m\u001b[0m\n\u001b[0m\u001b[1;32m   1220\u001b[0m             \u001b[0;32mexcept\u001b[0m \u001b[0mException\u001b[0m\u001b[0;34m:\u001b[0m\u001b[0;34m\u001b[0m\u001b[0;34m\u001b[0m\u001b[0m\n\u001b[1;32m   1221\u001b[0m                 \u001b[0mself\u001b[0m\u001b[0;34m.\u001b[0m\u001b[0mlog\u001b[0m\u001b[0;34m.\u001b[0m\u001b[0mwarning\u001b[0m\u001b[0;34m(\u001b[0m\u001b[0;34m\"Invalid Message:\"\u001b[0m\u001b[0;34m,\u001b[0m \u001b[0mexc_info\u001b[0m\u001b[0;34m=\u001b[0m\u001b[0;32mTrue\u001b[0m\u001b[0;34m)\u001b[0m\u001b[0;34m\u001b[0m\u001b[0;34m\u001b[0m\u001b[0m\n",
            "\u001b[0;31mKeyboardInterrupt\u001b[0m: Interrupted by user"
          ]
        }
      ],
      "source": [
        "# @title\n",
        "# Preguntar al usuario por la renta\n",
        "renta = float(input(\"¿Cuál es tu renta anual? \"))\n",
        "# Condicional para determinar el tipo impositivo dependiendo de la renta\n",
        "if renta < 10000:\n",
        "    tipo = 5\n",
        "elif renta < 20000:\n",
        "    tipo = 15\n",
        "elif renta < 35000:\n",
        "    tipo = 20\n",
        "elif renta < 60000:\n",
        "    tipo = 30\n",
        "else:\n",
        "    tipo = 45\n",
        "# Mostrar por pantalla el producto de la renta por el tipo impositivo\n",
        "print(\"Tienes que pagar \", renta * (tipo / 100), \"€\")"
      ]
    },
    {
      "cell_type": "markdown",
      "metadata": {
        "id": "px5xe-RCdfy_"
      },
      "source": [
        "3. Escribir un programa que pregunte al usuario su edad y muestre por pantalla todos los años que ha cumplido (desde 1 hasta su edad)."
      ]
    },
    {
      "cell_type": "code",
      "execution_count": 42,
      "metadata": {
        "id": "r5nnjQu3diWD",
        "colab": {
          "base_uri": "https://localhost:8080/"
        },
        "outputId": "ebf96785-c3c6-404c-ca1f-9c6339983270"
      },
      "outputs": [
        {
          "output_type": "stream",
          "name": "stdout",
          "text": [
            "Escriba su edad:5\n",
            "Has cumplido 1 años\n",
            "Has cumplido 2 años\n",
            "Has cumplido 3 años\n",
            "Has cumplido 4 años\n",
            "Has cumplido 5 años\n"
          ]
        }
      ],
      "source": [
        "# Escriba su respuesta\n",
        "edad = int(input('Escriba su edad:'))\n",
        "\n",
        "for i in range(1, edad + 1):\n",
        "  print(f'Has cumplido {i} años')"
      ]
    },
    {
      "cell_type": "code",
      "execution_count": null,
      "metadata": {
        "id": "g_bytocodl1S"
      },
      "outputs": [],
      "source": [
        "# Pista"
      ]
    },
    {
      "cell_type": "code",
      "execution_count": null,
      "metadata": {
        "id": "Eymkl4pydn6L"
      },
      "outputs": [],
      "source": [
        "# @title\n",
        "# Crear una variable que contenga la edad y un rango de números a partir de esta\n",
        "# Usar un for loop"
      ]
    },
    {
      "cell_type": "code",
      "execution_count": null,
      "metadata": {
        "id": "iz-bEAkGdz46"
      },
      "outputs": [],
      "source": [
        "# Solución"
      ]
    },
    {
      "cell_type": "code",
      "execution_count": 43,
      "metadata": {
        "id": "HTzguXsmdWuK",
        "colab": {
          "base_uri": "https://localhost:8080/"
        },
        "outputId": "104068f4-bb9f-49e5-f2dc-139ca61e0b6b"
      },
      "outputs": [
        {
          "output_type": "stream",
          "name": "stdout",
          "text": [
            "¿Cuántos años tienes? 5\n",
            "Has cumplido 1 años\n",
            "Has cumplido 2 años\n",
            "Has cumplido 3 años\n",
            "Has cumplido 4 años\n",
            "Has cumplido 5 años\n"
          ]
        }
      ],
      "source": [
        "# @title\n",
        "edad = int(input(\"¿Cuántos años tienes? \"))\n",
        "for i in range(edad):\n",
        "    print(\"Has cumplido \" + str(i+1) + \" años\")"
      ]
    },
    {
      "cell_type": "markdown",
      "metadata": {
        "id": "nETTPwBRbhy8"
      },
      "source": [
        "4. Escribir un programa que pregunte al usuario una cantidad a invertir, el interés anual y el número de años, y muestre por pantalla el capital obtenido en la inversión cada año que dura la inversión."
      ]
    },
    {
      "cell_type": "code",
      "execution_count": 46,
      "metadata": {
        "id": "vUQsdgzocb_G",
        "colab": {
          "base_uri": "https://localhost:8080/"
        },
        "outputId": "faa0e0c3-68ab-4257-f81e-ac54e4518706"
      },
      "outputs": [
        {
          "output_type": "stream",
          "name": "stdout",
          "text": [
            "¿Cuánto va a invertir? 1000\n",
            "Interés anual: 10\n",
            "Cantidad de años: 2\n",
            "En el año 1 obtuvo 100.0\n",
            "En el año 2 obtuvo 110.0\n"
          ]
        }
      ],
      "source": [
        "# Escriba su respuesta\n",
        "inversion = float(input('¿Cuánto va a invertir? '))\n",
        "interes_anual = float(input('Interés anual: '))\n",
        "years = int(input('Cantidad de años: '))\n",
        "\n",
        "for i in range(years):\n",
        "  capital_obtenido = inversion * interes_anual / 100\n",
        "  print(f'En el año {i+1} obtuvo {capital_obtenido}')\n",
        "  inversion += capital_obtenido"
      ]
    },
    {
      "cell_type": "code",
      "execution_count": null,
      "metadata": {
        "id": "_N0Pmro-cd4Q"
      },
      "outputs": [],
      "source": [
        "# Pista"
      ]
    },
    {
      "cell_type": "code",
      "execution_count": null,
      "metadata": {
        "id": "zry7CGeFdO9x"
      },
      "outputs": [],
      "source": [
        "# @title\n",
        "# Crear variables con la función input para preguntar a la personas por, cantidad a invertir, interes anual, y numero de años\n",
        "# Usar la función range() para captar el numero de años que específica el usuario\n",
        "# Ejemplo:\n",
        "numero_de_anios = 6\n",
        "print(range(numero_de_anios))\n",
        "# Usar un for loop que simule la siguiente operación para cada año:\n",
        "cantidad_a_invertir * (1 + (interes_anual/100))"
      ]
    },
    {
      "cell_type": "code",
      "execution_count": null,
      "metadata": {
        "id": "p-tA7zzwdSQt"
      },
      "outputs": [],
      "source": [
        "# Solución"
      ]
    },
    {
      "cell_type": "code",
      "execution_count": 47,
      "metadata": {
        "id": "-E9N48NsbvfA",
        "colab": {
          "base_uri": "https://localhost:8080/"
        },
        "outputId": "7f5195c9-9bbb-4e55-a557-e885e750429f"
      },
      "outputs": [
        {
          "output_type": "stream",
          "name": "stdout",
          "text": [
            "¿Cantidad a invertir? 1000\n",
            "¿Interés porcentual anual? 10\n",
            "¿Años?2\n",
            "Capital tras 1 años: 1100.0\n",
            "Capital tras 2 años: 1210.0\n"
          ]
        }
      ],
      "source": [
        "# @title\n",
        "cantidad_a_invertir = float(input(\"¿Cantidad a invertir? \"))\n",
        "interes_anual = float(input(\"¿Interés porcentual anual? \"))\n",
        "numero_de_anios = int(input(\"¿Años?\"))\n",
        "\n",
        "for i in range(numero_de_anios):\n",
        "    cantidad_a_invertir *= 1 + interes_anual / 100\n",
        "    print(\"Capital tras \" + str(i+1) + \" años: \" + str(round(cantidad_a_invertir, 2)))"
      ]
    },
    {
      "cell_type": "markdown",
      "metadata": {
        "id": "IWy-VmbqehYl"
      },
      "source": [
        "5. Escribir un programa que nos pida una distancia a recorrer, la velocidad por hora y que a medida que pasan las horas nos diga nuestro progreso porcentual en el camino"
      ]
    },
    {
      "cell_type": "code",
      "execution_count": 53,
      "metadata": {
        "id": "y3dUzZRehIy_",
        "colab": {
          "base_uri": "https://localhost:8080/"
        },
        "outputId": "1fcb0845-425b-447f-9c17-da63cfa64596"
      },
      "outputs": [
        {
          "output_type": "stream",
          "name": "stdout",
          "text": [
            "Distancia a recorrer en km: 100\n",
            "Velocidad en km/h: 33\n",
            "En la hora 1 su progreso es de 33.0 %\n",
            "En la hora 2 su progreso es de 66.0 %\n",
            "En la hora 3 su progreso es de 99.0 %\n"
          ]
        }
      ],
      "source": [
        "# Escriba su respuesta\n",
        "distancia = float(input('Distancia a recorrer en km: '))\n",
        "velocidad = float(input('Velocidad en km/h: '))\n",
        "\n",
        "porcentaje = 0\n",
        "hora = 0\n",
        "\n",
        "while porcentaje <= 100:\n",
        "  hora += 1\n",
        "  distancia_recorrida = velocidad * hora\n",
        "  porcentaje = (distancia_recorrida / distancia) * 100\n",
        "  if porcentaje <= 100:\n",
        "    print(f'En la hora {hora} su progreso es de {porcentaje} %' )\n",
        ""
      ]
    },
    {
      "cell_type": "code",
      "source": [
        "# Escriba su respuesta\n",
        "distancia = float(input('Distancia a recorrer en km: '))\n",
        "velocidad = float(input('Velocidad en km/h: '))\n",
        "\n",
        "hora = 0\n",
        "\n",
        "while True:\n",
        "    hora += 1\n",
        "    porcentaje = (velocidad * hora / distancia) * 100\n",
        "    if porcentaje > 100:\n",
        "        break\n",
        "    print(f'En la hora {hora} su progreso es de {porcentaje:.2f} %')\n"
      ],
      "metadata": {
        "colab": {
          "base_uri": "https://localhost:8080/"
        },
        "id": "GiJ-X3bRJ1tM",
        "outputId": "2779d3db-7a5f-4066-dcc2-5a4df7ae0d53"
      },
      "execution_count": 54,
      "outputs": [
        {
          "output_type": "stream",
          "name": "stdout",
          "text": [
            "Distancia a recorrer en km: 100\n",
            "Velocidad en km/h: 33\n",
            "En la hora 1 su progreso es de 33.00 %\n",
            "En la hora 2 su progreso es de 66.00 %\n",
            "En la hora 3 su progreso es de 99.00 %\n"
          ]
        }
      ]
    },
    {
      "cell_type": "code",
      "execution_count": null,
      "metadata": {
        "id": "BDNUGtc0hog6"
      },
      "outputs": [],
      "source": [
        "# Pista"
      ]
    },
    {
      "cell_type": "code",
      "execution_count": null,
      "metadata": {
        "id": "DLsO1I2yhKJI"
      },
      "outputs": [],
      "source": [
        "# @title\n",
        "# Usar un while loop que verifique que la distancia recorrida sea menor a la distancia a recorrer\n",
        "# Cada hora se le suma a la distancia recorrida la velocidad a la que vamos ya que la velocidad la pedimos en km/h\n",
        "# El porcentaje de camino recorrido se da por una formula como:\n",
        "# porcentaje = (distancia_recorrida / distancia) * 100"
      ]
    },
    {
      "cell_type": "code",
      "execution_count": null,
      "metadata": {
        "id": "bEGEFAnnhHYc"
      },
      "outputs": [],
      "source": [
        "# Solución"
      ]
    },
    {
      "cell_type": "code",
      "execution_count": 52,
      "metadata": {
        "id": "ojSIO_iOhLW1",
        "colab": {
          "base_uri": "https://localhost:8080/"
        },
        "outputId": "29b36fe5-721b-44df-f5d7-b4869e7624e5"
      },
      "outputs": [
        {
          "output_type": "stream",
          "name": "stdout",
          "text": [
            "¿Cuántos kilómetros vamos a recorrer? 100\n",
            "¿A qué velocidad en km/h vamos a ir? 33\n",
            "Ha pasado 1 hora/s y vamos 33.0% de nuestro viaje\n",
            "Ha pasado 2 hora/s y vamos 66.0% de nuestro viaje\n",
            "Ha pasado 3 hora/s y vamos 99.0% de nuestro viaje\n",
            "Ha pasado 4 hora/s y vamos 132.0% de nuestro viaje\n"
          ]
        }
      ],
      "source": [
        "# @title\n",
        "distancia = float(input(\"¿Cuántos kilómetros vamos a recorrer? \"))\n",
        "velocidad = float(input(\"¿A qué velocidad en km/h vamos a ir? \"))\n",
        "distancia_recorrida = 0\n",
        "horas = 0\n",
        "while distancia_recorrida < distancia:\n",
        "    horas += 1\n",
        "    distancia_recorrida += velocidad\n",
        "    porcentaje = distancia_recorrida / distancia * 100\n",
        "    print(f'Ha pasado {horas} hora/s y vamos {round(porcentaje,2)}% de nuestro viaje')"
      ]
    },
    {
      "cell_type": "code",
      "execution_count": null,
      "metadata": {
        "id": "osWzKMjSfjoA"
      },
      "outputs": [],
      "source": [
        "# @title\n",
        "distancia = float(input(\"¿Cuántos kilómetros vamos a recorrer? \"))\n",
        "velocidad = float(input(\"¿A qué velocidad en km/h vamos a ir? \"))\n",
        "distancia_recorrida = 0\n",
        "horas = 0\n",
        "while distancia_recorrida < distancia:\n",
        "    horas += 1\n",
        "    distancia_recorrida += velocidad\n",
        "    porcentaje = distancia_recorrida / distancia * 100\n",
        "    print(f'Ha pasado {horas} hora/s y vamos {porcentaje}% de nuestro viaje')"
      ]
    },
    {
      "cell_type": "markdown",
      "metadata": {
        "id": "cTIVTMso-ZTN"
      },
      "source": [
        "* Resumen del tema: https://apuntes.de/python/estructuras-de-control-condicionales-y-bucles-en-python/#gsc.tab=0\n",
        "* Más ejercicios en:\n",
        "https://aprendeconalf.es/docencia/python/ejercicios/bucles/"
      ]
    }
  ],
  "metadata": {
    "colab": {
      "provenance": [],
      "toc_visible": true
    },
    "kernelspec": {
      "display_name": "Python 3",
      "name": "python3"
    },
    "language_info": {
      "name": "python"
    }
  },
  "nbformat": 4,
  "nbformat_minor": 0
}