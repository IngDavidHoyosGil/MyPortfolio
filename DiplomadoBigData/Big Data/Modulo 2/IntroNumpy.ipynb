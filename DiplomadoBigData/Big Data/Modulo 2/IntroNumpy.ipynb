{
  "nbformat": 4,
  "nbformat_minor": 0,
  "metadata": {
    "colab": {
      "provenance": []
    },
    "kernelspec": {
      "name": "python3",
      "display_name": "Python 3"
    },
    "language_info": {
      "name": "python"
    }
  },
  "cells": [
    {
      "cell_type": "markdown",
      "source": [
        "### Clase sobre numpy!"
      ],
      "metadata": {
        "id": "C-WCpRALYPTH"
      }
    },
    {
      "cell_type": "markdown",
      "source": [
        "**1. Introducción a NumPy**\n",
        "\n",
        "* Definición: NumPy (Numerical Python) es una librería para el lenguaje de programación Python, que se utiliza para trabajar con matrices y arreglos multidimensionales. Proporciona funciones matemáticas de alto rendimiento y herramientas para trabajar con estos datos."
      ],
      "metadata": {
        "id": "JOCt-6n8YTE9"
      }
    },
    {
      "cell_type": "markdown",
      "source": [
        "**2. Instalación de NumPy**"
      ],
      "metadata": {
        "id": "ZtOZwSwZYhXt"
      }
    },
    {
      "cell_type": "code",
      "execution_count": 1,
      "metadata": {
        "id": "sDdxVunHXqOd",
        "colab": {
          "base_uri": "https://localhost:8080/"
        },
        "outputId": "d2907c5a-4c3f-45e7-aae9-8c7d24e4343d",
        "collapsed": true
      },
      "outputs": [
        {
          "output_type": "stream",
          "name": "stdout",
          "text": [
            "Requirement already satisfied: numpy in /usr/local/lib/python3.11/dist-packages (1.26.4)\n"
          ]
        }
      ],
      "source": [
        "# Para instalar NumPy, usa el siguiente comando en tu terminal o consola:\n",
        "# python installs packages\n",
        "\n",
        "!pip install numpy"
      ]
    },
    {
      "cell_type": "markdown",
      "source": [
        "**3. Importamos NumPy**"
      ],
      "metadata": {
        "id": "eu8keE_uYlGw"
      }
    },
    {
      "cell_type": "code",
      "source": [
        "#Importamos la librería\n",
        "#Usamos el alias np\n",
        "\n",
        "import numpy as np"
      ],
      "metadata": {
        "id": "HuSopiIzXxWz"
      },
      "execution_count": 3,
      "outputs": []
    },
    {
      "cell_type": "markdown",
      "source": [
        "**4. Construcción de arreglos (vectores, o matrices)**"
      ],
      "metadata": {
        "id": "rV4kCWjMYN7j"
      }
    },
    {
      "cell_type": "code",
      "source": [
        "#En numpy el tipo de dato primordial son los arreglos o arrays\n",
        "#Estos funcionan como matrices o vectores, según sus dimensiones"
      ],
      "metadata": {
        "id": "uBs_MuWPX1NQ"
      },
      "execution_count": null,
      "outputs": []
    },
    {
      "cell_type": "code",
      "source": [
        "# Creación de un arreglo unidimensional (vector)\n",
        "# tuple([1,2,3])\n",
        "\n",
        "arr_1d = np.array([1, 2, 3, 4, 5])\n",
        "\n",
        "print(arr_1d)\n",
        "print(type(arr_1d))"
      ],
      "metadata": {
        "id": "myJRIY5HY0Ia",
        "colab": {
          "base_uri": "https://localhost:8080/"
        },
        "outputId": "b8b2d8fb-38c6-4ebf-e023-8e1ec4517d51",
        "collapsed": true
      },
      "execution_count": null,
      "outputs": [
        {
          "output_type": "stream",
          "name": "stdout",
          "text": [
            "[1 2 3 4 5]\n",
            "<class 'numpy.ndarray'>\n"
          ]
        }
      ]
    },
    {
      "cell_type": "code",
      "source": [
        "# Creación de un arreglo bidimensional (matriz)\n",
        "\n",
        "arr_2d = np.array([[1, 2, 3],\n",
        "                   [4, 5, 6]\n",
        "                   ]\n",
        "                  )\n",
        "print(arr_2d)\n",
        "print(type(arr_2d))"
      ],
      "metadata": {
        "id": "rE-VGIouZf8t",
        "colab": {
          "base_uri": "https://localhost:8080/"
        },
        "outputId": "484422b6-2f4b-4e52-ca7c-3c94a6df421a",
        "collapsed": true
      },
      "execution_count": null,
      "outputs": [
        {
          "output_type": "stream",
          "name": "stdout",
          "text": [
            "[[1 2 3]\n",
            " [4 5 6]]\n",
            "<class 'numpy.ndarray'>\n"
          ]
        }
      ]
    },
    {
      "cell_type": "code",
      "source": [
        "#Los arreglos son similares a las listas\n",
        "#Podemos acceder a ellos a través de los índices\n",
        "print(\"arr_1d: \", arr_1d)\n",
        "print(\"Primer elemento del vector arr_1d: \", arr_1d[0]) #Primer elemento del vector arr_1d\n",
        "print(\"Del primero al tercer elemento del vector arr_1d: \", arr_1d[:3]) #Del primero al tercer elemento del vector arr_1d\n",
        "\n",
        "print(\"arr_2d: \", arr_2d)\n",
        "print(\"Tercer elemento del segundo arreglo de la matriz arr_2d: \", arr_2d[1][:2]) #Tercer elemento del segundo arreglo de la matriz arr_2d"
      ],
      "metadata": {
        "id": "eT-OLA0uZzYK",
        "colab": {
          "base_uri": "https://localhost:8080/"
        },
        "outputId": "90e61faa-6237-4a79-9a03-3aafcaa3fc52",
        "collapsed": true
      },
      "execution_count": null,
      "outputs": [
        {
          "output_type": "stream",
          "name": "stdout",
          "text": [
            "arr_1d:  [1 2 3 4 5]\n",
            "Primer elemento del vector arr_1d:  1\n",
            "Del primero al tercer elemento del vector arr_1d:  [1 2 3]\n",
            "arr_2d:  [[1 2 3]\n",
            " [4 5 6]]\n",
            "Tercer elemento del segundo arreglo de la matriz arr_2d:  [4 5]\n"
          ]
        }
      ]
    },
    {
      "cell_type": "markdown",
      "source": [
        "###### **5. Funcionalidades básicas**"
      ],
      "metadata": {
        "id": "Cgh3Lg1RZ1R0"
      }
    },
    {
      "cell_type": "code",
      "source": [
        "dir(arr_1d)"
      ],
      "metadata": {
        "collapsed": true,
        "id": "TyT6-qUTopOZ",
        "colab": {
          "base_uri": "https://localhost:8080/"
        },
        "outputId": "d0bf47d9-7524-4c34-a5fb-65e382ad6036"
      },
      "execution_count": null,
      "outputs": [
        {
          "output_type": "execute_result",
          "data": {
            "text/plain": [
              "['T',\n",
              " '__abs__',\n",
              " '__add__',\n",
              " '__and__',\n",
              " '__array__',\n",
              " '__array_finalize__',\n",
              " '__array_function__',\n",
              " '__array_interface__',\n",
              " '__array_prepare__',\n",
              " '__array_priority__',\n",
              " '__array_struct__',\n",
              " '__array_ufunc__',\n",
              " '__array_wrap__',\n",
              " '__bool__',\n",
              " '__class__',\n",
              " '__class_getitem__',\n",
              " '__complex__',\n",
              " '__contains__',\n",
              " '__copy__',\n",
              " '__deepcopy__',\n",
              " '__delattr__',\n",
              " '__delitem__',\n",
              " '__dir__',\n",
              " '__divmod__',\n",
              " '__dlpack__',\n",
              " '__dlpack_device__',\n",
              " '__doc__',\n",
              " '__eq__',\n",
              " '__float__',\n",
              " '__floordiv__',\n",
              " '__format__',\n",
              " '__ge__',\n",
              " '__getattribute__',\n",
              " '__getitem__',\n",
              " '__getstate__',\n",
              " '__gt__',\n",
              " '__hash__',\n",
              " '__iadd__',\n",
              " '__iand__',\n",
              " '__ifloordiv__',\n",
              " '__ilshift__',\n",
              " '__imatmul__',\n",
              " '__imod__',\n",
              " '__imul__',\n",
              " '__index__',\n",
              " '__init__',\n",
              " '__init_subclass__',\n",
              " '__int__',\n",
              " '__invert__',\n",
              " '__ior__',\n",
              " '__ipow__',\n",
              " '__irshift__',\n",
              " '__isub__',\n",
              " '__iter__',\n",
              " '__itruediv__',\n",
              " '__ixor__',\n",
              " '__le__',\n",
              " '__len__',\n",
              " '__lshift__',\n",
              " '__lt__',\n",
              " '__matmul__',\n",
              " '__mod__',\n",
              " '__mul__',\n",
              " '__ne__',\n",
              " '__neg__',\n",
              " '__new__',\n",
              " '__or__',\n",
              " '__pos__',\n",
              " '__pow__',\n",
              " '__radd__',\n",
              " '__rand__',\n",
              " '__rdivmod__',\n",
              " '__reduce__',\n",
              " '__reduce_ex__',\n",
              " '__repr__',\n",
              " '__rfloordiv__',\n",
              " '__rlshift__',\n",
              " '__rmatmul__',\n",
              " '__rmod__',\n",
              " '__rmul__',\n",
              " '__ror__',\n",
              " '__rpow__',\n",
              " '__rrshift__',\n",
              " '__rshift__',\n",
              " '__rsub__',\n",
              " '__rtruediv__',\n",
              " '__rxor__',\n",
              " '__setattr__',\n",
              " '__setitem__',\n",
              " '__setstate__',\n",
              " '__sizeof__',\n",
              " '__str__',\n",
              " '__sub__',\n",
              " '__subclasshook__',\n",
              " '__truediv__',\n",
              " '__xor__',\n",
              " 'all',\n",
              " 'any',\n",
              " 'argmax',\n",
              " 'argmin',\n",
              " 'argpartition',\n",
              " 'argsort',\n",
              " 'astype',\n",
              " 'base',\n",
              " 'byteswap',\n",
              " 'choose',\n",
              " 'clip',\n",
              " 'compress',\n",
              " 'conj',\n",
              " 'conjugate',\n",
              " 'copy',\n",
              " 'ctypes',\n",
              " 'cumprod',\n",
              " 'cumsum',\n",
              " 'data',\n",
              " 'diagonal',\n",
              " 'dot',\n",
              " 'dtype',\n",
              " 'dump',\n",
              " 'dumps',\n",
              " 'fill',\n",
              " 'flags',\n",
              " 'flat',\n",
              " 'flatten',\n",
              " 'getfield',\n",
              " 'imag',\n",
              " 'item',\n",
              " 'itemset',\n",
              " 'itemsize',\n",
              " 'max',\n",
              " 'mean',\n",
              " 'min',\n",
              " 'nbytes',\n",
              " 'ndim',\n",
              " 'newbyteorder',\n",
              " 'nonzero',\n",
              " 'partition',\n",
              " 'prod',\n",
              " 'ptp',\n",
              " 'put',\n",
              " 'ravel',\n",
              " 'real',\n",
              " 'repeat',\n",
              " 'reshape',\n",
              " 'resize',\n",
              " 'round',\n",
              " 'searchsorted',\n",
              " 'setfield',\n",
              " 'setflags',\n",
              " 'shape',\n",
              " 'size',\n",
              " 'sort',\n",
              " 'squeeze',\n",
              " 'std',\n",
              " 'strides',\n",
              " 'sum',\n",
              " 'swapaxes',\n",
              " 'take',\n",
              " 'tobytes',\n",
              " 'tofile',\n",
              " 'tolist',\n",
              " 'tostring',\n",
              " 'trace',\n",
              " 'transpose',\n",
              " 'var',\n",
              " 'view']"
            ]
          },
          "metadata": {},
          "execution_count": 7
        }
      ]
    },
    {
      "cell_type": "code",
      "source": [
        "#5.1 Atributos de los arreglos\n",
        "# .append()\n",
        "print(arr_1d.ndim)  # Número de dimensiones\n",
        "print(arr_2d.ndim)  # Número de dimensiones\n",
        "\n",
        "print('Shape: ', arr_2d.shape) # Forma del arreglo\n",
        "print(arr_2d)\n",
        "\n",
        "print(arr_2d.size)  # Número total de elementos"
      ],
      "metadata": {
        "id": "2KESOgFxa6Ne",
        "colab": {
          "base_uri": "https://localhost:8080/"
        },
        "outputId": "37bb7c1d-8862-47b8-987f-5d1c31636be0",
        "collapsed": true
      },
      "execution_count": null,
      "outputs": [
        {
          "output_type": "stream",
          "name": "stdout",
          "text": [
            "1\n",
            "2\n",
            "Shape:  (2, 3)\n",
            "[[1 2 3]\n",
            " [4 5 6]]\n",
            "6\n"
          ]
        }
      ]
    },
    {
      "cell_type": "code",
      "source": [
        "np.array([[1,2,3], [4,5]])"
      ],
      "metadata": {
        "colab": {
          "base_uri": "https://localhost:8080/",
          "height": 158
        },
        "id": "k83bfTY2uE0n",
        "outputId": "e8a9e5d4-8fcc-444e-9da2-ad0c165fc9e4",
        "collapsed": true
      },
      "execution_count": null,
      "outputs": [
        {
          "output_type": "error",
          "ename": "ValueError",
          "evalue": "setting an array element with a sequence. The requested array has an inhomogeneous shape after 1 dimensions. The detected shape was (2,) + inhomogeneous part.",
          "traceback": [
            "\u001b[0;31m---------------------------------------------------------------------------\u001b[0m",
            "\u001b[0;31mValueError\u001b[0m                                Traceback (most recent call last)",
            "\u001b[0;32m<ipython-input-11-59ec0a84f344>\u001b[0m in \u001b[0;36m<cell line: 0>\u001b[0;34m()\u001b[0m\n\u001b[0;32m----> 1\u001b[0;31m \u001b[0mnp\u001b[0m\u001b[0;34m.\u001b[0m\u001b[0marray\u001b[0m\u001b[0;34m(\u001b[0m\u001b[0;34m[\u001b[0m\u001b[0;34m[\u001b[0m\u001b[0;36m1\u001b[0m\u001b[0;34m,\u001b[0m\u001b[0;36m2\u001b[0m\u001b[0;34m,\u001b[0m\u001b[0;36m3\u001b[0m\u001b[0;34m]\u001b[0m\u001b[0;34m,\u001b[0m \u001b[0;34m[\u001b[0m\u001b[0;36m4\u001b[0m\u001b[0;34m,\u001b[0m\u001b[0;36m5\u001b[0m\u001b[0;34m]\u001b[0m\u001b[0;34m]\u001b[0m\u001b[0;34m)\u001b[0m\u001b[0;34m\u001b[0m\u001b[0;34m\u001b[0m\u001b[0m\n\u001b[0m",
            "\u001b[0;31mValueError\u001b[0m: setting an array element with a sequence. The requested array has an inhomogeneous shape after 1 dimensions. The detected shape was (2,) + inhomogeneous part."
          ]
        }
      ]
    },
    {
      "cell_type": "code",
      "source": [
        "#5.2 Creación de arreglos especiales\n",
        "#Arreglo de ceros\n",
        "zeros = np.zeros((3, 5))\n",
        "print(zeros)\n",
        "\n",
        "# Arreglo de unos\n",
        "ones = np.ones((2, 4))\n",
        "print(ones)\n",
        "\n",
        "# Arreglo con valores constantes\n",
        "full = np.full((2, 3), -1)\n",
        "print(full)\n",
        "\n",
        "# Arreglo identidad\n",
        "identity = np.eye(4)\n",
        "print(identity)\n",
        "\n",
        "# Arreglo con valores aleatorios\n",
        "random = np.random.random((4, 5))\n",
        "print(random)"
      ],
      "metadata": {
        "id": "VhIJgz9RbH4f",
        "colab": {
          "base_uri": "https://localhost:8080/"
        },
        "outputId": "a0e280fc-2ac8-4cea-f086-73e87c183d96",
        "collapsed": true
      },
      "execution_count": null,
      "outputs": [
        {
          "output_type": "stream",
          "name": "stdout",
          "text": [
            "[[0. 0. 0. 0. 0.]\n",
            " [0. 0. 0. 0. 0.]\n",
            " [0. 0. 0. 0. 0.]]\n",
            "[[1. 1. 1. 1.]\n",
            " [1. 1. 1. 1.]]\n",
            "[[-1 -1 -1]\n",
            " [-1 -1 -1]]\n",
            "[[1. 0. 0. 0.]\n",
            " [0. 1. 0. 0.]\n",
            " [0. 0. 1. 0.]\n",
            " [0. 0. 0. 1.]]\n",
            "[[0.67354349 0.68242751 0.29297663 0.35771766 0.20077379]\n",
            " [0.42205371 0.937669   0.77921078 0.82743534 0.45672418]\n",
            " [0.19554587 0.74354608 0.87932176 0.4910601  0.84275117]\n",
            " [0.69892511 0.10887145 0.91701203 0.38194229 0.15494919]]\n"
          ]
        }
      ]
    },
    {
      "cell_type": "code",
      "source": [
        "# Crear un vector\n",
        "vector = np.arange(1, 11, 1)\n",
        "print(vector)"
      ],
      "metadata": {
        "id": "KL3aNYJ-aosd",
        "colab": {
          "base_uri": "https://localhost:8080/"
        },
        "outputId": "2de9e522-8e3f-4c09-b606-6cce6994941c"
      },
      "execution_count": null,
      "outputs": [
        {
          "output_type": "stream",
          "name": "stdout",
          "text": [
            "[ 1  2  3  4  5  6  7  8  9 10]\n"
          ]
        }
      ]
    },
    {
      "cell_type": "code",
      "source": [
        "for i in np.arange(1,11,1):\n",
        "  print(i, i % 2)"
      ],
      "metadata": {
        "colab": {
          "base_uri": "https://localhost:8080/"
        },
        "id": "Rl03_Ijdvu-y",
        "outputId": "3a2d30dd-cb39-472a-985a-0fefef8f3dc6",
        "collapsed": true
      },
      "execution_count": null,
      "outputs": [
        {
          "output_type": "stream",
          "name": "stdout",
          "text": [
            "1 1\n",
            "2 0\n",
            "3 1\n",
            "4 0\n",
            "5 1\n",
            "6 0\n",
            "7 1\n",
            "8 0\n",
            "9 1\n",
            "10 0\n"
          ]
        }
      ]
    },
    {
      "cell_type": "markdown",
      "source": [
        "###### **6. Operaciones Matemáticas**"
      ],
      "metadata": {
        "id": "b4ssFtcQbaJz"
      }
    },
    {
      "cell_type": "code",
      "source": [
        "# 6.1 Operaciones elementales\n",
        "a = np.array([1, 2, 3])\n",
        "b = np.array([4, 5, 6])\n",
        "\n",
        "# Suma\n",
        "print(a + b)\n",
        "\n",
        "# # Resta\n",
        "print(a - b)\n",
        "\n",
        "# # Multiplicación\n",
        "print(a * b)\n",
        "\n",
        "# # División\n",
        "print(a / b)"
      ],
      "metadata": {
        "id": "mAosUeYjbh4w",
        "colab": {
          "base_uri": "https://localhost:8080/"
        },
        "outputId": "5261a62f-3e3a-47b6-adbe-99687a5a5f16",
        "collapsed": true
      },
      "execution_count": null,
      "outputs": [
        {
          "output_type": "stream",
          "name": "stdout",
          "text": [
            "[5 7 9]\n",
            "[-3 -3 -3]\n",
            "[ 4 10 18]\n",
            "[0.25 0.4  0.5 ]\n"
          ]
        }
      ]
    },
    {
      "cell_type": "code",
      "source": [
        "# Qué pasa si lo intento con una lista?\n",
        "list_a = [1, 2, 3]\n",
        "list_b = [4, 5, 6]\n",
        "\n",
        "print(list_a + list_b)"
      ],
      "metadata": {
        "colab": {
          "base_uri": "https://localhost:8080/"
        },
        "id": "j5lDlkLUwcqV",
        "outputId": "8faee24e-cb19-4ec7-ff31-d7c00d01f448",
        "collapsed": true
      },
      "execution_count": null,
      "outputs": [
        {
          "output_type": "stream",
          "name": "stdout",
          "text": [
            "[1, 2, 3, 4, 5, 6]\n"
          ]
        }
      ]
    },
    {
      "cell_type": "code",
      "source": [
        "# con un escalar\n",
        "print(a)\n",
        "a * 3"
      ],
      "metadata": {
        "colab": {
          "base_uri": "https://localhost:8080/"
        },
        "id": "DHu__CAycM8Y",
        "outputId": "9c21fea3-a1df-4ca5-e947-8a01d1d7dd83",
        "collapsed": true
      },
      "execution_count": null,
      "outputs": [
        {
          "output_type": "stream",
          "name": "stdout",
          "text": [
            "[1 2 3]\n"
          ]
        },
        {
          "output_type": "execute_result",
          "data": {
            "text/plain": [
              "array([3, 6, 9])"
            ]
          },
          "metadata": {},
          "execution_count": 25
        }
      ]
    },
    {
      "cell_type": "code",
      "source": [
        "a ** 2"
      ],
      "metadata": {
        "colab": {
          "base_uri": "https://localhost:8080/"
        },
        "id": "qWZ9eSrRcRS0",
        "outputId": "ffde0a00-9d6a-4533-a926-4509e8395bd1",
        "collapsed": true
      },
      "execution_count": null,
      "outputs": [
        {
          "output_type": "execute_result",
          "data": {
            "text/plain": [
              "array([1, 4, 9])"
            ]
          },
          "metadata": {},
          "execution_count": 26
        }
      ]
    },
    {
      "cell_type": "code",
      "source": [
        "# Advertencia\n",
        "'aaa' * 3"
      ],
      "metadata": {
        "colab": {
          "base_uri": "https://localhost:8080/",
          "height": 35
        },
        "id": "6jVpKhXKcT6H",
        "outputId": "a984c859-4657-4d06-d6e6-57b5101cc05f"
      },
      "execution_count": null,
      "outputs": [
        {
          "output_type": "execute_result",
          "data": {
            "text/plain": [
              "'aaaaaaaaa'"
            ],
            "application/vnd.google.colaboratory.intrinsic+json": {
              "type": "string"
            }
          },
          "metadata": {},
          "execution_count": 29
        }
      ]
    },
    {
      "cell_type": "markdown",
      "source": [
        "###### Una de las características más importantes de numpy!\n",
        "**Las operaciones vectorizadas** se basan en el concepto de vectorización, que es el proceso de convertir una operación escalar (una que funciona en un solo valor) en una operación vectorial (una que trabaja en una colección de valores)."
      ],
      "metadata": {
        "id": "kwVBF3NrdJWB"
      }
    },
    {
      "cell_type": "code",
      "source": [
        "# 6.2 Funciones universales\n",
        "\n",
        "# Redondear\n",
        "print(\"Pi redondeado: \", np.round(np.pi, 4))\n",
        "print(\"Lista redondeada: \", np.round([0.1234, 1.564, 9.8483, 7], 2))\n",
        "\n",
        "print(\"Variable a: \", a)\n",
        "# Raíz cuadrada\n",
        "print(\"Raíz cuadrada de elementos en a: \", np.round(np.sqrt(a), 2))\n",
        "\n",
        "# Potencia\n",
        "print(\"Potencia de elementos en a: \", np.power(a, 2))\n",
        "\n",
        "# Seno\n",
        "print(\"Seno de a: \", np.sin(a))\n",
        "\n",
        "# Coseno\n",
        "print(\"Coseno de a: \", np.cos(a))\n",
        "\n",
        "# Logaritmo\n",
        "print(\"Logaritmo de a: \",np.log(a))"
      ],
      "metadata": {
        "id": "l3rRvU9ObtTq",
        "colab": {
          "base_uri": "https://localhost:8080/"
        },
        "outputId": "d824f320-f86d-4bbd-fe2d-f0a81ff06951",
        "collapsed": true
      },
      "execution_count": null,
      "outputs": [
        {
          "output_type": "stream",
          "name": "stdout",
          "text": [
            "Pi redondeado:  3.1416\n",
            "Lista redondeada:  [0.12 1.56 9.85 7.  ]\n",
            "Variable a:  [1 2 3]\n",
            "Raíz cuadrada de elementos en a:  [1.   1.41 1.73]\n",
            "Potencia de elementos en a:  [1 4 9]\n",
            "Seno de a:  [0.84147098 0.90929743 0.14112001]\n",
            "Coseno de a:  [ 0.54030231 -0.41614684 -0.9899925 ]\n",
            "Logaritmo de a:  [0.         0.69314718 1.09861229]\n"
          ]
        }
      ]
    },
    {
      "cell_type": "code",
      "source": [
        "# Qué pasará si intentamos usar la función \"round\" para una lista o en un arreglo de numpy?\n",
        "# np.round(np.array([0.1234, 1.564, 9.8483, 7]), 2)\n",
        "\n",
        "lista = [0.1234, 1.564, 9.8483, 7]\n",
        "lista_redondeada = []\n",
        "\n",
        "for i in lista:\n",
        "  lista_redondeada.append(round(i, 2))\n",
        "\n",
        "print(lista)\n",
        "print(lista_redondeada)"
      ],
      "metadata": {
        "id": "gO5rveexcz-7",
        "colab": {
          "base_uri": "https://localhost:8080/"
        },
        "outputId": "395a9fbc-e2f4-4395-f34d-776406e0242d",
        "collapsed": true
      },
      "execution_count": null,
      "outputs": [
        {
          "output_type": "stream",
          "name": "stdout",
          "text": [
            "[0.1234, 1.564, 9.8483, 7]\n",
            "[0.12, 1.56, 9.85, 7]\n"
          ]
        }
      ]
    },
    {
      "cell_type": "code",
      "source": [
        "# Encontrar el máximo entre los elementos de dos estrucutras de datos, por índice\n",
        "a = np.array([8, 2, 3])\n",
        "b = np.array([4, 5, 6])\n",
        "\n",
        "print('Máximo entre las dos listas:', np.maximum(a, b))\n",
        "print('Mínimo entre las dos listas:', np.minimum(a, b))\n",
        "\n",
        "# También existe np.minimum!\n",
        "# Qué pasa si lo hacemos con max()?"
      ],
      "metadata": {
        "id": "bMEflDWnVWvC",
        "colab": {
          "base_uri": "https://localhost:8080/"
        },
        "outputId": "71f7d7fc-4e56-400d-cdac-d020cbcf740f",
        "collapsed": true
      },
      "execution_count": null,
      "outputs": [
        {
          "output_type": "stream",
          "name": "stdout",
          "text": [
            "Máximo entre las dos listas: [8 5 6]\n",
            "Mínimo entre las dos listas: [4 2 3]\n"
          ]
        }
      ]
    },
    {
      "cell_type": "code",
      "source": [
        "# El máximo o mínimo dentro de una sola lista\n",
        "print(np.max(a))\n",
        "print(np.min(a))"
      ],
      "metadata": {
        "colab": {
          "base_uri": "https://localhost:8080/"
        },
        "id": "zb7Pm0PWycBG",
        "outputId": "be42cfc7-22a7-486a-b216-27c9fcb247ea",
        "collapsed": true
      },
      "execution_count": null,
      "outputs": [
        {
          "output_type": "stream",
          "name": "stdout",
          "text": [
            "8\n",
            "2\n"
          ]
        }
      ]
    },
    {
      "cell_type": "code",
      "source": [
        "# Usamos np.where para applicar condicionales a nuestras listas, sin usar loops!\n",
        "# np.where(condición, valor si se cumple, valor si no se cumple)\n",
        "\n",
        "arr = np.array([1, 2, 3, 4, 5])\n",
        "\n",
        "# np.where(arr < 3, '< 3', '>= 3')\n",
        "\n",
        "print(np.where(arr < 3,\n",
        "               '< 3',\n",
        "               '>= 3')\n",
        "      )\n",
        "\n",
        "arr_where = np.where(arr < 3, '< 3', '>= 3')\n",
        "print(type(arr_where))"
      ],
      "metadata": {
        "id": "W1QnIIUCV75W",
        "colab": {
          "base_uri": "https://localhost:8080/"
        },
        "outputId": "59858fab-46a5-456c-c379-3bed286d242a",
        "collapsed": true
      },
      "execution_count": null,
      "outputs": [
        {
          "output_type": "stream",
          "name": "stdout",
          "text": [
            "['< 3' '< 3' '>= 3' '>= 3' '>= 3']\n",
            "<class 'numpy.ndarray'>\n"
          ]
        }
      ]
    },
    {
      "cell_type": "code",
      "source": [
        "# Podemos usar np.where anidados, similar a los condicionales if..elif....else:\n",
        "nested_where = np.where(arr < 3,\n",
        "                        '< 3',\n",
        "                        np.where(arr == 3,\n",
        "                                 '== 3',\n",
        "                                 '> 3')\n",
        "                        )\n",
        "\n",
        "# nested_where = np.where(arr < 3,'< 3', np.where(arr == 3, '== 3','> 3'))\n",
        "print(arr)\n",
        "print(nested_where)"
      ],
      "metadata": {
        "id": "EXJyBkDcW2_i",
        "colab": {
          "base_uri": "https://localhost:8080/"
        },
        "outputId": "d0fcc43a-b0bd-4e39-a9a7-15d93ebd49ae",
        "collapsed": true
      },
      "execution_count": null,
      "outputs": [
        {
          "output_type": "stream",
          "name": "stdout",
          "text": [
            "[1 2 3 4 5]\n",
            "['< 3' '< 3' '== 3' '> 3' '> 3']\n"
          ]
        }
      ]
    },
    {
      "cell_type": "code",
      "source": [
        "# ¿Cómo se vería con condicionales y loops?\n",
        "print(arr)\n",
        "arr_transformed = []\n",
        "\n",
        "for i in arr:\n",
        "  if i < 3:\n",
        "    resultado = '< 3'\n",
        "  elif i == 3:\n",
        "    resultado = '== 3'\n",
        "  else:\n",
        "    resultado = '> 3'\n",
        "\n",
        "  arr_transformed.append(resultado)\n",
        "\n",
        "print(arr_transformed)"
      ],
      "metadata": {
        "id": "T78WpHUnXOEq",
        "colab": {
          "base_uri": "https://localhost:8080/"
        },
        "outputId": "95fbc59c-ad73-4586-a27d-d253ecfecf85",
        "collapsed": true
      },
      "execution_count": null,
      "outputs": [
        {
          "output_type": "stream",
          "name": "stdout",
          "text": [
            "[1 2 3 4 5]\n",
            "['< 3', '< 3', '== 3', '> 3', '> 3']\n"
          ]
        }
      ]
    },
    {
      "cell_type": "markdown",
      "source": [
        "######**7. Manipulación de arreglos**"
      ],
      "metadata": {
        "id": "0iVVWEOGcHGN"
      }
    },
    {
      "cell_type": "code",
      "source": [
        "#Cambiar las dimensiones del arreglo - cambiar la forma\n",
        "arr = np.array([1, 2, 3, 4, 5, 6])\n",
        "print(arr)\n",
        "print(arr.shape)\n",
        "print(arr.size)\n",
        "\n",
        "reshaped = arr.reshape((-1, 1))\n",
        "\n",
        "print(arr)\n",
        "print(reshaped)\n",
        "print(reshaped.shape)\n",
        "print(reshaped.size)"
      ],
      "metadata": {
        "id": "JShGDRhJcMdA",
        "colab": {
          "base_uri": "https://localhost:8080/"
        },
        "outputId": "177bcb0f-6848-43d9-b3d0-6eca003479ec",
        "collapsed": true
      },
      "execution_count": null,
      "outputs": [
        {
          "output_type": "stream",
          "name": "stdout",
          "text": [
            "[1 2 3 4 5 6]\n",
            "(6,)\n",
            "6\n",
            "[1 2 3 4 5 6]\n",
            "[[1]\n",
            " [2]\n",
            " [3]\n",
            " [4]\n",
            " [5]\n",
            " [6]]\n",
            "(6, 1)\n",
            "6\n"
          ]
        }
      ]
    },
    {
      "cell_type": "code",
      "source": [
        "arr = np.array([[1, 2, 3, 4, 5, 6],\n",
        "               [7, 8, 9, 10, 11, 12]\n",
        "                ]\n",
        "               )\n",
        "# print(arr.shape)\n",
        "print(arr.size)\n",
        "\n",
        "reshaped = arr.reshape((-1, 1))\n",
        "# print(arr)\n",
        "print(reshaped)\n",
        "print(reshaped.shape)\n",
        "print(reshaped.size)"
      ],
      "metadata": {
        "colab": {
          "base_uri": "https://localhost:8080/"
        },
        "id": "qK8yz5wGg5uh",
        "outputId": "9bbe9a2b-63cc-41b4-8309-3b7d37061cca",
        "collapsed": true
      },
      "execution_count": null,
      "outputs": [
        {
          "output_type": "stream",
          "name": "stdout",
          "text": [
            "12\n",
            "[[ 1]\n",
            " [ 2]\n",
            " [ 3]\n",
            " [ 4]\n",
            " [ 5]\n",
            " [ 6]\n",
            " [ 7]\n",
            " [ 8]\n",
            " [ 9]\n",
            " [10]\n",
            " [11]\n",
            " [12]]\n",
            "(12, 1)\n",
            "12\n"
          ]
        }
      ]
    },
    {
      "cell_type": "code",
      "source": [
        "a = np.array([[1, 2], # 5\n",
        "              [3, 4]]) # 6\n",
        "\n",
        "b = np.array([[5, 6]])\n",
        "\n",
        "# Concatenar a y b\n",
        "print(\"Concatenar:\\n\", np.concatenate((a, b), axis=0)) #axis = 0 vertical, axis = 1 horizontal\n",
        "print(\"Concatenar:\\n\", np.concatenate((a, b.T), axis=1)) #axis = 0 vertical, axis = 1 horizontal\n",
        "\n",
        "# Apilar verticalmente\n",
        "print(\"Apilar verticalmente:\\n\", np.vstack((a, b)))\n",
        "\n",
        "# # # Apilar horizontalmente\n",
        "print(\"Apilar horizontalmente:\\n\", np.hstack((a, b.T)))  # b.T es la transpuesta de b"
      ],
      "metadata": {
        "id": "NwYR9RadcPAG",
        "colab": {
          "base_uri": "https://localhost:8080/"
        },
        "outputId": "9f918788-0e28-451b-a810-799e45e4fa1e",
        "collapsed": true
      },
      "execution_count": null,
      "outputs": [
        {
          "output_type": "stream",
          "name": "stdout",
          "text": [
            "Concatenar:\n",
            " [[1 2]\n",
            " [3 4]\n",
            " [5 6]]\n",
            "Concatenar:\n",
            " [[1 2 5]\n",
            " [3 4 6]]\n",
            "Apilar verticalmente:\n",
            " [[1 2]\n",
            " [3 4]\n",
            " [5 6]]\n",
            "Apilar horizontalmente:\n",
            " [[1 2 5]\n",
            " [3 4 6]]\n"
          ]
        }
      ]
    },
    {
      "cell_type": "code",
      "source": [
        "b.T"
      ],
      "metadata": {
        "colab": {
          "base_uri": "https://localhost:8080/"
        },
        "id": "lKL_O7Vu3GW2",
        "outputId": "cca0c516-bd63-45ff-bb42-32f09973e033",
        "collapsed": true
      },
      "execution_count": null,
      "outputs": [
        {
          "output_type": "execute_result",
          "data": {
            "text/plain": [
              "array([[5],\n",
              "       [6]])"
            ]
          },
          "metadata": {},
          "execution_count": 56
        }
      ]
    },
    {
      "cell_type": "code",
      "source": [
        "b = np.array([[5, 6]]).reshape((-1, 1))\n",
        "print(\"Concatenar:\\n\", np.concatenate((a, b), axis=1))"
      ],
      "metadata": {
        "id": "ysUcRPZktYoQ",
        "colab": {
          "base_uri": "https://localhost:8080/"
        },
        "outputId": "e7cf60f3-b554-40ac-b99d-84eb6fff8b5f",
        "collapsed": true
      },
      "execution_count": null,
      "outputs": [
        {
          "output_type": "stream",
          "name": "stdout",
          "text": [
            "Concatenar:\n",
            " [[1 2 5]\n",
            " [3 4 6]]\n"
          ]
        }
      ]
    },
    {
      "cell_type": "code",
      "source": [
        "# Guardar arreglo en un archivo\n",
        "arr = np.array([[1, 2, 3, 4, 5],\n",
        "                [6, 7, 8, 9, 10]]\n",
        "               )\n",
        "\n",
        "np.save('array.npy', arr)"
      ],
      "metadata": {
        "id": "pKFNf7v-dx3f"
      },
      "execution_count": null,
      "outputs": []
    },
    {
      "cell_type": "code",
      "source": [
        "# Cargar arreglo desde un archivo\n",
        "loaded_arr = np.load('array.npy')\n",
        "print(loaded_arr)"
      ],
      "metadata": {
        "id": "8N904Pl9i23p",
        "collapsed": true
      },
      "execution_count": null,
      "outputs": []
    },
    {
      "cell_type": "markdown",
      "source": [
        "######**10. Ejemplos prácticos**"
      ],
      "metadata": {
        "id": "5CF944ZSeV12"
      }
    },
    {
      "cell_type": "code",
      "source": [
        "#10.1 Cálculo de la media, mediana y desviación estándar\n",
        "data = np.array([1, 2, 3, 4, 5, 6, 7, 8, 9])\n",
        "\n",
        "print(\"Media, Promedio:\", np.mean(data))\n",
        "print(\"Mediana:\", np.median(data))\n",
        "print(\"Desviación estándar:\", np.round(np.std(data),2))"
      ],
      "metadata": {
        "id": "2BpM_THQeZym",
        "colab": {
          "base_uri": "https://localhost:8080/"
        },
        "outputId": "c6c5ec1f-fc6d-4e95-feb0-9746b1a54dc1",
        "collapsed": true
      },
      "execution_count": null,
      "outputs": [
        {
          "output_type": "stream",
          "name": "stdout",
          "text": [
            "Media, Promedio: 5.0\n",
            "Mediana: 5.0\n",
            "Desviación estándar: 2.58\n"
          ]
        }
      ]
    },
    {
      "cell_type": "code",
      "source": [
        "#10.2 Operaciones con matrices\n",
        "mat1 = np.array([[1, 2],\n",
        "                 [3, 4]])\n",
        "mat2 = np.array([[5, 6],\n",
        "                 [7, 8]])\n",
        "\n",
        "# Producto punto\n",
        "print(np.dot(mat1, mat2))\n",
        "\n",
        "# Transpuesta\n",
        "# También -> mat1.T\n",
        "print(np.transpose(mat1))\n",
        "\n",
        "# Inversa (si existe)\n",
        "print(np.linalg.inv(mat1))"
      ],
      "metadata": {
        "id": "4bykugKmegYj",
        "colab": {
          "base_uri": "https://localhost:8080/"
        },
        "outputId": "0a23639e-3e1f-494d-a433-1cdb2a8d9f3e",
        "collapsed": true
      },
      "execution_count": null,
      "outputs": [
        {
          "output_type": "stream",
          "name": "stdout",
          "text": [
            "[[19 22]\n",
            " [43 50]]\n",
            "[[1 3]\n",
            " [2 4]]\n",
            "[[-2.   1. ]\n",
            " [ 1.5 -0.5]]\n"
          ]
        }
      ]
    },
    {
      "cell_type": "code",
      "source": [
        "#10.3 Filtrar datos de un array\n",
        "\n",
        "arr = np.array([1, 2, 3, 4, 5, 6, 7, 8, 9])\n",
        "\n",
        "# Encontrar los valores que son mayores a 5\n",
        "bool_arr = arr > 5\n",
        "print(arr > 5)\n",
        "\n",
        "# Filtrar valores mayores que 5\n",
        "# arr[bool_arr]\n",
        "print(arr[bool_arr])"
      ],
      "metadata": {
        "id": "REjhQk_faUAt",
        "colab": {
          "base_uri": "https://localhost:8080/"
        },
        "outputId": "700f11e8-4cf5-4fc1-c46f-d78a4556bf96",
        "collapsed": true
      },
      "execution_count": 5,
      "outputs": [
        {
          "output_type": "stream",
          "name": "stdout",
          "text": [
            "[False False False False False  True  True  True  True]\n",
            "[6 7 8 9]\n"
          ]
        }
      ]
    },
    {
      "cell_type": "code",
      "source": [
        "# Revisemos el array arr, qué vemos?\n",
        "# Tenemos solo los valores del filtro anterior?"
      ],
      "metadata": {
        "id": "9HOsX9Rxa7PM"
      },
      "execution_count": null,
      "outputs": []
    },
    {
      "cell_type": "code",
      "source": [
        "for i in arr:\n",
        "  if i > 5:\n",
        "    print('Menor a 5')\n",
        "  else:\n",
        "    print('Condición no se cumple')"
      ],
      "metadata": {
        "colab": {
          "base_uri": "https://localhost:8080/"
        },
        "id": "Bo6CHxMMlTFi",
        "outputId": "dbaac3bc-9d54-4d21-c532-97ea841bbbe5",
        "collapsed": true
      },
      "execution_count": null,
      "outputs": [
        {
          "output_type": "stream",
          "name": "stdout",
          "text": [
            "Menor a 5 y mayor a 8\n",
            "Menor a 5 y mayor a 8\n",
            "Menor a 5 y mayor a 8\n",
            "Menor a 5 y mayor a 8\n",
            "Condición no se cumple\n",
            "Condición no se cumple\n",
            "Condición no se cumple\n",
            "Condición no se cumple\n",
            "Menor a 5 y mayor a 8\n"
          ]
        }
      ]
    },
    {
      "cell_type": "code",
      "source": [
        "# Utilizar condicionales and (&) y or (|)\n",
        "#arr[(arr > 5) & (arr < 8)]\n",
        "#arr[(arr < 5) | (arr > 8)]"
      ],
      "metadata": {
        "id": "NF7H_1RTvqrO",
        "colab": {
          "base_uri": "https://localhost:8080/"
        },
        "outputId": "6422b673-8507-467d-a514-a54d4156a2a2"
      },
      "execution_count": 8,
      "outputs": [
        {
          "output_type": "execute_result",
          "data": {
            "text/plain": [
              "array([1, 2, 3, 4, 9])"
            ]
          },
          "metadata": {},
          "execution_count": 8
        }
      ]
    },
    {
      "cell_type": "code",
      "source": [
        "print(arr)\n",
        "\n",
        "for i in arr:\n",
        "  if i < 5 or i > 8:\n",
        "    print('Menor a 5 o mayor a 8')\n",
        "  else:\n",
        "    print('Condición no se cumple')"
      ],
      "metadata": {
        "colab": {
          "base_uri": "https://localhost:8080/"
        },
        "id": "2c8zJrTG5D6V",
        "outputId": "70ca6fea-2613-48ed-a9e3-ec2979cb2961",
        "collapsed": true
      },
      "execution_count": null,
      "outputs": [
        {
          "output_type": "stream",
          "name": "stdout",
          "text": [
            "[1 2 3 4 5 6 7 8 9]\n",
            "Menor a 5 o mayor a 8\n",
            "Menor a 5 o mayor a 8\n",
            "Menor a 5 o mayor a 8\n",
            "Menor a 5 o mayor a 8\n",
            "Condición no se cumple\n",
            "Condición no se cumple\n",
            "Condición no se cumple\n",
            "Condición no se cumple\n",
            "Menor a 5 o mayor a 8\n"
          ]
        }
      ]
    },
    {
      "cell_type": "code",
      "source": [
        "# and -> &\n",
        "# or -> |\n",
        "print(arr > 2)\n",
        "print(arr < 8)\n",
        "print((arr > 2) * (arr < 8))\n",
        "arr[(arr > 2) & (arr < 8)]"
      ],
      "metadata": {
        "colab": {
          "base_uri": "https://localhost:8080/"
        },
        "id": "LgAmoYYOlnOq",
        "outputId": "dada6cf7-24c4-4540-d6c9-53822424a4d0",
        "collapsed": true
      },
      "execution_count": 10,
      "outputs": [
        {
          "output_type": "stream",
          "name": "stdout",
          "text": [
            "[False False  True  True  True  True  True  True  True]\n",
            "[ True  True  True  True  True  True  True False False]\n",
            "[False False  True  True  True  True  True False False]\n"
          ]
        },
        {
          "output_type": "execute_result",
          "data": {
            "text/plain": [
              "array([3, 4, 5, 6, 7])"
            ]
          },
          "metadata": {},
          "execution_count": 10
        }
      ]
    },
    {
      "cell_type": "code",
      "source": [
        "arr_filtrado = arr[(arr < 5) | (arr > 8)]\n",
        "print(arr_filtrado)"
      ],
      "metadata": {
        "colab": {
          "base_uri": "https://localhost:8080/"
        },
        "id": "pjy7FCeNlwoM",
        "outputId": "a6e5895d-75c8-4463-9f53-ba4eb04e8ca3",
        "collapsed": true
      },
      "execution_count": 11,
      "outputs": [
        {
          "output_type": "stream",
          "name": "stdout",
          "text": [
            "[1 2 3 4 9]\n"
          ]
        }
      ]
    },
    {
      "cell_type": "markdown",
      "source": [
        "###### **12. Recursos adicionales**"
      ],
      "metadata": {
        "id": "3lse3sbxeuAV"
      }
    },
    {
      "cell_type": "markdown",
      "source": [
        "Documentación oficial de NumPy:\n",
        "\n",
        "https://numpy.org/doc/2.0/user/absolute_beginners.html\n",
        "\n",
        "Tutoriales y guías: Recursos en línea y videos para profundizar en NumPy.\n",
        "\n",
        "https://www.freecodecamp.org/learn/data-analysis-with-python/#numpy"
      ],
      "metadata": {
        "id": "AdRdcGHZeoQn"
      }
    },
    {
      "cell_type": "markdown",
      "source": [
        "### **Ejercicios!**"
      ],
      "metadata": {
        "id": "qywYnP2LfoY9"
      }
    },
    {
      "cell_type": "markdown",
      "source": [
        "###### **Ejercicio 1: Manipulación de Arreglos**\n",
        "* Objetivo: Crear, manipular y aplicar operaciones básicas a arreglos."
      ],
      "metadata": {
        "id": "Jtw-dRf9iA12"
      }
    },
    {
      "cell_type": "code",
      "source": [
        "# Instrucciones:\n",
        "\n",
        "# 1. Crea un arreglo unidimensional con los números del 1 al 10.\n",
        "# 2. Cambia la forma del arreglo para que sea una matriz de 2x5.\n",
        "# 3. Encuentra la suma de todos los elementos de la matriz.\n",
        "# 4. Encuentra el valor máximo y mínimo en la matriz.\n",
        "# 5. Calcula la media y la desviación estándar de los elementos de la matriz."
      ],
      "metadata": {
        "id": "yghb4XwyhrWR"
      },
      "execution_count": null,
      "outputs": []
    },
    {
      "cell_type": "markdown",
      "source": [
        "* Solución"
      ],
      "metadata": {
        "id": "Q63bn1zChy2G"
      }
    },
    {
      "cell_type": "code",
      "source": [
        "# @title\n",
        "import numpy as np\n",
        "\n",
        "# Paso 1\n",
        "arr = np.array([1, 2, 3, 4, 5, 6, 7, 8, 9, 10])\n",
        "\n",
        "# Paso 2\n",
        "mat = arr.reshape((2, 5))\n",
        "print(\"Matriz 2x5:\")\n",
        "print(mat)\n",
        "\n",
        "# Paso 3\n",
        "suma = np.sum(mat)\n",
        "print(\"Suma de todos los elementos:\", suma)\n",
        "\n",
        "# Paso 4\n",
        "max_val = np.max(mat)\n",
        "min_val = np.min(mat)\n",
        "print(\"Valor máximo:\", max_val)\n",
        "print(\"Valor mínimo:\", min_val)\n",
        "\n",
        "# Paso 5\n",
        "media = np.mean(mat)\n",
        "print(\"Media:\", media)\n",
        "\n",
        "desviacion_estandar = np.std(mat)\n",
        "print('Desviación estándar:', np.round(desviacion_estandar, 2))"
      ],
      "metadata": {
        "id": "MG6OCvTEh4Mg",
        "colab": {
          "base_uri": "https://localhost:8080/"
        },
        "outputId": "d2125166-5848-40f9-ab01-5984fd8c051e"
      },
      "execution_count": 15,
      "outputs": [
        {
          "output_type": "stream",
          "name": "stdout",
          "text": [
            "Matriz 2x5:\n",
            "[[ 1  2  3  4  5]\n",
            " [ 6  7  8  9 10]]\n",
            "Suma de todos los elementos: 55\n",
            "Valor máximo: 10\n",
            "Valor mínimo: 1\n",
            "Media: 5.5\n",
            "Desviación estándar: 2.87\n"
          ]
        }
      ]
    },
    {
      "cell_type": "markdown",
      "source": [
        "###### **Ejercicio 2: Operaciones con Matrices**\n",
        "* Objetivo: Realizar operaciones matemáticas avanzadas con matrices."
      ],
      "metadata": {
        "id": "zLzknGT1h7yz"
      }
    },
    {
      "cell_type": "code",
      "source": [
        "# Instrucciones:\n",
        "\n",
        "# 1. Crea dos matrices de 2x2 con números del 1 al 4 y del 5 al 8 respectivamente.\n",
        "# 2. Realiza la multiplicación de las dos matrices.\n",
        "# 3. Encuentra la transpuesta de la primera matriz."
      ],
      "metadata": {
        "id": "SBQozsc5iTZC"
      },
      "execution_count": null,
      "outputs": []
    },
    {
      "cell_type": "markdown",
      "source": [
        "* Solución"
      ],
      "metadata": {
        "id": "4fKubJESjALq"
      }
    },
    {
      "cell_type": "code",
      "source": [
        "# @title\n",
        "import numpy as np\n",
        "\n",
        "# Paso 1\n",
        "mat1 = np.array([[1, 2], [3, 4]])\n",
        "mat2 = np.array([[5, 6], [7, 8]])\n",
        "print(\"Matriz 1:\")\n",
        "print(mat1)\n",
        "print(\"Matriz 2:\")\n",
        "print(mat2)\n",
        "\n",
        "# Paso 2\n",
        "producto = np.dot(mat1, mat2)\n",
        "print(\"Producto de las matrices:\")\n",
        "print(producto)\n",
        "\n",
        "# Paso 3\n",
        "transpuesta = np.transpose(mat1)\n",
        "print(\"Transpuesta de la matriz 1:\")\n",
        "print(transpuesta)"
      ],
      "metadata": {
        "id": "8DSTu4u0i8NH",
        "colab": {
          "base_uri": "https://localhost:8080/"
        },
        "outputId": "8dd54370-e022-4c12-c434-6eca961ba942"
      },
      "execution_count": 16,
      "outputs": [
        {
          "output_type": "stream",
          "name": "stdout",
          "text": [
            "Matriz 1:\n",
            "[[1 2]\n",
            " [3 4]]\n",
            "Matriz 2:\n",
            "[[5 6]\n",
            " [7 8]]\n",
            "Producto de las matrices:\n",
            "[[19 22]\n",
            " [43 50]]\n",
            "Transpuesta de la matriz 1:\n",
            "[[1 3]\n",
            " [2 4]]\n"
          ]
        }
      ]
    },
    {
      "cell_type": "markdown",
      "source": [
        "######**Ejercicio 3: Análisis de Datos**\n",
        "* Objetivo: Utilizar NumPy para realizar análisis de datos estadísticos."
      ],
      "metadata": {
        "id": "rukeS_zFjCVJ"
      }
    },
    {
      "cell_type": "code",
      "source": [
        "# Instrucciones:\n",
        "\n",
        "# 1. Crea un arreglo con los números del 1 al 100.\n",
        "# 2. Calcula la media y la desviación estándar del arreglo.\n",
        "# 3. Filtra los valores del arreglo que son mayores que 50.\n",
        "# 4. Encuentra el valor máximo y mínimo del arreglo filtrado."
      ],
      "metadata": {
        "id": "Dds0iIVvjJqF"
      },
      "execution_count": null,
      "outputs": []
    },
    {
      "cell_type": "markdown",
      "source": [
        "* Solución"
      ],
      "metadata": {
        "id": "AdngC--yjOz7"
      }
    },
    {
      "cell_type": "code",
      "source": [
        "# @title\n",
        "import numpy as np\n",
        "\n",
        "# Paso 1\n",
        "data = np.array(range(1, 101))\n",
        "\n",
        "# Paso 2\n",
        "media = np.mean(data)\n",
        "std_dev = np.std(data)\n",
        "print(\"Media:\", media)\n",
        "print(\"Desviación estándar:\", std_dev)\n",
        "\n",
        "# Paso 3\n",
        "valores_mayores_50 = data[data > 50]\n",
        "print(\"Valores mayores que 50:\", valores_mayores_50)\n",
        "\n",
        "# Paso 4\n",
        "max_val = np.max(valores_mayores_50)\n",
        "min_val = np.min(valores_mayores_50)\n",
        "print(\"Valor máximo del arreglo filtrado:\", max_val)\n",
        "print(\"Valor mínimo del arreglo filtrado:\", min_val)"
      ],
      "metadata": {
        "id": "Z_o4X31hk9_1",
        "colab": {
          "base_uri": "https://localhost:8080/"
        },
        "outputId": "5052bce4-2eb7-4fb3-fc47-4b478efa796d"
      },
      "execution_count": 17,
      "outputs": [
        {
          "output_type": "stream",
          "name": "stdout",
          "text": [
            "Media: 50.5\n",
            "Desviación estándar: 28.86607004772212\n",
            "Valores mayores que 50: [ 51  52  53  54  55  56  57  58  59  60  61  62  63  64  65  66  67  68\n",
            "  69  70  71  72  73  74  75  76  77  78  79  80  81  82  83  84  85  86\n",
            "  87  88  89  90  91  92  93  94  95  96  97  98  99 100]\n",
            "Valor máximo del arreglo filtrado: 100\n",
            "Valor mínimo del arreglo filtrado: 51\n"
          ]
        }
      ]
    }
  ]
}